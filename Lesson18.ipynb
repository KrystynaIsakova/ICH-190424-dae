{
 "cells": [
  {
   "cell_type": "markdown",
   "id": "8439d576-05cb-4988-936c-38f7a5ec2fe0",
   "metadata": {},
   "source": [
    "Lesson 18-1\n",
    "==\n",
    "\n",
    "t-test\n",
    "--"
   ]
  },
  {
   "cell_type": "code",
   "execution_count": 1,
   "id": "f7e288c8-1476-4231-b9c2-152e522439a8",
   "metadata": {},
   "outputs": [],
   "source": [
    "import numpy as np\n",
    "from scipy import stats\n",
    "\n",
    "# Данные выборки\n",
    "data = np.array([98, 102, 95, 105, 99, 101, 97, 103, 100, 98])\n",
    "\n",
    "# Гипотетическое среднее значение генеральной совокупности\n",
    "popmean = 100"
   ]
  },
  {
   "cell_type": "code",
   "execution_count": 2,
   "id": "9fdffb71-2a1d-4778-a6e2-7c44f8fbe093",
   "metadata": {},
   "outputs": [],
   "source": [
    "# одновыборочный t-тест:\n",
    "\n",
    "t_statistic, p_value = stats.ttest_1samp(data, popmean)\n",
    "\n"
   ]
  },
  {
   "cell_type": "code",
   "execution_count": 3,
   "id": "ef2141db-c6b1-4996-823d-0c2db5ba7c33",
   "metadata": {},
   "outputs": [
    {
     "name": "stdout",
     "output_type": "stream",
     "text": [
      "T-статистика: -0.2100420126042044\n",
      "P-value: 0.8383128367369509\n"
     ]
    }
   ],
   "source": [
    "#Интерпретируйте результаты:\n",
    "\n",
    "print(f\"T-статистика: {t_statistic}\")\n",
    "print(f\"P-value: {p_value}\")\n",
    "\n"
   ]
  },
  {
   "cell_type": "markdown",
   "id": "9ee5abbc-8b80-497b-8c71-a18c369db3e2",
   "metadata": {},
   "source": [
    "Двухвыборочный (независимых выборок) T-тест\n",
    "--\n",
    "Двухвыборочный t-тест, также известный как t-тест независимых выборок, сравнивает средние значения двух независимых групп.\n",
    "Шаги:\n",
    "Определите две независимые выборки:\n"
   ]
  },
  {
   "cell_type": "code",
   "execution_count": 4,
   "id": "84176686-cc09-4bb2-878a-98b35bf9eeaa",
   "metadata": {},
   "outputs": [],
   "source": [
    "# Две независимые выборки\n",
    "group1 = np.random.normal(loc=10, scale=2, size=100)\n",
    "group2 = np.random.normal(loc=12, scale=2, size=100)"
   ]
  },
  {
   "cell_type": "markdown",
   "id": "928e1686-81e5-416a-8566-d8a7b0716e23",
   "metadata": {},
   "source": [
    "Выполните двухвыборочный t-тест:\n"
   ]
  },
  {
   "cell_type": "code",
   "execution_count": 5,
   "id": "c0e49be9-68bc-4236-a646-3c558721cda3",
   "metadata": {},
   "outputs": [],
   "source": [
    "t_statistic, p_value = stats.ttest_ind(group1, group2)\n",
    "\n"
   ]
  },
  {
   "cell_type": "code",
   "execution_count": 6,
   "id": "408bc17e-9e34-4337-a18c-c4bd9d6668a1",
   "metadata": {},
   "outputs": [
    {
     "name": "stdout",
     "output_type": "stream",
     "text": [
      "T-статистика: -5.163948688266515\n",
      "P-value: 5.869138235076213e-07\n"
     ]
    }
   ],
   "source": [
    "#Интерпретируйте результаты:\n",
    "\n",
    "print(f\"T-статистика: {t_statistic}\")\n",
    "print(f\"P-value: {p_value}\")\n",
    "\n",
    "\n"
   ]
  },
  {
   "cell_type": "markdown",
   "id": "b177bf69-abfb-4384-91e8-7cedce8d4520",
   "metadata": {},
   "source": [
    "Парный Т-тест (Т-тест зависимых выборок)\n",
    "--\n",
    "Парный t-тест используется, когда выборки связаны или совпадают каким-либо образом, например, измерения, проведенные у одних и тех же испытуемых в разное время.\n",
    "Шаги:\n",
    "Определите парные выборки:\n"
   ]
  },
  {
   "cell_type": "code",
   "execution_count": 7,
   "id": "c4d191cf-0a40-4068-a88a-a70873c48c51",
   "metadata": {},
   "outputs": [],
   "source": [
    "# Парные выборки\n",
    "before = np.random.normal(loc=10, scale=2, size=30)\n",
    "after = before + np.random.normal(loc=0.5, scale=0.5, size=30)"
   ]
  },
  {
   "cell_type": "code",
   "execution_count": 8,
   "id": "a7d65b77-a3c9-42a5-8ef6-167a0552e831",
   "metadata": {},
   "outputs": [],
   "source": [
    "# Выполните парный t-тест:\n",
    "\n",
    "t_statistic, p_value = stats.ttest_rel(before, after)\n",
    "\n"
   ]
  },
  {
   "cell_type": "code",
   "execution_count": 9,
   "id": "a63ef588-47f4-48f2-a17c-ec472e7a3dc4",
   "metadata": {},
   "outputs": [
    {
     "name": "stdout",
     "output_type": "stream",
     "text": [
      "T-статистика: -9.006010842632412\n",
      "P-value: 6.712402868539966e-10\n"
     ]
    }
   ],
   "source": [
    "#Интерпретируйте результаты:\n",
    "\n",
    "print(f\"T-статистика: {t_statistic}\")\n",
    "print(f\"P-value: {p_value}\")"
   ]
  },
  {
   "cell_type": "markdown",
   "id": "fe703544-f5d5-48b3-b4bb-560838e798ac",
   "metadata": {},
   "source": [
    "Z-test\n",
    "--\n",
    "*Одновыборочный Z-тест* \n",
    "\n",
    "**Пример:**\n",
    "\n",
    "Предположим, исследователь хочет изучить влияние наставничества на показатели интеллекта. Стандартизированный тест IQ имеет среднее значение 100 и стандартное отклонение 16. 50 студентов, участвующих в исследовании, набрали в среднем 102 балла по тесту IQ. Исследователь хочет знать, является ли этот рост статистически значимым\n"
   ]
  },
  {
   "cell_type": "code",
   "execution_count": 10,
   "id": "56d0f044-f5c2-4ca5-abc8-0d366d251cfb",
   "metadata": {},
   "outputs": [
    {
     "name": "stdout",
     "output_type": "stream",
     "text": [
      "Z-score: 0.8838834764831844\n",
      "P-value: 0.376759117811582\n"
     ]
    }
   ],
   "source": [
    "\n",
    "# Заданные значения\n",
    "x_bar = 102 # среднее значение выборки\n",
    "n = 50 # количество студентов\n",
    "sigma = 16 # стандартное отклонение генеральной совокупности\n",
    "mu = 100 # среднее значение генеральной совокупности\n",
    "\n",
    "# Вычисление Z-балла\n",
    "z = (x_bar - mu) / (sigma / np.sqrt(n))\n",
    "\n",
    "# Нахождение p-значения\n",
    "p_value = stats.norm.sf(abs(z)) * 2 # тест с двумя хвостами\n",
    "\n",
    "print(f\"Z-score: {z}\")\n",
    "print(f\"P-value: {p_value}\")\n"
   ]
  },
  {
   "cell_type": "markdown",
   "id": "cc93f84c-fe83-4cb0-bcb0-9367e0ece369",
   "metadata": {},
   "source": [
    "*Двухвыборочный Z-тест*\n",
    "\n",
    "\n",
    "**Пример:**\n",
    "\n",
    "Предположим, что фабрика в городах A и B производит мячи диаметром 5 см. Известно, что стандартное отклонение диаметра составляет 0,1. Специалист по качеству отбирает по 50 мячей с каждой фабрики, чтобы проверить, существенно ли отличаются диаметры мячей на двух фабриках.\n"
   ]
  },
  {
   "cell_type": "code",
   "execution_count": 11,
   "id": "8ae87239-b45d-499a-9ac7-c1bf3e373856",
   "metadata": {},
   "outputs": [
    {
     "name": "stdout",
     "output_type": "stream",
     "text": [
      "Z-статистика: -4.131173276068746\n",
      "P-value: 3.609163929264418e-05\n"
     ]
    }
   ],
   "source": [
    "from statsmodels.stats.weightstats import ztest\n",
    "\n",
    "# Моделирование выборочных данных\n",
    "np.random.seed(0)\n",
    "factory_A = np.random.normal(loc=5, scale=0.1, size=50)\n",
    "factory_B = np.random.normal(loc=5.1, scale=0.1, size=50)\n",
    "\n",
    "# Выполнение двухвыборочного Z-теста\n",
    "z_stat, p_value = ztest(factory_A, factory_B)\n",
    "\n",
    "print(f\"Z-статистика: {z_stat}\")\n",
    "print(f\"P-value: {p_value}\")\n"
   ]
  },
  {
   "cell_type": "markdown",
   "id": "d36d5b32-10ce-44c1-97e5-7d8150fdac98",
   "metadata": {},
   "source": [
    "Решение задач\n",
    "---\n",
    "Используйте набор данных Iris, чтобы сравнить средние значения длины лепестков двух видов цветков Iris с помощью t-теста.\n"
   ]
  },
  {
   "cell_type": "code",
   "execution_count": 12,
   "id": "db6761dc-00d9-4a59-8449-75c7ddda5f56",
   "metadata": {},
   "outputs": [
    {
     "name": "stdout",
     "output_type": "stream",
     "text": [
      "T-статистика: -39.492719391538095, P-значение: 5.404910513441677e-62\n"
     ]
    }
   ],
   "source": [
    "from sklearn.datasets import load_iris\n",
    "import pandas as pd\n",
    "\n",
    "iris = load_iris()\n",
    "iris_df = pd.DataFrame(data=iris.data, columns=iris.feature_names)\n",
    "iris_df['species'] = pd.Categorical.from_codes(iris.target, iris.target_names)\n",
    "\n",
    "setosa_petal_length = iris_df[iris_df['species'] == 'setosa']['petal length (cm)']\n",
    "versicolor_petal_length = iris_df[iris_df['species'] == 'versicolor']['petal length (cm)']\n",
    "\n",
    "from scipy import stats\n",
    "\n",
    "t_stat, p_value = stats.ttest_ind(setosa_petal_length, versicolor_petal_length)\n",
    "print(f\"T-статистика: {t_stat}, P-значение: {p_value}\")"
   ]
  },
  {
   "cell_type": "markdown",
   "id": "43ef6c52-9f48-42d5-af6e-5cbfd9f4ffea",
   "metadata": {},
   "source": [
    "Предположим, что средняя длина лепестка цветков Iris setosa в большой генеральной совокупности составляет 1,5 см со стандартным отклонением 0,2 см. Используйте z-тест, чтобы определить, значительно ли отличается выборочное среднее значение длины лепестка из набора данных Iris от среднего значения генеральной совокупности."
   ]
  },
  {
   "cell_type": "code",
   "execution_count": 13,
   "id": "e458764a-f368-4465-bf2b-c4fdc153299b",
   "metadata": {},
   "outputs": [
    {
     "name": "stdout",
     "output_type": "stream",
     "text": [
      "Z-score: -1.3435028842544336, P-значение: 0.1791091927267241\n"
     ]
    }
   ],
   "source": [
    "sample_mean = setosa_petal_length.mean()\n",
    "\n",
    "import numpy as np\n",
    "\n",
    "population_mean = 1.5\n",
    "population_std = 0.2\n",
    "n = len(setosa_petal_length)\n",
    "z_score = (sample_mean - population_mean) / (population_std / np.sqrt(n))\n",
    "\n",
    "p_value = stats.norm.sf(abs(z_score)) * 2\n",
    "print(f\"Z-score: {z_score}, P-значение: {p_value}\")\n"
   ]
  },
  {
   "cell_type": "markdown",
   "id": "0b8b04a6-9b94-4b9f-880d-7830c105f5e9",
   "metadata": {},
   "source": [
    "Определите, есть ли значительная разница в средней ширине чашелистика между видами Iris-setosa и Iris-versicolor, используя двухвыборочный t-тест."
   ]
  },
  {
   "cell_type": "code",
   "execution_count": 14,
   "id": "cfd874ca-ae13-46ec-8fa2-2a561a9c3ce7",
   "metadata": {},
   "outputs": [
    {
     "name": "stdout",
     "output_type": "stream",
     "text": [
      "T-statistic: 9.454975848128596\n",
      "P-value: 1.8452599454769322e-15\n"
     ]
    }
   ],
   "source": [
    "\n",
    "from sklearn.datasets import load_iris\n",
    "import pandas as pd\n",
    "\n",
    "iris = load_iris()\n",
    "iris_df = pd.DataFrame(data=iris.data, columns=iris.feature_names)\n",
    "iris_df['species'] = pd.Categorical.from_codes(iris.target, iris.target_names)\n",
    "\n",
    "\n",
    "setosa_sepal_width = iris_df[iris_df['species'] == 'setosa']['sepal width (cm)']\n",
    "versicolor_sepal_width = iris_df[iris_df['species'] == 'versicolor']['sepal width (cm)']\n",
    "\n",
    "from scipy import stats\n",
    "\n",
    "t_statistic, p_value = stats.ttest_ind(setosa_sepal_width, versicolor_sepal_width)\n",
    "print(f\"T-statistic: {t_statistic}\")\n",
    "print(f\"P-value: {p_value}\")\n",
    "\n"
   ]
  },
  {
   "cell_type": "markdown",
   "id": "ac7f7732-9a5b-44ef-930e-95c04902f2f2",
   "metadata": {},
   "source": [
    "Используйте z-тест, чтобы определить, есть ли значительная разница в средних баллах участников до и после прохождения программы обучения:\n",
    "import numpy as np\n",
    "np.random.seed(0)\n",
    "before_scores = np.random.normal(50, 10, 100)\n",
    "after_scores = before_scores + np.random.normal(5, 2, 100)\n"
   ]
  },
  {
   "cell_type": "code",
   "execution_count": 16,
   "id": "0b2b6e59-f555-4572-8d19-b5d626de2540",
   "metadata": {},
   "outputs": [
    {
     "name": "stdout",
     "output_type": "stream",
     "text": [
      "Average Before: 50.59808015534484\n",
      "Average After: 55.76210609684052\n",
      "Z-statistic: 3.5279910264448424\n",
      "P-value: 0.00020936317567893904\n"
     ]
    }
   ],
   "source": [
    "import numpy as np\n",
    "np.random.seed(0)\n",
    "before_scores = np.random.normal(50, 10, 100)\n",
    "after_scores = before_scores + np.random.normal(5, 2, 100)\n",
    "\n",
    "average_before = np.mean(before_scores)\n",
    "average_after = np.mean(after_scores)\n",
    "print(f\"Average Before: {average_before}\")\n",
    "print(f\"Average After: {average_after}\")\n",
    "\n",
    "from statsmodels.stats.weightstats import ztest\n",
    "\n",
    "z_stat, p_value = ztest(after_scores, before_scores, alternative='larger')\n",
    "print(f\"Z-statistic: {z_stat}\")\n",
    "print(f\"P-value: {p_value}\")\n",
    "\n"
   ]
  },
  {
   "cell_type": "markdown",
   "id": "6a97a2c4-bdd7-4ce9-8c8a-0b36a2458db9",
   "metadata": {},
   "source": [
    "Lesson 18-2\n",
    "==\n",
    "**Тест Хи-квадрат в Python**"
   ]
  },
  {
   "cell_type": "code",
   "execution_count": 17,
   "id": "5f27f13c-a02f-4cea-8aef-1a2bb2ba81b4",
   "metadata": {},
   "outputs": [],
   "source": [
    "import pandas as pd\n",
    "from scipy.stats import chi2_contingency"
   ]
  },
  {
   "cell_type": "code",
   "execution_count": 18,
   "id": "ccc4d5c4-af90-4584-b66a-c130b2a312a4",
   "metadata": {},
   "outputs": [
    {
     "name": "stdout",
     "output_type": "stream",
     "text": [
      "            Product_A  Product_B\n",
      "Preference                      \n",
      "Like               20         30\n",
      "Dislike            15         10\n",
      "Neutral            25         20\n"
     ]
    }
   ],
   "source": [
    "# Пример таблицы случайностей\n",
    "data = {'Preference': ['Like', 'Dislike', 'Neutral'],\n",
    "        'Product_A': [20, 15, 25],\n",
    "        'Product_B': [30, 10, 20]}\n",
    "\n",
    "df = pd.DataFrame(data)\n",
    "df.set_index('Preference', inplace=True)\n",
    "print(df)\n",
    "\n"
   ]
  },
  {
   "cell_type": "code",
   "execution_count": 19,
   "id": "447aa0d4-40ac-4b1c-b359-31e053545221",
   "metadata": {},
   "outputs": [
    {
     "name": "stdout",
     "output_type": "stream",
     "text": [
      "Статистика хи-квадрат: 3.5555555555555554\n",
      "P-value: 0.16901331540606607\n",
      "Степени свободы: 2\n",
      "Ожидаемые частоты:\n",
      "[[25.  25. ]\n",
      " [12.5 12.5]\n",
      " [22.5 22.5]]\n"
     ]
    }
   ],
   "source": [
    "# Выполнить тест Хи-квадрат\n",
    "chi2, p, dof, expected = chi2_contingency(df)\n",
    "\n",
    "print(f\"Статистика хи-квадрат: {chi2}\")\n",
    "print(f\"P-value: {p}\")\n",
    "print(f\"Степени свободы: {dof}\")\n",
    "print(\"Ожидаемые частоты:\")\n",
    "print(expected)\n",
    "\n"
   ]
  },
  {
   "cell_type": "markdown",
   "id": "1dff5b31-44eb-4e70-a695-65ed79107bb3",
   "metadata": {},
   "source": [
    "*Пример с реальным набором данных*\n"
   ]
  },
  {
   "cell_type": "code",
   "execution_count": 20,
   "id": "a6885ba5-5328-40f4-b2d3-c2d6be99e888",
   "metadata": {},
   "outputs": [
    {
     "name": "stdout",
     "output_type": "stream",
     "text": [
      "survived    0    1\n",
      "class             \n",
      "First      80  136\n",
      "Second     97   87\n",
      "Third     372  119\n",
      "Статистика хи-квадрат: 102.88898875696056\n",
      "P-value: 4.549251711298793e-23\n",
      "Степени свободы: 2\n",
      "Ожидаемые частоты:\n",
      "[[133.09090909  82.90909091]\n",
      " [113.37373737  70.62626263]\n",
      " [302.53535354 188.46464646]]\n"
     ]
    }
   ],
   "source": [
    "import seaborn as sns\n",
    "\n",
    "# Загружаем набор данных \"Титаник\n",
    "titanic = sns.load_dataset('titanic')\n",
    "\n",
    "# Создайте таблицу случайностей\n",
    "contingency_table = pd.crosstab(titanic['class'], titanic['survived'])\n",
    "print(contingency_table)\n",
    "\n",
    "# Выполните тест Хи-квадрат\n",
    "chi2, p, dof, expected = chi2_contingency(contingency_table)\n",
    "\n",
    "print(f\"Статистика хи-квадрат: {chi2}\")\n",
    "print(f\"P-value: {p}\")\n",
    "print(f\"Степени свободы: {dof}\")\n",
    "print(\"Ожидаемые частоты:\")\n",
    "print(expected)\n",
    "\n"
   ]
  },
  {
   "cell_type": "markdown",
   "id": "a7e45782-4e66-4c2d-b203-eb9a2a30eaca",
   "metadata": {},
   "source": [
    "Основы корреляции\n",
    "--\n",
    "Решение задач\n",
    "\n",
    "Рассчитайте коэффициент корреляции Пирсона между длиной и шириной лепестка в наборе данных Iris.\n"
   ]
  },
  {
   "cell_type": "code",
   "execution_count": 29,
   "id": "3d3a837c-49a7-4f06-bd96-e7cf46459f1f",
   "metadata": {},
   "outputs": [
    {
     "name": "stdout",
     "output_type": "stream",
     "text": [
      "Pearson correlation: 0.962865431402796\n"
     ]
    }
   ],
   "source": [
    "from scipy.stats import pearsonr\n",
    "df = pd.DataFrame(data= iris['data'], columns=iris['feature_names'])\n",
    "\n",
    "corr, _ = pearsonr(df['petal length (cm)'], df['petal width (cm)'])\n",
    "print(f'Pearson correlation: {corr}')"
   ]
  },
  {
   "cell_type": "markdown",
   "id": "4a2684a0-e3e0-4271-87b5-cd971a3f0e20",
   "metadata": {},
   "source": [
    "Рассчитайте коэффициент корреляции Спирмена между содержанием алкоголя и качеством в наборе данных Wine Quality."
   ]
  },
  {
   "cell_type": "code",
   "execution_count": 35,
   "id": "be132798-84a9-4402-b52e-901a3f3b54ac",
   "metadata": {},
   "outputs": [
    {
     "data": {
      "text/html": [
       "<div>\n",
       "<style scoped>\n",
       "    .dataframe tbody tr th:only-of-type {\n",
       "        vertical-align: middle;\n",
       "    }\n",
       "\n",
       "    .dataframe tbody tr th {\n",
       "        vertical-align: top;\n",
       "    }\n",
       "\n",
       "    .dataframe thead th {\n",
       "        text-align: right;\n",
       "    }\n",
       "</style>\n",
       "<table border=\"1\" class=\"dataframe\">\n",
       "  <thead>\n",
       "    <tr style=\"text-align: right;\">\n",
       "      <th></th>\n",
       "      <th>alcohol</th>\n",
       "      <th>malic_acid</th>\n",
       "      <th>ash</th>\n",
       "      <th>alcalinity_of_ash</th>\n",
       "      <th>magnesium</th>\n",
       "      <th>total_phenols</th>\n",
       "      <th>flavanoids</th>\n",
       "      <th>nonflavanoid_phenols</th>\n",
       "      <th>proanthocyanins</th>\n",
       "      <th>color_intensity</th>\n",
       "      <th>hue</th>\n",
       "      <th>od280/od315_of_diluted_wines</th>\n",
       "      <th>proline</th>\n",
       "      <th>quality</th>\n",
       "    </tr>\n",
       "  </thead>\n",
       "  <tbody>\n",
       "    <tr>\n",
       "      <th>0</th>\n",
       "      <td>14.23</td>\n",
       "      <td>1.71</td>\n",
       "      <td>2.43</td>\n",
       "      <td>15.6</td>\n",
       "      <td>127.0</td>\n",
       "      <td>2.80</td>\n",
       "      <td>3.06</td>\n",
       "      <td>0.28</td>\n",
       "      <td>2.29</td>\n",
       "      <td>5.64</td>\n",
       "      <td>1.04</td>\n",
       "      <td>3.92</td>\n",
       "      <td>1065.0</td>\n",
       "      <td>0</td>\n",
       "    </tr>\n",
       "    <tr>\n",
       "      <th>1</th>\n",
       "      <td>13.20</td>\n",
       "      <td>1.78</td>\n",
       "      <td>2.14</td>\n",
       "      <td>11.2</td>\n",
       "      <td>100.0</td>\n",
       "      <td>2.65</td>\n",
       "      <td>2.76</td>\n",
       "      <td>0.26</td>\n",
       "      <td>1.28</td>\n",
       "      <td>4.38</td>\n",
       "      <td>1.05</td>\n",
       "      <td>3.40</td>\n",
       "      <td>1050.0</td>\n",
       "      <td>0</td>\n",
       "    </tr>\n",
       "    <tr>\n",
       "      <th>2</th>\n",
       "      <td>13.16</td>\n",
       "      <td>2.36</td>\n",
       "      <td>2.67</td>\n",
       "      <td>18.6</td>\n",
       "      <td>101.0</td>\n",
       "      <td>2.80</td>\n",
       "      <td>3.24</td>\n",
       "      <td>0.30</td>\n",
       "      <td>2.81</td>\n",
       "      <td>5.68</td>\n",
       "      <td>1.03</td>\n",
       "      <td>3.17</td>\n",
       "      <td>1185.0</td>\n",
       "      <td>0</td>\n",
       "    </tr>\n",
       "    <tr>\n",
       "      <th>3</th>\n",
       "      <td>14.37</td>\n",
       "      <td>1.95</td>\n",
       "      <td>2.50</td>\n",
       "      <td>16.8</td>\n",
       "      <td>113.0</td>\n",
       "      <td>3.85</td>\n",
       "      <td>3.49</td>\n",
       "      <td>0.24</td>\n",
       "      <td>2.18</td>\n",
       "      <td>7.80</td>\n",
       "      <td>0.86</td>\n",
       "      <td>3.45</td>\n",
       "      <td>1480.0</td>\n",
       "      <td>0</td>\n",
       "    </tr>\n",
       "    <tr>\n",
       "      <th>4</th>\n",
       "      <td>13.24</td>\n",
       "      <td>2.59</td>\n",
       "      <td>2.87</td>\n",
       "      <td>21.0</td>\n",
       "      <td>118.0</td>\n",
       "      <td>2.80</td>\n",
       "      <td>2.69</td>\n",
       "      <td>0.39</td>\n",
       "      <td>1.82</td>\n",
       "      <td>4.32</td>\n",
       "      <td>1.04</td>\n",
       "      <td>2.93</td>\n",
       "      <td>735.0</td>\n",
       "      <td>0</td>\n",
       "    </tr>\n",
       "  </tbody>\n",
       "</table>\n",
       "</div>"
      ],
      "text/plain": [
       "   alcohol  malic_acid   ash  alcalinity_of_ash  magnesium  total_phenols  \\\n",
       "0    14.23        1.71  2.43               15.6      127.0           2.80   \n",
       "1    13.20        1.78  2.14               11.2      100.0           2.65   \n",
       "2    13.16        2.36  2.67               18.6      101.0           2.80   \n",
       "3    14.37        1.95  2.50               16.8      113.0           3.85   \n",
       "4    13.24        2.59  2.87               21.0      118.0           2.80   \n",
       "\n",
       "   flavanoids  nonflavanoid_phenols  proanthocyanins  color_intensity   hue  \\\n",
       "0        3.06                  0.28             2.29             5.64  1.04   \n",
       "1        2.76                  0.26             1.28             4.38  1.05   \n",
       "2        3.24                  0.30             2.81             5.68  1.03   \n",
       "3        3.49                  0.24             2.18             7.80  0.86   \n",
       "4        2.69                  0.39             1.82             4.32  1.04   \n",
       "\n",
       "   od280/od315_of_diluted_wines  proline  quality  \n",
       "0                          3.92   1065.0        0  \n",
       "1                          3.40   1050.0        0  \n",
       "2                          3.17   1185.0        0  \n",
       "3                          3.45   1480.0        0  \n",
       "4                          2.93    735.0        0  "
      ]
     },
     "execution_count": 35,
     "metadata": {},
     "output_type": "execute_result"
    }
   ],
   "source": [
    "from sklearn.datasets import load_wine\n",
    "\n",
    "wine = load_wine()\n",
    "df= pd.DataFrame(data=wine['data'],\n",
    "                columns = wine['feature_names'])\n",
    "df['quality'] = wine['target']\n",
    "df.head()"
   ]
  },
  {
   "cell_type": "code",
   "execution_count": 36,
   "id": "d4e8d535-493c-40f1-823e-d7737b711b60",
   "metadata": {},
   "outputs": [
    {
     "name": "stdout",
     "output_type": "stream",
     "text": [
      "Spearman correlation: -0.35416691685047613\n"
     ]
    }
   ],
   "source": [
    "from scipy.stats import spearmanr\n",
    "corr, _ = spearmanr(df['alcohol'], df['quality'])\n",
    "print(f'Spearman correlation: {corr}')"
   ]
  },
  {
   "cell_type": "markdown",
   "id": "a488a567-9a9e-4acd-a851-c8cfc460630a",
   "metadata": {},
   "source": [
    "Выполните тест хи-квадрат, чтобы определить, существует ли значимая связь между размером опухоли и злокачественностью в наборе данных «Рак молочной железы».\n"
   ]
  },
  {
   "cell_type": "code",
   "execution_count": 41,
   "id": "46adee7c-a6fb-4b53-8269-f1458c171e05",
   "metadata": {},
   "outputs": [
    {
     "data": {
      "text/html": [
       "<div>\n",
       "<style scoped>\n",
       "    .dataframe tbody tr th:only-of-type {\n",
       "        vertical-align: middle;\n",
       "    }\n",
       "\n",
       "    .dataframe tbody tr th {\n",
       "        vertical-align: top;\n",
       "    }\n",
       "\n",
       "    .dataframe thead th {\n",
       "        text-align: right;\n",
       "    }\n",
       "</style>\n",
       "<table border=\"1\" class=\"dataframe\">\n",
       "  <thead>\n",
       "    <tr style=\"text-align: right;\">\n",
       "      <th></th>\n",
       "      <th>mean radius</th>\n",
       "      <th>mean texture</th>\n",
       "      <th>mean perimeter</th>\n",
       "      <th>mean area</th>\n",
       "      <th>mean smoothness</th>\n",
       "      <th>mean compactness</th>\n",
       "      <th>mean concavity</th>\n",
       "      <th>mean concave points</th>\n",
       "      <th>mean symmetry</th>\n",
       "      <th>mean fractal dimension</th>\n",
       "      <th>...</th>\n",
       "      <th>worst texture</th>\n",
       "      <th>worst perimeter</th>\n",
       "      <th>worst area</th>\n",
       "      <th>worst smoothness</th>\n",
       "      <th>worst compactness</th>\n",
       "      <th>worst concavity</th>\n",
       "      <th>worst concave points</th>\n",
       "      <th>worst symmetry</th>\n",
       "      <th>worst fractal dimension</th>\n",
       "      <th>target</th>\n",
       "    </tr>\n",
       "  </thead>\n",
       "  <tbody>\n",
       "    <tr>\n",
       "      <th>0</th>\n",
       "      <td>17.99</td>\n",
       "      <td>10.38</td>\n",
       "      <td>122.80</td>\n",
       "      <td>1001.0</td>\n",
       "      <td>0.11840</td>\n",
       "      <td>0.27760</td>\n",
       "      <td>0.3001</td>\n",
       "      <td>0.14710</td>\n",
       "      <td>0.2419</td>\n",
       "      <td>0.07871</td>\n",
       "      <td>...</td>\n",
       "      <td>17.33</td>\n",
       "      <td>184.60</td>\n",
       "      <td>2019.0</td>\n",
       "      <td>0.1622</td>\n",
       "      <td>0.6656</td>\n",
       "      <td>0.7119</td>\n",
       "      <td>0.2654</td>\n",
       "      <td>0.4601</td>\n",
       "      <td>0.11890</td>\n",
       "      <td>malignant</td>\n",
       "    </tr>\n",
       "    <tr>\n",
       "      <th>1</th>\n",
       "      <td>20.57</td>\n",
       "      <td>17.77</td>\n",
       "      <td>132.90</td>\n",
       "      <td>1326.0</td>\n",
       "      <td>0.08474</td>\n",
       "      <td>0.07864</td>\n",
       "      <td>0.0869</td>\n",
       "      <td>0.07017</td>\n",
       "      <td>0.1812</td>\n",
       "      <td>0.05667</td>\n",
       "      <td>...</td>\n",
       "      <td>23.41</td>\n",
       "      <td>158.80</td>\n",
       "      <td>1956.0</td>\n",
       "      <td>0.1238</td>\n",
       "      <td>0.1866</td>\n",
       "      <td>0.2416</td>\n",
       "      <td>0.1860</td>\n",
       "      <td>0.2750</td>\n",
       "      <td>0.08902</td>\n",
       "      <td>malignant</td>\n",
       "    </tr>\n",
       "    <tr>\n",
       "      <th>2</th>\n",
       "      <td>19.69</td>\n",
       "      <td>21.25</td>\n",
       "      <td>130.00</td>\n",
       "      <td>1203.0</td>\n",
       "      <td>0.10960</td>\n",
       "      <td>0.15990</td>\n",
       "      <td>0.1974</td>\n",
       "      <td>0.12790</td>\n",
       "      <td>0.2069</td>\n",
       "      <td>0.05999</td>\n",
       "      <td>...</td>\n",
       "      <td>25.53</td>\n",
       "      <td>152.50</td>\n",
       "      <td>1709.0</td>\n",
       "      <td>0.1444</td>\n",
       "      <td>0.4245</td>\n",
       "      <td>0.4504</td>\n",
       "      <td>0.2430</td>\n",
       "      <td>0.3613</td>\n",
       "      <td>0.08758</td>\n",
       "      <td>malignant</td>\n",
       "    </tr>\n",
       "    <tr>\n",
       "      <th>3</th>\n",
       "      <td>11.42</td>\n",
       "      <td>20.38</td>\n",
       "      <td>77.58</td>\n",
       "      <td>386.1</td>\n",
       "      <td>0.14250</td>\n",
       "      <td>0.28390</td>\n",
       "      <td>0.2414</td>\n",
       "      <td>0.10520</td>\n",
       "      <td>0.2597</td>\n",
       "      <td>0.09744</td>\n",
       "      <td>...</td>\n",
       "      <td>26.50</td>\n",
       "      <td>98.87</td>\n",
       "      <td>567.7</td>\n",
       "      <td>0.2098</td>\n",
       "      <td>0.8663</td>\n",
       "      <td>0.6869</td>\n",
       "      <td>0.2575</td>\n",
       "      <td>0.6638</td>\n",
       "      <td>0.17300</td>\n",
       "      <td>malignant</td>\n",
       "    </tr>\n",
       "    <tr>\n",
       "      <th>4</th>\n",
       "      <td>20.29</td>\n",
       "      <td>14.34</td>\n",
       "      <td>135.10</td>\n",
       "      <td>1297.0</td>\n",
       "      <td>0.10030</td>\n",
       "      <td>0.13280</td>\n",
       "      <td>0.1980</td>\n",
       "      <td>0.10430</td>\n",
       "      <td>0.1809</td>\n",
       "      <td>0.05883</td>\n",
       "      <td>...</td>\n",
       "      <td>16.67</td>\n",
       "      <td>152.20</td>\n",
       "      <td>1575.0</td>\n",
       "      <td>0.1374</td>\n",
       "      <td>0.2050</td>\n",
       "      <td>0.4000</td>\n",
       "      <td>0.1625</td>\n",
       "      <td>0.2364</td>\n",
       "      <td>0.07678</td>\n",
       "      <td>malignant</td>\n",
       "    </tr>\n",
       "  </tbody>\n",
       "</table>\n",
       "<p>5 rows × 31 columns</p>\n",
       "</div>"
      ],
      "text/plain": [
       "   mean radius  mean texture  mean perimeter  mean area  mean smoothness  \\\n",
       "0        17.99         10.38          122.80     1001.0          0.11840   \n",
       "1        20.57         17.77          132.90     1326.0          0.08474   \n",
       "2        19.69         21.25          130.00     1203.0          0.10960   \n",
       "3        11.42         20.38           77.58      386.1          0.14250   \n",
       "4        20.29         14.34          135.10     1297.0          0.10030   \n",
       "\n",
       "   mean compactness  mean concavity  mean concave points  mean symmetry  \\\n",
       "0           0.27760          0.3001              0.14710         0.2419   \n",
       "1           0.07864          0.0869              0.07017         0.1812   \n",
       "2           0.15990          0.1974              0.12790         0.2069   \n",
       "3           0.28390          0.2414              0.10520         0.2597   \n",
       "4           0.13280          0.1980              0.10430         0.1809   \n",
       "\n",
       "   mean fractal dimension  ...  worst texture  worst perimeter  worst area  \\\n",
       "0                 0.07871  ...          17.33           184.60      2019.0   \n",
       "1                 0.05667  ...          23.41           158.80      1956.0   \n",
       "2                 0.05999  ...          25.53           152.50      1709.0   \n",
       "3                 0.09744  ...          26.50            98.87       567.7   \n",
       "4                 0.05883  ...          16.67           152.20      1575.0   \n",
       "\n",
       "   worst smoothness  worst compactness  worst concavity  worst concave points  \\\n",
       "0            0.1622             0.6656           0.7119                0.2654   \n",
       "1            0.1238             0.1866           0.2416                0.1860   \n",
       "2            0.1444             0.4245           0.4504                0.2430   \n",
       "3            0.2098             0.8663           0.6869                0.2575   \n",
       "4            0.1374             0.2050           0.4000                0.1625   \n",
       "\n",
       "   worst symmetry  worst fractal dimension     target  \n",
       "0          0.4601                  0.11890  malignant  \n",
       "1          0.2750                  0.08902  malignant  \n",
       "2          0.3613                  0.08758  malignant  \n",
       "3          0.6638                  0.17300  malignant  \n",
       "4          0.2364                  0.07678  malignant  \n",
       "\n",
       "[5 rows x 31 columns]"
      ]
     },
     "execution_count": 41,
     "metadata": {},
     "output_type": "execute_result"
    }
   ],
   "source": [
    "from sklearn.datasets import load_breast_cancer\n",
    "cancer = load_breast_cancer()\n",
    "df = pd.DataFrame(data=cancer['data'], columns = cancer['feature_names'])\n",
    "df['target'] = pd.Series(data=cancer['target']).map({0:'malignant',1:'benign'})\n",
    "df.head()"
   ]
  },
  {
   "cell_type": "code",
   "execution_count": 44,
   "id": "5904c34c-f0d3-4853-a20d-24330a87b450",
   "metadata": {},
   "outputs": [
    {
     "data": {
      "text/plain": [
       "[]"
      ]
     },
     "execution_count": 44,
     "metadata": {},
     "output_type": "execute_result"
    }
   ],
   "source": []
  },
  {
   "cell_type": "code",
   "execution_count": null,
   "id": "a56d7295-12fb-4dbe-9ce8-a49917abc533",
   "metadata": {},
   "outputs": [],
   "source": []
  }
 ],
 "metadata": {
  "kernelspec": {
   "display_name": "Python 3 (ipykernel)",
   "language": "python",
   "name": "python3"
  },
  "language_info": {
   "codemirror_mode": {
    "name": "ipython",
    "version": 3
   },
   "file_extension": ".py",
   "mimetype": "text/x-python",
   "name": "python",
   "nbconvert_exporter": "python",
   "pygments_lexer": "ipython3",
   "version": "3.11.4"
  }
 },
 "nbformat": 4,
 "nbformat_minor": 5
}
