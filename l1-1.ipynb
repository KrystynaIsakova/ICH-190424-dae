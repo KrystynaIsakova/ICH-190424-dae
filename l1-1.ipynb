{
 "cells": [
  {
   "cell_type": "markdown",
   "id": "f4ad7ef4-f6bb-4936-ad56-c50f50a58602",
   "metadata": {},
   "source": [
    "Введение в NumPy и массивы\n",
    "===\n",
    "1) Что такое NumPy и зачем он нужен?\n",
    "----\n",
    "NumPy - это фундаментальная библиотека для научных вычислений в Python. Она предоставляет поддержку для больших, многомерных массивов и матриц, включая широкий набор математических функций для операций с этими массивами.\n"
   ]
  },
  {
   "cell_type": "code",
   "execution_count": 1,
   "id": "f27162b9-8ff1-4c07-aac7-d4e266306d50",
   "metadata": {},
   "outputs": [],
   "source": [
    "import numpy as np\n"
   ]
  },
  {
   "cell_type": "markdown",
   "id": "90033e5b-ed25-444e-9c95-23fc807ffa6d",
   "metadata": {},
   "source": [
    "2) Создание массивов:\n",
    "----\n",
    "Массивы NumPy эффективнее списков Python по нескольким причинам. Они занимают меньше памяти, предоставляют быстродействие операций и имеют удобный синтаксис. \n",
    "\n"
   ]
  },
  {
   "cell_type": "code",
   "execution_count": 2,
   "id": "ce9de14a-8864-41c5-8362-7cfca64e5dce",
   "metadata": {},
   "outputs": [
    {
     "name": "stdout",
     "output_type": "stream",
     "text": [
      "[1 2 3]\n",
      "[[1 2 3]\n",
      " [4 5 6]]\n"
     ]
    }
   ],
   "source": [
    "# Одномерный массив\n",
    "one_d_array = np.array([1, 2, 3])\n",
    "print(one_d_array)\n",
    "\n",
    "# Двумерный массив\n",
    "two_d_array = np.array([[1, 2, 3], [4, 5, 6]])\n",
    "print(two_d_array)"
   ]
  },
  {
   "cell_type": "code",
   "execution_count": 3,
   "id": "dcec605b-8729-4bdd-9a88-48fceaaaeb46",
   "metadata": {},
   "outputs": [],
   "source": [
    "list_2d = [[1, 2], [3, 4]]\n",
    "two_d_array = np.array(list_2d)\n"
   ]
  },
  {
   "cell_type": "markdown",
   "id": "b17640b9-e2f8-46a3-a2c4-63722ea4bd0d",
   "metadata": {},
   "source": [
    "Есть еще популярный термин – вектор-столбец. Это 2-мерный массив, в котором всего один столбец. Например,\n"
   ]
  },
  {
   "cell_type": "code",
   "execution_count": 4,
   "id": "9105ad3c-04c9-42e2-8fd3-588610a6f581",
   "metadata": {},
   "outputs": [
    {
     "name": "stdout",
     "output_type": "stream",
     "text": [
      "[[10]\n",
      " [20]]\n"
     ]
    }
   ],
   "source": [
    "col = np.array([[10], [20]])\n",
    "print(col)\n",
    "# [[10]\n",
    "#  [20]]\n"
   ]
  },
  {
   "cell_type": "markdown",
   "id": "187637ac-c409-4e1b-b569-a38c9fc67027",
   "metadata": {},
   "source": [
    "Можно создавать массивы с помощью специальных функций. Из документации:\n"
   ]
  },
  {
   "cell_type": "code",
   "execution_count": 5,
   "id": "43165174-33db-405a-9f40-141c0b7040ce",
   "metadata": {},
   "outputs": [
    {
     "name": "stdout",
     "output_type": "stream",
     "text": [
      "[[1. 1. 1. 1.]\n",
      " [1. 1. 1. 1.]\n",
      " [1. 1. 1. 1.]]\n",
      "[[0. 0. 0. 0.]\n",
      " [0. 0. 0. 0.]\n",
      " [0. 0. 0. 0.]]\n"
     ]
    }
   ],
   "source": [
    "ones_array = np.ones((3, 4))\n",
    "print(ones_array)\n",
    "\n",
    "\n",
    "\n",
    "zeros_array = np.zeros_like(ones_array)\n",
    "print(zeros_array)\n",
    "\n"
   ]
  },
  {
   "cell_type": "markdown",
   "id": "43f6a0ff-f1c6-47ef-b1cd-28c863ea506d",
   "metadata": {},
   "source": [
    "arange\n",
    "--\n",
    "Функция arange подобна range. Аргументы могут быть с плавающей точкой. Следует избегать ситуаций, когда (конец-начало)/шаг — целое число, потому что в этом случае включение последнего элемента зависит от ошибок округления. Лучше, чтобы конец диапазона был где-то посредине шага.\n"
   ]
  },
  {
   "cell_type": "code",
   "execution_count": 6,
   "id": "2b7c270a-aa82-4a35-a079-0755f3defe8a",
   "metadata": {},
   "outputs": [
    {
     "name": "stdout",
     "output_type": "stream",
     "text": [
      "[0 2 4 6 8]\n",
      "[0. 2. 4. 6.]\n"
     ]
    }
   ],
   "source": [
    "a = np.arange(0, 9, 2)\n",
    "print(a)\n",
    "b = np.arange(0., 8, 2)\n",
    "print(b)\n"
   ]
  },
  {
   "cell_type": "markdown",
   "id": "a7fecf6a-d3ea-4d06-8edc-e037dfb36636",
   "metadata": {},
   "source": [
    "linspace\n",
    "--\n",
    "Последовательности чисел с постоянным шагом можно также создавать функцией linspace. Начало и конец диапазона включаются; последний аргумент — число точек."
   ]
  },
  {
   "cell_type": "code",
   "execution_count": 7,
   "id": "ff8e683c-0611-492a-9c96-13ba630bb8bd",
   "metadata": {},
   "outputs": [
    {
     "name": "stdout",
     "output_type": "stream",
     "text": [
      "[0.         1.33333333 2.66666667 4.         5.33333333 6.66666667\n",
      " 8.        ]\n"
     ]
    }
   ],
   "source": [
    "a = np.linspace(0, 8, 7)\n",
    "print(a)\n"
   ]
  },
  {
   "cell_type": "markdown",
   "id": "877062de-7eae-4dce-9f30-af12a72660fa",
   "metadata": {},
   "source": [
    "*Упражнение: создайте и выведите последовательность чисел от 10 до 20 с постоянным шагом, длина последовательности – 21. Скажите сначала устно, какой должен быть ответ.*\n"
   ]
  },
  {
   "cell_type": "code",
   "execution_count": 8,
   "id": "b1017622-f247-4fba-abba-beec3a9a804a",
   "metadata": {},
   "outputs": [
    {
     "data": {
      "text/plain": [
       "array([10. , 10.5, 11. , 11.5, 12. , 12.5, 13. , 13.5, 14. , 14.5, 15. ,\n",
       "       15.5, 16. , 16.5, 17. , 17.5, 18. , 18.5, 19. , 19.5, 20. ])"
      ]
     },
     "execution_count": 8,
     "metadata": {},
     "output_type": "execute_result"
    }
   ],
   "source": [
    "np.linspace(10,20,21)"
   ]
  },
  {
   "cell_type": "markdown",
   "id": "55d5521d-3530-49f4-8dd2-36f47819fafc",
   "metadata": {},
   "source": [
    "3) Работа с размерностями:\n",
    "---\n",
    "Размерности в NumPy определяют, сколько индексов требуется для адресации элемента. Одномерные массивы – векторы, двумерные – матрицы (таблицы). Для того чтобы посмотреть размерность, нужно обратиться к полю ndim.\n"
   ]
  },
  {
   "cell_type": "code",
   "execution_count": 9,
   "id": "58ed5f2e-0445-46df-83a8-aed52d538020",
   "metadata": {},
   "outputs": [
    {
     "data": {
      "text/plain": [
       "3"
      ]
     },
     "execution_count": 9,
     "metadata": {},
     "output_type": "execute_result"
    }
   ],
   "source": [
    "three_d_array = np.array([[[1, 2], [3, 4]], [[5, 6], [7, 8]]])\n",
    "three_d_array.ndim\n"
   ]
  },
  {
   "cell_type": "code",
   "execution_count": 10,
   "id": "ef0037f6-1b89-4859-bab6-afbe1f0fe5af",
   "metadata": {},
   "outputs": [
    {
     "data": {
      "text/plain": [
       "(2, 2, 2)"
      ]
     },
     "execution_count": 10,
     "metadata": {},
     "output_type": "execute_result"
    }
   ],
   "source": [
    "three_d_array = np.array([[[1, 2], [3, 4]], [[5, 6], [7, 8]]])\n",
    "three_d_array.shape\n"
   ]
  },
  {
   "cell_type": "code",
   "execution_count": 11,
   "id": "fb905731-e11e-4123-a10b-e070e44e596a",
   "metadata": {},
   "outputs": [
    {
     "data": {
      "text/plain": [
       "array([[[1, 2],\n",
       "        [3, 4]],\n",
       "\n",
       "       [[5, 6],\n",
       "        [7, 8]]])"
      ]
     },
     "execution_count": 11,
     "metadata": {},
     "output_type": "execute_result"
    }
   ],
   "source": [
    "three_d_array"
   ]
  },
  {
   "cell_type": "markdown",
   "id": "a5dfdfd2-8eef-4d3f-bc32-728d3922f6b8",
   "metadata": {},
   "source": [
    "Задание для закрепления.\n",
    "--\n",
    "1. Сколько строк и столбцов будет у матрицы, которая будет выведена следующим кодом?\n"
   ]
  },
  {
   "cell_type": "code",
   "execution_count": 12,
   "id": "5e9051b0-2d72-4973-b7ad-785ffa469112",
   "metadata": {},
   "outputs": [
    {
     "name": "stdout",
     "output_type": "stream",
     "text": [
      "[[ 1  2  3]\n",
      " [ 4  5  6]\n",
      " [ 7  8  9]\n",
      " [10 11 12]]\n"
     ]
    }
   ],
   "source": [
    "array = np.array([[1, 2, 3], [4, 5, 6], [7, 8, 9], [10, 11, 12]])\n",
    "print(array)\n"
   ]
  },
  {
   "cell_type": "markdown",
   "id": "a16ecfbe-417f-4ba3-9237-caad2a1b6255",
   "metadata": {},
   "source": [
    "2. Что выведет следующий код?\n"
   ]
  },
  {
   "cell_type": "code",
   "execution_count": 13,
   "id": "5c9458a5-699a-4d6c-adce-4cbd9df4a493",
   "metadata": {},
   "outputs": [
    {
     "name": "stdout",
     "output_type": "stream",
     "text": [
      "(4, 3)\n",
      "4\n"
     ]
    }
   ],
   "source": [
    "print(array.shape)\n",
    "print(len(array))\n"
   ]
  },
  {
   "cell_type": "markdown",
   "id": "a989ac0d-5b9e-4e16-8feb-675415969644",
   "metadata": {},
   "source": [
    "4) Типы элементов в массивах\n",
    "---\n",
    "В numpy обычно в рамках одного массива все элементы имеют один и тот же тип данных! Но это не ограничение на уровне предупреждения, можно использовать и разные типы (но они будут конвертироваться к одному).\n"
   ]
  },
  {
   "cell_type": "code",
   "execution_count": 14,
   "id": "44336c34-bbf3-4479-a32d-0cc034d0a9ba",
   "metadata": {},
   "outputs": [
    {
     "data": {
      "text/plain": [
       "array([[1, 2, 3],\n",
       "       [4, 5, 6]])"
      ]
     },
     "execution_count": 14,
     "metadata": {},
     "output_type": "execute_result"
    }
   ],
   "source": [
    "two_d_array = np.array([[1, 2, 3], [4, 5, 6]])\n",
    "two_d_array\n"
   ]
  },
  {
   "cell_type": "code",
   "execution_count": 15,
   "id": "659e4219-6d6a-4379-b6cc-c5fba822a951",
   "metadata": {},
   "outputs": [
    {
     "data": {
      "text/plain": [
       "array([[1., 2., 3.],\n",
       "       [4., 5., 6.]])"
      ]
     },
     "execution_count": 15,
     "metadata": {},
     "output_type": "execute_result"
    }
   ],
   "source": [
    "two_d_array = np.array([[1, 2, 3.0], [4, 5, 6]])\n",
    "two_d_array\n"
   ]
  },
  {
   "cell_type": "code",
   "execution_count": 16,
   "id": "6f2261e2-0f88-47bb-98b7-cba8f7e2ab96",
   "metadata": {},
   "outputs": [
    {
     "data": {
      "text/plain": [
       "array([['1', '2', '3'],\n",
       "       ['A', 'B', 'C']], dtype='<U21')"
      ]
     },
     "execution_count": 16,
     "metadata": {},
     "output_type": "execute_result"
    }
   ],
   "source": [
    "two_d_array = np.array([[1, 2, 3], [\"A\", \"B\", \"C\"]])\n",
    "two_d_array\n"
   ]
  },
  {
   "cell_type": "code",
   "execution_count": 17,
   "id": "0da2efe1-e325-4601-9fdb-e35df1fc84d7",
   "metadata": {},
   "outputs": [
    {
     "data": {
      "text/plain": [
       "array([['1', '2', '3'],\n",
       "       ['A', 'B', 'CCCCCCCCCCCCCCCCCCCCCCCCCCCC']], dtype='<U28')"
      ]
     },
     "execution_count": 17,
     "metadata": {},
     "output_type": "execute_result"
    }
   ],
   "source": [
    "two_d_array = np.array([[1, 2, 3], [\"A\", \"B\", \"C\"*28]])\n",
    "two_d_array\n"
   ]
  },
  {
   "cell_type": "markdown",
   "id": "719ebb64-8a69-4bd2-8969-d1de3de14290",
   "metadata": {},
   "source": [
    "А тут 28. Уже похоже, что что-то происходит неоптимально.\n",
    "\n",
    "Сколько байт в памяти это будет занимать? В этом поможет поле itemsize\n"
   ]
  },
  {
   "cell_type": "code",
   "execution_count": 18,
   "id": "10e62a96-a0b9-4cf6-ba71-930c2dae4a0b",
   "metadata": {},
   "outputs": [
    {
     "data": {
      "text/plain": [
       "dtype('int64')"
      ]
     },
     "execution_count": 18,
     "metadata": {},
     "output_type": "execute_result"
    }
   ],
   "source": [
    "x=np.array([1, 2, 3])\n",
    "x.dtype"
   ]
  },
  {
   "cell_type": "code",
   "execution_count": 19,
   "id": "1a82545f-4ca6-46fc-86d8-0805bf18deec",
   "metadata": {},
   "outputs": [
    {
     "name": "stdout",
     "output_type": "stream",
     "text": [
      "8\n"
     ]
    }
   ],
   "source": [
    "print(np.array([1, 2, 3]).itemsize)\n"
   ]
  },
  {
   "cell_type": "code",
   "execution_count": 20,
   "id": "385e58ee-0607-4c77-9415-df061172d013",
   "metadata": {},
   "outputs": [
    {
     "name": "stdout",
     "output_type": "stream",
     "text": [
      "84\n"
     ]
    }
   ],
   "source": [
    "print(np.array([[1, 2, 3], [\"A\", \"B\", \"C\"]]).itemsize)"
   ]
  },
  {
   "cell_type": "markdown",
   "id": "b5e759b3-e06d-4dcf-8fd0-e0f6f7c77cbb",
   "metadata": {},
   "source": [
    "Что будет, если попробовать записать в такой массив строку большей длины, например?\n"
   ]
  },
  {
   "cell_type": "code",
   "execution_count": 21,
   "id": "a8f103db-68ed-4a68-9606-c087ca783840",
   "metadata": {},
   "outputs": [
    {
     "data": {
      "text/plain": [
       "array([['1', '2', '3'],\n",
       "       ['A', 'B', 'C']], dtype='<U11')"
      ]
     },
     "execution_count": 21,
     "metadata": {},
     "output_type": "execute_result"
    }
   ],
   "source": [
    "a = np.array([[1, 2, 3], [\"A\", \"B\", \"C\"]],\n",
    "            dtype='<U11')\n",
    "a\n"
   ]
  },
  {
   "cell_type": "code",
   "execution_count": 22,
   "id": "1fe1fbc3-1866-4d63-bb35-85408e995d5c",
   "metadata": {},
   "outputs": [
    {
     "data": {
      "text/plain": [
       "array([['aaaaaaaaaab', '2', '3'],\n",
       "       ['A', 'B', 'C']], dtype='<U11')"
      ]
     },
     "execution_count": 22,
     "metadata": {},
     "output_type": "execute_result"
    }
   ],
   "source": [
    "a[0][0] = \"a\"*10+\"b\"*10\n",
    "a"
   ]
  },
  {
   "cell_type": "markdown",
   "id": "427d0e54-8675-45e3-9803-b1625cba4c8f",
   "metadata": {},
   "source": [
    "список\n"
   ]
  },
  {
   "cell_type": "code",
   "execution_count": 23,
   "id": "2b3d303b-796d-44e8-8e54-6a9596dc428c",
   "metadata": {},
   "outputs": [
    {
     "name": "stdout",
     "output_type": "stream",
     "text": [
      "[[1, 2, 3], ['A', 'B', 'C']]\n",
      "[[1, 2, 3.0], [4, 5, 6]]\n"
     ]
    }
   ],
   "source": [
    "list_int_str = [[1, 2, 3], [\"A\", \"B\", \"C\"]]\n",
    "print(list_int_str)\n",
    "list_int_float = [[1, 2, 3.0], [4, 5, 6]]\n",
    "print(list_int_float)\n"
   ]
  },
  {
   "cell_type": "markdown",
   "id": "59bee9d8-b8f0-48a8-a60e-61b8952e1d8c",
   "metadata": {},
   "source": [
    "Задачи\n",
    "--"
   ]
  },
  {
   "cell_type": "code",
   "execution_count": 24,
   "id": "ecbea285-02f1-4cd1-b59f-3d90c377af49",
   "metadata": {},
   "outputs": [
    {
     "name": "stdout",
     "output_type": "stream",
     "text": [
      "6\n"
     ]
    }
   ],
   "source": [
    "import numpy as np\n",
    "arr = np.array([1, 2, 3, 4, 5])\n",
    "print(arr[1] + arr[3])\n"
   ]
  },
  {
   "cell_type": "code",
   "execution_count": 25,
   "id": "3581d241-8e8a-4a00-9492-ab0aea71ae79",
   "metadata": {},
   "outputs": [
    {
     "name": "stdout",
     "output_type": "stream",
     "text": [
      "float64\n",
      "[ 5  7  9 11 13]\n"
     ]
    }
   ],
   "source": [
    "arr = np.array([1.0, 2, 3])\n",
    "print(arr.dtype)\n",
    "\n",
    "arr = np.arange(5, 15, 2)\n",
    "print(arr)\n"
   ]
  },
  {
   "cell_type": "markdown",
   "id": "3f9f51dc-7ede-4070-b216-8dfa11716139",
   "metadata": {},
   "source": [
    "2. Создание и изучение массивов:\n",
    " --\n",
    "Создайте одномерный массив из случайных чисел. Выведите его тип, размер и содержимое.\n"
   ]
  },
  {
   "cell_type": "code",
   "execution_count": 26,
   "id": "7a9daa65-6695-4987-a60e-ee25dabe6709",
   "metadata": {},
   "outputs": [
    {
     "name": "stdout",
     "output_type": "stream",
     "text": [
      "Тип массива: int64\n",
      "Размер массива: 10\n",
      "Содержимое массива: [27 17 29  1 77 34 39 46 32 70]\n"
     ]
    }
   ],
   "source": [
    "import numpy as np\n",
    "import random\n",
    "\n",
    "# Задаем длину массива\n",
    "length = 10\n",
    "\n",
    "# Создаем массив случайных чисел от 0 до 100\n",
    "random_array = np.array([random.randint(0, 100) for _ in range(length)])\n",
    "\n",
    "# Выводим тип, размер и содержимое массива\n",
    "print(\"Тип массива:\", random_array.dtype)\n",
    "print(\"Размер массива:\", random_array.size)\n",
    "print(\"Содержимое массива:\", random_array)\n"
   ]
  },
  {
   "cell_type": "markdown",
   "id": "173a62d5-dab8-4bcc-b1f4-1955139a5a72",
   "metadata": {},
   "source": [
    "Создайте массив размером 3x4, полностью заполненный единицами, и выведите его.\n"
   ]
  },
  {
   "cell_type": "code",
   "execution_count": 27,
   "id": "29f81656-caf6-4d62-84d3-8d6d12b251ed",
   "metadata": {},
   "outputs": [
    {
     "data": {
      "text/plain": [
       "array([[1., 1., 1., 1.],\n",
       "       [1., 1., 1., 1.],\n",
       "       [1., 1., 1., 1.]])"
      ]
     },
     "execution_count": 27,
     "metadata": {},
     "output_type": "execute_result"
    }
   ],
   "source": [
    "np.ones((3,4))"
   ]
  },
  {
   "cell_type": "markdown",
   "id": "05e345d5-7d0a-4699-9c52-b27fe76c66db",
   "metadata": {},
   "source": [
    "Используя функцию np.arange, создайте массив чисел от 0 до 10 с шагом 2. Затем создайте массив с теми же числами, используя np.linspace, и сравните результаты."
   ]
  },
  {
   "cell_type": "code",
   "execution_count": 28,
   "id": "1820167c-2485-477e-aac2-711371ae2eb2",
   "metadata": {},
   "outputs": [
    {
     "data": {
      "text/plain": [
       "array([0, 2, 4, 6, 8])"
      ]
     },
     "execution_count": 28,
     "metadata": {},
     "output_type": "execute_result"
    }
   ],
   "source": [
    "np.arange(0,10,2)"
   ]
  },
  {
   "cell_type": "code",
   "execution_count": 29,
   "id": "33f2129e-84d0-4c5a-8403-94e56798902b",
   "metadata": {},
   "outputs": [
    {
     "data": {
      "text/plain": [
       "array([ 0. ,  2.5,  5. ,  7.5, 10. ])"
      ]
     },
     "execution_count": 29,
     "metadata": {},
     "output_type": "execute_result"
    }
   ],
   "source": [
    "np.linspace(0,10,5)"
   ]
  },
  {
   "cell_type": "code",
   "execution_count": 34,
   "id": "14f290a4-9e30-4e54-a8e4-7af6559d6349",
   "metadata": {},
   "outputs": [
    {
     "data": {
      "text/plain": [
       "array(['1', '2', '3'], dtype='<U21')"
      ]
     },
     "execution_count": 34,
     "metadata": {},
     "output_type": "execute_result"
    }
   ],
   "source": [
    "x.astype('str')"
   ]
  },
  {
   "cell_type": "code",
   "execution_count": 35,
   "id": "41ce2734-de4c-4a1b-912c-cd6512da7e88",
   "metadata": {},
   "outputs": [
    {
     "name": "stdout",
     "output_type": "stream",
     "text": [
      "[[1, 2, 3], [4, 5, 6], [1, 2, 3], [4, 5, 6]]\n",
      "[[1, 2, 3], [4, 5, 6], [1, 2, 3], [4, 5, 6]]\n"
     ]
    }
   ],
   "source": [
    "two_d_list = [[1, 2, 3], [4, 5, 6]]\n",
    "# Сложение массивов\n",
    "print(two_d_list + two_d_list)\n",
    "# [[1, 2, 3], [4, 5, 6], [1, 2, 3], [4, 5, 6]]\n",
    "# Умножение массива на число\n",
    "print(two_d_list * 2)\n",
    "# [[1, 2, 3], [4, 5, 6], [1, 2, 3], [4, 5, 6]]\n"
   ]
  },
  {
   "cell_type": "code",
   "execution_count": 36,
   "id": "d0c8c070-3f17-4f64-8be6-46774f9ca8a7",
   "metadata": {},
   "outputs": [
    {
     "name": "stdout",
     "output_type": "stream",
     "text": [
      "[[ 2  4  6]\n",
      " [ 8 10 12]]\n",
      "[[ 1  4  9]\n",
      " [16 25 36]]\n",
      "[[ 5 10 15]\n",
      " [20 25 30]]\n"
     ]
    }
   ],
   "source": [
    "two_d_array = np.array([[1, 2, 3], [4, 5, 6]])\n",
    "# Сложение массивов\n",
    "print(two_d_array + two_d_array)\n",
    "# [[ 2  4  6]\n",
    "#  [ 8 10 12]]\n",
    "# Умножение массивов\n",
    "print(two_d_array * two_d_array)\n",
    "# [[ 1  4  9]\n",
    "#  [16 25 36]]\n",
    "# Умножение массива на число – каждое число в массиве умножится на это число\n",
    "print(two_d_array * 5)\n",
    "# [[ 5 10 15]\n",
    "#  [20 25 30]]\n"
   ]
  },
  {
   "cell_type": "code",
   "execution_count": 37,
   "id": "aa65c3f1-ae53-4c3e-9ca1-7b301554ba18",
   "metadata": {},
   "outputs": [
    {
     "ename": "ValueError",
     "evalue": "operands could not be broadcast together with shapes (2,3) (2,2) ",
     "output_type": "error",
     "traceback": [
      "\u001b[0;31m---------------------------------------------------------------------------\u001b[0m",
      "\u001b[0;31mValueError\u001b[0m                                Traceback (most recent call last)",
      "Cell \u001b[0;32mIn[37], line 2\u001b[0m\n\u001b[1;32m      1\u001b[0m square \u001b[38;5;241m=\u001b[39m np\u001b[38;5;241m.\u001b[39marray([[\u001b[38;5;241m1\u001b[39m, \u001b[38;5;241m2\u001b[39m], [\u001b[38;5;241m4\u001b[39m, \u001b[38;5;241m5\u001b[39m]])\n\u001b[0;32m----> 2\u001b[0m \u001b[43mtwo_d_array\u001b[49m\u001b[43m \u001b[49m\u001b[38;5;241;43m+\u001b[39;49m\u001b[43m \u001b[49m\u001b[43msquare\u001b[49m\n",
      "\u001b[0;31mValueError\u001b[0m: operands could not be broadcast together with shapes (2,3) (2,2) "
     ]
    }
   ],
   "source": [
    "square = np.array([[1, 2], [4, 5]])\n",
    "two_d_array + square\n"
   ]
  },
  {
   "cell_type": "code",
   "execution_count": 38,
   "id": "57cb99ba-396c-4ddb-89f6-ab6ed1f4cabe",
   "metadata": {},
   "outputs": [
    {
     "name": "stdout",
     "output_type": "stream",
     "text": [
      "[[11 22 33]\n",
      " [14 25 36]]\n"
     ]
    }
   ],
   "source": [
    "one_d_array = np.array([10, 20, 30])\n",
    "two_d_array = np.array([[1, 2, 3], [4, 5, 6]])\n",
    "print(one_d_array + two_d_array)\n"
   ]
  },
  {
   "cell_type": "code",
   "execution_count": 39,
   "id": "7f4a0e1d-3075-4403-bd9b-86b6ae526d6a",
   "metadata": {},
   "outputs": [],
   "source": [
    "col = np.array([1, 2])"
   ]
  },
  {
   "cell_type": "code",
   "execution_count": 40,
   "id": "d4baf272-4b68-4e7a-83b1-2538057d10e9",
   "metadata": {},
   "outputs": [
    {
     "name": "stdout",
     "output_type": "stream",
     "text": [
      "[1 2 3 4 5]\n"
     ]
    }
   ],
   "source": [
    "two_d_array = np.array([3, 4, 5])\n",
    "print(np.concatenate( [col, two_d_array] ))\n"
   ]
  },
  {
   "cell_type": "code",
   "execution_count": 41,
   "id": "18e22cb9-4f67-4dce-919e-d2a12a628dce",
   "metadata": {},
   "outputs": [
    {
     "ename": "ValueError",
     "evalue": "operands could not be broadcast together with shapes (3,1) (2,3) ",
     "output_type": "error",
     "traceback": [
      "\u001b[0;31m---------------------------------------------------------------------------\u001b[0m",
      "\u001b[0;31mValueError\u001b[0m                                Traceback (most recent call last)",
      "Cell \u001b[0;32mIn[41], line 3\u001b[0m\n\u001b[1;32m      1\u001b[0m col \u001b[38;5;241m=\u001b[39m np\u001b[38;5;241m.\u001b[39marray([[\u001b[38;5;241m10\u001b[39m], [\u001b[38;5;241m20\u001b[39m], [\u001b[38;5;241m30\u001b[39m]])\n\u001b[1;32m      2\u001b[0m two_d_array \u001b[38;5;241m=\u001b[39m np\u001b[38;5;241m.\u001b[39marray([[\u001b[38;5;241m1\u001b[39m, \u001b[38;5;241m2\u001b[39m, \u001b[38;5;241m3\u001b[39m], [\u001b[38;5;241m4\u001b[39m, \u001b[38;5;241m5\u001b[39m, \u001b[38;5;241m6\u001b[39m]])\n\u001b[0;32m----> 3\u001b[0m \u001b[38;5;28mprint\u001b[39m(\u001b[43mcol\u001b[49m\u001b[43m \u001b[49m\u001b[38;5;241;43m+\u001b[39;49m\u001b[43m \u001b[49m\u001b[43mtwo_d_array\u001b[49m)\n",
      "\u001b[0;31mValueError\u001b[0m: operands could not be broadcast together with shapes (3,1) (2,3) "
     ]
    }
   ],
   "source": [
    "col = np.array([[10], [20], [30]])\n",
    "two_d_array = np.array([[1, 2, 3], [4, 5, 6]])\n",
    "print(col + two_d_array)\n"
   ]
  },
  {
   "cell_type": "code",
   "execution_count": 42,
   "id": "bf47f1a3-621c-4468-a2dc-459b4e2ea188",
   "metadata": {},
   "outputs": [
    {
     "name": "stdout",
     "output_type": "stream",
     "text": [
      "[[ 10  40  90]\n",
      " [ 40 100 180]]\n"
     ]
    }
   ],
   "source": [
    "mult = np.array([[10, 20, 30]])\n",
    "two_d_array = np.array([[1, 2, 3], [4, 5, 6]])\n",
    "print(mult * two_d_array)\n"
   ]
  },
  {
   "cell_type": "code",
   "execution_count": 43,
   "id": "91e0833b-7417-47d0-b0cf-667d3beba038",
   "metadata": {},
   "outputs": [
    {
     "name": "stdout",
     "output_type": "stream",
     "text": [
      "[-3 -2 -4]\n",
      "[0.  0.5 0.2]\n",
      "[0 4 1]\n"
     ]
    }
   ],
   "source": [
    "a = np.array([0, 2, 1])\n",
    "b = np.array([3, 4, 5])\n",
    "print(a - b)  # [-3 -2 -4]\n",
    "print(a / b)  # [0.  0.5 0.2]\n",
    "print(a ** 2)  # [0 4 1]\n"
   ]
  },
  {
   "cell_type": "code",
   "execution_count": 44,
   "id": "145178fb-3867-45a9-811c-32d5e946c242",
   "metadata": {},
   "outputs": [
    {
     "name": "stdout",
     "output_type": "stream",
     "text": [
      "[inf  2.  5.]\n"
     ]
    },
    {
     "name": "stderr",
     "output_type": "stream",
     "text": [
      "/var/folders/2w/zv9tyjqd4n1cxm711skjgh9c0000gn/T/ipykernel_11229/2917386247.py:1: RuntimeWarning: divide by zero encountered in divide\n",
      "  print(b / a)\n"
     ]
    }
   ],
   "source": [
    "print(b / a)  "
   ]
  },
  {
   "cell_type": "code",
   "execution_count": 45,
   "id": "846a96b0-c9bb-4501-9f03-99c4c8c4b7c0",
   "metadata": {},
   "outputs": [
    {
     "name": "stdout",
     "output_type": "stream",
     "text": [
      "<class 'numpy.float64'>\n"
     ]
    },
    {
     "name": "stderr",
     "output_type": "stream",
     "text": [
      "/var/folders/2w/zv9tyjqd4n1cxm711skjgh9c0000gn/T/ipykernel_11229/73444277.py:1: RuntimeWarning: divide by zero encountered in divide\n",
      "  print(type((b / 0)[0]))\n"
     ]
    }
   ],
   "source": [
    "print(type((b / 0)[0]))\n"
   ]
  },
  {
   "cell_type": "code",
   "execution_count": 46,
   "id": "1d22747b-a668-4d98-9fc0-0a7d72a182ec",
   "metadata": {},
   "outputs": [
    {
     "name": "stdout",
     "output_type": "stream",
     "text": [
      "[[2 3 4]\n",
      " [5 6 7]]\n"
     ]
    }
   ],
   "source": [
    "two_d_array = np.array([[1,2,3], [4,5,6]])\n",
    "print(two_d_array+1)"
   ]
  },
  {
   "cell_type": "code",
   "execution_count": 47,
   "id": "c4b5b1b4-9181-4f8f-9173-969d1186015d",
   "metadata": {},
   "outputs": [
    {
     "ename": "ValueError",
     "evalue": "operands could not be broadcast together with shapes (3,1) (2,3) ",
     "output_type": "error",
     "traceback": [
      "\u001b[0;31m---------------------------------------------------------------------------\u001b[0m",
      "\u001b[0;31mValueError\u001b[0m                                Traceback (most recent call last)",
      "Cell \u001b[0;32mIn[47], line 3\u001b[0m\n\u001b[1;32m      1\u001b[0m col \u001b[38;5;241m=\u001b[39m np\u001b[38;5;241m.\u001b[39marray([[\u001b[38;5;241m10\u001b[39m], [\u001b[38;5;241m20\u001b[39m], [\u001b[38;5;241m30\u001b[39m]])\n\u001b[1;32m      2\u001b[0m two_d_array \u001b[38;5;241m=\u001b[39m np\u001b[38;5;241m.\u001b[39marray([[\u001b[38;5;241m1\u001b[39m, \u001b[38;5;241m2\u001b[39m, \u001b[38;5;241m3\u001b[39m], [\u001b[38;5;241m4\u001b[39m, \u001b[38;5;241m5\u001b[39m, \u001b[38;5;241m6\u001b[39m]])\n\u001b[0;32m----> 3\u001b[0m \u001b[38;5;28mprint\u001b[39m(\u001b[43mcol\u001b[49m\u001b[43m \u001b[49m\u001b[38;5;241;43m+\u001b[39;49m\u001b[43m \u001b[49m\u001b[43mtwo_d_array\u001b[49m)\n",
      "\u001b[0;31mValueError\u001b[0m: operands could not be broadcast together with shapes (3,1) (2,3) "
     ]
    }
   ],
   "source": [
    "col = np.array([[10], [20], [30]])\n",
    "two_d_array = np.array([[1, 2, 3], [4, 5, 6]])\n",
    "print(col + two_d_array)\n"
   ]
  },
  {
   "cell_type": "code",
   "execution_count": 48,
   "id": "0616d3ea-53ee-4064-a3d5-6c63225234f8",
   "metadata": {},
   "outputs": [
    {
     "name": "stdout",
     "output_type": "stream",
     "text": [
      "[[ 10  40  90]\n",
      " [ 40 100 180]]\n"
     ]
    }
   ],
   "source": [
    "mult = np.array([[10, 20, 30]])\n",
    "two_d_array = np.array([[1, 2, 3], [4, 5, 6]])\n",
    "print(mult * two_d_array)\n"
   ]
  },
  {
   "cell_type": "code",
   "execution_count": 49,
   "id": "a456112d-7c3c-45b4-bbc4-c16285dc8f92",
   "metadata": {},
   "outputs": [
    {
     "data": {
      "text/plain": [
       "-0.7568024953079282"
      ]
     },
     "execution_count": 49,
     "metadata": {},
     "output_type": "execute_result"
    }
   ],
   "source": [
    "np.sin(4)"
   ]
  },
  {
   "cell_type": "code",
   "execution_count": 50,
   "id": "db74eac9-c017-4ee8-940f-e361efb9949e",
   "metadata": {},
   "outputs": [
    {
     "name": "stdout",
     "output_type": "stream",
     "text": [
      "[[[ 1  4]\n",
      "  [ 9 16]]\n",
      "\n",
      " [[25 36]\n",
      "  [49 64]]]\n",
      "[[[11 22]\n",
      "  [33 44]]\n",
      "\n",
      " [[15 26]\n",
      "  [37 48]]]\n",
      "[[[11 22]\n",
      "  [13 24]]\n",
      "\n",
      " [[15 26]\n",
      "  [17 28]]]\n"
     ]
    }
   ],
   "source": [
    "cube = np.array([[[1, 2], [3, 4]], [[5, 6], [7, 8]]])\n",
    "print(cube * cube)\n",
    "print(cube + np.array([[10, 20], [30, 40]]))\n",
    "print(cube + np.array([[10, 20]]))\n"
   ]
  },
  {
   "cell_type": "code",
   "execution_count": 51,
   "id": "5ccfa8f8-9d8d-47f4-a5ae-fce5891dd3b3",
   "metadata": {},
   "outputs": [
    {
     "name": "stdout",
     "output_type": "stream",
     "text": [
      "[[[11 22]\n",
      "  [33 44]]\n",
      "\n",
      " [[15 26]\n",
      "  [37 48]]]\n"
     ]
    }
   ],
   "source": [
    "print(cube + np.array([[10, 20], [30, 40]]))"
   ]
  },
  {
   "cell_type": "code",
   "execution_count": 52,
   "id": "6638a555-4d93-4ec7-8e52-06b3fff46239",
   "metadata": {},
   "outputs": [
    {
     "data": {
      "text/plain": [
       "array([[[1, 2],\n",
       "        [3, 4]],\n",
       "\n",
       "       [[5, 6],\n",
       "        [7, 8]]])"
      ]
     },
     "execution_count": 52,
     "metadata": {},
     "output_type": "execute_result"
    }
   ],
   "source": [
    "cube"
   ]
  },
  {
   "cell_type": "code",
   "execution_count": 53,
   "id": "289da937-6f14-4a50-8e54-651579fb6bed",
   "metadata": {},
   "outputs": [
    {
     "name": "stdout",
     "output_type": "stream",
     "text": [
      "[[[11 22]\n",
      "  [13 24]]\n",
      "\n",
      " [[15 26]\n",
      "  [17 28]]]\n"
     ]
    }
   ],
   "source": [
    "print(cube + np.array([[10, 20]]))"
   ]
  },
  {
   "cell_type": "code",
   "execution_count": 54,
   "id": "6ff83875-226f-4f14-af61-5b0827ab1316",
   "metadata": {},
   "outputs": [
    {
     "name": "stdout",
     "output_type": "stream",
     "text": [
      "[[[11 12]\n",
      "  [23 24]]\n",
      "\n",
      " [[15 16]\n",
      "  [27 28]]]\n"
     ]
    }
   ],
   "source": [
    "print(cube + np.array([[10], [20]]))"
   ]
  },
  {
   "cell_type": "code",
   "execution_count": 55,
   "id": "aef24778-e6e5-4140-a908-c9bf92302e28",
   "metadata": {},
   "outputs": [
    {
     "name": "stdout",
     "output_type": "stream",
     "text": [
      "[[[11 12]\n",
      "  [23 24]]\n",
      "\n",
      " [[15 16]\n",
      "  [27 28]]]\n"
     ]
    }
   ],
   "source": [
    "print(cube + np.array([[10], [20]]))"
   ]
  },
  {
   "cell_type": "code",
   "execution_count": 56,
   "id": "d2c04f4d-a667-478d-a573-937503b4ca1d",
   "metadata": {},
   "outputs": [
    {
     "name": "stdout",
     "output_type": "stream",
     "text": [
      "[[[11 22]\n",
      "  [13 24]]\n",
      "\n",
      " [[15 26]\n",
      "  [17 28]]]\n"
     ]
    }
   ],
   "source": [
    "print(cube + np.array([10, 20]))\n"
   ]
  },
  {
   "cell_type": "code",
   "execution_count": 57,
   "id": "49916318-9950-473e-ae4f-f117375cf4fd",
   "metadata": {},
   "outputs": [
    {
     "data": {
      "text/plain": [
       "array([ 0.,  1.,  2.,  3.,  4.,  5.,  6.,  7.,  8.,  9., 10., 11., 12.,\n",
       "       13., 14., 15.])"
      ]
     },
     "execution_count": 57,
     "metadata": {},
     "output_type": "execute_result"
    }
   ],
   "source": [
    "np.linspace(0,15,16)"
   ]
  },
  {
   "cell_type": "code",
   "execution_count": 65,
   "id": "5af238cd-36e1-4afa-b3d3-17d09526a935",
   "metadata": {},
   "outputs": [],
   "source": [
    "d=np.array([[ 0 , 1,  2,  3],\n",
    " [ 4,  5,  6,  7],\n",
    " [ 8,  9, 10, 11],\n",
    " [12, 13, 14, 15]])"
   ]
  },
  {
   "cell_type": "code",
   "execution_count": 66,
   "id": "d500655c-7daf-48f0-a453-c9bbd024f5bd",
   "metadata": {},
   "outputs": [
    {
     "data": {
      "text/plain": [
       "(4, 4)"
      ]
     },
     "execution_count": 66,
     "metadata": {},
     "output_type": "execute_result"
    }
   ],
   "source": [
    "d.shape"
   ]
  },
  {
   "cell_type": "code",
   "execution_count": 67,
   "id": "e3d11ffc-9ca1-4288-bceb-2f3dc6e4dbca",
   "metadata": {},
   "outputs": [
    {
     "data": {
      "text/plain": [
       "array([[  0,   9,  20,  33],\n",
       "       [ 32,  45,  60,  77],\n",
       "       [ 64,  81, 100, 121],\n",
       "       [ 96, 117, 140, 165]])"
      ]
     },
     "execution_count": 67,
     "metadata": {},
     "output_type": "execute_result"
    }
   ],
   "source": [
    "d*np.array([ 8,  9, 10, 11])"
   ]
  },
  {
   "cell_type": "code",
   "execution_count": 68,
   "id": "6bd59e88-137c-41fe-949f-5c22ffe37e9c",
   "metadata": {},
   "outputs": [
    {
     "name": "stdout",
     "output_type": "stream",
     "text": [
      "[  0.  nan  inf -inf]\n"
     ]
    },
    {
     "name": "stderr",
     "output_type": "stream",
     "text": [
      "/var/folders/2w/zv9tyjqd4n1cxm711skjgh9c0000gn/T/ipykernel_11229/2320364298.py:1: RuntimeWarning: divide by zero encountered in divide\n",
      "  print(np.array([0.0, 0.0, 1.0, -1.0]) / np.array([1.0, 0.0, 0.0, 0.0]))\n",
      "/var/folders/2w/zv9tyjqd4n1cxm711skjgh9c0000gn/T/ipykernel_11229/2320364298.py:1: RuntimeWarning: invalid value encountered in divide\n",
      "  print(np.array([0.0, 0.0, 1.0, -1.0]) / np.array([1.0, 0.0, 0.0, 0.0]))\n"
     ]
    }
   ],
   "source": [
    "print(np.array([0.0, 0.0, 1.0, -1.0]) / np.array([1.0, 0.0, 0.0, 0.0]))\n"
   ]
  },
  {
   "cell_type": "code",
   "execution_count": 70,
   "id": "4b8f129a-2e2e-4863-889c-f36fd1920461",
   "metadata": {},
   "outputs": [
    {
     "data": {
      "text/plain": [
       "False"
      ]
     },
     "execution_count": 70,
     "metadata": {},
     "output_type": "execute_result"
    }
   ],
   "source": [
    "np.all([False,2,3])"
   ]
  },
  {
   "cell_type": "code",
   "execution_count": 73,
   "id": "ea65b68e-bf1b-45e2-9773-18bbe5a22dee",
   "metadata": {},
   "outputs": [],
   "source": [
    "d = np.linspace(0,15,16).reshape(4,4)"
   ]
  },
  {
   "cell_type": "code",
   "execution_count": 74,
   "id": "4bcfa171-bc71-4139-a9e8-1ea375231dae",
   "metadata": {},
   "outputs": [
    {
     "data": {
      "text/plain": [
       "array([[ 0.,  1.,  2.,  3.],\n",
       "       [ 4.,  5.,  6.,  7.],\n",
       "       [ 8.,  9., 10., 11.],\n",
       "       [12., 13., 14., 15.]])"
      ]
     },
     "execution_count": 74,
     "metadata": {},
     "output_type": "execute_result"
    }
   ],
   "source": [
    "d"
   ]
  },
  {
   "cell_type": "code",
   "execution_count": 76,
   "id": "73643bd8-b45b-4dbe-9f47-b604f5f490e9",
   "metadata": {},
   "outputs": [
    {
     "data": {
      "text/plain": [
       "array([ 8.,  9., 10., 11.])"
      ]
     },
     "execution_count": 76,
     "metadata": {},
     "output_type": "execute_result"
    }
   ],
   "source": [
    "d[2:3][0]"
   ]
  },
  {
   "cell_type": "code",
   "execution_count": 77,
   "id": "5815d591-c69c-49cd-8682-9af723fb17b0",
   "metadata": {},
   "outputs": [
    {
     "data": {
      "text/plain": [
       "array([ 3,  6,  9, 12])"
      ]
     },
     "execution_count": 77,
     "metadata": {},
     "output_type": "execute_result"
    }
   ],
   "source": [
    "array[:,2]"
   ]
  },
  {
   "cell_type": "code",
   "execution_count": 78,
   "id": "8362eaa3-b982-4d28-9c7d-9fbc2e4b9717",
   "metadata": {},
   "outputs": [
    {
     "data": {
      "text/plain": [
       "array([[ 0.,  1.,  2.,  3.],\n",
       "       [ 4.,  5.,  6.,  7.],\n",
       "       [ 8.,  9., 10., 11.],\n",
       "       [12., 13., 14., 15.]])"
      ]
     },
     "execution_count": 78,
     "metadata": {},
     "output_type": "execute_result"
    }
   ],
   "source": [
    "d"
   ]
  },
  {
   "cell_type": "code",
   "execution_count": null,
   "id": "6343d150-43b4-4a8c-93d5-dac6dbac9301",
   "metadata": {},
   "outputs": [],
   "source": []
  }
 ],
 "metadata": {
  "kernelspec": {
   "display_name": "Python 3 (ipykernel)",
   "language": "python",
   "name": "python3"
  },
  "language_info": {
   "codemirror_mode": {
    "name": "ipython",
    "version": 3
   },
   "file_extension": ".py",
   "mimetype": "text/x-python",
   "name": "python",
   "nbconvert_exporter": "python",
   "pygments_lexer": "ipython3",
   "version": "3.11.4"
  }
 },
 "nbformat": 4,
 "nbformat_minor": 5
}
