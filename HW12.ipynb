{
 "cells": [
  {
   "cell_type": "markdown",
   "id": "a384e187-1e5e-4509-85e9-171992c002ef",
   "metadata": {},
   "source": [
    "Анализ данных с помощью объединений и конкатенации\n",
    "\n",
    "Набор данных: Используйте набор данных \"tips\" и набор данных \"flights\" из Seaborn.\n",
    "\n",
    "Инструкции:\n",
    "\n",
    "Загрузите наборы данных \"tips\" и \"flights\" в отдельные Polars DataFrames.\n",
    "\n",
    "Из набора данных 'flights' выберите столбцы 'year', 'month' и 'passengers'.\n",
    "\n",
    "Создайте новый DataFrame из 'flights', который агрегирует общее количество пассажиров за год.\n",
    "\n",
    "Объедините эти агрегированные данные с набором данных 'tips' по столбцу 'year' (примечание: для этого вам может понадобиться создать столбец 'year' в 'tips').\n",
    "\n",
    "Конкатенируйте DataFrame 'tips' (отфильтрованный по времени 'Dinner') с первыми 50 строками 'flights' (подумайте, каким образом).\n",
    "Отобразите первые 10 строк объединенного и конкатенированного DataFrame.\n",
    "\n"
   ]
  },
  {
   "cell_type": "code",
   "execution_count": 1,
   "id": "7eec620d-7447-4308-b587-bea926940082",
   "metadata": {},
   "outputs": [],
   "source": [
    "import seaborn as sns\n",
    "import polars as pl"
   ]
  },
  {
   "cell_type": "code",
   "execution_count": 3,
   "id": "8c8edc3d-4e44-43b8-a57a-dbabd92b2d1e",
   "metadata": {},
   "outputs": [],
   "source": [
    "#Загрузите наборы данных \"tips\" и \"flights\" в отдельные Polars DataFrames.\n",
    "tips_df = pl.from_pandas(sns.load_dataset('tips'))\n",
    "flights_df = pl.from_pandas(sns.load_dataset('flights'))"
   ]
  },
  {
   "cell_type": "code",
   "execution_count": 4,
   "id": "df8df2d4-7612-4d9d-bbeb-5a248d6fe206",
   "metadata": {},
   "outputs": [
    {
     "data": {
      "text/html": [
       "<div><style>\n",
       ".dataframe > thead > tr,\n",
       ".dataframe > tbody > tr {\n",
       "  text-align: right;\n",
       "  white-space: pre-wrap;\n",
       "}\n",
       "</style>\n",
       "<small>shape: (144, 3)</small><table border=\"1\" class=\"dataframe\"><thead><tr><th>year</th><th>month</th><th>passengers</th></tr><tr><td>i64</td><td>cat</td><td>i64</td></tr></thead><tbody><tr><td>1949</td><td>&quot;Jan&quot;</td><td>112</td></tr><tr><td>1949</td><td>&quot;Feb&quot;</td><td>118</td></tr><tr><td>1949</td><td>&quot;Mar&quot;</td><td>132</td></tr><tr><td>1949</td><td>&quot;Apr&quot;</td><td>129</td></tr><tr><td>1949</td><td>&quot;May&quot;</td><td>121</td></tr><tr><td>&hellip;</td><td>&hellip;</td><td>&hellip;</td></tr><tr><td>1960</td><td>&quot;Aug&quot;</td><td>606</td></tr><tr><td>1960</td><td>&quot;Sep&quot;</td><td>508</td></tr><tr><td>1960</td><td>&quot;Oct&quot;</td><td>461</td></tr><tr><td>1960</td><td>&quot;Nov&quot;</td><td>390</td></tr><tr><td>1960</td><td>&quot;Dec&quot;</td><td>432</td></tr></tbody></table></div>"
      ],
      "text/plain": [
       "shape: (144, 3)\n",
       "┌──────┬───────┬────────────┐\n",
       "│ year ┆ month ┆ passengers │\n",
       "│ ---  ┆ ---   ┆ ---        │\n",
       "│ i64  ┆ cat   ┆ i64        │\n",
       "╞══════╪═══════╪════════════╡\n",
       "│ 1949 ┆ Jan   ┆ 112        │\n",
       "│ 1949 ┆ Feb   ┆ 118        │\n",
       "│ 1949 ┆ Mar   ┆ 132        │\n",
       "│ 1949 ┆ Apr   ┆ 129        │\n",
       "│ 1949 ┆ May   ┆ 121        │\n",
       "│ …    ┆ …     ┆ …          │\n",
       "│ 1960 ┆ Aug   ┆ 606        │\n",
       "│ 1960 ┆ Sep   ┆ 508        │\n",
       "│ 1960 ┆ Oct   ┆ 461        │\n",
       "│ 1960 ┆ Nov   ┆ 390        │\n",
       "│ 1960 ┆ Dec   ┆ 432        │\n",
       "└──────┴───────┴────────────┘"
      ]
     },
     "execution_count": 4,
     "metadata": {},
     "output_type": "execute_result"
    }
   ],
   "source": [
    "#Из набора данных 'flights' выберите столбцы 'year', 'month' и 'passengers'.\n",
    "flights_df.select(['year','month','passengers'])"
   ]
  },
  {
   "cell_type": "code",
   "execution_count": 10,
   "id": "1a8dbc7d-9654-4abb-9db4-f0967d1e027f",
   "metadata": {},
   "outputs": [
    {
     "data": {
      "text/html": [
       "<div><style>\n",
       ".dataframe > thead > tr,\n",
       ".dataframe > tbody > tr {\n",
       "  text-align: right;\n",
       "  white-space: pre-wrap;\n",
       "}\n",
       "</style>\n",
       "<small>shape: (12, 2)</small><table border=\"1\" class=\"dataframe\"><thead><tr><th>year</th><th>passengers</th></tr><tr><td>i64</td><td>i64</td></tr></thead><tbody><tr><td>1956</td><td>3939</td></tr><tr><td>1959</td><td>5140</td></tr><tr><td>1949</td><td>1520</td></tr><tr><td>1958</td><td>4572</td></tr><tr><td>1952</td><td>2364</td></tr><tr><td>&hellip;</td><td>&hellip;</td></tr><tr><td>1950</td><td>1676</td></tr><tr><td>1955</td><td>3408</td></tr><tr><td>1954</td><td>2867</td></tr><tr><td>1957</td><td>4421</td></tr><tr><td>1951</td><td>2042</td></tr></tbody></table></div>"
      ],
      "text/plain": [
       "shape: (12, 2)\n",
       "┌──────┬────────────┐\n",
       "│ year ┆ passengers │\n",
       "│ ---  ┆ ---        │\n",
       "│ i64  ┆ i64        │\n",
       "╞══════╪════════════╡\n",
       "│ 1956 ┆ 3939       │\n",
       "│ 1959 ┆ 5140       │\n",
       "│ 1949 ┆ 1520       │\n",
       "│ 1958 ┆ 4572       │\n",
       "│ 1952 ┆ 2364       │\n",
       "│ …    ┆ …          │\n",
       "│ 1950 ┆ 1676       │\n",
       "│ 1955 ┆ 3408       │\n",
       "│ 1954 ┆ 2867       │\n",
       "│ 1957 ┆ 4421       │\n",
       "│ 1951 ┆ 2042       │\n",
       "└──────┴────────────┘"
      ]
     },
     "execution_count": 10,
     "metadata": {},
     "output_type": "execute_result"
    }
   ],
   "source": []
  },
  {
   "cell_type": "code",
   "execution_count": 13,
   "id": "80f1ff83-e45f-46fb-9446-14c166c89fe5",
   "metadata": {},
   "outputs": [],
   "source": [
    "#Создайте новый DataFrame из 'flights', который агрегирует общее количество пассажиров за год.\n",
    "flights_agg = (flights_df\n",
    "              .group_by('year')\n",
    "              .agg(pl.col('passengers').sum().alias('total_passengers')))"
   ]
  },
  {
   "cell_type": "code",
   "execution_count": 14,
   "id": "5cc7a92f-3008-463d-8d3e-3c54f5523e72",
   "metadata": {},
   "outputs": [
    {
     "data": {
      "text/html": [
       "<div><style>\n",
       ".dataframe > thead > tr,\n",
       ".dataframe > tbody > tr {\n",
       "  text-align: right;\n",
       "  white-space: pre-wrap;\n",
       "}\n",
       "</style>\n",
       "<small>shape: (12, 2)</small><table border=\"1\" class=\"dataframe\"><thead><tr><th>year</th><th>total_passengers</th></tr><tr><td>i64</td><td>i64</td></tr></thead><tbody><tr><td>1949</td><td>1520</td></tr><tr><td>1960</td><td>5714</td></tr><tr><td>1959</td><td>5140</td></tr><tr><td>1952</td><td>2364</td></tr><tr><td>1956</td><td>3939</td></tr><tr><td>&hellip;</td><td>&hellip;</td></tr><tr><td>1955</td><td>3408</td></tr><tr><td>1951</td><td>2042</td></tr><tr><td>1957</td><td>4421</td></tr><tr><td>1954</td><td>2867</td></tr><tr><td>1950</td><td>1676</td></tr></tbody></table></div>"
      ],
      "text/plain": [
       "shape: (12, 2)\n",
       "┌──────┬──────────────────┐\n",
       "│ year ┆ total_passengers │\n",
       "│ ---  ┆ ---              │\n",
       "│ i64  ┆ i64              │\n",
       "╞══════╪══════════════════╡\n",
       "│ 1949 ┆ 1520             │\n",
       "│ 1960 ┆ 5714             │\n",
       "│ 1959 ┆ 5140             │\n",
       "│ 1952 ┆ 2364             │\n",
       "│ 1956 ┆ 3939             │\n",
       "│ …    ┆ …                │\n",
       "│ 1955 ┆ 3408             │\n",
       "│ 1951 ┆ 2042             │\n",
       "│ 1957 ┆ 4421             │\n",
       "│ 1954 ┆ 2867             │\n",
       "│ 1950 ┆ 1676             │\n",
       "└──────┴──────────────────┘"
      ]
     },
     "execution_count": 14,
     "metadata": {},
     "output_type": "execute_result"
    }
   ],
   "source": [
    "flights_agg"
   ]
  },
  {
   "cell_type": "code",
   "execution_count": 21,
   "id": "9d2de394-6f54-43c3-9655-2bae0275e76b",
   "metadata": {},
   "outputs": [],
   "source": [
    "#Объедините эти агрегированные данные с набором данных 'tips' по столбцу 'year' (примечание: для этого вам может понадобиться создать столбец 'year' в 'tips').\n",
    "tips_df = tips_df.with_columns(pl.lit(2016).cast(pl.Int64).alias('year'))"
   ]
  },
  {
   "cell_type": "code",
   "execution_count": 22,
   "id": "2c52d5d0-a6c2-4ccc-948b-6710aaa746c1",
   "metadata": {},
   "outputs": [],
   "source": [
    "joined_df = tips_df.join(flights_agg, on='year', how='left')"
   ]
  },
  {
   "cell_type": "code",
   "execution_count": 31,
   "id": "0dadda4a-26a4-432d-b1d3-f578feaa0b8e",
   "metadata": {},
   "outputs": [
    {
     "name": "stdout",
     "output_type": "stream",
     "text": [
      "shape: (10, 9)\n",
      "┌────────────┬──────┬────────┬────────┬───┬────────┬──────┬──────┬──────────────────┐\n",
      "│ total_bill ┆ tip  ┆ sex    ┆ smoker ┆ … ┆ time   ┆ size ┆ year ┆ total_passengers │\n",
      "│ ---        ┆ ---  ┆ ---    ┆ ---    ┆   ┆ ---    ┆ ---  ┆ ---  ┆ ---              │\n",
      "│ f64        ┆ f64  ┆ cat    ┆ cat    ┆   ┆ cat    ┆ i64  ┆ i64  ┆ i64              │\n",
      "╞════════════╪══════╪════════╪════════╪═══╪════════╪══════╪══════╪══════════════════╡\n",
      "│ 16.99      ┆ 1.01 ┆ Female ┆ No     ┆ … ┆ Dinner ┆ 2    ┆ 2016 ┆ null             │\n",
      "│ 10.34      ┆ 1.66 ┆ Male   ┆ No     ┆ … ┆ Dinner ┆ 3    ┆ 2016 ┆ null             │\n",
      "│ 21.01      ┆ 3.5  ┆ Male   ┆ No     ┆ … ┆ Dinner ┆ 3    ┆ 2016 ┆ null             │\n",
      "│ 23.68      ┆ 3.31 ┆ Male   ┆ No     ┆ … ┆ Dinner ┆ 2    ┆ 2016 ┆ null             │\n",
      "│ 24.59      ┆ 3.61 ┆ Female ┆ No     ┆ … ┆ Dinner ┆ 4    ┆ 2016 ┆ null             │\n",
      "│ 25.29      ┆ 4.71 ┆ Male   ┆ No     ┆ … ┆ Dinner ┆ 4    ┆ 2016 ┆ null             │\n",
      "│ 8.77       ┆ 2.0  ┆ Male   ┆ No     ┆ … ┆ Dinner ┆ 2    ┆ 2016 ┆ null             │\n",
      "│ 26.88      ┆ 3.12 ┆ Male   ┆ No     ┆ … ┆ Dinner ┆ 4    ┆ 2016 ┆ null             │\n",
      "│ 15.04      ┆ 1.96 ┆ Male   ┆ No     ┆ … ┆ Dinner ┆ 2    ┆ 2016 ┆ null             │\n",
      "│ 14.78      ┆ 3.23 ┆ Male   ┆ No     ┆ … ┆ Dinner ┆ 2    ┆ 2016 ┆ null             │\n",
      "└────────────┴──────┴────────┴────────┴───┴────────┴──────┴──────┴──────────────────┘\n"
     ]
    }
   ],
   "source": [
    "print(joined_df.head(10))"
   ]
  },
  {
   "cell_type": "code",
   "execution_count": 29,
   "id": "d76156ad-64af-4553-a2a8-47e0a977ca85",
   "metadata": {},
   "outputs": [
    {
     "name": "stdout",
     "output_type": "stream",
     "text": [
      "shape: (10, 10)\n",
      "┌────────────┬──────┬────────┬────────┬───┬──────┬──────┬───────┬────────────┐\n",
      "│ total_bill ┆ tip  ┆ sex    ┆ smoker ┆ … ┆ size ┆ year ┆ month ┆ passengers │\n",
      "│ ---        ┆ ---  ┆ ---    ┆ ---    ┆   ┆ ---  ┆ ---  ┆ ---   ┆ ---        │\n",
      "│ f64        ┆ f64  ┆ cat    ┆ cat    ┆   ┆ i64  ┆ i64  ┆ cat   ┆ i64        │\n",
      "╞════════════╪══════╪════════╪════════╪═══╪══════╪══════╪═══════╪════════════╡\n",
      "│ 16.99      ┆ 1.01 ┆ Female ┆ No     ┆ … ┆ 2    ┆ 2016 ┆ null  ┆ null       │\n",
      "│ 10.34      ┆ 1.66 ┆ Male   ┆ No     ┆ … ┆ 3    ┆ 2016 ┆ null  ┆ null       │\n",
      "│ 21.01      ┆ 3.5  ┆ Male   ┆ No     ┆ … ┆ 3    ┆ 2016 ┆ null  ┆ null       │\n",
      "│ 23.68      ┆ 3.31 ┆ Male   ┆ No     ┆ … ┆ 2    ┆ 2016 ┆ null  ┆ null       │\n",
      "│ 24.59      ┆ 3.61 ┆ Female ┆ No     ┆ … ┆ 4    ┆ 2016 ┆ null  ┆ null       │\n",
      "│ 25.29      ┆ 4.71 ┆ Male   ┆ No     ┆ … ┆ 4    ┆ 2016 ┆ null  ┆ null       │\n",
      "│ 8.77       ┆ 2.0  ┆ Male   ┆ No     ┆ … ┆ 2    ┆ 2016 ┆ null  ┆ null       │\n",
      "│ 26.88      ┆ 3.12 ┆ Male   ┆ No     ┆ … ┆ 4    ┆ 2016 ┆ null  ┆ null       │\n",
      "│ 15.04      ┆ 1.96 ┆ Male   ┆ No     ┆ … ┆ 2    ┆ 2016 ┆ null  ┆ null       │\n",
      "│ 14.78      ┆ 3.23 ┆ Male   ┆ No     ┆ … ┆ 2    ┆ 2016 ┆ null  ┆ null       │\n",
      "└────────────┴──────┴────────┴────────┴───┴──────┴──────┴───────┴────────────┘\n"
     ]
    },
    {
     "name": "stderr",
     "output_type": "stream",
     "text": [
      "/var/folders/2w/zv9tyjqd4n1cxm711skjgh9c0000gn/T/ipykernel_60566/1731658712.py:1: CategoricalRemappingWarning: Local categoricals have different encodings, expensive re-encoding is done to perform this merge operation. Consider using a StringCache or an Enum type if the categories are known in advance\n",
      "  print(pl.concat(\n"
     ]
    }
   ],
   "source": [
    "print(pl.concat(\n",
    "    [tips_df.filter(pl.col('time')=='Dinner'),\n",
    "    flights_df[0:50]],\n",
    "    how='diagonal'\n",
    ").head(10))"
   ]
  },
  {
   "cell_type": "code",
   "execution_count": null,
   "id": "c7d4493b-46e6-462d-b838-bd52b23b5c04",
   "metadata": {},
   "outputs": [],
   "source": []
  }
 ],
 "metadata": {
  "kernelspec": {
   "display_name": "Python 3 (ipykernel)",
   "language": "python",
   "name": "python3"
  },
  "language_info": {
   "codemirror_mode": {
    "name": "ipython",
    "version": 3
   },
   "file_extension": ".py",
   "mimetype": "text/x-python",
   "name": "python",
   "nbconvert_exporter": "python",
   "pygments_lexer": "ipython3",
   "version": "3.11.4"
  }
 },
 "nbformat": 4,
 "nbformat_minor": 5
}
