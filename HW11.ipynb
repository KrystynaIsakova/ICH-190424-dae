{
 "cells": [
  {
   "cell_type": "markdown",
   "id": "e9114451-eeff-41d3-999c-2c190d91717d",
   "metadata": {},
   "source": [
    "Загрузите данные на свой жёсткий диск.\n",
    "--"
   ]
  },
  {
   "cell_type": "code",
   "execution_count": 3,
   "id": "497d66ec-3443-4d00-ba33-1944f1d9f552",
   "metadata": {},
   "outputs": [],
   "source": [
    "import polars as pl"
   ]
  },
  {
   "cell_type": "markdown",
   "id": "378e4e94-5ab2-4048-891f-133d5758cf30",
   "metadata": {},
   "source": [
    "Считайте их в polars.\n",
    "--"
   ]
  },
  {
   "cell_type": "code",
   "execution_count": 4,
   "id": "fdd94585-c12c-4e2c-a262-0b632012eae5",
   "metadata": {},
   "outputs": [],
   "source": [
    "df = pl.read_csv('ecommerce_data/events.csv')"
   ]
  },
  {
   "cell_type": "code",
   "execution_count": 5,
   "id": "69f8c390-c67d-4ce9-b638-991cea75b790",
   "metadata": {},
   "outputs": [
    {
     "data": {
      "text/html": [
       "<div><style>\n",
       ".dataframe > thead > tr,\n",
       ".dataframe > tbody > tr {\n",
       "  text-align: right;\n",
       "  white-space: pre-wrap;\n",
       "}\n",
       "</style>\n",
       "<small>shape: (5, 9)</small><table border=\"1\" class=\"dataframe\"><thead><tr><th>event_time</th><th>event_type</th><th>product_id</th><th>category_id</th><th>category_code</th><th>brand</th><th>price</th><th>user_id</th><th>user_session</th></tr><tr><td>str</td><td>str</td><td>i64</td><td>i64</td><td>str</td><td>str</td><td>f64</td><td>i64</td><td>str</td></tr></thead><tbody><tr><td>&quot;2020-09-24 11:57:06 UTC&quot;</td><td>&quot;view&quot;</td><td>1996170</td><td>2144415922528452715</td><td>&quot;electronics.telephone&quot;</td><td>null</td><td>31.9</td><td>1515915625519388267</td><td>&quot;LJuJVLEjPT&quot;</td></tr><tr><td>&quot;2020-09-24 11:57:26 UTC&quot;</td><td>&quot;view&quot;</td><td>139905</td><td>2144415926932472027</td><td>&quot;computers.components.cooler&quot;</td><td>&quot;zalman&quot;</td><td>17.16</td><td>1515915625519380411</td><td>&quot;tdicluNnRY&quot;</td></tr><tr><td>&quot;2020-09-24 11:57:27 UTC&quot;</td><td>&quot;view&quot;</td><td>215454</td><td>2144415927158964449</td><td>null</td><td>null</td><td>9.81</td><td>1515915625513238515</td><td>&quot;4TMArHtXQy&quot;</td></tr><tr><td>&quot;2020-09-24 11:57:33 UTC&quot;</td><td>&quot;view&quot;</td><td>635807</td><td>2144415923107266682</td><td>&quot;computers.peripherals.printer&quot;</td><td>&quot;pantum&quot;</td><td>113.81</td><td>1515915625519014356</td><td>&quot;aGFYrNgC08&quot;</td></tr><tr><td>&quot;2020-09-24 11:57:36 UTC&quot;</td><td>&quot;view&quot;</td><td>3658723</td><td>2144415921169498184</td><td>null</td><td>&quot;cameronsino&quot;</td><td>15.87</td><td>1515915625510743344</td><td>&quot;aa4mmk0kwQ&quot;</td></tr></tbody></table></div>"
      ],
      "text/plain": [
       "shape: (5, 9)\n",
       "┌────────────┬────────────┬───────────┬───────────┬───┬───────────┬────────┬───────────┬───────────┐\n",
       "│ event_time ┆ event_type ┆ product_i ┆ category_ ┆ … ┆ brand     ┆ price  ┆ user_id   ┆ user_sess │\n",
       "│ ---        ┆ ---        ┆ d         ┆ id        ┆   ┆ ---       ┆ ---    ┆ ---       ┆ ion       │\n",
       "│ str        ┆ str        ┆ ---       ┆ ---       ┆   ┆ str       ┆ f64    ┆ i64       ┆ ---       │\n",
       "│            ┆            ┆ i64       ┆ i64       ┆   ┆           ┆        ┆           ┆ str       │\n",
       "╞════════════╪════════════╪═══════════╪═══════════╪═══╪═══════════╪════════╪═══════════╪═══════════╡\n",
       "│ 2020-09-24 ┆ view       ┆ 1996170   ┆ 214441592 ┆ … ┆ null      ┆ 31.9   ┆ 151591562 ┆ LJuJVLEjP │\n",
       "│ 11:57:06   ┆            ┆           ┆ 252845271 ┆   ┆           ┆        ┆ 551938826 ┆ T         │\n",
       "│ UTC        ┆            ┆           ┆ 5         ┆   ┆           ┆        ┆ 7         ┆           │\n",
       "│ 2020-09-24 ┆ view       ┆ 139905    ┆ 214441592 ┆ … ┆ zalman    ┆ 17.16  ┆ 151591562 ┆ tdicluNnR │\n",
       "│ 11:57:26   ┆            ┆           ┆ 693247202 ┆   ┆           ┆        ┆ 551938041 ┆ Y         │\n",
       "│ UTC        ┆            ┆           ┆ 7         ┆   ┆           ┆        ┆ 1         ┆           │\n",
       "│ 2020-09-24 ┆ view       ┆ 215454    ┆ 214441592 ┆ … ┆ null      ┆ 9.81   ┆ 151591562 ┆ 4TMArHtXQ │\n",
       "│ 11:57:27   ┆            ┆           ┆ 715896444 ┆   ┆           ┆        ┆ 551323851 ┆ y         │\n",
       "│ UTC        ┆            ┆           ┆ 9         ┆   ┆           ┆        ┆ 5         ┆           │\n",
       "│ 2020-09-24 ┆ view       ┆ 635807    ┆ 214441592 ┆ … ┆ pantum    ┆ 113.81 ┆ 151591562 ┆ aGFYrNgC0 │\n",
       "│ 11:57:33   ┆            ┆           ┆ 310726668 ┆   ┆           ┆        ┆ 551901435 ┆ 8         │\n",
       "│ UTC        ┆            ┆           ┆ 2         ┆   ┆           ┆        ┆ 6         ┆           │\n",
       "│ 2020-09-24 ┆ view       ┆ 3658723   ┆ 214441592 ┆ … ┆ cameronsi ┆ 15.87  ┆ 151591562 ┆ aa4mmk0kw │\n",
       "│ 11:57:36   ┆            ┆           ┆ 116949818 ┆   ┆ no        ┆        ┆ 551074334 ┆ Q         │\n",
       "│ UTC        ┆            ┆           ┆ 4         ┆   ┆           ┆        ┆ 4         ┆           │\n",
       "└────────────┴────────────┴───────────┴───────────┴───┴───────────┴────────┴───────────┴───────────┘"
      ]
     },
     "execution_count": 5,
     "metadata": {},
     "output_type": "execute_result"
    }
   ],
   "source": [
    "df.head()"
   ]
  },
  {
   "cell_type": "markdown",
   "id": "7c476df2-9526-4f73-ade9-a383299894f0",
   "metadata": {},
   "source": [
    "Посчитайте уникальное количество кодов категорий двумя разными способами.\n",
    "---"
   ]
  },
  {
   "cell_type": "code",
   "execution_count": 6,
   "id": "9e055c46-f944-4236-aef5-ac87d0442c1f",
   "metadata": {},
   "outputs": [
    {
     "data": {
      "text/html": [
       "<div><style>\n",
       ".dataframe > thead > tr,\n",
       ".dataframe > tbody > tr {\n",
       "  text-align: right;\n",
       "  white-space: pre-wrap;\n",
       "}\n",
       "</style>\n",
       "<small>shape: (1, 2)</small><table border=\"1\" class=\"dataframe\"><thead><tr><th>unique</th><th>unique_approx</th></tr><tr><td>u32</td><td>u32</td></tr></thead><tbody><tr><td>108</td><td>108</td></tr></tbody></table></div>"
      ],
      "text/plain": [
       "shape: (1, 2)\n",
       "┌────────┬───────────────┐\n",
       "│ unique ┆ unique_approx │\n",
       "│ ---    ┆ ---           │\n",
       "│ u32    ┆ u32           │\n",
       "╞════════╪═══════════════╡\n",
       "│ 108    ┆ 108           │\n",
       "└────────┴───────────────┘"
      ]
     },
     "execution_count": 6,
     "metadata": {},
     "output_type": "execute_result"
    }
   ],
   "source": [
    "df.select(\n",
    "    pl.col(\"category_code\").n_unique().alias(\"unique\"),\n",
    "    pl.approx_n_unique(\"category_code\").alias(\"unique_approx\"),\n",
    ")"
   ]
  },
  {
   "cell_type": "code",
   "execution_count": 7,
   "id": "6378c36b-e78a-46b9-a1aa-c3eb47c44cb0",
   "metadata": {},
   "outputs": [
    {
     "data": {
      "text/plain": [
       "236219"
      ]
     },
     "execution_count": 7,
     "metadata": {},
     "output_type": "execute_result"
    }
   ],
   "source": [
    "df['category_code'].is_null().sum()"
   ]
  },
  {
   "cell_type": "code",
   "execution_count": 8,
   "id": "b4a293c5-42fc-491d-b42c-7ac0b83c2407",
   "metadata": {},
   "outputs": [
    {
     "data": {
      "text/html": [
       "<div><style>\n",
       ".dataframe > thead > tr,\n",
       ".dataframe > tbody > tr {\n",
       "  text-align: right;\n",
       "  white-space: pre-wrap;\n",
       "}\n",
       "</style>\n",
       "<small>shape: (9, 10)</small><table border=\"1\" class=\"dataframe\"><thead><tr><th>statistic</th><th>event_time</th><th>event_type</th><th>product_id</th><th>category_id</th><th>category_code</th><th>brand</th><th>price</th><th>user_id</th><th>user_session</th></tr><tr><td>str</td><td>str</td><td>str</td><td>f64</td><td>f64</td><td>str</td><td>str</td><td>f64</td><td>f64</td><td>str</td></tr></thead><tbody><tr><td>&quot;count&quot;</td><td>&quot;885129&quot;</td><td>&quot;885129&quot;</td><td>885129.0</td><td>885129.0</td><td>&quot;648910&quot;</td><td>&quot;672765&quot;</td><td>885129.0</td><td>885129.0</td><td>&quot;884964&quot;</td></tr><tr><td>&quot;null_count&quot;</td><td>&quot;0&quot;</td><td>&quot;0&quot;</td><td>0.0</td><td>0.0</td><td>&quot;236219&quot;</td><td>&quot;212364&quot;</td><td>0.0</td><td>0.0</td><td>&quot;165&quot;</td></tr><tr><td>&quot;mean&quot;</td><td>null</td><td>null</td><td>1.9066e6</td><td>2.1444e18</td><td>null</td><td>null</td><td>146.328713</td><td>1.5159e18</td><td>null</td></tr><tr><td>&quot;std&quot;</td><td>null</td><td>null</td><td>1.4587e6</td><td>6.1651e14</td><td>null</td><td>null</td><td>296.807683</td><td>3.5549e7</td><td>null</td></tr><tr><td>&quot;min&quot;</td><td>&quot;2020-09-24 11:57:06 UTC&quot;</td><td>&quot;cart&quot;</td><td>102.0</td><td>2.1444e18</td><td>&quot;accessories.bag&quot;</td><td>&quot;a-data&quot;</td><td>0.22</td><td>1.5159e18</td><td>&quot;000AMhYaQu&quot;</td></tr><tr><td>&quot;25%&quot;</td><td>null</td><td>null</td><td>698803.0</td><td>2.1444e18</td><td>null</td><td>null</td><td>26.46</td><td>1.5159e18</td><td>null</td></tr><tr><td>&quot;50%&quot;</td><td>null</td><td>null</td><td>1.452883e6</td><td>2.1444e18</td><td>null</td><td>null</td><td>65.71</td><td>1.5159e18</td><td>null</td></tr><tr><td>&quot;75%&quot;</td><td>null</td><td>null</td><td>3.721194e6</td><td>2.1444e18</td><td>null</td><td>null</td><td>190.49</td><td>1.5159e18</td><td>null</td></tr><tr><td>&quot;max&quot;</td><td>&quot;2021-02-28 23:59:09 UTC&quot;</td><td>&quot;view&quot;</td><td>4.18388e6</td><td>2.2278e18</td><td>&quot;stationery.stapler&quot;</td><td>&quot;zyxel&quot;</td><td>64771.06</td><td>1.5159e18</td><td>&quot;zzzYMiLcf7&quot;</td></tr></tbody></table></div>"
      ],
      "text/plain": [
       "shape: (9, 10)\n",
       "┌────────────┬────────────┬───────────┬───────────┬───┬────────┬───────────┬───────────┬───────────┐\n",
       "│ statistic  ┆ event_time ┆ event_typ ┆ product_i ┆ … ┆ brand  ┆ price     ┆ user_id   ┆ user_sess │\n",
       "│ ---        ┆ ---        ┆ e         ┆ d         ┆   ┆ ---    ┆ ---       ┆ ---       ┆ ion       │\n",
       "│ str        ┆ str        ┆ ---       ┆ ---       ┆   ┆ str    ┆ f64       ┆ f64       ┆ ---       │\n",
       "│            ┆            ┆ str       ┆ f64       ┆   ┆        ┆           ┆           ┆ str       │\n",
       "╞════════════╪════════════╪═══════════╪═══════════╪═══╪════════╪═══════════╪═══════════╪═══════════╡\n",
       "│ count      ┆ 885129     ┆ 885129    ┆ 885129.0  ┆ … ┆ 672765 ┆ 885129.0  ┆ 885129.0  ┆ 884964    │\n",
       "│ null_count ┆ 0          ┆ 0         ┆ 0.0       ┆ … ┆ 212364 ┆ 0.0       ┆ 0.0       ┆ 165       │\n",
       "│ mean       ┆ null       ┆ null      ┆ 1.9066e6  ┆ … ┆ null   ┆ 146.32871 ┆ 1.5159e18 ┆ null      │\n",
       "│            ┆            ┆           ┆           ┆   ┆        ┆ 3         ┆           ┆           │\n",
       "│ std        ┆ null       ┆ null      ┆ 1.4587e6  ┆ … ┆ null   ┆ 296.80768 ┆ 3.5549e7  ┆ null      │\n",
       "│            ┆            ┆           ┆           ┆   ┆        ┆ 3         ┆           ┆           │\n",
       "│ min        ┆ 2020-09-24 ┆ cart      ┆ 102.0     ┆ … ┆ a-data ┆ 0.22      ┆ 1.5159e18 ┆ 000AMhYaQ │\n",
       "│            ┆ 11:57:06   ┆           ┆           ┆   ┆        ┆           ┆           ┆ u         │\n",
       "│            ┆ UTC        ┆           ┆           ┆   ┆        ┆           ┆           ┆           │\n",
       "│ 25%        ┆ null       ┆ null      ┆ 698803.0  ┆ … ┆ null   ┆ 26.46     ┆ 1.5159e18 ┆ null      │\n",
       "│ 50%        ┆ null       ┆ null      ┆ 1.452883e ┆ … ┆ null   ┆ 65.71     ┆ 1.5159e18 ┆ null      │\n",
       "│            ┆            ┆           ┆ 6         ┆   ┆        ┆           ┆           ┆           │\n",
       "│ 75%        ┆ null       ┆ null      ┆ 3.721194e ┆ … ┆ null   ┆ 190.49    ┆ 1.5159e18 ┆ null      │\n",
       "│            ┆            ┆           ┆ 6         ┆   ┆        ┆           ┆           ┆           │\n",
       "│ max        ┆ 2021-02-28 ┆ view      ┆ 4.18388e6 ┆ … ┆ zyxel  ┆ 64771.06  ┆ 1.5159e18 ┆ zzzYMiLcf │\n",
       "│            ┆ 23:59:09   ┆           ┆           ┆   ┆        ┆           ┆           ┆ 7         │\n",
       "│            ┆ UTC        ┆           ┆           ┆   ┆        ┆           ┆           ┆           │\n",
       "└────────────┴────────────┴───────────┴───────────┴───┴────────┴───────────┴───────────┴───────────┘"
      ]
     },
     "execution_count": 8,
     "metadata": {},
     "output_type": "execute_result"
    }
   ],
   "source": [
    "df.describe()"
   ]
  },
  {
   "cell_type": "markdown",
   "id": "b8705982-f669-43ff-94ec-e5c3ba789747",
   "metadata": {},
   "source": [
    "Замените отсутствующие коды категорий значением по выбору и убедитесь, что описательная статистика поменялась.\n",
    "--"
   ]
  },
  {
   "cell_type": "code",
   "execution_count": 12,
   "id": "64a6e2ee-fc42-45af-8199-a05e2b55ce14",
   "metadata": {},
   "outputs": [],
   "source": [
    "df=df.with_columns(pl.col('category_code').fill_null('unknown').alias(\"category_code\"))"
   ]
  },
  {
   "cell_type": "markdown",
   "id": "7f4629ae-c984-4d08-8cdf-b1c0d5f1930a",
   "metadata": {},
   "source": [
    "На основе оконных функций постройте поле, состоящее из максимальной цены в разбивке по коду категории.\n",
    "---"
   ]
  },
  {
   "cell_type": "code",
   "execution_count": 13,
   "id": "643c04f3-6b04-4e24-ab7c-4764a81dd011",
   "metadata": {},
   "outputs": [
    {
     "data": {
      "text/html": [
       "<div><style>\n",
       ".dataframe > thead > tr,\n",
       ".dataframe > tbody > tr {\n",
       "  text-align: right;\n",
       "  white-space: pre-wrap;\n",
       "}\n",
       "</style>\n",
       "<small>shape: (885_129, 10)</small><table border=\"1\" class=\"dataframe\"><thead><tr><th>event_time</th><th>event_type</th><th>product_id</th><th>category_id</th><th>category_code</th><th>brand</th><th>price</th><th>user_id</th><th>user_session</th><th>max_price_per_cat</th></tr><tr><td>str</td><td>str</td><td>i64</td><td>i64</td><td>str</td><td>str</td><td>f64</td><td>i64</td><td>str</td><td>f64</td></tr></thead><tbody><tr><td>&quot;2020-09-24 11:57:06 UTC&quot;</td><td>&quot;view&quot;</td><td>1996170</td><td>2144415922528452715</td><td>&quot;electronics.telephone&quot;</td><td>null</td><td>31.9</td><td>1515915625519388267</td><td>&quot;LJuJVLEjPT&quot;</td><td>1790.03</td></tr><tr><td>&quot;2020-09-24 11:57:26 UTC&quot;</td><td>&quot;view&quot;</td><td>139905</td><td>2144415926932472027</td><td>&quot;computers.components.cooler&quot;</td><td>&quot;zalman&quot;</td><td>17.16</td><td>1515915625519380411</td><td>&quot;tdicluNnRY&quot;</td><td>221.14</td></tr><tr><td>&quot;2020-09-24 11:57:27 UTC&quot;</td><td>&quot;view&quot;</td><td>215454</td><td>2144415927158964449</td><td>&quot;unknown&quot;</td><td>null</td><td>9.81</td><td>1515915625513238515</td><td>&quot;4TMArHtXQy&quot;</td><td>26985.35</td></tr><tr><td>&quot;2020-09-24 11:57:33 UTC&quot;</td><td>&quot;view&quot;</td><td>635807</td><td>2144415923107266682</td><td>&quot;computers.peripherals.printer&quot;</td><td>&quot;pantum&quot;</td><td>113.81</td><td>1515915625519014356</td><td>&quot;aGFYrNgC08&quot;</td><td>26909.62</td></tr><tr><td>&quot;2020-09-24 11:57:36 UTC&quot;</td><td>&quot;view&quot;</td><td>3658723</td><td>2144415921169498184</td><td>&quot;unknown&quot;</td><td>&quot;cameronsino&quot;</td><td>15.87</td><td>1515915625510743344</td><td>&quot;aa4mmk0kwQ&quot;</td><td>26985.35</td></tr><tr><td>&hellip;</td><td>&hellip;</td><td>&hellip;</td><td>&hellip;</td><td>&hellip;</td><td>&hellip;</td><td>&hellip;</td><td>&hellip;</td><td>&hellip;</td><td>&hellip;</td></tr><tr><td>&quot;2021-02-28 23:55:01 UTC&quot;</td><td>&quot;view&quot;</td><td>953226</td><td>2144415927553229037</td><td>&quot;unknown&quot;</td><td>null</td><td>219.94</td><td>1515915625611023730</td><td>&quot;FRLqIttxKU&quot;</td><td>26985.35</td></tr><tr><td>&quot;2021-02-28 23:58:05 UTC&quot;</td><td>&quot;view&quot;</td><td>1715907</td><td>2144415927049912542</td><td>&quot;electronics.video.tv&quot;</td><td>&quot;starwind&quot;</td><td>80.03</td><td>1515915625611024014</td><td>&quot;g6WqPf50Ma&quot;</td><td>42590.13</td></tr><tr><td>&quot;2021-02-28 23:58:09 UTC&quot;</td><td>&quot;view&quot;</td><td>4170534</td><td>2144415939364389423</td><td>&quot;electronics.clocks&quot;</td><td>&quot;amazfit&quot;</td><td>64.92</td><td>1515915625611024020</td><td>&quot;xNIJBqZdkd&quot;</td><td>384.02</td></tr><tr><td>&quot;2021-02-28 23:58:14 UTC&quot;</td><td>&quot;view&quot;</td><td>888273</td><td>2144415921932861531</td><td>&quot;electronics.telephone&quot;</td><td>null</td><td>10.16</td><td>1515915625611024030</td><td>&quot;9pCbKMIcSx&quot;</td><td>1790.03</td></tr><tr><td>&quot;2021-02-28 23:59:09 UTC&quot;</td><td>&quot;view&quot;</td><td>743182</td><td>2144415935631458761</td><td>&quot;construction.tools.soldering&quot;</td><td>&quot;kada&quot;</td><td>65.08</td><td>1515915625556087775</td><td>&quot;BejOXRngEW&quot;</td><td>1464.75</td></tr></tbody></table></div>"
      ],
      "text/plain": [
       "shape: (885_129, 10)\n",
       "┌────────────┬────────────┬───────────┬───────────┬───┬────────┬───────────┬───────────┬───────────┐\n",
       "│ event_time ┆ event_type ┆ product_i ┆ category_ ┆ … ┆ price  ┆ user_id   ┆ user_sess ┆ max_price │\n",
       "│ ---        ┆ ---        ┆ d         ┆ id        ┆   ┆ ---    ┆ ---       ┆ ion       ┆ _per_cat  │\n",
       "│ str        ┆ str        ┆ ---       ┆ ---       ┆   ┆ f64    ┆ i64       ┆ ---       ┆ ---       │\n",
       "│            ┆            ┆ i64       ┆ i64       ┆   ┆        ┆           ┆ str       ┆ f64       │\n",
       "╞════════════╪════════════╪═══════════╪═══════════╪═══╪════════╪═══════════╪═══════════╪═══════════╡\n",
       "│ 2020-09-24 ┆ view       ┆ 1996170   ┆ 214441592 ┆ … ┆ 31.9   ┆ 151591562 ┆ LJuJVLEjP ┆ 1790.03   │\n",
       "│ 11:57:06   ┆            ┆           ┆ 252845271 ┆   ┆        ┆ 551938826 ┆ T         ┆           │\n",
       "│ UTC        ┆            ┆           ┆ 5         ┆   ┆        ┆ 7         ┆           ┆           │\n",
       "│ 2020-09-24 ┆ view       ┆ 139905    ┆ 214441592 ┆ … ┆ 17.16  ┆ 151591562 ┆ tdicluNnR ┆ 221.14    │\n",
       "│ 11:57:26   ┆            ┆           ┆ 693247202 ┆   ┆        ┆ 551938041 ┆ Y         ┆           │\n",
       "│ UTC        ┆            ┆           ┆ 7         ┆   ┆        ┆ 1         ┆           ┆           │\n",
       "│ 2020-09-24 ┆ view       ┆ 215454    ┆ 214441592 ┆ … ┆ 9.81   ┆ 151591562 ┆ 4TMArHtXQ ┆ 26985.35  │\n",
       "│ 11:57:27   ┆            ┆           ┆ 715896444 ┆   ┆        ┆ 551323851 ┆ y         ┆           │\n",
       "│ UTC        ┆            ┆           ┆ 9         ┆   ┆        ┆ 5         ┆           ┆           │\n",
       "│ 2020-09-24 ┆ view       ┆ 635807    ┆ 214441592 ┆ … ┆ 113.81 ┆ 151591562 ┆ aGFYrNgC0 ┆ 26909.62  │\n",
       "│ 11:57:33   ┆            ┆           ┆ 310726668 ┆   ┆        ┆ 551901435 ┆ 8         ┆           │\n",
       "│ UTC        ┆            ┆           ┆ 2         ┆   ┆        ┆ 6         ┆           ┆           │\n",
       "│ 2020-09-24 ┆ view       ┆ 3658723   ┆ 214441592 ┆ … ┆ 15.87  ┆ 151591562 ┆ aa4mmk0kw ┆ 26985.35  │\n",
       "│ 11:57:36   ┆            ┆           ┆ 116949818 ┆   ┆        ┆ 551074334 ┆ Q         ┆           │\n",
       "│ UTC        ┆            ┆           ┆ 4         ┆   ┆        ┆ 4         ┆           ┆           │\n",
       "│ …          ┆ …          ┆ …         ┆ …         ┆ … ┆ …      ┆ …         ┆ …         ┆ …         │\n",
       "│ 2021-02-28 ┆ view       ┆ 953226    ┆ 214441592 ┆ … ┆ 219.94 ┆ 151591562 ┆ FRLqIttxK ┆ 26985.35  │\n",
       "│ 23:55:01   ┆            ┆           ┆ 755322903 ┆   ┆        ┆ 561102373 ┆ U         ┆           │\n",
       "│ UTC        ┆            ┆           ┆ 7         ┆   ┆        ┆ 0         ┆           ┆           │\n",
       "│ 2021-02-28 ┆ view       ┆ 1715907   ┆ 214441592 ┆ … ┆ 80.03  ┆ 151591562 ┆ g6WqPf50M ┆ 42590.13  │\n",
       "│ 23:58:05   ┆            ┆           ┆ 704991254 ┆   ┆        ┆ 561102401 ┆ a         ┆           │\n",
       "│ UTC        ┆            ┆           ┆ 2         ┆   ┆        ┆ 4         ┆           ┆           │\n",
       "│ 2021-02-28 ┆ view       ┆ 4170534   ┆ 214441593 ┆ … ┆ 64.92  ┆ 151591562 ┆ xNIJBqZdk ┆ 384.02    │\n",
       "│ 23:58:09   ┆            ┆           ┆ 936438942 ┆   ┆        ┆ 561102402 ┆ d         ┆           │\n",
       "│ UTC        ┆            ┆           ┆ 3         ┆   ┆        ┆ 0         ┆           ┆           │\n",
       "│ 2021-02-28 ┆ view       ┆ 888273    ┆ 214441592 ┆ … ┆ 10.16  ┆ 151591562 ┆ 9pCbKMIcS ┆ 1790.03   │\n",
       "│ 23:58:14   ┆            ┆           ┆ 193286153 ┆   ┆        ┆ 561102403 ┆ x         ┆           │\n",
       "│ UTC        ┆            ┆           ┆ 1         ┆   ┆        ┆ 0         ┆           ┆           │\n",
       "│ 2021-02-28 ┆ view       ┆ 743182    ┆ 214441593 ┆ … ┆ 65.08  ┆ 151591562 ┆ BejOXRngE ┆ 1464.75   │\n",
       "│ 23:59:09   ┆            ┆           ┆ 563145876 ┆   ┆        ┆ 555608777 ┆ W         ┆           │\n",
       "│ UTC        ┆            ┆           ┆ 1         ┆   ┆        ┆ 5         ┆           ┆           │\n",
       "└────────────┴────────────┴───────────┴───────────┴───┴────────┴───────────┴───────────┴───────────┘"
      ]
     },
     "execution_count": 13,
     "metadata": {},
     "output_type": "execute_result"
    }
   ],
   "source": [
    "df.with_columns(\n",
    "    pl.col('price').max().over('category_code').alias('max_price_per_cat')\n",
    ")"
   ]
  },
  {
   "cell_type": "markdown",
   "id": "723690ae-c9d6-4e3e-9fef-030ec96457d3",
   "metadata": {},
   "source": [
    "Постройте новое поле, принимающее значение True, если цена больше средней цены, и False в ином случае.\n",
    "--"
   ]
  },
  {
   "cell_type": "code",
   "execution_count": 15,
   "id": "70152b64-9e80-4da8-8207-5f64b69d429c",
   "metadata": {},
   "outputs": [
    {
     "data": {
      "text/html": [
       "<div><style>\n",
       ".dataframe > thead > tr,\n",
       ".dataframe > tbody > tr {\n",
       "  text-align: right;\n",
       "  white-space: pre-wrap;\n",
       "}\n",
       "</style>\n",
       "<small>shape: (885_129, 10)</small><table border=\"1\" class=\"dataframe\"><thead><tr><th>event_time</th><th>event_type</th><th>product_id</th><th>category_id</th><th>category_code</th><th>brand</th><th>price</th><th>user_id</th><th>user_session</th><th>More_then_avg</th></tr><tr><td>str</td><td>str</td><td>i64</td><td>i64</td><td>str</td><td>str</td><td>f64</td><td>i64</td><td>str</td><td>bool</td></tr></thead><tbody><tr><td>&quot;2020-09-24 11:57:06 UTC&quot;</td><td>&quot;view&quot;</td><td>1996170</td><td>2144415922528452715</td><td>&quot;electronics.telephone&quot;</td><td>null</td><td>31.9</td><td>1515915625519388267</td><td>&quot;LJuJVLEjPT&quot;</td><td>false</td></tr><tr><td>&quot;2020-09-24 11:57:26 UTC&quot;</td><td>&quot;view&quot;</td><td>139905</td><td>2144415926932472027</td><td>&quot;computers.components.cooler&quot;</td><td>&quot;zalman&quot;</td><td>17.16</td><td>1515915625519380411</td><td>&quot;tdicluNnRY&quot;</td><td>false</td></tr><tr><td>&quot;2020-09-24 11:57:27 UTC&quot;</td><td>&quot;view&quot;</td><td>215454</td><td>2144415927158964449</td><td>&quot;unknown&quot;</td><td>null</td><td>9.81</td><td>1515915625513238515</td><td>&quot;4TMArHtXQy&quot;</td><td>false</td></tr><tr><td>&quot;2020-09-24 11:57:33 UTC&quot;</td><td>&quot;view&quot;</td><td>635807</td><td>2144415923107266682</td><td>&quot;computers.peripherals.printer&quot;</td><td>&quot;pantum&quot;</td><td>113.81</td><td>1515915625519014356</td><td>&quot;aGFYrNgC08&quot;</td><td>false</td></tr><tr><td>&quot;2020-09-24 11:57:36 UTC&quot;</td><td>&quot;view&quot;</td><td>3658723</td><td>2144415921169498184</td><td>&quot;unknown&quot;</td><td>&quot;cameronsino&quot;</td><td>15.87</td><td>1515915625510743344</td><td>&quot;aa4mmk0kwQ&quot;</td><td>false</td></tr><tr><td>&hellip;</td><td>&hellip;</td><td>&hellip;</td><td>&hellip;</td><td>&hellip;</td><td>&hellip;</td><td>&hellip;</td><td>&hellip;</td><td>&hellip;</td><td>&hellip;</td></tr><tr><td>&quot;2021-02-28 23:55:01 UTC&quot;</td><td>&quot;view&quot;</td><td>953226</td><td>2144415927553229037</td><td>&quot;unknown&quot;</td><td>null</td><td>219.94</td><td>1515915625611023730</td><td>&quot;FRLqIttxKU&quot;</td><td>true</td></tr><tr><td>&quot;2021-02-28 23:58:05 UTC&quot;</td><td>&quot;view&quot;</td><td>1715907</td><td>2144415927049912542</td><td>&quot;electronics.video.tv&quot;</td><td>&quot;starwind&quot;</td><td>80.03</td><td>1515915625611024014</td><td>&quot;g6WqPf50Ma&quot;</td><td>false</td></tr><tr><td>&quot;2021-02-28 23:58:09 UTC&quot;</td><td>&quot;view&quot;</td><td>4170534</td><td>2144415939364389423</td><td>&quot;electronics.clocks&quot;</td><td>&quot;amazfit&quot;</td><td>64.92</td><td>1515915625611024020</td><td>&quot;xNIJBqZdkd&quot;</td><td>false</td></tr><tr><td>&quot;2021-02-28 23:58:14 UTC&quot;</td><td>&quot;view&quot;</td><td>888273</td><td>2144415921932861531</td><td>&quot;electronics.telephone&quot;</td><td>null</td><td>10.16</td><td>1515915625611024030</td><td>&quot;9pCbKMIcSx&quot;</td><td>false</td></tr><tr><td>&quot;2021-02-28 23:59:09 UTC&quot;</td><td>&quot;view&quot;</td><td>743182</td><td>2144415935631458761</td><td>&quot;construction.tools.soldering&quot;</td><td>&quot;kada&quot;</td><td>65.08</td><td>1515915625556087775</td><td>&quot;BejOXRngEW&quot;</td><td>false</td></tr></tbody></table></div>"
      ],
      "text/plain": [
       "shape: (885_129, 10)\n",
       "┌────────────┬────────────┬───────────┬───────────┬───┬────────┬───────────┬───────────┬───────────┐\n",
       "│ event_time ┆ event_type ┆ product_i ┆ category_ ┆ … ┆ price  ┆ user_id   ┆ user_sess ┆ More_then │\n",
       "│ ---        ┆ ---        ┆ d         ┆ id        ┆   ┆ ---    ┆ ---       ┆ ion       ┆ _avg      │\n",
       "│ str        ┆ str        ┆ ---       ┆ ---       ┆   ┆ f64    ┆ i64       ┆ ---       ┆ ---       │\n",
       "│            ┆            ┆ i64       ┆ i64       ┆   ┆        ┆           ┆ str       ┆ bool      │\n",
       "╞════════════╪════════════╪═══════════╪═══════════╪═══╪════════╪═══════════╪═══════════╪═══════════╡\n",
       "│ 2020-09-24 ┆ view       ┆ 1996170   ┆ 214441592 ┆ … ┆ 31.9   ┆ 151591562 ┆ LJuJVLEjP ┆ false     │\n",
       "│ 11:57:06   ┆            ┆           ┆ 252845271 ┆   ┆        ┆ 551938826 ┆ T         ┆           │\n",
       "│ UTC        ┆            ┆           ┆ 5         ┆   ┆        ┆ 7         ┆           ┆           │\n",
       "│ 2020-09-24 ┆ view       ┆ 139905    ┆ 214441592 ┆ … ┆ 17.16  ┆ 151591562 ┆ tdicluNnR ┆ false     │\n",
       "│ 11:57:26   ┆            ┆           ┆ 693247202 ┆   ┆        ┆ 551938041 ┆ Y         ┆           │\n",
       "│ UTC        ┆            ┆           ┆ 7         ┆   ┆        ┆ 1         ┆           ┆           │\n",
       "│ 2020-09-24 ┆ view       ┆ 215454    ┆ 214441592 ┆ … ┆ 9.81   ┆ 151591562 ┆ 4TMArHtXQ ┆ false     │\n",
       "│ 11:57:27   ┆            ┆           ┆ 715896444 ┆   ┆        ┆ 551323851 ┆ y         ┆           │\n",
       "│ UTC        ┆            ┆           ┆ 9         ┆   ┆        ┆ 5         ┆           ┆           │\n",
       "│ 2020-09-24 ┆ view       ┆ 635807    ┆ 214441592 ┆ … ┆ 113.81 ┆ 151591562 ┆ aGFYrNgC0 ┆ false     │\n",
       "│ 11:57:33   ┆            ┆           ┆ 310726668 ┆   ┆        ┆ 551901435 ┆ 8         ┆           │\n",
       "│ UTC        ┆            ┆           ┆ 2         ┆   ┆        ┆ 6         ┆           ┆           │\n",
       "│ 2020-09-24 ┆ view       ┆ 3658723   ┆ 214441592 ┆ … ┆ 15.87  ┆ 151591562 ┆ aa4mmk0kw ┆ false     │\n",
       "│ 11:57:36   ┆            ┆           ┆ 116949818 ┆   ┆        ┆ 551074334 ┆ Q         ┆           │\n",
       "│ UTC        ┆            ┆           ┆ 4         ┆   ┆        ┆ 4         ┆           ┆           │\n",
       "│ …          ┆ …          ┆ …         ┆ …         ┆ … ┆ …      ┆ …         ┆ …         ┆ …         │\n",
       "│ 2021-02-28 ┆ view       ┆ 953226    ┆ 214441592 ┆ … ┆ 219.94 ┆ 151591562 ┆ FRLqIttxK ┆ true      │\n",
       "│ 23:55:01   ┆            ┆           ┆ 755322903 ┆   ┆        ┆ 561102373 ┆ U         ┆           │\n",
       "│ UTC        ┆            ┆           ┆ 7         ┆   ┆        ┆ 0         ┆           ┆           │\n",
       "│ 2021-02-28 ┆ view       ┆ 1715907   ┆ 214441592 ┆ … ┆ 80.03  ┆ 151591562 ┆ g6WqPf50M ┆ false     │\n",
       "│ 23:58:05   ┆            ┆           ┆ 704991254 ┆   ┆        ┆ 561102401 ┆ a         ┆           │\n",
       "│ UTC        ┆            ┆           ┆ 2         ┆   ┆        ┆ 4         ┆           ┆           │\n",
       "│ 2021-02-28 ┆ view       ┆ 4170534   ┆ 214441593 ┆ … ┆ 64.92  ┆ 151591562 ┆ xNIJBqZdk ┆ false     │\n",
       "│ 23:58:09   ┆            ┆           ┆ 936438942 ┆   ┆        ┆ 561102402 ┆ d         ┆           │\n",
       "│ UTC        ┆            ┆           ┆ 3         ┆   ┆        ┆ 0         ┆           ┆           │\n",
       "│ 2021-02-28 ┆ view       ┆ 888273    ┆ 214441592 ┆ … ┆ 10.16  ┆ 151591562 ┆ 9pCbKMIcS ┆ false     │\n",
       "│ 23:58:14   ┆            ┆           ┆ 193286153 ┆   ┆        ┆ 561102403 ┆ x         ┆           │\n",
       "│ UTC        ┆            ┆           ┆ 1         ┆   ┆        ┆ 0         ┆           ┆           │\n",
       "│ 2021-02-28 ┆ view       ┆ 743182    ┆ 214441593 ┆ … ┆ 65.08  ┆ 151591562 ┆ BejOXRngE ┆ false     │\n",
       "│ 23:59:09   ┆            ┆           ┆ 563145876 ┆   ┆        ┆ 555608777 ┆ W         ┆           │\n",
       "│ UTC        ┆            ┆           ┆ 1         ┆   ┆        ┆ 5         ┆           ┆           │\n",
       "└────────────┴────────────┴───────────┴───────────┴───┴────────┴───────────┴───────────┴───────────┘"
      ]
     },
     "execution_count": 15,
     "metadata": {},
     "output_type": "execute_result"
    }
   ],
   "source": [
    "df.with_columns(pl.when(pl.col('price')>pl.col('price').mean())\n",
    "               .then(pl.lit(True))\n",
    "               .otherwise(pl.lit(False)).alias('More_then_avg'))"
   ]
  },
  {
   "cell_type": "code",
   "execution_count": null,
   "id": "30a71a0e-88ee-42fe-9419-8d7bd411251b",
   "metadata": {},
   "outputs": [],
   "source": []
  }
 ],
 "metadata": {
  "kernelspec": {
   "display_name": "Python 3 (ipykernel)",
   "language": "python",
   "name": "python3"
  },
  "language_info": {
   "codemirror_mode": {
    "name": "ipython",
    "version": 3
   },
   "file_extension": ".py",
   "mimetype": "text/x-python",
   "name": "python",
   "nbconvert_exporter": "python",
   "pygments_lexer": "ipython3",
   "version": "3.11.4"
  }
 },
 "nbformat": 4,
 "nbformat_minor": 5
}
