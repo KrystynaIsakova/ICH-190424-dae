{
 "cells": [
  {
   "cell_type": "markdown",
   "id": "e9756bb9-15b4-43b2-86a2-085eaacecbda",
   "metadata": {},
   "source": [
    "Элементы матричной алгебры. Обратные матрицы и определитель\n",
    "==\n",
    "1) **Векторы и операции над ними в практических задачах**\n",
    "\n",
    "Векторы (или одномерные массивы) в практических задачах возникают всякий раз, когда мы имеем дело с упорядоченным набором чисел.\n",
    "Например, если мы решили записать ежедневные расходы в течение недели или среднюю температуру воздуха по месяцам года:\n"
   ]
  },
  {
   "cell_type": "code",
   "execution_count": 2,
   "id": "85b67bc8-b62e-4e54-a659-64ef9820e6ee",
   "metadata": {},
   "outputs": [],
   "source": [
    "import numpy as np"
   ]
  },
  {
   "cell_type": "code",
   "execution_count": 3,
   "id": "93d6f973-8d51-49a6-b397-d48f6479a379",
   "metadata": {},
   "outputs": [],
   "source": [
    "# Вектор ежедневных расходов (в евро)\n",
    "daily_expenses = np.array([10, 20, 15, 10, 30, 50, 50])\n",
    "\n",
    "# Температура воздуха по месяцам (в градусах Цельсия)\n",
    "temperature = np.array([1, 2, 6, 11, 16, 19, 21, 21, 16, 11, 6, 2])\n"
   ]
  },
  {
   "cell_type": "markdown",
   "id": "09653243-2cf0-42bb-9c31-ac60c60df348",
   "metadata": {},
   "source": [
    "Операции над векторами – это операции преобразования компонентов этих векторов. Например, если нужно изменить единицы измерения:\n"
   ]
  },
  {
   "cell_type": "code",
   "execution_count": 4,
   "id": "d5714995-0e58-47f4-a064-065b8aaafbc9",
   "metadata": {},
   "outputs": [
    {
     "name": "stdout",
     "output_type": "stream",
     "text": [
      "[11.  22.  16.5 11.  33.  55.  55. ]\n",
      "[33.8 35.6 42.8 51.8 60.8 66.2 69.8 69.8 60.8 51.8 42.8 35.6]\n"
     ]
    }
   ],
   "source": [
    "# Перевод ежедневных расходов в доллары\n",
    "print(daily_expenses * 1.1)\n",
    "# [11.  22.  16.5 11.  33.  55.  55. ]\n",
    "\n",
    "# Перевод температуры в Фаренгейты\n",
    "print(1.8 * temperature + 32)\n",
    "# [33.8 35.6 42.8 51.8 60.8 66.2 69.8 69.8 60.8 51.8 42.8 35.6]\n"
   ]
  },
  {
   "cell_type": "markdown",
   "id": "fa97f033-900c-4e53-8436-7a1221d2c8bc",
   "metadata": {},
   "source": [
    "Примеры\n",
    "\n"
   ]
  },
  {
   "cell_type": "code",
   "execution_count": 5,
   "id": "41b005d9-4fc1-4c76-b778-089bf7ee308a",
   "metadata": {},
   "outputs": [
    {
     "name": "stdout",
     "output_type": "stream",
     "text": [
      "185\n",
      "11.0\n",
      "50\n",
      "[19 21 21]\n"
     ]
    }
   ],
   "source": [
    "print(daily_expenses.sum())\n",
    "\n",
    "print(temperature.mean())\n",
    "\n",
    "print(daily_expenses.max())\n",
    "\n",
    "print(temperature[5:8])"
   ]
  },
  {
   "cell_type": "markdown",
   "id": "f0a7e9e7-e116-4269-8c30-907e66920ecc",
   "metadata": {},
   "source": [
    "Также в практических задачах используются и поэлементные операции с несколькими векторами:\n"
   ]
  },
  {
   "cell_type": "code",
   "execution_count": 7,
   "id": "ab1ade20-38f6-43f2-82bf-f9a5b64e67fb",
   "metadata": {},
   "outputs": [
    {
     "name": "stdout",
     "output_type": "stream",
     "text": [
      "[3500 5500 9500 4100 4600 4400 5600 6200 8500 4100 9500 6000]\n",
      "[ 3772.65  5893.8  10174.5   4493.6   5004.34  4766.96  6191.36  6767.92\n",
      "  9083.1   4330.01 10263.8   6541.2 ]\n"
     ]
    }
   ],
   "source": [
    "# Доходы мужа по месяцам (в евро)\n",
    "income_m = np.array([2000, 3000, 3500, 3000, 3000, 2500, 3500, 2000, 2500, 3000, 3500, 4000])\n",
    "\n",
    "# Доходы жены по месяцам (в евро)\n",
    "income_f = np.array([1500, 2500, 6000, 1100, 1600, 1900, 2100, 4200, 6000, 1100, 6000, 2000])\n",
    "\n",
    "# Курс евро к доллару по месяцам\n",
    "eur2usd = np.array([1.0779, 1.0716, 1.071, 1.096, 1.0879, 1.0834, 1.1056, 1.0916, 1.0686, 1.0561, 1.0804, 1.0902])\n",
    "\n",
    "# Семейный доход в евро\n",
    "income = income_m + income_f\n",
    "print(income)\n",
    "# [3500 5500 9500 4100 4600 4400 5600 6200 8500 4100 9500 6000]\n",
    "\n",
    "# Семейный доход в долларах\n",
    "income_usd = income * eur2usd\n",
    "print(income_usd)\n",
    "# [ 3772.65  5893.8  10174.5   4493.6   5004.34  4766.96  6191.36  6767.92\n",
    "#   9083.1   4330.01 10263.8   6541.2 ]\n"
   ]
  },
  {
   "cell_type": "markdown",
   "id": "80c3a242-6c8d-4f46-a6c8-c37c0c7bf866",
   "metadata": {},
   "source": [
    "2) **Матрицы в практических задачах**\n",
    "\n",
    "Матрицы (или двумерные массивы) в практических задачах возникают всякий раз, когда нам нужно работать с несколькими родственными упорядоченными наборами чисел.\n",
    "Например, доходы мужа и жены из предыдущего примера можно объединить в одну матрицу:\n"
   ]
  },
  {
   "cell_type": "code",
   "execution_count": 10,
   "id": "90b49f6c-297b-4013-94d2-3229c2ef74d9",
   "metadata": {},
   "outputs": [
    {
     "name": "stdout",
     "output_type": "stream",
     "text": [
      "[[2000 3000 3500 3000 3000 2500 3500 2000 2500 3000 3500 4000]\n",
      " [1500 2500 6000 1100 1600 1900 2100 4200 6000 1100 6000 2000]]\n"
     ]
    }
   ],
   "source": [
    "# Доходы членов семьи по месяцам \n",
    "income_matrix = np.vstack([income_m, income_f])\n",
    "\n",
    "print(income_matrix)\n",
    "\n",
    "# [[2000 3000 3500 3000 3000 2500 3500 2000 2500 3000 3500 4000]\n",
    "#  [1500 2500 6000 1100 1600 1900 2100 4200 6000 1100 6000 2000]]\n"
   ]
  },
  {
   "cell_type": "markdown",
   "id": "ff41c5f1-081a-4915-b854-f2e4316a1082",
   "metadata": {},
   "source": [
    "Рассмотрим еще один пример. Кондитерская производит несколько видов десертов. Для каждого необходимы мука, яйца и сахар, но в разном количестве. Необходимое количество опишем матрицей, в которой каждая строка описывает одну партию какого-то десерта, при этом первый столбец показывает количество муки в килограммах, второй столбец – количество яиц в штуках, третий – количество сахара в килограммах.\n"
   ]
  },
  {
   "cell_type": "code",
   "execution_count": 11,
   "id": "94968498-a04f-4990-b5bc-00ae08b58e38",
   "metadata": {},
   "outputs": [
    {
     "name": "stdout",
     "output_type": "stream",
     "text": [
      "[[ 0.5  6.   0.1]\n",
      " [ 1.  10.   0.5]\n",
      " [ 0.3 10.   0.6]\n",
      " [ 0.5  7.   0.3]]\n"
     ]
    }
   ],
   "source": [
    "# Расход продуктов  \n",
    "goods = np.array([[0.5, 6, 0.1],\n",
    "                  [1, 10, 0.5],\n",
    "                  [0.3, 10, 0.6],\n",
    "                  [0.5, 7, 0.3]])\n",
    "\n",
    "print(goods)\n"
   ]
  },
  {
   "cell_type": "markdown",
   "id": "713403a5-199b-4e9b-a4a4-790c003b7381",
   "metadata": {},
   "source": [
    "Пусть у нас также известна стоимость килограмма муки, одного яйца и килограмма сахара. \n"
   ]
  },
  {
   "cell_type": "code",
   "execution_count": 12,
   "id": "1cf7fc3b-6a6b-447c-aa41-558ab0c0b3af",
   "metadata": {},
   "outputs": [
    {
     "name": "stdout",
     "output_type": "stream",
     "text": [
      "[[0.375 1.32  0.088]\n",
      " [0.75  2.2   0.44 ]\n",
      " [0.225 2.2   0.528]\n",
      " [0.375 1.54  0.264]]\n"
     ]
    }
   ],
   "source": [
    "prices = np.array([0.75, 0.22, 0.88])\n",
    "\n",
    "print(goods * prices)\n",
    "\n"
   ]
  },
  {
   "cell_type": "markdown",
   "id": "b7e1f308-94be-4407-80dd-8a4ab407faa4",
   "metadata": {},
   "source": [
    "Теперь мы знаем, сколько стоит каждый продукт, необходимый для каждого десерта. Впрочем, на практике нас обычно интересуют суммарные затраты, а их мы можем получить с помощью матричного произведения, однако вектор стоимости продуктов придется преобразовать в столбец."
   ]
  },
  {
   "cell_type": "code",
   "execution_count": 13,
   "id": "880d1e92-43d7-4b18-8543-a735c6bc9c31",
   "metadata": {},
   "outputs": [
    {
     "name": "stdout",
     "output_type": "stream",
     "text": [
      "[[1.783]\n",
      " [3.39 ]\n",
      " [2.953]\n",
      " [2.179]]\n",
      "10.305000000000001\n"
     ]
    }
   ],
   "source": [
    "prices_col = prices.reshape(3,1)\n",
    "expenses = goods @ prices_col\n",
    "print(expenses)\n",
    "print(expenses.sum())\n"
   ]
  },
  {
   "cell_type": "markdown",
   "id": "5f9eea22-d4a1-4c30-a5da-16eaf9994420",
   "metadata": {},
   "source": [
    "Итак, теперь мы знаем затраты на выпечку каждой партии каждого десерта, а также суммарные затраты, если у каждого десерта выпускается только одна партия.\n",
    "\n",
    "Задание для закрепления. Фирма закупает ноутбуки и стационарные компьютеры для оборудования офисов на двух этажах здания. На первом этаже планируется поставить 20 стационарных компьютеров и 20 ноутбуков. На втором этаже – 12 стационарных компьютеров и 35 ноутбуков. Компьютер стоит 850 евро, ноутбук – 1125 евро. Запишите матрицу А, описывающую количество компьютеров и ноутбуков на каждом этаже. Запишите вектор-столбец с ценами компьютеров и ноутбуков. С помощью матричных операций вычислите стоимость оборудования на каждом этаже.\n",
    "\n",
    "\n",
    "Решение:\n",
    "\n"
   ]
  },
  {
   "cell_type": "code",
   "execution_count": 14,
   "id": "92aed2c4-ae1b-4888-a03d-2f818715f365",
   "metadata": {},
   "outputs": [
    {
     "name": "stdout",
     "output_type": "stream",
     "text": [
      "[[39500]\n",
      " [49575]]\n"
     ]
    }
   ],
   "source": [
    "# Количество оборудования  \n",
    "equipment = np.array([[20, 20], [12, 35]])\n",
    "# Цены\n",
    "prices = np.array([[850], [1125]])\n",
    "\n",
    "print(equipment @ prices)\n"
   ]
  },
  {
   "cell_type": "markdown",
   "id": "09f1701a-8d6f-4a5e-9592-9116d22dcc4e",
   "metadata": {},
   "source": [
    "3) **Системы уравнений и обратная матрица**\n"
   ]
  },
  {
   "cell_type": "code",
   "execution_count": 16,
   "id": "755701ae-b8b1-4313-b6d0-b0c4815ed665",
   "metadata": {},
   "outputs": [
    {
     "name": "stdout",
     "output_type": "stream",
     "text": [
      "[[ 0.07608696 -0.04347826]\n",
      " [-0.02608696  0.04347826]]\n",
      "[[ 1.00000000e+00  1.38777878e-16]\n",
      " [-1.11022302e-16  1.00000000e+00]]\n",
      "[[ 1.00000000e+00  0.00000000e+00]\n",
      " [-1.38777878e-17  1.00000000e+00]]\n"
     ]
    }
   ],
   "source": [
    "equipment = np.array([[20, 20], [12, 35]])\n",
    "\n",
    "inverse = np.linalg.inv(equipment) # обратная матрица\n",
    "\n",
    "print(inverse)\n",
    "\n",
    "print(inverse @ equipment)\n",
    "\n",
    "print(equipment @ inverse)\n"
   ]
  },
  {
   "cell_type": "code",
   "execution_count": 17,
   "id": "537af2f0-17f5-43d6-90d2-623750e2ce70",
   "metadata": {},
   "outputs": [
    {
     "name": "stdout",
     "output_type": "stream",
     "text": [
      "[[ 869.56521739]\n",
      " [1130.43478261]]\n"
     ]
    }
   ],
   "source": [
    "equipment = np.array([[20, 20], [12, 35]])\n",
    "\n",
    "expenses = np.array([[40000], [50000]])\n",
    "\n",
    "inverse = np.linalg.inv(equipment)\n",
    "\n",
    "print(inverse @ expenses)\n"
   ]
  },
  {
   "cell_type": "markdown",
   "id": "ef36dba2-67f2-4ee4-b88a-654cd770e4ec",
   "metadata": {},
   "source": [
    "Задание для закрепления. \n",
    "\n",
    "Выполните проверку, что полученный вектор цен удовлетворяет матричному уравнению – подставьте значения в уравнения или выполните умножение матрицы на этот столбец.\n",
    "\n",
    "\n",
    "Решение.\n",
    "\n"
   ]
  },
  {
   "cell_type": "code",
   "execution_count": 18,
   "id": "b570bbb2-74e4-48f3-ab04-4e2ad0a82dbb",
   "metadata": {},
   "outputs": [
    {
     "name": "stdout",
     "output_type": "stream",
     "text": [
      "[[40000.        ]\n",
      " [50000.00000003]]\n"
     ]
    }
   ],
   "source": [
    "x = np.array([[ 869.56521739],  [1130.43478261]])\n",
    "print(equipment @ x)\n"
   ]
  },
  {
   "cell_type": "markdown",
   "id": "deea1f5c-8b03-4a2b-b855-f16f7c87630a",
   "metadata": {},
   "source": [
    "4) **Определитель**\n",
    "\n",
    "Давайте в предыдущей задаче изменим количество оборудования на этажах: пусть теперь на втором этаже компьютеров и ноутбуков будет по 30.\n",
    "Если мы попробуем найти обратную матрицу в этом случае, то получим ошибку:\n"
   ]
  },
  {
   "cell_type": "code",
   "execution_count": 20,
   "id": "12c4e526-be82-4819-a737-0c13f7478c0f",
   "metadata": {},
   "outputs": [],
   "source": [
    "equipment = np.array([[20, 20], [30, 30]])\n",
    "#inverse = np.linalg.inv(equipment)\n",
    "#print(inverse)\n"
   ]
  },
  {
   "cell_type": "markdown",
   "id": "4a33260a-4443-4817-8ce4-2cf31b5b278d",
   "metadata": {},
   "source": [
    "Обратная матрица существует не всегда, и если найти обратную матрицу невозможно, то numpy выбрасывает ошибку Singular matriх (если исходная матрица была квадратной). Если обратная матрица не существует, то любая система уравнений с исходной матрицей либо не имеет решений, либо имеет их бесконечное множество. Обычно нас будет интересовать случай, когда система имеет единственное решение. Для проверки единственности решения используют определитель матрицы.\n",
    "Определитель – специальная числовая характеристика матрицы. Система уравнений с данной матрицей имеет единственное решение, только если ее определитель не равен нулю.\n"
   ]
  },
  {
   "cell_type": "code",
   "execution_count": 21,
   "id": "ca726377-6b02-41a7-b7dd-b4655768c22a",
   "metadata": {},
   "outputs": [
    {
     "name": "stdout",
     "output_type": "stream",
     "text": [
      "0.0\n"
     ]
    }
   ],
   "source": [
    "equipment = np.array([[20, 20], [30, 30]])\n",
    "det = np.linalg.det(equipment)\n",
    "\n",
    "print(det)\n"
   ]
  },
  {
   "cell_type": "markdown",
   "id": "f7a7fb76-07e2-4e1e-9155-0d3a3356db75",
   "metadata": {},
   "source": [
    "Задание для закрепления: \n",
    "\n",
    "Вычислите определитель предыдущей версии матрицы \n",
    "\n",
    "equipment = np.array([[20, 20], [12, 35]])\n"
   ]
  },
  {
   "cell_type": "markdown",
   "id": "4f14d26f-ec1b-4fe4-8824-3a3dbde1ee31",
   "metadata": {},
   "source": [
    "5) **Решение задач**\n",
    "\n",
    "Матрица goods, как в примере выше, описывает количество муки, яиц и сахара в трех видах десертов некоторой кондитерской. Известно, что затраты на выпечку первого десерта составляют 2 евро, второго – 4 евро, третьего – 3 евро. Найдите, сколько должны стоить мука, яйца и сахар для такой себестоимости десертов.\n"
   ]
  },
  {
   "cell_type": "code",
   "execution_count": 23,
   "id": "cbde7fc9-3bc5-4a58-b07e-ac23d17dbefe",
   "metadata": {},
   "outputs": [
    {
     "data": {
      "text/plain": [
       "-1.4999999999999998"
      ]
     },
     "execution_count": 23,
     "metadata": {},
     "output_type": "execute_result"
    }
   ],
   "source": [
    "# Расход продуктов  \n",
    "goods = np.array([[0.5, 6, 0.1],\n",
    "                  [1, 10, 0.5],\n",
    "                  [0.3, 10, 0.6]])\n",
    "np.linalg.det(goods)"
   ]
  },
  {
   "cell_type": "code",
   "execution_count": 24,
   "id": "add622ff-c0a1-41f9-a506-1af1926b4af1",
   "metadata": {},
   "outputs": [
    {
     "name": "stdout",
     "output_type": "stream",
     "text": [
      "[[0.26666667]\n",
      " [0.28      ]\n",
      " [1.86666667]]\n"
     ]
    }
   ],
   "source": [
    "expenses = np.array([[2,],[4],[4]])\n",
    "res = np.linalg.inv(goods)@expenses\n",
    "print(res)"
   ]
  },
  {
   "cell_type": "markdown",
   "id": "de40b3b6-3c06-4daa-864c-3be5fd0d5a32",
   "metadata": {},
   "source": [
    "Вопросы производительности. Работа со случайными числами\n",
    "====\n",
    "1) **Скорость NumPy**\n",
    "\n",
    "NumPy эффективно использует память для хранения массивов. Операции выполняются на уровне C, что минимизирует накладные расходы интерпретатора Python.\n",
    "Благодаря тому, что элементы массива хранятся в памяти последовательно и имеют фиксированный размер, NumPy может точно вычислить, где в памяти находится каждый элемент. \n",
    "\n",
    "Напишем код для перемножения элементов матрицы с самой собой. Сравним скорость работы и убедимся в том, что результат будет одинаковым.\n"
   ]
  },
  {
   "cell_type": "code",
   "execution_count": 31,
   "id": "cd73ea4b-5b1c-4118-bb3f-695479ec97b3",
   "metadata": {},
   "outputs": [],
   "source": [
    "N = 5000\n",
    "list_2d = [[i + N*j for i in range(N)] for j in range(N)]\n",
    "array_2d = np.array(list_2d)"
   ]
  },
  {
   "cell_type": "code",
   "execution_count": 32,
   "id": "c1ab927d-13c9-43f8-970d-e65f5da06f9b",
   "metadata": {},
   "outputs": [
    {
     "name": "stdout",
     "output_type": "stream",
     "text": [
      "2.32 s ± 123 ms per loop (mean ± std. dev. of 7 runs, 1 loop each)\n"
     ]
    }
   ],
   "source": [
    "%%timeit\n",
    "list_2d_mult = [[list_2d[i][j] * list_2d[i][j] for j in range(N)] for i in range(N)]\n"
   ]
  },
  {
   "cell_type": "code",
   "execution_count": 33,
   "id": "59547822-eb93-4b22-914a-24c697b268cd",
   "metadata": {},
   "outputs": [
    {
     "name": "stdout",
     "output_type": "stream",
     "text": [
      "2.84 s ± 428 ms per loop (mean ± std. dev. of 7 runs, 1 loop each)\n"
     ]
    }
   ],
   "source": [
    "%%timeit\n",
    "arr = []\n",
    "for i in range(N):\n",
    "    subarr = []\n",
    "    for j in range(N):\n",
    "        subarr.append(list_2d[i][j] * list_2d[i][j])\n",
    "    arr.append(subarr)\n"
   ]
  },
  {
   "cell_type": "code",
   "execution_count": 34,
   "id": "aa2f3ae9-8065-4d5c-82c0-71e11ca2a3fa",
   "metadata": {},
   "outputs": [
    {
     "name": "stdout",
     "output_type": "stream",
     "text": [
      "74.2 ms ± 14.8 ms per loop (mean ± std. dev. of 7 runs, 10 loops each)\n"
     ]
    }
   ],
   "source": [
    "%%timeit\n",
    "array_2d_mult = array_2d * array_2d\n",
    "\n"
   ]
  },
  {
   "cell_type": "markdown",
   "id": "56166e63-ed14-4d62-adfc-da9be7776151",
   "metadata": {},
   "source": [
    "2) **Последовательное и строчное расположение:**\n",
    "\n",
    "В NumPy можно выбирать между \"C-style\" и \"Fortran-style\" порядками хранения данных, где \"C-style\" означает последовательное расположение по последнему измерению (по строкам), а \"Fortran-style\" - по первому измерению (по столбцам).\n"
   ]
  },
  {
   "cell_type": "code",
   "execution_count": 35,
   "id": "b189ebc2-77a6-4d37-b142-822148b5de10",
   "metadata": {},
   "outputs": [],
   "source": [
    "array_c = np.array([[1, 2, 3], [4, 5, 6]], order='C')\n",
    "array_f = np.array([[1, 2, 3], [4, 5, 6]], order='F')"
   ]
  },
  {
   "cell_type": "markdown",
   "id": "0baabc6a-b75c-495d-b333-009d21857362",
   "metadata": {},
   "source": [
    "Разница:\n",
    "* C-style (order='C'): данные в памяти хранятся так, что элементы одной строки находятся последовательно.\n",
    "* Fortran-style (order='F'): данные в памяти хранятся так, что элементы одного столбца находятся последовательно."
   ]
  },
  {
   "cell_type": "markdown",
   "id": "81d1e1be-b10b-41ec-93da-b18f188b8cde",
   "metadata": {},
   "source": [
    "3) **Работа с библиотекой numpy.random**\n",
    "\n",
    "Создание массива случайных чисел из 5 элементов со значениями из интервала от 0 до 1:\n"
   ]
  },
  {
   "cell_type": "code",
   "execution_count": 36,
   "id": "002e5699-0992-49f7-bf00-7067dd8303c6",
   "metadata": {},
   "outputs": [
    {
     "name": "stdout",
     "output_type": "stream",
     "text": [
      "[0.84857577 0.42876817 0.64818491 0.86111518 0.72041406]\n"
     ]
    }
   ],
   "source": [
    "print(np.random.rand(5))\n"
   ]
  },
  {
   "cell_type": "markdown",
   "id": "55294408-f084-4c90-b415-d6245f071090",
   "metadata": {},
   "source": [
    "Создание массива случайных целых чисел размером 5x5 в диапазоне от 10 (включительно) до 20 (включительно):\n"
   ]
  },
  {
   "cell_type": "code",
   "execution_count": 41,
   "id": "c882d3e8-ab30-4e51-bb4d-c74730692ace",
   "metadata": {},
   "outputs": [
    {
     "name": "stdout",
     "output_type": "stream",
     "text": [
      "[[12 14 19 10 13]\n",
      " [12 18 10 17 10]\n",
      " [16 17 10 18 15]\n",
      " [13 12 18 17 19]\n",
      " [15 15 14 20 18]]\n"
     ]
    }
   ],
   "source": [
    "print(np.random.randint(10, 21, (5, 5)))\n"
   ]
  },
  {
   "cell_type": "markdown",
   "id": "e5b1fd2b-bb2d-486f-be60-de50e13d43db",
   "metadata": {},
   "source": [
    "\n"
   ]
  },
  {
   "cell_type": "markdown",
   "id": "a11f065d-974a-4d2c-8977-dbc68ca8a483",
   "metadata": {},
   "source": [
    "Напишите программу, которая:\n",
    "- Запрашивает у пользователя количество точек данных N.\n",
    "- Генерирует массив из N случайных точек (координаты x и y), используя нормальное распределение.\n",
    "- Выводит на экран первые 10 сгенерированных точек (если N было больше 10).\n",
    "- Вычисляет и выводит среднее значение и стандартное отклонение для координат x и y.\n"
   ]
  },
  {
   "cell_type": "code",
   "execution_count": 54,
   "id": "11dceb71-f826-4b6f-9e51-2da0b373f5fe",
   "metadata": {},
   "outputs": [
    {
     "name": "stdin",
     "output_type": "stream",
     "text": [
      "Enter number of poitns:  10\n"
     ]
    },
    {
     "name": "stdout",
     "output_type": "stream",
     "text": [
      "[[-0.91600176 -1.40370302]\n",
      " [ 0.08084085  1.4519261 ]\n",
      " [ 0.12370581  0.28180797]\n",
      " [-1.06777475 -2.01037392]\n",
      " [-0.21032825 -0.45263197]\n",
      " [-1.73397467 -0.46741194]\n",
      " [-0.46016369  1.78966471]\n",
      " [-0.93653242 -0.48049175]\n",
      " [-0.36852815 -1.18904841]\n",
      " [-0.07120565 -0.60999653]]\n",
      "Mean x: -0.56, mean y: -0.31\n",
      "Std x: 0.56, std y: 1.14\n"
     ]
    }
   ],
   "source": [
    "N = int(input(\"Enter number of poitns: \"))\n",
    "points = np.random.normal(size=(N, 2))\n",
    "print(points[:10])\n",
    "mean_x, mean_y = np.round(np.mean(points, axis=0),2)\n",
    "std_x, std_y = np.round(np.std(points, axis=0),2)\n",
    "\n",
    "print(f'Mean x: {mean_x}, mean y: {mean_y}')\n",
    "print(f'Std x: {std_x}, std y: {std_y}')"
   ]
  },
  {
   "cell_type": "code",
   "execution_count": 50,
   "id": "ca8b5af5-64ee-4ca6-babf-dbbc98ec7abb",
   "metadata": {},
   "outputs": [
    {
     "data": {
      "text/plain": [
       "array([[ 0.7867702 , -1.18240132],\n",
       "       [ 0.81555476, -0.96021508],\n",
       "       [ 0.00275437, -0.14243714],\n",
       "       [-0.40251264,  0.60833345]])"
      ]
     },
     "execution_count": 50,
     "metadata": {},
     "output_type": "execute_result"
    }
   ],
   "source": []
  },
  {
   "cell_type": "code",
   "execution_count": null,
   "id": "ebdd44f3-9505-4dbd-948d-6c6dde6c81ec",
   "metadata": {},
   "outputs": [],
   "source": []
  }
 ],
 "metadata": {
  "kernelspec": {
   "display_name": "Python 3 (ipykernel)",
   "language": "python",
   "name": "python3"
  },
  "language_info": {
   "codemirror_mode": {
    "name": "ipython",
    "version": 3
   },
   "file_extension": ".py",
   "mimetype": "text/x-python",
   "name": "python",
   "nbconvert_exporter": "python",
   "pygments_lexer": "ipython3",
   "version": "3.11.4"
  }
 },
 "nbformat": 4,
 "nbformat_minor": 5
}
