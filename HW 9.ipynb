{
 "cells": [
  {
   "cell_type": "markdown",
   "id": "9cfb43f4-8551-402a-99c8-d35154a8d07f",
   "metadata": {},
   "source": [
    "Загрузите датасет titanic из библиотеки seaborn, определите столбцы с пустыми значениями и заполните их любым из возможных методов.\n"
   ]
  },
  {
   "cell_type": "code",
   "execution_count": 2,
   "id": "e9b91194-e2a8-488b-a4bc-3a1c8193838d",
   "metadata": {},
   "outputs": [],
   "source": [
    "import seaborn as sns\n",
    "import ssl\n",
    "ssl._create_default_https_context = ssl._create_unverified_context\n",
    "\n",
    "titanic_df = sns.load_dataset('titanic')\n",
    "\n",
    "columns_with_missing = titanic_df.columns[titanic_df.isnull().any()].tolist()\n",
    "\n",
    "titanic_df.fillna(method='ffill', inplace=True)\n"
   ]
  },
  {
   "cell_type": "markdown",
   "id": "36b987c2-35a2-46e9-a923-01cacd86fc5f",
   "metadata": {},
   "source": [
    "Загрузите датасет iris из библиотеки seaborn, определите категориальную переменную и закодируйте её."
   ]
  },
  {
   "cell_type": "code",
   "execution_count": 4,
   "id": "82716336-ee55-4cf5-b4cd-092daef5ddfd",
   "metadata": {},
   "outputs": [],
   "source": [
    "from sklearn.datasets import load_iris\n",
    "import pandas as pd\n",
    "\n",
    "iris = load_iris()\n",
    "iris_df = pd.DataFrame(data=iris.data, columns=iris.feature_names)\n",
    "iris_df['species'] = iris.target\n",
    "\n",
    "iris_df = pd.get_dummies(iris_df, columns=['species'])"
   ]
  },
  {
   "cell_type": "code",
   "execution_count": null,
   "id": "d8c2197c-9d33-41fc-93a8-bc3068767b4b",
   "metadata": {},
   "outputs": [],
   "source": []
  }
 ],
 "metadata": {
  "kernelspec": {
   "display_name": "Python 3 (ipykernel)",
   "language": "python",
   "name": "python3"
  },
  "language_info": {
   "codemirror_mode": {
    "name": "ipython",
    "version": 3
   },
   "file_extension": ".py",
   "mimetype": "text/x-python",
   "name": "python",
   "nbconvert_exporter": "python",
   "pygments_lexer": "ipython3",
   "version": "3.11.4"
  }
 },
 "nbformat": 4,
 "nbformat_minor": 5
}
