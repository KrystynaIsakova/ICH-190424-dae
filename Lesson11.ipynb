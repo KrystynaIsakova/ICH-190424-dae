{
 "cells": [
  {
   "cell_type": "markdown",
   "id": "463a0388-a13b-4720-9b00-fbc24c0ac340",
   "metadata": {},
   "source": [
    "Lesson 11-1\n",
    "==\n",
    "\n",
    "```pip install polars```\n",
    "\n",
    "```pip install pyarrow```"
   ]
  },
  {
   "cell_type": "code",
   "execution_count": 1,
   "id": "257a6344-b2cd-4bc1-83c0-6137c843dfc9",
   "metadata": {},
   "outputs": [],
   "source": [
    "import polars as pl"
   ]
  },
  {
   "cell_type": "markdown",
   "id": "72aaadb3-0b4e-438d-b2d9-e3834d17e85d",
   "metadata": {},
   "source": [
    "**Создание DataFrame в Polars**\n",
    "\n"
   ]
  },
  {
   "cell_type": "code",
   "execution_count": 7,
   "id": "1b8fe30c-c822-492e-aa95-b780cafe4ad6",
   "metadata": {},
   "outputs": [
    {
     "data": {
      "text/html": [
       "<div><style>\n",
       ".dataframe > thead > tr,\n",
       ".dataframe > tbody > tr {\n",
       "  text-align: right;\n",
       "  white-space: pre-wrap;\n",
       "}\n",
       "</style>\n",
       "<small>shape: (3, 3)</small><table border=\"1\" class=\"dataframe\"><thead><tr><th>A</th><th>B</th><th>C</th></tr><tr><td>i64</td><td>str</td><td>bool</td></tr></thead><tbody><tr><td>1</td><td>&quot;foo&quot;</td><td>true</td></tr><tr><td>2</td><td>&quot;bar&quot;</td><td>false</td></tr><tr><td>3</td><td>&quot;baz&quot;</td><td>true</td></tr></tbody></table></div>"
      ],
      "text/plain": [
       "shape: (3, 3)\n",
       "┌─────┬─────┬───────┐\n",
       "│ A   ┆ B   ┆ C     │\n",
       "│ --- ┆ --- ┆ ---   │\n",
       "│ i64 ┆ str ┆ bool  │\n",
       "╞═════╪═════╪═══════╡\n",
       "│ 1   ┆ foo ┆ true  │\n",
       "│ 2   ┆ bar ┆ false │\n",
       "│ 3   ┆ baz ┆ true  │\n",
       "└─────┴─────┴───────┘"
      ]
     },
     "metadata": {},
     "output_type": "display_data"
    }
   ],
   "source": [
    "# из словаря\n",
    "data = {\n",
    "    'A': [1, 2, 3],\n",
    "    'B': ['foo', 'bar', 'baz'],\n",
    "    'C': [True, False, True]\n",
    "}\n",
    "df = pl.DataFrame(data)\n",
    "display(df)"
   ]
  },
  {
   "cell_type": "code",
   "execution_count": 18,
   "id": "326ce6f2-1149-4235-ae5e-f71775d6e285",
   "metadata": {},
   "outputs": [
    {
     "data": {
      "text/html": [
       "<div><style>\n",
       ".dataframe > thead > tr,\n",
       ".dataframe > tbody > tr {\n",
       "  text-align: right;\n",
       "  white-space: pre-wrap;\n",
       "}\n",
       "</style>\n",
       "<small>shape: (3, 3)</small><table border=\"1\" class=\"dataframe\"><thead><tr><th>A</th><th>B</th><th>C</th></tr><tr><td>i64</td><td>str</td><td>bool</td></tr></thead><tbody><tr><td>1</td><td>&quot;foo&quot;</td><td>true</td></tr><tr><td>2</td><td>&quot;bar&quot;</td><td>false</td></tr><tr><td>3</td><td>&quot;baz&quot;</td><td>true</td></tr></tbody></table></div>"
      ],
      "text/plain": [
       "shape: (3, 3)\n",
       "┌─────┬─────┬───────┐\n",
       "│ A   ┆ B   ┆ C     │\n",
       "│ --- ┆ --- ┆ ---   │\n",
       "│ i64 ┆ str ┆ bool  │\n",
       "╞═════╪═════╪═══════╡\n",
       "│ 1   ┆ foo ┆ true  │\n",
       "│ 2   ┆ bar ┆ false │\n",
       "│ 3   ┆ baz ┆ true  │\n",
       "└─────┴─────┴───────┘"
      ]
     },
     "metadata": {},
     "output_type": "display_data"
    }
   ],
   "source": [
    "#из списка кортежей\n",
    "data = [\n",
    "    (1, 'foo', True),\n",
    "    (2, 'bar', False),\n",
    "    (3, 'baz', True)\n",
    "]\n",
    "df = pl.DataFrame(data, schema=['A', 'B', 'C'], orient='row')\n",
    "display(df)"
   ]
  },
  {
   "cell_type": "code",
   "execution_count": 19,
   "id": "6c141591-7e6b-4a6d-bcfe-714c140309bb",
   "metadata": {},
   "outputs": [
    {
     "data": {
      "text/html": [
       "<div>\n",
       "<style scoped>\n",
       "    .dataframe tbody tr th:only-of-type {\n",
       "        vertical-align: middle;\n",
       "    }\n",
       "\n",
       "    .dataframe tbody tr th {\n",
       "        vertical-align: top;\n",
       "    }\n",
       "\n",
       "    .dataframe thead th {\n",
       "        text-align: right;\n",
       "    }\n",
       "</style>\n",
       "<table border=\"1\" class=\"dataframe\">\n",
       "  <thead>\n",
       "    <tr style=\"text-align: right;\">\n",
       "      <th></th>\n",
       "      <th>0</th>\n",
       "      <th>1</th>\n",
       "      <th>2</th>\n",
       "    </tr>\n",
       "  </thead>\n",
       "  <tbody>\n",
       "    <tr>\n",
       "      <th>0</th>\n",
       "      <td>1</td>\n",
       "      <td>foo</td>\n",
       "      <td>True</td>\n",
       "    </tr>\n",
       "    <tr>\n",
       "      <th>1</th>\n",
       "      <td>2</td>\n",
       "      <td>bar</td>\n",
       "      <td>False</td>\n",
       "    </tr>\n",
       "    <tr>\n",
       "      <th>2</th>\n",
       "      <td>3</td>\n",
       "      <td>baz</td>\n",
       "      <td>True</td>\n",
       "    </tr>\n",
       "  </tbody>\n",
       "</table>\n",
       "</div>"
      ],
      "text/plain": [
       "   0    1      2\n",
       "0  1  foo   True\n",
       "1  2  bar  False\n",
       "2  3  baz   True"
      ]
     },
     "execution_count": 19,
     "metadata": {},
     "output_type": "execute_result"
    }
   ],
   "source": [
    "import pandas as pd\n",
    "pd.DataFrame(data)"
   ]
  },
  {
   "cell_type": "markdown",
   "id": "7903468c-b024-4214-8a92-07d5c4084205",
   "metadata": {},
   "source": [
    "**Пример создания DataFrame**"
   ]
  },
  {
   "cell_type": "code",
   "execution_count": 53,
   "id": "8339c2d8-df66-4606-82d6-291b61db9c67",
   "metadata": {},
   "outputs": [
    {
     "name": "stdout",
     "output_type": "stream",
     "text": [
      "shape: (3, 3)\n",
      "┌────────┬──────────┬──────────┐\n",
      "│ fruit  ┆ quantity ┆ price    │\n",
      "│ ---    ┆ ---      ┆ ---      │\n",
      "│ str    ┆ i64      ┆ f64      │\n",
      "╞════════╪══════════╪══════════╡\n",
      "│ apple  ┆ 49       ┆ 0.526134 │\n",
      "│ banana ┆ 97       ┆ 0.703469 │\n",
      "│ cherry ┆ 55       ┆ 0.659121 │\n",
      "└────────┴──────────┴──────────┘\n",
      "[String, Int64, Float64]\n",
      "Schema([('fruit', String), ('quantity', Int64), ('price', Float64)])\n",
      "shape: (9, 4)\n",
      "┌────────────┬────────────┬───────────┬──────────┐\n",
      "│ statistic  ┆ fruit      ┆ quantity  ┆ price    │\n",
      "│ ---        ┆ ---        ┆ ---       ┆ ---      │\n",
      "│ str        ┆ str        ┆ f64       ┆ f64      │\n",
      "╞════════════╪════════════╪═══════════╪══════════╡\n",
      "│ count      ┆ 5          ┆ 5.0       ┆ 5.0      │\n",
      "│ null_count ┆ 0          ┆ 0.0       ┆ 0.0      │\n",
      "│ mean       ┆ null       ┆ 62.8      ┆ 0.54529  │\n",
      "│ std        ┆ null       ┆ 30.053286 ┆ 0.176958 │\n",
      "│ min        ┆ apple      ┆ 24.0      ┆ 0.253116 │\n",
      "│ 25%        ┆ null       ┆ 49.0      ┆ 0.526134 │\n",
      "│ 50%        ┆ null       ┆ 55.0      ┆ 0.584611 │\n",
      "│ 75%        ┆ null       ┆ 89.0      ┆ 0.659121 │\n",
      "│ max        ┆ watermelon ┆ 97.0      ┆ 0.703469 │\n",
      "└────────────┴────────────┴───────────┴──────────┘\n"
     ]
    }
   ],
   "source": [
    "import numpy as np\n",
    "strings_data = [\"apple\", \"banana\", \"cherry\", \"watermelon\", \"elderberry\"]\n",
    "integers_data = np.random.randint(1, 100, size=5)\n",
    "floats_data = np.random.rand(5)\n",
    "\n",
    "df = pl.DataFrame({\n",
    "    \"fruit\": strings_data,\n",
    "    \"quantity\": integers_data,\n",
    "    \"price\": floats_data\n",
    "})\n",
    "\n",
    "print(df.head(3))\n",
    "print(df.dtypes)\n",
    "print(df.schema)\n",
    "print(df.describe())\n"
   ]
  },
  {
   "cell_type": "code",
   "execution_count": 21,
   "id": "bcf78a8d-1bbb-4e5f-b6f5-9c0fa0e9a9ae",
   "metadata": {},
   "outputs": [
    {
     "data": {
      "text/html": [
       "<div><style>\n",
       ".dataframe > thead > tr,\n",
       ".dataframe > tbody > tr {\n",
       "  text-align: right;\n",
       "  white-space: pre-wrap;\n",
       "}\n",
       "</style>\n",
       "<small>shape: (5, 3)</small><table border=\"1\" class=\"dataframe\"><thead><tr><th>fruit</th><th>quantity</th><th>price</th></tr><tr><td>str</td><td>i64</td><td>f64</td></tr></thead><tbody><tr><td>&quot;apple&quot;</td><td>1</td><td>0.677511</td></tr><tr><td>&quot;banana&quot;</td><td>39</td><td>0.778862</td></tr><tr><td>&quot;cherry&quot;</td><td>76</td><td>0.277562</td></tr><tr><td>&quot;watermelon&quot;</td><td>96</td><td>0.158861</td></tr><tr><td>&quot;elderberry&quot;</td><td>7</td><td>0.793633</td></tr></tbody></table></div>"
      ],
      "text/plain": [
       "shape: (5, 3)\n",
       "┌────────────┬──────────┬──────────┐\n",
       "│ fruit      ┆ quantity ┆ price    │\n",
       "│ ---        ┆ ---      ┆ ---      │\n",
       "│ str        ┆ i64      ┆ f64      │\n",
       "╞════════════╪══════════╪══════════╡\n",
       "│ apple      ┆ 1        ┆ 0.677511 │\n",
       "│ banana     ┆ 39       ┆ 0.778862 │\n",
       "│ cherry     ┆ 76       ┆ 0.277562 │\n",
       "│ watermelon ┆ 96       ┆ 0.158861 │\n",
       "│ elderberry ┆ 7        ┆ 0.793633 │\n",
       "└────────────┴──────────┴──────────┘"
      ]
     },
     "metadata": {},
     "output_type": "display_data"
    }
   ],
   "source": [
    "display(df)"
   ]
  },
  {
   "cell_type": "markdown",
   "id": "303595d0-72b0-43ff-9fbc-39beda52e37c",
   "metadata": {},
   "source": [
    "**Выбор и фильтрация данных в Polars**"
   ]
  },
  {
   "cell_type": "code",
   "execution_count": 23,
   "id": "a652ef73-ec3e-487f-a837-a0dbf59f56a0",
   "metadata": {},
   "outputs": [
    {
     "data": {
      "text/html": [
       "<div><style>\n",
       ".dataframe > thead > tr,\n",
       ".dataframe > tbody > tr {\n",
       "  text-align: right;\n",
       "  white-space: pre-wrap;\n",
       "}\n",
       "</style>\n",
       "<small>shape: (1, 3)</small><table border=\"1\" class=\"dataframe\"><thead><tr><th>fruit</th><th>quantity</th><th>price</th></tr><tr><td>str</td><td>i64</td><td>f64</td></tr></thead><tbody><tr><td>&quot;apple&quot;</td><td>1</td><td>0.677511</td></tr></tbody></table></div>"
      ],
      "text/plain": [
       "shape: (1, 3)\n",
       "┌───────┬──────────┬──────────┐\n",
       "│ fruit ┆ quantity ┆ price    │\n",
       "│ ---   ┆ ---      ┆ ---      │\n",
       "│ str   ┆ i64      ┆ f64      │\n",
       "╞═══════╪══════════╪══════════╡\n",
       "│ apple ┆ 1        ┆ 0.677511 │\n",
       "└───────┴──────────┴──────────┘"
      ]
     },
     "execution_count": 23,
     "metadata": {},
     "output_type": "execute_result"
    }
   ],
   "source": [
    "#Индексирование\n",
    "df[0]"
   ]
  },
  {
   "cell_type": "code",
   "execution_count": 24,
   "id": "df291360-1908-4303-b900-0ad91a9bed87",
   "metadata": {},
   "outputs": [
    {
     "data": {
      "text/html": [
       "<div><style>\n",
       ".dataframe > thead > tr,\n",
       ".dataframe > tbody > tr {\n",
       "  text-align: right;\n",
       "  white-space: pre-wrap;\n",
       "}\n",
       "</style>\n",
       "<small>shape: (5, 3)</small><table border=\"1\" class=\"dataframe\"><thead><tr><th>fruit</th><th>quantity</th><th>price</th></tr><tr><td>str</td><td>i64</td><td>f64</td></tr></thead><tbody><tr><td>&quot;apple&quot;</td><td>1</td><td>0.677511</td></tr><tr><td>&quot;banana&quot;</td><td>39</td><td>0.778862</td></tr><tr><td>&quot;cherry&quot;</td><td>76</td><td>0.277562</td></tr><tr><td>&quot;watermelon&quot;</td><td>96</td><td>0.158861</td></tr><tr><td>&quot;elderberry&quot;</td><td>7</td><td>0.793633</td></tr></tbody></table></div>"
      ],
      "text/plain": [
       "shape: (5, 3)\n",
       "┌────────────┬──────────┬──────────┐\n",
       "│ fruit      ┆ quantity ┆ price    │\n",
       "│ ---        ┆ ---      ┆ ---      │\n",
       "│ str        ┆ i64      ┆ f64      │\n",
       "╞════════════╪══════════╪══════════╡\n",
       "│ apple      ┆ 1        ┆ 0.677511 │\n",
       "│ banana     ┆ 39       ┆ 0.778862 │\n",
       "│ cherry     ┆ 76       ┆ 0.277562 │\n",
       "│ watermelon ┆ 96       ┆ 0.158861 │\n",
       "│ elderberry ┆ 7        ┆ 0.793633 │\n",
       "└────────────┴──────────┴──────────┘"
      ]
     },
     "execution_count": 24,
     "metadata": {},
     "output_type": "execute_result"
    }
   ],
   "source": [
    "df[0:]"
   ]
  },
  {
   "cell_type": "code",
   "execution_count": 25,
   "id": "95ed1d3b-eac3-4327-98d2-8a387fa63984",
   "metadata": {},
   "outputs": [
    {
     "data": {
      "text/html": [
       "<div><style>\n",
       ".dataframe > thead > tr,\n",
       ".dataframe > tbody > tr {\n",
       "  text-align: right;\n",
       "  white-space: pre-wrap;\n",
       "}\n",
       "</style>\n",
       "<small>shape: (5, 2)</small><table border=\"1\" class=\"dataframe\"><thead><tr><th>fruit</th><th>price</th></tr><tr><td>str</td><td>f64</td></tr></thead><tbody><tr><td>&quot;apple&quot;</td><td>0.677511</td></tr><tr><td>&quot;banana&quot;</td><td>0.778862</td></tr><tr><td>&quot;cherry&quot;</td><td>0.277562</td></tr><tr><td>&quot;watermelon&quot;</td><td>0.158861</td></tr><tr><td>&quot;elderberry&quot;</td><td>0.793633</td></tr></tbody></table></div>"
      ],
      "text/plain": [
       "shape: (5, 2)\n",
       "┌────────────┬──────────┐\n",
       "│ fruit      ┆ price    │\n",
       "│ ---        ┆ ---      │\n",
       "│ str        ┆ f64      │\n",
       "╞════════════╪══════════╡\n",
       "│ apple      ┆ 0.677511 │\n",
       "│ banana     ┆ 0.778862 │\n",
       "│ cherry     ┆ 0.277562 │\n",
       "│ watermelon ┆ 0.158861 │\n",
       "│ elderberry ┆ 0.793633 │\n",
       "└────────────┴──────────┘"
      ]
     },
     "execution_count": 25,
     "metadata": {},
     "output_type": "execute_result"
    }
   ],
   "source": [
    "df[:,['fruit', \"price\"]]"
   ]
  },
  {
   "cell_type": "code",
   "execution_count": 26,
   "id": "b96e237d-8bd2-4d85-8571-66758921cecc",
   "metadata": {},
   "outputs": [
    {
     "data": {
      "text/html": [
       "<div><style>\n",
       ".dataframe > thead > tr,\n",
       ".dataframe > tbody > tr {\n",
       "  text-align: right;\n",
       "  white-space: pre-wrap;\n",
       "}\n",
       "</style>\n",
       "<small>shape: (2, 2)</small><table border=\"1\" class=\"dataframe\"><thead><tr><th>fruit</th><th>price</th></tr><tr><td>str</td><td>f64</td></tr></thead><tbody><tr><td>&quot;banana&quot;</td><td>0.778862</td></tr><tr><td>&quot;cherry&quot;</td><td>0.277562</td></tr></tbody></table></div>"
      ],
      "text/plain": [
       "shape: (2, 2)\n",
       "┌────────┬──────────┐\n",
       "│ fruit  ┆ price    │\n",
       "│ ---    ┆ ---      │\n",
       "│ str    ┆ f64      │\n",
       "╞════════╪══════════╡\n",
       "│ banana ┆ 0.778862 │\n",
       "│ cherry ┆ 0.277562 │\n",
       "└────────┴──────────┘"
      ]
     },
     "execution_count": 26,
     "metadata": {},
     "output_type": "execute_result"
    }
   ],
   "source": [
    "df[1:3, ['fruit', \"price\"]]"
   ]
  },
  {
   "cell_type": "code",
   "execution_count": 27,
   "id": "2bd68b96-f0e1-423c-924b-a696b0b58b20",
   "metadata": {},
   "outputs": [
    {
     "data": {
      "text/plain": [
       "('apple', 1, 0.67751079660411)"
      ]
     },
     "execution_count": 27,
     "metadata": {},
     "output_type": "execute_result"
    }
   ],
   "source": [
    "# select by row \n",
    "df.row(0)"
   ]
  },
  {
   "cell_type": "code",
   "execution_count": 28,
   "id": "6737b2c5-0ee8-4258-b062-168592712bd6",
   "metadata": {},
   "outputs": [
    {
     "data": {
      "text/plain": [
       "('banana', 39, 0.7788615590589365)"
      ]
     },
     "execution_count": 28,
     "metadata": {},
     "output_type": "execute_result"
    }
   ],
   "source": [
    "df.row(1)"
   ]
  },
  {
   "cell_type": "code",
   "execution_count": 32,
   "id": "ec3dc809-0856-4d09-8d98-4ece81224524",
   "metadata": {},
   "outputs": [
    {
     "data": {
      "text/html": [
       "<div><style>\n",
       ".dataframe > thead > tr,\n",
       ".dataframe > tbody > tr {\n",
       "  text-align: right;\n",
       "  white-space: pre-wrap;\n",
       "}\n",
       "</style>\n",
       "<small>shape: (5, 2)</small><table border=\"1\" class=\"dataframe\"><thead><tr><th>fruit</th><th>price</th></tr><tr><td>str</td><td>f64</td></tr></thead><tbody><tr><td>&quot;apple&quot;</td><td>0.677511</td></tr><tr><td>&quot;banana&quot;</td><td>0.778862</td></tr><tr><td>&quot;cherry&quot;</td><td>0.277562</td></tr><tr><td>&quot;watermelon&quot;</td><td>0.158861</td></tr><tr><td>&quot;elderberry&quot;</td><td>0.793633</td></tr></tbody></table></div>"
      ],
      "text/plain": [
       "shape: (5, 2)\n",
       "┌────────────┬──────────┐\n",
       "│ fruit      ┆ price    │\n",
       "│ ---        ┆ ---      │\n",
       "│ str        ┆ f64      │\n",
       "╞════════════╪══════════╡\n",
       "│ apple      ┆ 0.677511 │\n",
       "│ banana     ┆ 0.778862 │\n",
       "│ cherry     ┆ 0.277562 │\n",
       "│ watermelon ┆ 0.158861 │\n",
       "│ elderberry ┆ 0.793633 │\n",
       "└────────────┴──────────┘"
      ]
     },
     "execution_count": 32,
     "metadata": {},
     "output_type": "execute_result"
    }
   ],
   "source": [
    "df['fruit','price']"
   ]
  },
  {
   "cell_type": "code",
   "execution_count": 33,
   "id": "8aaa1ba1-8c79-46f3-8296-3fc82d772fef",
   "metadata": {},
   "outputs": [
    {
     "data": {
      "text/html": [
       "<div><style>\n",
       ".dataframe > thead > tr,\n",
       ".dataframe > tbody > tr {\n",
       "  text-align: right;\n",
       "  white-space: pre-wrap;\n",
       "}\n",
       "</style>\n",
       "<small>shape: (5, 2)</small><table border=\"1\" class=\"dataframe\"><thead><tr><th>fruit</th><th>price</th></tr><tr><td>str</td><td>f64</td></tr></thead><tbody><tr><td>&quot;apple&quot;</td><td>0.677511</td></tr><tr><td>&quot;banana&quot;</td><td>0.778862</td></tr><tr><td>&quot;cherry&quot;</td><td>0.277562</td></tr><tr><td>&quot;watermelon&quot;</td><td>0.158861</td></tr><tr><td>&quot;elderberry&quot;</td><td>0.793633</td></tr></tbody></table></div>"
      ],
      "text/plain": [
       "shape: (5, 2)\n",
       "┌────────────┬──────────┐\n",
       "│ fruit      ┆ price    │\n",
       "│ ---        ┆ ---      │\n",
       "│ str        ┆ f64      │\n",
       "╞════════════╪══════════╡\n",
       "│ apple      ┆ 0.677511 │\n",
       "│ banana     ┆ 0.778862 │\n",
       "│ cherry     ┆ 0.277562 │\n",
       "│ watermelon ┆ 0.158861 │\n",
       "│ elderberry ┆ 0.793633 │\n",
       "└────────────┴──────────┘"
      ]
     },
     "execution_count": 33,
     "metadata": {},
     "output_type": "execute_result"
    }
   ],
   "source": [
    "# тоже самое с select\n",
    "df.select(['fruit','price'])"
   ]
  },
  {
   "cell_type": "code",
   "execution_count": 35,
   "id": "3bd88016-d899-435a-aa54-262b7522f7a3",
   "metadata": {},
   "outputs": [
    {
     "data": {
      "text/html": [
       "<div><style>\n",
       ".dataframe > thead > tr,\n",
       ".dataframe > tbody > tr {\n",
       "  text-align: right;\n",
       "  white-space: pre-wrap;\n",
       "}\n",
       "</style>\n",
       "<small>shape: (5, 2)</small><table border=\"1\" class=\"dataframe\"><thead><tr><th>fruit</th><th>double_price</th></tr><tr><td>str</td><td>f64</td></tr></thead><tbody><tr><td>&quot;apple&quot;</td><td>1.355022</td></tr><tr><td>&quot;banana&quot;</td><td>1.557723</td></tr><tr><td>&quot;cherry&quot;</td><td>0.555125</td></tr><tr><td>&quot;watermelon&quot;</td><td>0.317721</td></tr><tr><td>&quot;elderberry&quot;</td><td>1.587265</td></tr></tbody></table></div>"
      ],
      "text/plain": [
       "shape: (5, 2)\n",
       "┌────────────┬──────────────┐\n",
       "│ fruit      ┆ double_price │\n",
       "│ ---        ┆ ---          │\n",
       "│ str        ┆ f64          │\n",
       "╞════════════╪══════════════╡\n",
       "│ apple      ┆ 1.355022     │\n",
       "│ banana     ┆ 1.557723     │\n",
       "│ cherry     ┆ 0.555125     │\n",
       "│ watermelon ┆ 0.317721     │\n",
       "│ elderberry ┆ 1.587265     │\n",
       "└────────────┴──────────────┘"
      ]
     },
     "execution_count": 35,
     "metadata": {},
     "output_type": "execute_result"
    }
   ],
   "source": [
    "# но\n",
    "df.select([\n",
    "pl.col('fruit'),\n",
    "(pl.col('price') * 2).alias('double_price')\n",
    "])"
   ]
  },
  {
   "cell_type": "code",
   "execution_count": 54,
   "id": "99cf6d06-88b7-46e8-855c-0d669b85fbb8",
   "metadata": {},
   "outputs": [
    {
     "data": {
      "text/html": [
       "<div><style>\n",
       ".dataframe > thead > tr,\n",
       ".dataframe > tbody > tr {\n",
       "  text-align: right;\n",
       "  white-space: pre-wrap;\n",
       "}\n",
       "</style>\n",
       "<small>shape: (4, 3)</small><table border=\"1\" class=\"dataframe\"><thead><tr><th>fruit</th><th>quantity</th><th>price</th></tr><tr><td>str</td><td>i64</td><td>f64</td></tr></thead><tbody><tr><td>&quot;apple&quot;</td><td>49</td><td>0.526134</td></tr><tr><td>&quot;banana&quot;</td><td>97</td><td>0.703469</td></tr><tr><td>&quot;cherry&quot;</td><td>55</td><td>0.659121</td></tr><tr><td>&quot;elderberry&quot;</td><td>89</td><td>0.584611</td></tr></tbody></table></div>"
      ],
      "text/plain": [
       "shape: (4, 3)\n",
       "┌────────────┬──────────┬──────────┐\n",
       "│ fruit      ┆ quantity ┆ price    │\n",
       "│ ---        ┆ ---      ┆ ---      │\n",
       "│ str        ┆ i64      ┆ f64      │\n",
       "╞════════════╪══════════╪══════════╡\n",
       "│ apple      ┆ 49       ┆ 0.526134 │\n",
       "│ banana     ┆ 97       ┆ 0.703469 │\n",
       "│ cherry     ┆ 55       ┆ 0.659121 │\n",
       "│ elderberry ┆ 89       ┆ 0.584611 │\n",
       "└────────────┴──────────┴──────────┘"
      ]
     },
     "execution_count": 54,
     "metadata": {},
     "output_type": "execute_result"
    }
   ],
   "source": [
    "#Контекст фильтрации строк\n",
    "\n",
    "df.filter(pl.col(\"price\") > 0.5)"
   ]
  },
  {
   "cell_type": "code",
   "execution_count": 59,
   "id": "5f8c96c5-74f6-4dc0-8b50-b32bdee162d2",
   "metadata": {},
   "outputs": [
    {
     "data": {
      "text/html": [
       "<div><style>\n",
       ".dataframe > thead > tr,\n",
       ".dataframe > tbody > tr {\n",
       "  text-align: right;\n",
       "  white-space: pre-wrap;\n",
       "}\n",
       "</style>\n",
       "<small>shape: (1, 3)</small><table border=\"1\" class=\"dataframe\"><thead><tr><th>fruit</th><th>quantity</th><th>price</th></tr><tr><td>str</td><td>i64</td><td>f64</td></tr></thead><tbody><tr><td>&quot;apple&quot;</td><td>49</td><td>0.526134</td></tr></tbody></table></div>"
      ],
      "text/plain": [
       "shape: (1, 3)\n",
       "┌───────┬──────────┬──────────┐\n",
       "│ fruit ┆ quantity ┆ price    │\n",
       "│ ---   ┆ ---      ┆ ---      │\n",
       "│ str   ┆ i64      ┆ f64      │\n",
       "╞═══════╪══════════╪══════════╡\n",
       "│ apple ┆ 49       ┆ 0.526134 │\n",
       "└───────┴──────────┴──────────┘"
      ]
     },
     "execution_count": 59,
     "metadata": {},
     "output_type": "execute_result"
    }
   ],
   "source": [
    "df.filter((pl.col(\"price\") > 0.5) & (pl.col('quantity')<50) )"
   ]
  },
  {
   "cell_type": "code",
   "execution_count": 61,
   "id": "52f97217-7332-4bd2-93e2-546911b54b79",
   "metadata": {},
   "outputs": [
    {
     "data": {
      "text/html": [
       "<div><style>\n",
       ".dataframe > thead > tr,\n",
       ".dataframe > tbody > tr {\n",
       "  text-align: right;\n",
       "  white-space: pre-wrap;\n",
       "}\n",
       "</style>\n",
       "<small>shape: (5, 3)</small><table border=\"1\" class=\"dataframe\"><thead><tr><th>fruit</th><th>quantity</th><th>price</th></tr><tr><td>str</td><td>i64</td><td>f64</td></tr></thead><tbody><tr><td>&quot;apple&quot;</td><td>49</td><td>0.526134</td></tr><tr><td>&quot;banana&quot;</td><td>97</td><td>0.703469</td></tr><tr><td>&quot;cherry&quot;</td><td>55</td><td>0.659121</td></tr><tr><td>&quot;watermelon&quot;</td><td>24</td><td>0.253116</td></tr><tr><td>&quot;elderberry&quot;</td><td>89</td><td>0.584611</td></tr></tbody></table></div>"
      ],
      "text/plain": [
       "shape: (5, 3)\n",
       "┌────────────┬──────────┬──────────┐\n",
       "│ fruit      ┆ quantity ┆ price    │\n",
       "│ ---        ┆ ---      ┆ ---      │\n",
       "│ str        ┆ i64      ┆ f64      │\n",
       "╞════════════╪══════════╪══════════╡\n",
       "│ apple      ┆ 49       ┆ 0.526134 │\n",
       "│ banana     ┆ 97       ┆ 0.703469 │\n",
       "│ cherry     ┆ 55       ┆ 0.659121 │\n",
       "│ watermelon ┆ 24       ┆ 0.253116 │\n",
       "│ elderberry ┆ 89       ┆ 0.584611 │\n",
       "└────────────┴──────────┴──────────┘"
      ]
     },
     "execution_count": 61,
     "metadata": {},
     "output_type": "execute_result"
    }
   ],
   "source": [
    "df.filter((pl.col(\"price\") > 0.5) | (pl.col('quantity')<50) )"
   ]
  },
  {
   "cell_type": "code",
   "execution_count": 41,
   "id": "7d6f1dee-6d96-4479-ae25-718ff1bb0d37",
   "metadata": {},
   "outputs": [
    {
     "data": {
      "text/html": [
       "<div><style>\n",
       ".dataframe > thead > tr,\n",
       ".dataframe > tbody > tr {\n",
       "  text-align: right;\n",
       "  white-space: pre-wrap;\n",
       "}\n",
       "</style>\n",
       "<small>shape: (5, 4)</small><table border=\"1\" class=\"dataframe\"><thead><tr><th>fruit</th><th>quantity</th><th>price</th><th>total</th></tr><tr><td>str</td><td>i64</td><td>f64</td><td>f64</td></tr></thead><tbody><tr><td>&quot;apple&quot;</td><td>1</td><td>0.677511</td><td>0.677511</td></tr><tr><td>&quot;banana&quot;</td><td>39</td><td>0.778862</td><td>30.375601</td></tr><tr><td>&quot;cherry&quot;</td><td>76</td><td>0.277562</td><td>21.094732</td></tr><tr><td>&quot;watermelon&quot;</td><td>96</td><td>0.158861</td><td>15.250631</td></tr><tr><td>&quot;elderberry&quot;</td><td>7</td><td>0.793633</td><td>5.555428</td></tr></tbody></table></div>"
      ],
      "text/plain": [
       "shape: (5, 4)\n",
       "┌────────────┬──────────┬──────────┬───────────┐\n",
       "│ fruit      ┆ quantity ┆ price    ┆ total     │\n",
       "│ ---        ┆ ---      ┆ ---      ┆ ---       │\n",
       "│ str        ┆ i64      ┆ f64      ┆ f64       │\n",
       "╞════════════╪══════════╪══════════╪═══════════╡\n",
       "│ apple      ┆ 1        ┆ 0.677511 ┆ 0.677511  │\n",
       "│ banana     ┆ 39       ┆ 0.778862 ┆ 30.375601 │\n",
       "│ cherry     ┆ 76       ┆ 0.277562 ┆ 21.094732 │\n",
       "│ watermelon ┆ 96       ┆ 0.158861 ┆ 15.250631 │\n",
       "│ elderberry ┆ 7        ┆ 0.793633 ┆ 5.555428  │\n",
       "└────────────┴──────────┴──────────┴───────────┘"
      ]
     },
     "execution_count": 41,
     "metadata": {},
     "output_type": "execute_result"
    }
   ],
   "source": [
    "#Метод with_columns\n",
    "df.with_columns([\n",
    "    (pl.col(\"price\") * pl.col(\"quantity\")).alias(\"total\")\n",
    "])"
   ]
  },
  {
   "cell_type": "code",
   "execution_count": 44,
   "id": "b90e02c8-6ca5-414d-a269-1dc77aa2c59e",
   "metadata": {},
   "outputs": [
    {
     "data": {
      "text/html": [
       "<div><style>\n",
       ".dataframe > thead > tr,\n",
       ".dataframe > tbody > tr {\n",
       "  text-align: right;\n",
       "  white-space: pre-wrap;\n",
       "}\n",
       "</style>\n",
       "<small>shape: (5, 5)</small><table border=\"1\" class=\"dataframe\"><thead><tr><th>fruit</th><th>quantity</th><th>price</th><th>is_expensive</th><th>total_cost</th></tr><tr><td>str</td><td>i64</td><td>f64</td><td>bool</td><td>f64</td></tr></thead><tbody><tr><td>&quot;apple&quot;</td><td>1</td><td>0.677511</td><td>false</td><td>0.677511</td></tr><tr><td>&quot;banana&quot;</td><td>39</td><td>0.778862</td><td>false</td><td>30.375601</td></tr><tr><td>&quot;cherry&quot;</td><td>76</td><td>0.277562</td><td>false</td><td>21.094732</td></tr><tr><td>&quot;watermelon&quot;</td><td>96</td><td>0.158861</td><td>false</td><td>15.250631</td></tr><tr><td>&quot;elderberry&quot;</td><td>7</td><td>0.793633</td><td>false</td><td>5.555428</td></tr></tbody></table></div>"
      ],
      "text/plain": [
       "shape: (5, 5)\n",
       "┌────────────┬──────────┬──────────┬──────────────┬────────────┐\n",
       "│ fruit      ┆ quantity ┆ price    ┆ is_expensive ┆ total_cost │\n",
       "│ ---        ┆ ---      ┆ ---      ┆ ---          ┆ ---        │\n",
       "│ str        ┆ i64      ┆ f64      ┆ bool         ┆ f64        │\n",
       "╞════════════╪══════════╪══════════╪══════════════╪════════════╡\n",
       "│ apple      ┆ 1        ┆ 0.677511 ┆ false        ┆ 0.677511   │\n",
       "│ banana     ┆ 39       ┆ 0.778862 ┆ false        ┆ 30.375601  │\n",
       "│ cherry     ┆ 76       ┆ 0.277562 ┆ false        ┆ 21.094732  │\n",
       "│ watermelon ┆ 96       ┆ 0.158861 ┆ false        ┆ 15.250631  │\n",
       "│ elderberry ┆ 7        ┆ 0.793633 ┆ false        ┆ 5.555428   │\n",
       "└────────────┴──────────┴──────────┴──────────────┴────────────┘"
      ]
     },
     "execution_count": 44,
     "metadata": {},
     "output_type": "execute_result"
    }
   ],
   "source": [
    "df.with_columns([\n",
    "    (pl.col(\"price\") > 3).alias(\"is_expensive\"),\n",
    "    (pl.col(\"price\") * pl.col(\"quantity\")).alias(\"total_cost\")\n",
    "])"
   ]
  },
  {
   "cell_type": "markdown",
   "id": "fd500d04-ae09-4e16-aa4b-d074ded97f8a",
   "metadata": {},
   "source": [
    "Решение задач\n",
    "---"
   ]
  },
  {
   "cell_type": "code",
   "execution_count": 66,
   "id": "95246569-37e2-41fa-a1a9-94f2ea55b53f",
   "metadata": {},
   "outputs": [],
   "source": [
    "df = pl.read_csv('titanic.csv')"
   ]
  },
  {
   "cell_type": "code",
   "execution_count": 67,
   "id": "2dad3bd1-990a-44c2-8107-ade6ce527b92",
   "metadata": {},
   "outputs": [
    {
     "data": {
      "text/html": [
       "<div><style>\n",
       ".dataframe > thead > tr,\n",
       ".dataframe > tbody > tr {\n",
       "  text-align: right;\n",
       "  white-space: pre-wrap;\n",
       "}\n",
       "</style>\n",
       "<small>shape: (3, 12)</small><table border=\"1\" class=\"dataframe\"><thead><tr><th>PassengerId</th><th>Survived</th><th>Pclass</th><th>Name</th><th>Sex</th><th>Age</th><th>SibSp</th><th>Parch</th><th>Ticket</th><th>Fare</th><th>Cabin</th><th>Embarked</th></tr><tr><td>i64</td><td>i64</td><td>i64</td><td>str</td><td>str</td><td>f64</td><td>i64</td><td>i64</td><td>str</td><td>f64</td><td>str</td><td>str</td></tr></thead><tbody><tr><td>1</td><td>0</td><td>3</td><td>&quot;Braund, Mr. Owen Harris&quot;</td><td>&quot;male&quot;</td><td>22.0</td><td>1</td><td>0</td><td>&quot;A/5 21171&quot;</td><td>7.25</td><td>null</td><td>&quot;S&quot;</td></tr><tr><td>2</td><td>1</td><td>1</td><td>&quot;Cumings, Mrs. John Bradley (Fl…</td><td>&quot;female&quot;</td><td>38.0</td><td>1</td><td>0</td><td>&quot;PC 17599&quot;</td><td>71.2833</td><td>&quot;C85&quot;</td><td>&quot;C&quot;</td></tr><tr><td>3</td><td>1</td><td>3</td><td>&quot;Heikkinen, Miss. Laina&quot;</td><td>&quot;female&quot;</td><td>26.0</td><td>0</td><td>0</td><td>&quot;STON/O2. 3101282&quot;</td><td>7.925</td><td>null</td><td>&quot;S&quot;</td></tr></tbody></table></div>"
      ],
      "text/plain": [
       "shape: (3, 12)\n",
       "┌─────────────┬──────────┬────────┬───────────────────┬───┬───────────┬─────────┬───────┬──────────┐\n",
       "│ PassengerId ┆ Survived ┆ Pclass ┆ Name              ┆ … ┆ Ticket    ┆ Fare    ┆ Cabin ┆ Embarked │\n",
       "│ ---         ┆ ---      ┆ ---    ┆ ---               ┆   ┆ ---       ┆ ---     ┆ ---   ┆ ---      │\n",
       "│ i64         ┆ i64      ┆ i64    ┆ str               ┆   ┆ str       ┆ f64     ┆ str   ┆ str      │\n",
       "╞═════════════╪══════════╪════════╪═══════════════════╪═══╪═══════════╪═════════╪═══════╪══════════╡\n",
       "│ 1           ┆ 0        ┆ 3      ┆ Braund, Mr. Owen  ┆ … ┆ A/5 21171 ┆ 7.25    ┆ null  ┆ S        │\n",
       "│             ┆          ┆        ┆ Harris            ┆   ┆           ┆         ┆       ┆          │\n",
       "│ 2           ┆ 1        ┆ 1      ┆ Cumings, Mrs.     ┆ … ┆ PC 17599  ┆ 71.2833 ┆ C85   ┆ C        │\n",
       "│             ┆          ┆        ┆ John Bradley (Fl… ┆   ┆           ┆         ┆       ┆          │\n",
       "│ 3           ┆ 1        ┆ 3      ┆ Heikkinen, Miss.  ┆ … ┆ STON/O2.  ┆ 7.925   ┆ null  ┆ S        │\n",
       "│             ┆          ┆        ┆ Laina             ┆   ┆ 3101282   ┆         ┆       ┆          │\n",
       "└─────────────┴──────────┴────────┴───────────────────┴───┴───────────┴─────────┴───────┴──────────┘"
      ]
     },
     "execution_count": 67,
     "metadata": {},
     "output_type": "execute_result"
    }
   ],
   "source": [
    "df.head(3)"
   ]
  },
  {
   "cell_type": "code",
   "execution_count": 68,
   "id": "c8615c70-4c37-41a2-b5b7-220b36efe010",
   "metadata": {},
   "outputs": [
    {
     "data": {
      "text/html": [
       "<div><style>\n",
       ".dataframe > thead > tr,\n",
       ".dataframe > tbody > tr {\n",
       "  text-align: right;\n",
       "  white-space: pre-wrap;\n",
       "}\n",
       "</style>\n",
       "<small>shape: (891, 3)</small><table border=\"1\" class=\"dataframe\"><thead><tr><th>Pclass</th><th>Sex</th><th>Age</th></tr><tr><td>i64</td><td>str</td><td>f64</td></tr></thead><tbody><tr><td>3</td><td>&quot;male&quot;</td><td>22.0</td></tr><tr><td>1</td><td>&quot;female&quot;</td><td>38.0</td></tr><tr><td>3</td><td>&quot;female&quot;</td><td>26.0</td></tr><tr><td>1</td><td>&quot;female&quot;</td><td>35.0</td></tr><tr><td>3</td><td>&quot;male&quot;</td><td>35.0</td></tr><tr><td>&hellip;</td><td>&hellip;</td><td>&hellip;</td></tr><tr><td>2</td><td>&quot;male&quot;</td><td>27.0</td></tr><tr><td>1</td><td>&quot;female&quot;</td><td>19.0</td></tr><tr><td>3</td><td>&quot;female&quot;</td><td>null</td></tr><tr><td>1</td><td>&quot;male&quot;</td><td>26.0</td></tr><tr><td>3</td><td>&quot;male&quot;</td><td>32.0</td></tr></tbody></table></div>"
      ],
      "text/plain": [
       "shape: (891, 3)\n",
       "┌────────┬────────┬──────┐\n",
       "│ Pclass ┆ Sex    ┆ Age  │\n",
       "│ ---    ┆ ---    ┆ ---  │\n",
       "│ i64    ┆ str    ┆ f64  │\n",
       "╞════════╪════════╪══════╡\n",
       "│ 3      ┆ male   ┆ 22.0 │\n",
       "│ 1      ┆ female ┆ 38.0 │\n",
       "│ 3      ┆ female ┆ 26.0 │\n",
       "│ 1      ┆ female ┆ 35.0 │\n",
       "│ 3      ┆ male   ┆ 35.0 │\n",
       "│ …      ┆ …      ┆ …    │\n",
       "│ 2      ┆ male   ┆ 27.0 │\n",
       "│ 1      ┆ female ┆ 19.0 │\n",
       "│ 3      ┆ female ┆ null │\n",
       "│ 1      ┆ male   ┆ 26.0 │\n",
       "│ 3      ┆ male   ┆ 32.0 │\n",
       "└────────┴────────┴──────┘"
      ]
     },
     "execution_count": 68,
     "metadata": {},
     "output_type": "execute_result"
    }
   ],
   "source": [
    "df.select(['Pclass','Sex','Age'])"
   ]
  },
  {
   "cell_type": "code",
   "execution_count": 70,
   "id": "6ea120eb-f66c-4b58-b706-613fa52c47a9",
   "metadata": {},
   "outputs": [
    {
     "data": {
      "text/html": [
       "<div><style>\n",
       ".dataframe > thead > tr,\n",
       ".dataframe > tbody > tr {\n",
       "  text-align: right;\n",
       "  white-space: pre-wrap;\n",
       "}\n",
       "</style>\n",
       "<small>shape: (53, 12)</small><table border=\"1\" class=\"dataframe\"><thead><tr><th>PassengerId</th><th>Survived</th><th>Pclass</th><th>Name</th><th>Sex</th><th>Age</th><th>SibSp</th><th>Parch</th><th>Ticket</th><th>Fare</th><th>Cabin</th><th>Embarked</th></tr><tr><td>i64</td><td>i64</td><td>i64</td><td>str</td><td>str</td><td>f64</td><td>i64</td><td>i64</td><td>str</td><td>f64</td><td>str</td><td>str</td></tr></thead><tbody><tr><td>28</td><td>0</td><td>1</td><td>&quot;Fortune, Mr. Charles Alexander&quot;</td><td>&quot;male&quot;</td><td>19.0</td><td>3</td><td>2</td><td>&quot;19950&quot;</td><td>263.0</td><td>&quot;C23 C25 C27&quot;</td><td>&quot;S&quot;</td></tr><tr><td>32</td><td>1</td><td>1</td><td>&quot;Spencer, Mrs. William Augustus…</td><td>&quot;female&quot;</td><td>null</td><td>1</td><td>0</td><td>&quot;PC 17569&quot;</td><td>146.5208</td><td>&quot;B78&quot;</td><td>&quot;C&quot;</td></tr><tr><td>89</td><td>1</td><td>1</td><td>&quot;Fortune, Miss. Mabel Helen&quot;</td><td>&quot;female&quot;</td><td>23.0</td><td>3</td><td>2</td><td>&quot;19950&quot;</td><td>263.0</td><td>&quot;C23 C25 C27&quot;</td><td>&quot;S&quot;</td></tr><tr><td>119</td><td>0</td><td>1</td><td>&quot;Baxter, Mr. Quigg Edmond&quot;</td><td>&quot;male&quot;</td><td>24.0</td><td>0</td><td>1</td><td>&quot;PC 17558&quot;</td><td>247.5208</td><td>&quot;B58 B60&quot;</td><td>&quot;C&quot;</td></tr><tr><td>196</td><td>1</td><td>1</td><td>&quot;Lurette, Miss. Elise&quot;</td><td>&quot;female&quot;</td><td>58.0</td><td>0</td><td>0</td><td>&quot;PC 17569&quot;</td><td>146.5208</td><td>&quot;B80&quot;</td><td>&quot;C&quot;</td></tr><tr><td>&hellip;</td><td>&hellip;</td><td>&hellip;</td><td>&hellip;</td><td>&hellip;</td><td>&hellip;</td><td>&hellip;</td><td>&hellip;</td><td>&hellip;</td><td>&hellip;</td><td>&hellip;</td><td>&hellip;</td></tr><tr><td>743</td><td>1</td><td>1</td><td>&quot;Ryerson, Miss. Susan Parker &quot;S…</td><td>&quot;female&quot;</td><td>21.0</td><td>2</td><td>2</td><td>&quot;PC 17608&quot;</td><td>262.375</td><td>&quot;B57 B59 B63 B66&quot;</td><td>&quot;C&quot;</td></tr><tr><td>764</td><td>1</td><td>1</td><td>&quot;Carter, Mrs. William Ernest (L…</td><td>&quot;female&quot;</td><td>36.0</td><td>1</td><td>2</td><td>&quot;113760&quot;</td><td>120.0</td><td>&quot;B96 B98&quot;</td><td>&quot;S&quot;</td></tr><tr><td>780</td><td>1</td><td>1</td><td>&quot;Robert, Mrs. Edward Scott (Eli…</td><td>&quot;female&quot;</td><td>43.0</td><td>0</td><td>1</td><td>&quot;24160&quot;</td><td>211.3375</td><td>&quot;B3&quot;</td><td>&quot;S&quot;</td></tr><tr><td>803</td><td>1</td><td>1</td><td>&quot;Carter, Master. William Thornt…</td><td>&quot;male&quot;</td><td>11.0</td><td>1</td><td>2</td><td>&quot;113760&quot;</td><td>120.0</td><td>&quot;B96 B98&quot;</td><td>&quot;S&quot;</td></tr><tr><td>857</td><td>1</td><td>1</td><td>&quot;Wick, Mrs. George Dennick (Mar…</td><td>&quot;female&quot;</td><td>45.0</td><td>1</td><td>1</td><td>&quot;36928&quot;</td><td>164.8667</td><td>null</td><td>&quot;S&quot;</td></tr></tbody></table></div>"
      ],
      "text/plain": [
       "shape: (53, 12)\n",
       "┌─────────────┬──────────┬────────┬─────────────┬───┬──────────┬──────────┬─────────────┬──────────┐\n",
       "│ PassengerId ┆ Survived ┆ Pclass ┆ Name        ┆ … ┆ Ticket   ┆ Fare     ┆ Cabin       ┆ Embarked │\n",
       "│ ---         ┆ ---      ┆ ---    ┆ ---         ┆   ┆ ---      ┆ ---      ┆ ---         ┆ ---      │\n",
       "│ i64         ┆ i64      ┆ i64    ┆ str         ┆   ┆ str      ┆ f64      ┆ str         ┆ str      │\n",
       "╞═════════════╪══════════╪════════╪═════════════╪═══╪══════════╪══════════╪═════════════╪══════════╡\n",
       "│ 28          ┆ 0        ┆ 1      ┆ Fortune,    ┆ … ┆ 19950    ┆ 263.0    ┆ C23 C25 C27 ┆ S        │\n",
       "│             ┆          ┆        ┆ Mr. Charles ┆   ┆          ┆          ┆             ┆          │\n",
       "│             ┆          ┆        ┆ Alexander   ┆   ┆          ┆          ┆             ┆          │\n",
       "│ 32          ┆ 1        ┆ 1      ┆ Spencer,    ┆ … ┆ PC 17569 ┆ 146.5208 ┆ B78         ┆ C        │\n",
       "│             ┆          ┆        ┆ Mrs.        ┆   ┆          ┆          ┆             ┆          │\n",
       "│             ┆          ┆        ┆ William     ┆   ┆          ┆          ┆             ┆          │\n",
       "│             ┆          ┆        ┆ Augustus…   ┆   ┆          ┆          ┆             ┆          │\n",
       "│ 89          ┆ 1        ┆ 1      ┆ Fortune,    ┆ … ┆ 19950    ┆ 263.0    ┆ C23 C25 C27 ┆ S        │\n",
       "│             ┆          ┆        ┆ Miss. Mabel ┆   ┆          ┆          ┆             ┆          │\n",
       "│             ┆          ┆        ┆ Helen       ┆   ┆          ┆          ┆             ┆          │\n",
       "│ 119         ┆ 0        ┆ 1      ┆ Baxter, Mr. ┆ … ┆ PC 17558 ┆ 247.5208 ┆ B58 B60     ┆ C        │\n",
       "│             ┆          ┆        ┆ Quigg       ┆   ┆          ┆          ┆             ┆          │\n",
       "│             ┆          ┆        ┆ Edmond      ┆   ┆          ┆          ┆             ┆          │\n",
       "│ 196         ┆ 1        ┆ 1      ┆ Lurette,    ┆ … ┆ PC 17569 ┆ 146.5208 ┆ B80         ┆ C        │\n",
       "│             ┆          ┆        ┆ Miss. Elise ┆   ┆          ┆          ┆             ┆          │\n",
       "│ …           ┆ …        ┆ …      ┆ …           ┆ … ┆ …        ┆ …        ┆ …           ┆ …        │\n",
       "│ 743         ┆ 1        ┆ 1      ┆ Ryerson,    ┆ … ┆ PC 17608 ┆ 262.375  ┆ B57 B59 B63 ┆ C        │\n",
       "│             ┆          ┆        ┆ Miss. Susan ┆   ┆          ┆          ┆ B66         ┆          │\n",
       "│             ┆          ┆        ┆ Parker \"S…  ┆   ┆          ┆          ┆             ┆          │\n",
       "│ 764         ┆ 1        ┆ 1      ┆ Carter,     ┆ … ┆ 113760   ┆ 120.0    ┆ B96 B98     ┆ S        │\n",
       "│             ┆          ┆        ┆ Mrs.        ┆   ┆          ┆          ┆             ┆          │\n",
       "│             ┆          ┆        ┆ William     ┆   ┆          ┆          ┆             ┆          │\n",
       "│             ┆          ┆        ┆ Ernest (L…  ┆   ┆          ┆          ┆             ┆          │\n",
       "│ 780         ┆ 1        ┆ 1      ┆ Robert,     ┆ … ┆ 24160    ┆ 211.3375 ┆ B3          ┆ S        │\n",
       "│             ┆          ┆        ┆ Mrs. Edward ┆   ┆          ┆          ┆             ┆          │\n",
       "│             ┆          ┆        ┆ Scott (Eli… ┆   ┆          ┆          ┆             ┆          │\n",
       "│ 803         ┆ 1        ┆ 1      ┆ Carter,     ┆ … ┆ 113760   ┆ 120.0    ┆ B96 B98     ┆ S        │\n",
       "│             ┆          ┆        ┆ Master.     ┆   ┆          ┆          ┆             ┆          │\n",
       "│             ┆          ┆        ┆ William     ┆   ┆          ┆          ┆             ┆          │\n",
       "│             ┆          ┆        ┆ Thornt…     ┆   ┆          ┆          ┆             ┆          │\n",
       "│ 857         ┆ 1        ┆ 1      ┆ Wick, Mrs.  ┆ … ┆ 36928    ┆ 164.8667 ┆ null        ┆ S        │\n",
       "│             ┆          ┆        ┆ George      ┆   ┆          ┆          ┆             ┆          │\n",
       "│             ┆          ┆        ┆ Dennick     ┆   ┆          ┆          ┆             ┆          │\n",
       "│             ┆          ┆        ┆ (Mar…       ┆   ┆          ┆          ┆             ┆          │\n",
       "└─────────────┴──────────┴────────┴─────────────┴───┴──────────┴──────────┴─────────────┴──────────┘"
      ]
     },
     "execution_count": 70,
     "metadata": {},
     "output_type": "execute_result"
    }
   ],
   "source": [
    "df.filter((pl.col('Pclass')==1)&(pl.col('Fare')>100))"
   ]
  },
  {
   "cell_type": "code",
   "execution_count": 71,
   "id": "3ae08032-5900-4300-88ef-3ae693af4105",
   "metadata": {},
   "outputs": [
    {
     "data": {
      "text/html": [
       "<div><style>\n",
       ".dataframe > thead > tr,\n",
       ".dataframe > tbody > tr {\n",
       "  text-align: right;\n",
       "  white-space: pre-wrap;\n",
       "}\n",
       "</style>\n",
       "<small>shape: (891, 13)</small><table border=\"1\" class=\"dataframe\"><thead><tr><th>PassengerId</th><th>Survived</th><th>Pclass</th><th>Name</th><th>Sex</th><th>Age</th><th>SibSp</th><th>Parch</th><th>Ticket</th><th>Fare</th><th>Cabin</th><th>Embarked</th><th>Fare_in_USD</th></tr><tr><td>i64</td><td>i64</td><td>i64</td><td>str</td><td>str</td><td>f64</td><td>i64</td><td>i64</td><td>str</td><td>f64</td><td>str</td><td>str</td><td>f64</td></tr></thead><tbody><tr><td>1</td><td>0</td><td>3</td><td>&quot;Braund, Mr. Owen Harris&quot;</td><td>&quot;male&quot;</td><td>22.0</td><td>1</td><td>0</td><td>&quot;A/5 21171&quot;</td><td>7.25</td><td>null</td><td>&quot;S&quot;</td><td>9.2075</td></tr><tr><td>2</td><td>1</td><td>1</td><td>&quot;Cumings, Mrs. John Bradley (Fl…</td><td>&quot;female&quot;</td><td>38.0</td><td>1</td><td>0</td><td>&quot;PC 17599&quot;</td><td>71.2833</td><td>&quot;C85&quot;</td><td>&quot;C&quot;</td><td>90.529791</td></tr><tr><td>3</td><td>1</td><td>3</td><td>&quot;Heikkinen, Miss. Laina&quot;</td><td>&quot;female&quot;</td><td>26.0</td><td>0</td><td>0</td><td>&quot;STON/O2. 3101282&quot;</td><td>7.925</td><td>null</td><td>&quot;S&quot;</td><td>10.06475</td></tr><tr><td>4</td><td>1</td><td>1</td><td>&quot;Futrelle, Mrs. Jacques Heath (…</td><td>&quot;female&quot;</td><td>35.0</td><td>1</td><td>0</td><td>&quot;113803&quot;</td><td>53.1</td><td>&quot;C123&quot;</td><td>&quot;S&quot;</td><td>67.437</td></tr><tr><td>5</td><td>0</td><td>3</td><td>&quot;Allen, Mr. William Henry&quot;</td><td>&quot;male&quot;</td><td>35.0</td><td>0</td><td>0</td><td>&quot;373450&quot;</td><td>8.05</td><td>null</td><td>&quot;S&quot;</td><td>10.2235</td></tr><tr><td>&hellip;</td><td>&hellip;</td><td>&hellip;</td><td>&hellip;</td><td>&hellip;</td><td>&hellip;</td><td>&hellip;</td><td>&hellip;</td><td>&hellip;</td><td>&hellip;</td><td>&hellip;</td><td>&hellip;</td><td>&hellip;</td></tr><tr><td>887</td><td>0</td><td>2</td><td>&quot;Montvila, Rev. Juozas&quot;</td><td>&quot;male&quot;</td><td>27.0</td><td>0</td><td>0</td><td>&quot;211536&quot;</td><td>13.0</td><td>null</td><td>&quot;S&quot;</td><td>16.51</td></tr><tr><td>888</td><td>1</td><td>1</td><td>&quot;Graham, Miss. Margaret Edith&quot;</td><td>&quot;female&quot;</td><td>19.0</td><td>0</td><td>0</td><td>&quot;112053&quot;</td><td>30.0</td><td>&quot;B42&quot;</td><td>&quot;S&quot;</td><td>38.1</td></tr><tr><td>889</td><td>0</td><td>3</td><td>&quot;Johnston, Miss. Catherine Hele…</td><td>&quot;female&quot;</td><td>null</td><td>1</td><td>2</td><td>&quot;W./C. 6607&quot;</td><td>23.45</td><td>null</td><td>&quot;S&quot;</td><td>29.7815</td></tr><tr><td>890</td><td>1</td><td>1</td><td>&quot;Behr, Mr. Karl Howell&quot;</td><td>&quot;male&quot;</td><td>26.0</td><td>0</td><td>0</td><td>&quot;111369&quot;</td><td>30.0</td><td>&quot;C148&quot;</td><td>&quot;C&quot;</td><td>38.1</td></tr><tr><td>891</td><td>0</td><td>3</td><td>&quot;Dooley, Mr. Patrick&quot;</td><td>&quot;male&quot;</td><td>32.0</td><td>0</td><td>0</td><td>&quot;370376&quot;</td><td>7.75</td><td>null</td><td>&quot;Q&quot;</td><td>9.8425</td></tr></tbody></table></div>"
      ],
      "text/plain": [
       "shape: (891, 13)\n",
       "┌─────────────┬──────────┬────────┬─────────────────┬───┬─────────┬───────┬──────────┬─────────────┐\n",
       "│ PassengerId ┆ Survived ┆ Pclass ┆ Name            ┆ … ┆ Fare    ┆ Cabin ┆ Embarked ┆ Fare_in_USD │\n",
       "│ ---         ┆ ---      ┆ ---    ┆ ---             ┆   ┆ ---     ┆ ---   ┆ ---      ┆ ---         │\n",
       "│ i64         ┆ i64      ┆ i64    ┆ str             ┆   ┆ f64     ┆ str   ┆ str      ┆ f64         │\n",
       "╞═════════════╪══════════╪════════╪═════════════════╪═══╪═════════╪═══════╪══════════╪═════════════╡\n",
       "│ 1           ┆ 0        ┆ 3      ┆ Braund, Mr.     ┆ … ┆ 7.25    ┆ null  ┆ S        ┆ 9.2075      │\n",
       "│             ┆          ┆        ┆ Owen Harris     ┆   ┆         ┆       ┆          ┆             │\n",
       "│ 2           ┆ 1        ┆ 1      ┆ Cumings, Mrs.   ┆ … ┆ 71.2833 ┆ C85   ┆ C        ┆ 90.529791   │\n",
       "│             ┆          ┆        ┆ John Bradley    ┆   ┆         ┆       ┆          ┆             │\n",
       "│             ┆          ┆        ┆ (Fl…            ┆   ┆         ┆       ┆          ┆             │\n",
       "│ 3           ┆ 1        ┆ 3      ┆ Heikkinen,      ┆ … ┆ 7.925   ┆ null  ┆ S        ┆ 10.06475    │\n",
       "│             ┆          ┆        ┆ Miss. Laina     ┆   ┆         ┆       ┆          ┆             │\n",
       "│ 4           ┆ 1        ┆ 1      ┆ Futrelle, Mrs.  ┆ … ┆ 53.1    ┆ C123  ┆ S        ┆ 67.437      │\n",
       "│             ┆          ┆        ┆ Jacques Heath   ┆   ┆         ┆       ┆          ┆             │\n",
       "│             ┆          ┆        ┆ (…              ┆   ┆         ┆       ┆          ┆             │\n",
       "│ 5           ┆ 0        ┆ 3      ┆ Allen, Mr.      ┆ … ┆ 8.05    ┆ null  ┆ S        ┆ 10.2235     │\n",
       "│             ┆          ┆        ┆ William Henry   ┆   ┆         ┆       ┆          ┆             │\n",
       "│ …           ┆ …        ┆ …      ┆ …               ┆ … ┆ …       ┆ …     ┆ …        ┆ …           │\n",
       "│ 887         ┆ 0        ┆ 2      ┆ Montvila, Rev.  ┆ … ┆ 13.0    ┆ null  ┆ S        ┆ 16.51       │\n",
       "│             ┆          ┆        ┆ Juozas          ┆   ┆         ┆       ┆          ┆             │\n",
       "│ 888         ┆ 1        ┆ 1      ┆ Graham, Miss.   ┆ … ┆ 30.0    ┆ B42   ┆ S        ┆ 38.1        │\n",
       "│             ┆          ┆        ┆ Margaret Edith  ┆   ┆         ┆       ┆          ┆             │\n",
       "│ 889         ┆ 0        ┆ 3      ┆ Johnston, Miss. ┆ … ┆ 23.45   ┆ null  ┆ S        ┆ 29.7815     │\n",
       "│             ┆          ┆        ┆ Catherine Hele… ┆   ┆         ┆       ┆          ┆             │\n",
       "│ 890         ┆ 1        ┆ 1      ┆ Behr, Mr. Karl  ┆ … ┆ 30.0    ┆ C148  ┆ C        ┆ 38.1        │\n",
       "│             ┆          ┆        ┆ Howell          ┆   ┆         ┆       ┆          ┆             │\n",
       "│ 891         ┆ 0        ┆ 3      ┆ Dooley, Mr.     ┆ … ┆ 7.75    ┆ null  ┆ Q        ┆ 9.8425      │\n",
       "│             ┆          ┆        ┆ Patrick         ┆   ┆         ┆       ┆          ┆             │\n",
       "└─────────────┴──────────┴────────┴─────────────────┴───┴─────────┴───────┴──────────┴─────────────┘"
      ]
     },
     "execution_count": 71,
     "metadata": {},
     "output_type": "execute_result"
    }
   ],
   "source": [
    "df.with_columns((pl.col(\"Fare\")*1.27).alias('Fare_in_USD'))"
   ]
  },
  {
   "cell_type": "code",
   "execution_count": 72,
   "id": "fd252bca-657c-46fb-aa15-3cdbff42a946",
   "metadata": {},
   "outputs": [
    {
     "data": {
      "text/html": [
       "<div><style>\n",
       ".dataframe > thead > tr,\n",
       ".dataframe > tbody > tr {\n",
       "  text-align: right;\n",
       "  white-space: pre-wrap;\n",
       "}\n",
       "</style>\n",
       "<small>shape: (55, 12)</small><table border=\"1\" class=\"dataframe\"><thead><tr><th>PassengerId</th><th>Survived</th><th>Pclass</th><th>Name</th><th>Sex</th><th>Age</th><th>SibSp</th><th>Parch</th><th>Ticket</th><th>Fare</th><th>Cabin</th><th>Embarked</th></tr><tr><td>i64</td><td>i64</td><td>i64</td><td>str</td><td>str</td><td>f64</td><td>i64</td><td>i64</td><td>str</td><td>f64</td><td>str</td><td>str</td></tr></thead><tbody><tr><td>10</td><td>1</td><td>2</td><td>&quot;Nasser, Mrs. Nicholas (Adele A…</td><td>&quot;female&quot;</td><td>14.0</td><td>1</td><td>0</td><td>&quot;237736&quot;</td><td>30.0708</td><td>null</td><td>&quot;C&quot;</td></tr><tr><td>11</td><td>1</td><td>3</td><td>&quot;Sandstrom, Miss. Marguerite Ru…</td><td>&quot;female&quot;</td><td>4.0</td><td>1</td><td>1</td><td>&quot;PP 9549&quot;</td><td>16.7</td><td>&quot;G6&quot;</td><td>&quot;S&quot;</td></tr><tr><td>15</td><td>0</td><td>3</td><td>&quot;Vestrom, Miss. Hulda Amanda Ad…</td><td>&quot;female&quot;</td><td>14.0</td><td>0</td><td>0</td><td>&quot;350406&quot;</td><td>7.8542</td><td>null</td><td>&quot;S&quot;</td></tr><tr><td>23</td><td>1</td><td>3</td><td>&quot;McGowan, Miss. Anna &quot;Annie&quot;&quot;</td><td>&quot;female&quot;</td><td>15.0</td><td>0</td><td>0</td><td>&quot;330923&quot;</td><td>8.0292</td><td>null</td><td>&quot;Q&quot;</td></tr><tr><td>25</td><td>0</td><td>3</td><td>&quot;Palsson, Miss. Torborg Danira&quot;</td><td>&quot;female&quot;</td><td>8.0</td><td>3</td><td>1</td><td>&quot;349909&quot;</td><td>21.075</td><td>null</td><td>&quot;S&quot;</td></tr><tr><td>&hellip;</td><td>&hellip;</td><td>&hellip;</td><td>&hellip;</td><td>&hellip;</td><td>&hellip;</td><td>&hellip;</td><td>&hellip;</td><td>&hellip;</td><td>&hellip;</td><td>&hellip;</td><td>&hellip;</td></tr><tr><td>814</td><td>0</td><td>3</td><td>&quot;Andersson, Miss. Ebba Iris Alf…</td><td>&quot;female&quot;</td><td>6.0</td><td>4</td><td>2</td><td>&quot;347082&quot;</td><td>31.275</td><td>null</td><td>&quot;S&quot;</td></tr><tr><td>831</td><td>1</td><td>3</td><td>&quot;Yasbeck, Mrs. Antoni (Selini A…</td><td>&quot;female&quot;</td><td>15.0</td><td>1</td><td>0</td><td>&quot;2659&quot;</td><td>14.4542</td><td>null</td><td>&quot;C&quot;</td></tr><tr><td>853</td><td>0</td><td>3</td><td>&quot;Boulos, Miss. Nourelain&quot;</td><td>&quot;female&quot;</td><td>9.0</td><td>1</td><td>1</td><td>&quot;2678&quot;</td><td>15.2458</td><td>null</td><td>&quot;C&quot;</td></tr><tr><td>854</td><td>1</td><td>1</td><td>&quot;Lines, Miss. Mary Conover&quot;</td><td>&quot;female&quot;</td><td>16.0</td><td>0</td><td>1</td><td>&quot;PC 17592&quot;</td><td>39.4</td><td>&quot;D28&quot;</td><td>&quot;S&quot;</td></tr><tr><td>876</td><td>1</td><td>3</td><td>&quot;Najib, Miss. Adele Kiamie &quot;Jan…</td><td>&quot;female&quot;</td><td>15.0</td><td>0</td><td>0</td><td>&quot;2667&quot;</td><td>7.225</td><td>null</td><td>&quot;C&quot;</td></tr></tbody></table></div>"
      ],
      "text/plain": [
       "shape: (55, 12)\n",
       "┌─────────────┬──────────┬────────┬────────────────────┬───┬──────────┬─────────┬───────┬──────────┐\n",
       "│ PassengerId ┆ Survived ┆ Pclass ┆ Name               ┆ … ┆ Ticket   ┆ Fare    ┆ Cabin ┆ Embarked │\n",
       "│ ---         ┆ ---      ┆ ---    ┆ ---                ┆   ┆ ---      ┆ ---     ┆ ---   ┆ ---      │\n",
       "│ i64         ┆ i64      ┆ i64    ┆ str                ┆   ┆ str      ┆ f64     ┆ str   ┆ str      │\n",
       "╞═════════════╪══════════╪════════╪════════════════════╪═══╪══════════╪═════════╪═══════╪══════════╡\n",
       "│ 10          ┆ 1        ┆ 2      ┆ Nasser, Mrs.       ┆ … ┆ 237736   ┆ 30.0708 ┆ null  ┆ C        │\n",
       "│             ┆          ┆        ┆ Nicholas (Adele A… ┆   ┆          ┆         ┆       ┆          │\n",
       "│ 11          ┆ 1        ┆ 3      ┆ Sandstrom, Miss.   ┆ … ┆ PP 9549  ┆ 16.7    ┆ G6    ┆ S        │\n",
       "│             ┆          ┆        ┆ Marguerite Ru…     ┆   ┆          ┆         ┆       ┆          │\n",
       "│ 15          ┆ 0        ┆ 3      ┆ Vestrom, Miss.     ┆ … ┆ 350406   ┆ 7.8542  ┆ null  ┆ S        │\n",
       "│             ┆          ┆        ┆ Hulda Amanda Ad…   ┆   ┆          ┆         ┆       ┆          │\n",
       "│ 23          ┆ 1        ┆ 3      ┆ McGowan, Miss.     ┆ … ┆ 330923   ┆ 8.0292  ┆ null  ┆ Q        │\n",
       "│             ┆          ┆        ┆ Anna \"Annie\"       ┆   ┆          ┆         ┆       ┆          │\n",
       "│ 25          ┆ 0        ┆ 3      ┆ Palsson, Miss.     ┆ … ┆ 349909   ┆ 21.075  ┆ null  ┆ S        │\n",
       "│             ┆          ┆        ┆ Torborg Danira     ┆   ┆          ┆         ┆       ┆          │\n",
       "│ …           ┆ …        ┆ …      ┆ …                  ┆ … ┆ …        ┆ …       ┆ …     ┆ …        │\n",
       "│ 814         ┆ 0        ┆ 3      ┆ Andersson, Miss.   ┆ … ┆ 347082   ┆ 31.275  ┆ null  ┆ S        │\n",
       "│             ┆          ┆        ┆ Ebba Iris Alf…     ┆   ┆          ┆         ┆       ┆          │\n",
       "│ 831         ┆ 1        ┆ 3      ┆ Yasbeck, Mrs.      ┆ … ┆ 2659     ┆ 14.4542 ┆ null  ┆ C        │\n",
       "│             ┆          ┆        ┆ Antoni (Selini A…  ┆   ┆          ┆         ┆       ┆          │\n",
       "│ 853         ┆ 0        ┆ 3      ┆ Boulos, Miss.      ┆ … ┆ 2678     ┆ 15.2458 ┆ null  ┆ C        │\n",
       "│             ┆          ┆        ┆ Nourelain          ┆   ┆          ┆         ┆       ┆          │\n",
       "│ 854         ┆ 1        ┆ 1      ┆ Lines, Miss. Mary  ┆ … ┆ PC 17592 ┆ 39.4    ┆ D28   ┆ S        │\n",
       "│             ┆          ┆        ┆ Conover            ┆   ┆          ┆         ┆       ┆          │\n",
       "│ 876         ┆ 1        ┆ 3      ┆ Najib, Miss. Adele ┆ … ┆ 2667     ┆ 7.225   ┆ null  ┆ C        │\n",
       "│             ┆          ┆        ┆ Kiamie \"Jan…       ┆   ┆          ┆         ┆       ┆          │\n",
       "└─────────────┴──────────┴────────┴────────────────────┴───┴──────────┴─────────┴───────┴──────────┘"
      ]
     },
     "execution_count": 72,
     "metadata": {},
     "output_type": "execute_result"
    }
   ],
   "source": [
    "df.filter((pl.col('Sex') == 'female')& (pl.col(\"Age\")<18))"
   ]
  },
  {
   "cell_type": "code",
   "execution_count": 73,
   "id": "543c0734-33e1-4db9-8286-cda41f5205de",
   "metadata": {},
   "outputs": [
    {
     "data": {
      "text/html": [
       "<div><style>\n",
       ".dataframe > thead > tr,\n",
       ".dataframe > tbody > tr {\n",
       "  text-align: right;\n",
       "  white-space: pre-wrap;\n",
       "}\n",
       "</style>\n",
       "<small>shape: (891, 13)</small><table border=\"1\" class=\"dataframe\"><thead><tr><th>PassengerId</th><th>Survived</th><th>Pclass</th><th>Name</th><th>Sex</th><th>Age</th><th>SibSp</th><th>Parch</th><th>Ticket</th><th>Fare</th><th>Cabin</th><th>Embarked</th><th>Number of relatives</th></tr><tr><td>i64</td><td>i64</td><td>i64</td><td>str</td><td>str</td><td>f64</td><td>i64</td><td>i64</td><td>str</td><td>f64</td><td>str</td><td>str</td><td>i64</td></tr></thead><tbody><tr><td>1</td><td>0</td><td>3</td><td>&quot;Braund, Mr. Owen Harris&quot;</td><td>&quot;male&quot;</td><td>22.0</td><td>1</td><td>0</td><td>&quot;A/5 21171&quot;</td><td>7.25</td><td>null</td><td>&quot;S&quot;</td><td>1</td></tr><tr><td>2</td><td>1</td><td>1</td><td>&quot;Cumings, Mrs. John Bradley (Fl…</td><td>&quot;female&quot;</td><td>38.0</td><td>1</td><td>0</td><td>&quot;PC 17599&quot;</td><td>71.2833</td><td>&quot;C85&quot;</td><td>&quot;C&quot;</td><td>1</td></tr><tr><td>3</td><td>1</td><td>3</td><td>&quot;Heikkinen, Miss. Laina&quot;</td><td>&quot;female&quot;</td><td>26.0</td><td>0</td><td>0</td><td>&quot;STON/O2. 3101282&quot;</td><td>7.925</td><td>null</td><td>&quot;S&quot;</td><td>0</td></tr><tr><td>4</td><td>1</td><td>1</td><td>&quot;Futrelle, Mrs. Jacques Heath (…</td><td>&quot;female&quot;</td><td>35.0</td><td>1</td><td>0</td><td>&quot;113803&quot;</td><td>53.1</td><td>&quot;C123&quot;</td><td>&quot;S&quot;</td><td>1</td></tr><tr><td>5</td><td>0</td><td>3</td><td>&quot;Allen, Mr. William Henry&quot;</td><td>&quot;male&quot;</td><td>35.0</td><td>0</td><td>0</td><td>&quot;373450&quot;</td><td>8.05</td><td>null</td><td>&quot;S&quot;</td><td>0</td></tr><tr><td>&hellip;</td><td>&hellip;</td><td>&hellip;</td><td>&hellip;</td><td>&hellip;</td><td>&hellip;</td><td>&hellip;</td><td>&hellip;</td><td>&hellip;</td><td>&hellip;</td><td>&hellip;</td><td>&hellip;</td><td>&hellip;</td></tr><tr><td>887</td><td>0</td><td>2</td><td>&quot;Montvila, Rev. Juozas&quot;</td><td>&quot;male&quot;</td><td>27.0</td><td>0</td><td>0</td><td>&quot;211536&quot;</td><td>13.0</td><td>null</td><td>&quot;S&quot;</td><td>0</td></tr><tr><td>888</td><td>1</td><td>1</td><td>&quot;Graham, Miss. Margaret Edith&quot;</td><td>&quot;female&quot;</td><td>19.0</td><td>0</td><td>0</td><td>&quot;112053&quot;</td><td>30.0</td><td>&quot;B42&quot;</td><td>&quot;S&quot;</td><td>0</td></tr><tr><td>889</td><td>0</td><td>3</td><td>&quot;Johnston, Miss. Catherine Hele…</td><td>&quot;female&quot;</td><td>null</td><td>1</td><td>2</td><td>&quot;W./C. 6607&quot;</td><td>23.45</td><td>null</td><td>&quot;S&quot;</td><td>3</td></tr><tr><td>890</td><td>1</td><td>1</td><td>&quot;Behr, Mr. Karl Howell&quot;</td><td>&quot;male&quot;</td><td>26.0</td><td>0</td><td>0</td><td>&quot;111369&quot;</td><td>30.0</td><td>&quot;C148&quot;</td><td>&quot;C&quot;</td><td>0</td></tr><tr><td>891</td><td>0</td><td>3</td><td>&quot;Dooley, Mr. Patrick&quot;</td><td>&quot;male&quot;</td><td>32.0</td><td>0</td><td>0</td><td>&quot;370376&quot;</td><td>7.75</td><td>null</td><td>&quot;Q&quot;</td><td>0</td></tr></tbody></table></div>"
      ],
      "text/plain": [
       "shape: (891, 13)\n",
       "┌─────────────┬──────────┬────────┬───────────────────┬───┬─────────┬───────┬──────────┬───────────┐\n",
       "│ PassengerId ┆ Survived ┆ Pclass ┆ Name              ┆ … ┆ Fare    ┆ Cabin ┆ Embarked ┆ Number of │\n",
       "│ ---         ┆ ---      ┆ ---    ┆ ---               ┆   ┆ ---     ┆ ---   ┆ ---      ┆ relatives │\n",
       "│ i64         ┆ i64      ┆ i64    ┆ str               ┆   ┆ f64     ┆ str   ┆ str      ┆ ---       │\n",
       "│             ┆          ┆        ┆                   ┆   ┆         ┆       ┆          ┆ i64       │\n",
       "╞═════════════╪══════════╪════════╪═══════════════════╪═══╪═════════╪═══════╪══════════╪═══════════╡\n",
       "│ 1           ┆ 0        ┆ 3      ┆ Braund, Mr. Owen  ┆ … ┆ 7.25    ┆ null  ┆ S        ┆ 1         │\n",
       "│             ┆          ┆        ┆ Harris            ┆   ┆         ┆       ┆          ┆           │\n",
       "│ 2           ┆ 1        ┆ 1      ┆ Cumings, Mrs.     ┆ … ┆ 71.2833 ┆ C85   ┆ C        ┆ 1         │\n",
       "│             ┆          ┆        ┆ John Bradley (Fl… ┆   ┆         ┆       ┆          ┆           │\n",
       "│ 3           ┆ 1        ┆ 3      ┆ Heikkinen, Miss.  ┆ … ┆ 7.925   ┆ null  ┆ S        ┆ 0         │\n",
       "│             ┆          ┆        ┆ Laina             ┆   ┆         ┆       ┆          ┆           │\n",
       "│ 4           ┆ 1        ┆ 1      ┆ Futrelle, Mrs.    ┆ … ┆ 53.1    ┆ C123  ┆ S        ┆ 1         │\n",
       "│             ┆          ┆        ┆ Jacques Heath (…  ┆   ┆         ┆       ┆          ┆           │\n",
       "│ 5           ┆ 0        ┆ 3      ┆ Allen, Mr.        ┆ … ┆ 8.05    ┆ null  ┆ S        ┆ 0         │\n",
       "│             ┆          ┆        ┆ William Henry     ┆   ┆         ┆       ┆          ┆           │\n",
       "│ …           ┆ …        ┆ …      ┆ …                 ┆ … ┆ …       ┆ …     ┆ …        ┆ …         │\n",
       "│ 887         ┆ 0        ┆ 2      ┆ Montvila, Rev.    ┆ … ┆ 13.0    ┆ null  ┆ S        ┆ 0         │\n",
       "│             ┆          ┆        ┆ Juozas            ┆   ┆         ┆       ┆          ┆           │\n",
       "│ 888         ┆ 1        ┆ 1      ┆ Graham, Miss.     ┆ … ┆ 30.0    ┆ B42   ┆ S        ┆ 0         │\n",
       "│             ┆          ┆        ┆ Margaret Edith    ┆   ┆         ┆       ┆          ┆           │\n",
       "│ 889         ┆ 0        ┆ 3      ┆ Johnston, Miss.   ┆ … ┆ 23.45   ┆ null  ┆ S        ┆ 3         │\n",
       "│             ┆          ┆        ┆ Catherine Hele…   ┆   ┆         ┆       ┆          ┆           │\n",
       "│ 890         ┆ 1        ┆ 1      ┆ Behr, Mr. Karl    ┆ … ┆ 30.0    ┆ C148  ┆ C        ┆ 0         │\n",
       "│             ┆          ┆        ┆ Howell            ┆   ┆         ┆       ┆          ┆           │\n",
       "│ 891         ┆ 0        ┆ 3      ┆ Dooley, Mr.       ┆ … ┆ 7.75    ┆ null  ┆ Q        ┆ 0         │\n",
       "│             ┆          ┆        ┆ Patrick           ┆   ┆         ┆       ┆          ┆           │\n",
       "└─────────────┴──────────┴────────┴───────────────────┴───┴─────────┴───────┴──────────┴───────────┘"
      ]
     },
     "execution_count": 73,
     "metadata": {},
     "output_type": "execute_result"
    }
   ],
   "source": [
    "df.with_columns((pl.col('SibSp')+pl.col('Parch')).alias('Number of relatives'))"
   ]
  },
  {
   "cell_type": "code",
   "execution_count": 75,
   "id": "b479fe52-b344-4647-8a15-f565fc45dced",
   "metadata": {},
   "outputs": [
    {
     "data": {
      "text/plain": [
       "['PassengerId',\n",
       " 'Survived',\n",
       " 'Pclass',\n",
       " 'Name',\n",
       " 'Sex',\n",
       " 'Age',\n",
       " 'SibSp',\n",
       " 'Parch',\n",
       " 'Ticket',\n",
       " 'Fare',\n",
       " 'Cabin',\n",
       " 'Embarked']"
      ]
     },
     "execution_count": 75,
     "metadata": {},
     "output_type": "execute_result"
    }
   ],
   "source": [
    "df.columns"
   ]
  },
  {
   "cell_type": "markdown",
   "id": "35500b0e-c378-40fd-afe8-81450860a025",
   "metadata": {},
   "source": [
    "Lesson 11-2\n",
    "==\n",
    "Сложные фильтры\n",
    "--"
   ]
  },
  {
   "cell_type": "code",
   "execution_count": 89,
   "id": "5582fde9-1ddf-41cc-9b80-d98c82805471",
   "metadata": {},
   "outputs": [
    {
     "name": "stdout",
     "output_type": "stream",
     "text": [
      "shape: (5, 3)\n",
      "┌─────────────┬────────┬──────────────┐\n",
      "│ price       ┆ year   ┆ type         │\n",
      "│ ---         ┆ ---    ┆ ---          │\n",
      "│ f64         ┆ f64    ┆ str          │\n",
      "╞═════════════╪════════╪══════════════╡\n",
      "│ 707.529256  ┆ 2018.0 ┆ encyclopedia │\n",
      "│ 1025.203348 ┆ 1992.0 ┆ textbook     │\n",
      "│ 568.548657  ┆ 1990.0 ┆ encyclopedia │\n",
      "│ 895.109864  ┆ 1995.0 ┆ newspaper    │\n",
      "│ 206.532754  ┆ 1986.0 ┆ book         │\n",
      "└─────────────┴────────┴──────────────┘\n",
      "shape: (9, 4)\n",
      "┌────────────┬─────────────┬─────────────┬──────────┐\n",
      "│ statistic  ┆ price       ┆ year        ┆ type     │\n",
      "│ ---        ┆ ---         ┆ ---         ┆ ---      │\n",
      "│ str        ┆ f64         ┆ f64         ┆ str      │\n",
      "╞════════════╪═════════════╪═════════════╪══════════╡\n",
      "│ count      ┆ 50000.0     ┆ 48749.0     ┆ 50000    │\n",
      "│ null_count ┆ 0.0         ┆ 1251.0      ┆ 0        │\n",
      "│ mean       ┆ 1003.51169  ┆ 2004.470553 ┆ null     │\n",
      "│ std        ┆ 1000.386795 ┆ 11.52278    ┆ null     │\n",
      "│ min        ┆ 0.007358    ┆ 1985.0      ┆ book     │\n",
      "│ 25%        ┆ 292.38947   ┆ 1994.0      ┆ null     │\n",
      "│ 50%        ┆ 697.459594  ┆ 2004.0      ┆ null     │\n",
      "│ 75%        ┆ 1392.214487 ┆ 2014.0      ┆ null     │\n",
      "│ max        ┆ 9777.052347 ┆ 2024.0      ┆ textbook │\n",
      "└────────────┴─────────────┴─────────────┴──────────┘\n"
     ]
    }
   ],
   "source": [
    "df=pl.read_csv('books_data.csv', null_values='NaN')\n",
    "print(df.head())\n",
    "print(df.describe())\n"
   ]
  },
  {
   "cell_type": "code",
   "execution_count": 90,
   "id": "11bfe71e-fd86-4e23-b8f9-e60d81931869",
   "metadata": {},
   "outputs": [
    {
     "data": {
      "text/html": [
       "<div><style>\n",
       ".dataframe > thead > tr,\n",
       ".dataframe > tbody > tr {\n",
       "  text-align: right;\n",
       "  white-space: pre-wrap;\n",
       "}\n",
       "</style>\n",
       "<small>shape: (50_000,)</small><table border=\"1\" class=\"dataframe\"><thead><tr><th>price</th></tr><tr><td>bool</td></tr></thead><tbody><tr><td>false</td></tr><tr><td>false</td></tr><tr><td>false</td></tr><tr><td>false</td></tr><tr><td>false</td></tr><tr><td>&hellip;</td></tr><tr><td>false</td></tr><tr><td>false</td></tr><tr><td>false</td></tr><tr><td>false</td></tr><tr><td>false</td></tr></tbody></table></div>"
      ],
      "text/plain": [
       "shape: (50_000,)\n",
       "Series: 'price' [bool]\n",
       "[\n",
       "\tfalse\n",
       "\tfalse\n",
       "\tfalse\n",
       "\tfalse\n",
       "\tfalse\n",
       "\t…\n",
       "\tfalse\n",
       "\tfalse\n",
       "\tfalse\n",
       "\tfalse\n",
       "\tfalse\n",
       "]"
      ]
     },
     "execution_count": 90,
     "metadata": {},
     "output_type": "execute_result"
    }
   ],
   "source": [
    "#пропуски\n",
    "df['price'].is_null()"
   ]
  },
  {
   "cell_type": "code",
   "execution_count": 91,
   "id": "db3cf066-e9dd-49ff-a0ee-e146127cda75",
   "metadata": {},
   "outputs": [
    {
     "data": {
      "text/plain": [
       "0"
      ]
     },
     "execution_count": 91,
     "metadata": {},
     "output_type": "execute_result"
    }
   ],
   "source": [
    "df['price'].is_null().sum()"
   ]
  },
  {
   "cell_type": "code",
   "execution_count": 92,
   "id": "0518e02c-c861-4100-906b-7ca59e26cd43",
   "metadata": {},
   "outputs": [
    {
     "name": "stdout",
     "output_type": "stream",
     "text": [
      "Column price has 0 nulls\n",
      "Column year has 1251 nulls\n",
      "Column type has 0 nulls\n"
     ]
    }
   ],
   "source": [
    "for col in df.columns:\n",
    "    print(f'Column {col} has {df[col].is_null().sum()} nulls')"
   ]
  },
  {
   "cell_type": "code",
   "execution_count": 95,
   "id": "fecf5123-df1b-454f-8be3-61b578f5d0d5",
   "metadata": {},
   "outputs": [
    {
     "data": {
      "text/html": [
       "<div><style>\n",
       ".dataframe > thead > tr,\n",
       ".dataframe > tbody > tr {\n",
       "  text-align: right;\n",
       "  white-space: pre-wrap;\n",
       "}\n",
       "</style>\n",
       "<small>shape: (1, 3)</small><table border=\"1\" class=\"dataframe\"><thead><tr><th>price</th><th>year</th><th>type</th></tr><tr><td>u32</td><td>u32</td><td>u32</td></tr></thead><tbody><tr><td>0</td><td>1251</td><td>0</td></tr></tbody></table></div>"
      ],
      "text/plain": [
       "shape: (1, 3)\n",
       "┌───────┬──────┬──────┐\n",
       "│ price ┆ year ┆ type │\n",
       "│ ---   ┆ ---  ┆ ---  │\n",
       "│ u32   ┆ u32  ┆ u32  │\n",
       "╞═══════╪══════╪══════╡\n",
       "│ 0     ┆ 1251 ┆ 0    │\n",
       "└───────┴──────┴──────┘"
      ]
     },
     "execution_count": 95,
     "metadata": {},
     "output_type": "execute_result"
    }
   ],
   "source": [
    "df.with_columns([pl.col(col).is_null().alias(col) for col in df.columns]).sum()"
   ]
  },
  {
   "cell_type": "code",
   "execution_count": 96,
   "id": "b98c96e1-5fb2-4249-893b-f5df1f72c41c",
   "metadata": {},
   "outputs": [],
   "source": [
    "df = df.drop_nulls()"
   ]
  },
  {
   "cell_type": "code",
   "execution_count": 98,
   "id": "a242f540-20d2-4127-8db1-2456e4fd070c",
   "metadata": {},
   "outputs": [
    {
     "data": {
      "text/html": [
       "<div><style>\n",
       ".dataframe > thead > tr,\n",
       ".dataframe > tbody > tr {\n",
       "  text-align: right;\n",
       "  white-space: pre-wrap;\n",
       "}\n",
       "</style>\n",
       "<small>shape: (48_749, 3)</small><table border=\"1\" class=\"dataframe\"><thead><tr><th>price</th><th>year</th><th>type</th></tr><tr><td>f64</td><td>f64</td><td>str</td></tr></thead><tbody><tr><td>707.529256</td><td>2018.0</td><td>&quot;encyclopedia&quot;</td></tr><tr><td>1025.203348</td><td>1992.0</td><td>&quot;textbook&quot;</td></tr><tr><td>568.548657</td><td>1990.0</td><td>&quot;encyclopedia&quot;</td></tr><tr><td>895.109864</td><td>1995.0</td><td>&quot;newspaper&quot;</td></tr><tr><td>206.532754</td><td>1986.0</td><td>&quot;book&quot;</td></tr><tr><td>&hellip;</td><td>&hellip;</td><td>&hellip;</td></tr><tr><td>1528.844126</td><td>2008.0</td><td>&quot;magazine&quot;</td></tr><tr><td>813.274714</td><td>2022.0</td><td>&quot;newspaper&quot;</td></tr><tr><td>1145.045726</td><td>1986.0</td><td>&quot;textbook&quot;</td></tr><tr><td>475.132386</td><td>2006.0</td><td>&quot;encyclopedia&quot;</td></tr><tr><td>121.605306</td><td>2021.0</td><td>&quot;book&quot;</td></tr></tbody></table></div>"
      ],
      "text/plain": [
       "shape: (48_749, 3)\n",
       "┌─────────────┬────────┬──────────────┐\n",
       "│ price       ┆ year   ┆ type         │\n",
       "│ ---         ┆ ---    ┆ ---          │\n",
       "│ f64         ┆ f64    ┆ str          │\n",
       "╞═════════════╪════════╪══════════════╡\n",
       "│ 707.529256  ┆ 2018.0 ┆ encyclopedia │\n",
       "│ 1025.203348 ┆ 1992.0 ┆ textbook     │\n",
       "│ 568.548657  ┆ 1990.0 ┆ encyclopedia │\n",
       "│ 895.109864  ┆ 1995.0 ┆ newspaper    │\n",
       "│ 206.532754  ┆ 1986.0 ┆ book         │\n",
       "│ …           ┆ …      ┆ …            │\n",
       "│ 1528.844126 ┆ 2008.0 ┆ magazine     │\n",
       "│ 813.274714  ┆ 2022.0 ┆ newspaper    │\n",
       "│ 1145.045726 ┆ 1986.0 ┆ textbook     │\n",
       "│ 475.132386  ┆ 2006.0 ┆ encyclopedia │\n",
       "│ 121.605306  ┆ 2021.0 ┆ book         │\n",
       "└─────────────┴────────┴──────────────┘"
      ]
     },
     "execution_count": 98,
     "metadata": {},
     "output_type": "execute_result"
    }
   ],
   "source": [
    "#Заполнение пропущенных данных:\n",
    "df.with_columns(pl.col('price').forward_fill())"
   ]
  },
  {
   "cell_type": "code",
   "execution_count": 99,
   "id": "b07bcf15-4eaa-422b-bf1c-0c1e5803cc27",
   "metadata": {},
   "outputs": [],
   "source": [
    "df = df.interpolate()"
   ]
  },
  {
   "cell_type": "code",
   "execution_count": 100,
   "id": "a9e1ebbb-3315-4f68-b812-687ded98cf4d",
   "metadata": {},
   "outputs": [
    {
     "data": {
      "text/html": [
       "<div><style>\n",
       ".dataframe > thead > tr,\n",
       ".dataframe > tbody > tr {\n",
       "  text-align: right;\n",
       "  white-space: pre-wrap;\n",
       "}\n",
       "</style>\n",
       "<small>shape: (5, 3)</small><table border=\"1\" class=\"dataframe\"><thead><tr><th>price</th><th>year</th><th>type</th></tr><tr><td>f64</td><td>i32</td><td>str</td></tr></thead><tbody><tr><td>707.529256</td><td>2018</td><td>&quot;encyclopedia&quot;</td></tr><tr><td>1025.203348</td><td>1992</td><td>&quot;textbook&quot;</td></tr><tr><td>568.548657</td><td>1990</td><td>&quot;encyclopedia&quot;</td></tr><tr><td>895.109864</td><td>1995</td><td>&quot;newspaper&quot;</td></tr><tr><td>206.532754</td><td>1986</td><td>&quot;book&quot;</td></tr></tbody></table></div>"
      ],
      "text/plain": [
       "shape: (5, 3)\n",
       "┌─────────────┬──────┬──────────────┐\n",
       "│ price       ┆ year ┆ type         │\n",
       "│ ---         ┆ ---  ┆ ---          │\n",
       "│ f64         ┆ i32  ┆ str          │\n",
       "╞═════════════╪══════╪══════════════╡\n",
       "│ 707.529256  ┆ 2018 ┆ encyclopedia │\n",
       "│ 1025.203348 ┆ 1992 ┆ textbook     │\n",
       "│ 568.548657  ┆ 1990 ┆ encyclopedia │\n",
       "│ 895.109864  ┆ 1995 ┆ newspaper    │\n",
       "│ 206.532754  ┆ 1986 ┆ book         │\n",
       "└─────────────┴──────┴──────────────┘"
      ]
     },
     "execution_count": 100,
     "metadata": {},
     "output_type": "execute_result"
    }
   ],
   "source": [
    "#Изменение типов данных. Кастинг\n",
    "\n",
    "df = df.with_columns(\n",
    "    pl.col('year').cast(pl.Int32)  # or pl.Int64 if larger values are expected\n",
    ")\n",
    "df.head(5)"
   ]
  },
  {
   "cell_type": "code",
   "execution_count": 102,
   "id": "b5800822-e0ce-44ed-a46c-5a8d77d35ca8",
   "metadata": {},
   "outputs": [
    {
     "data": {
      "text/html": [
       "<div><style>\n",
       ".dataframe > thead > tr,\n",
       ".dataframe > tbody > tr {\n",
       "  text-align: right;\n",
       "  white-space: pre-wrap;\n",
       "}\n",
       "</style>\n",
       "<small>shape: (1, 10)</small><table border=\"1\" class=\"dataframe\"><thead><tr><th>count</th><th>null_count</th><th>mean</th><th>std_dev</th><th>median</th><th>min</th><th>25%</th><th>50%</th><th>75%</th><th>max</th></tr><tr><td>u32</td><td>u32</td><td>f64</td><td>f64</td><td>f64</td><td>f64</td><td>f64</td><td>f64</td><td>f64</td><td>f64</td></tr></thead><tbody><tr><td>48749</td><td>0</td><td>1003.21277</td><td>999.483226</td><td>697.897817</td><td>0.007358</td><td>292.631302</td><td>697.897817</td><td>1391.554628</td><td>9777.052347</td></tr></tbody></table></div>"
      ],
      "text/plain": [
       "shape: (1, 10)\n",
       "┌───────┬────────────┬────────────┬────────────┬───┬───────────┬───────────┬───────────┬───────────┐\n",
       "│ count ┆ null_count ┆ mean       ┆ std_dev    ┆ … ┆ 25%       ┆ 50%       ┆ 75%       ┆ max       │\n",
       "│ ---   ┆ ---        ┆ ---        ┆ ---        ┆   ┆ ---       ┆ ---       ┆ ---       ┆ ---       │\n",
       "│ u32   ┆ u32        ┆ f64        ┆ f64        ┆   ┆ f64       ┆ f64       ┆ f64       ┆ f64       │\n",
       "╞═══════╪════════════╪════════════╪════════════╪═══╪═══════════╪═══════════╪═══════════╪═══════════╡\n",
       "│ 48749 ┆ 0          ┆ 1003.21277 ┆ 999.483226 ┆ … ┆ 292.63130 ┆ 697.89781 ┆ 1391.5546 ┆ 9777.0523 │\n",
       "│       ┆            ┆            ┆            ┆   ┆ 2         ┆ 7         ┆ 28        ┆ 47        │\n",
       "└───────┴────────────┴────────────┴────────────┴───┴───────────┴───────────┴───────────┴───────────┘"
      ]
     },
     "execution_count": 102,
     "metadata": {},
     "output_type": "execute_result"
    }
   ],
   "source": [
    "#Операции агрегации\n",
    "df.select([\n",
    "    pl.col(\"price\").count().alias(\"count\"),\n",
    "    pl.col(\"price\").null_count().alias(\"null_count\"),\n",
    "    pl.col(\"price\").mean().alias(\"mean\"),\n",
    "    pl.col(\"price\").std().alias(\"std_dev\"),\n",
    "    pl.col(\"price\").median().alias(\"median\"),\n",
    "    pl.col(\"price\").min().alias(\"min\"),\n",
    "    pl.col(\"price\").quantile(0.25).alias(\"25%\"),\n",
    "    pl.col(\"price\").quantile(0.5).alias(\"50%\"),\n",
    "    pl.col(\"price\").quantile(0.75).alias(\"75%\"),\n",
    "    pl.col(\"price\").max().alias(\"max\"),\n",
    "])\n",
    "\n"
   ]
  },
  {
   "cell_type": "code",
   "execution_count": 120,
   "id": "57a9657c-7d6d-4c1f-82c2-88ccb029d236",
   "metadata": {},
   "outputs": [
    {
     "data": {
      "text/html": [
       "<div><style>\n",
       ".dataframe > thead > tr,\n",
       ".dataframe > tbody > tr {\n",
       "  text-align: right;\n",
       "  white-space: pre-wrap;\n",
       "}\n",
       "</style>\n",
       "<small>shape: (5, 4)</small><table border=\"1\" class=\"dataframe\"><thead><tr><th>type</th><th>mean_price</th><th>median_year</th><th>len</th></tr><tr><td>str</td><td>f64</td><td>f64</td><td>u32</td></tr></thead><tbody><tr><td>&quot;magazine&quot;</td><td>1017.264036</td><td>2004.0</td><td>9775</td></tr><tr><td>&quot;textbook&quot;</td><td>997.108481</td><td>2005.0</td><td>9778</td></tr><tr><td>&quot;newspaper&quot;</td><td>993.036589</td><td>2004.0</td><td>9730</td></tr><tr><td>&quot;encyclopedia&quot;</td><td>1010.639895</td><td>2004.0</td><td>9744</td></tr><tr><td>&quot;book&quot;</td><td>997.964977</td><td>2005.0</td><td>9722</td></tr></tbody></table></div>"
      ],
      "text/plain": [
       "shape: (5, 4)\n",
       "┌──────────────┬─────────────┬─────────────┬──────┐\n",
       "│ type         ┆ mean_price  ┆ median_year ┆ len  │\n",
       "│ ---          ┆ ---         ┆ ---         ┆ ---  │\n",
       "│ str          ┆ f64         ┆ f64         ┆ u32  │\n",
       "╞══════════════╪═════════════╪═════════════╪══════╡\n",
       "│ magazine     ┆ 1017.264036 ┆ 2004.0      ┆ 9775 │\n",
       "│ textbook     ┆ 997.108481  ┆ 2005.0      ┆ 9778 │\n",
       "│ newspaper    ┆ 993.036589  ┆ 2004.0      ┆ 9730 │\n",
       "│ encyclopedia ┆ 1010.639895 ┆ 2004.0      ┆ 9744 │\n",
       "│ book         ┆ 997.964977  ┆ 2005.0      ┆ 9722 │\n",
       "└──────────────┴─────────────┴─────────────┴──────┘"
      ]
     },
     "execution_count": 120,
     "metadata": {},
     "output_type": "execute_result"
    }
   ],
   "source": [
    "#group_by\n",
    "df.group_by(\"type\").agg(\n",
    "    (\n",
    "        pl.mean(\"price\").alias(\"mean_price\"),\n",
    "        pl.median(\"year\").alias(\"median_year\"),\n",
    "        pl.len(),\n",
    "    ))\n",
    "\n"
   ]
  },
  {
   "cell_type": "code",
   "execution_count": 104,
   "id": "045017de-d4e4-4e2e-9eca-5e48d5a10e99",
   "metadata": {},
   "outputs": [
    {
     "data": {
      "text/html": [
       "<div><style>\n",
       ".dataframe > thead > tr,\n",
       ".dataframe > tbody > tr {\n",
       "  text-align: right;\n",
       "  white-space: pre-wrap;\n",
       "}\n",
       "</style>\n",
       "<small>shape: (5, 4)</small><table border=\"1\" class=\"dataframe\"><thead><tr><th>type</th><th>mean_price</th><th>median_year</th><th>len</th></tr><tr><td>str</td><td>f64</td><td>f64</td><td>u32</td></tr></thead><tbody><tr><td>&quot;book&quot;</td><td>997.964977</td><td>2005.0</td><td>9722</td></tr><tr><td>&quot;magazine&quot;</td><td>1017.264036</td><td>2004.0</td><td>9775</td></tr><tr><td>&quot;newspaper&quot;</td><td>993.036589</td><td>2004.0</td><td>9730</td></tr><tr><td>&quot;textbook&quot;</td><td>997.108481</td><td>2005.0</td><td>9778</td></tr><tr><td>&quot;encyclopedia&quot;</td><td>1010.639895</td><td>2004.0</td><td>9744</td></tr></tbody></table></div>"
      ],
      "text/plain": [
       "shape: (5, 4)\n",
       "┌──────────────┬─────────────┬─────────────┬──────┐\n",
       "│ type         ┆ mean_price  ┆ median_year ┆ len  │\n",
       "│ ---          ┆ ---         ┆ ---         ┆ ---  │\n",
       "│ str          ┆ f64         ┆ f64         ┆ u32  │\n",
       "╞══════════════╪═════════════╪═════════════╪══════╡\n",
       "│ book         ┆ 997.964977  ┆ 2005.0      ┆ 9722 │\n",
       "│ magazine     ┆ 1017.264036 ┆ 2004.0      ┆ 9775 │\n",
       "│ newspaper    ┆ 993.036589  ┆ 2004.0      ┆ 9730 │\n",
       "│ textbook     ┆ 997.108481  ┆ 2005.0      ┆ 9778 │\n",
       "│ encyclopedia ┆ 1010.639895 ┆ 2004.0      ┆ 9744 │\n",
       "└──────────────┴─────────────┴─────────────┴──────┘"
      ]
     },
     "execution_count": 104,
     "metadata": {},
     "output_type": "execute_result"
    }
   ],
   "source": [
    "#group_by\n",
    "df.group_by(\"type\").agg(\n",
    "    [\n",
    "        pl.mean(\"price\").alias(\"mean_price\"),\n",
    "        pl.median(\"year\").alias(\"median_year\"),\n",
    "        pl.len(),\n",
    "    ])\n",
    "\n"
   ]
  },
  {
   "cell_type": "code",
   "execution_count": 109,
   "id": "ea51a531-44cc-48f3-8151-73c11aba4acc",
   "metadata": {},
   "outputs": [
    {
     "data": {
      "text/html": [
       "<div><style>\n",
       ".dataframe > thead > tr,\n",
       ".dataframe > tbody > tr {\n",
       "  text-align: right;\n",
       "  white-space: pre-wrap;\n",
       "}\n",
       "</style>\n",
       "<small>shape: (40, 6)</small><table border=\"1\" class=\"dataframe\"><thead><tr><th>year</th><th>encyclopedia</th><th>newspaper</th><th>magazine</th><th>textbook</th><th>book</th></tr><tr><td>i32</td><td>u32</td><td>u32</td><td>u32</td><td>u32</td><td>u32</td></tr></thead><tbody><tr><td>1993</td><td>286</td><td>224</td><td>271</td><td>245</td><td>260</td></tr><tr><td>2003</td><td>232</td><td>217</td><td>255</td><td>274</td><td>236</td></tr><tr><td>1989</td><td>251</td><td>257</td><td>252</td><td>265</td><td>266</td></tr><tr><td>1990</td><td>225</td><td>232</td><td>248</td><td>230</td><td>244</td></tr><tr><td>2011</td><td>254</td><td>230</td><td>281</td><td>234</td><td>227</td></tr><tr><td>&hellip;</td><td>&hellip;</td><td>&hellip;</td><td>&hellip;</td><td>&hellip;</td><td>&hellip;</td></tr><tr><td>2024</td><td>215</td><td>239</td><td>225</td><td>230</td><td>227</td></tr><tr><td>2016</td><td>238</td><td>241</td><td>242</td><td>265</td><td>232</td></tr><tr><td>2020</td><td>235</td><td>239</td><td>233</td><td>259</td><td>249</td></tr><tr><td>2008</td><td>258</td><td>239</td><td>257</td><td>236</td><td>255</td></tr><tr><td>2012</td><td>255</td><td>246</td><td>227</td><td>260</td><td>238</td></tr></tbody></table></div>"
      ],
      "text/plain": [
       "shape: (40, 6)\n",
       "┌──────┬──────────────┬───────────┬──────────┬──────────┬──────┐\n",
       "│ year ┆ encyclopedia ┆ newspaper ┆ magazine ┆ textbook ┆ book │\n",
       "│ ---  ┆ ---          ┆ ---       ┆ ---      ┆ ---      ┆ ---  │\n",
       "│ i32  ┆ u32          ┆ u32       ┆ u32      ┆ u32      ┆ u32  │\n",
       "╞══════╪══════════════╪═══════════╪══════════╪══════════╪══════╡\n",
       "│ 1993 ┆ 286          ┆ 224       ┆ 271      ┆ 245      ┆ 260  │\n",
       "│ 2003 ┆ 232          ┆ 217       ┆ 255      ┆ 274      ┆ 236  │\n",
       "│ 1989 ┆ 251          ┆ 257       ┆ 252      ┆ 265      ┆ 266  │\n",
       "│ 1990 ┆ 225          ┆ 232       ┆ 248      ┆ 230      ┆ 244  │\n",
       "│ 2011 ┆ 254          ┆ 230       ┆ 281      ┆ 234      ┆ 227  │\n",
       "│ …    ┆ …            ┆ …         ┆ …        ┆ …        ┆ …    │\n",
       "│ 2024 ┆ 215          ┆ 239       ┆ 225      ┆ 230      ┆ 227  │\n",
       "│ 2016 ┆ 238          ┆ 241       ┆ 242      ┆ 265      ┆ 232  │\n",
       "│ 2020 ┆ 235          ┆ 239       ┆ 233      ┆ 259      ┆ 249  │\n",
       "│ 2008 ┆ 258          ┆ 239       ┆ 257      ┆ 236      ┆ 255  │\n",
       "│ 2012 ┆ 255          ┆ 246       ┆ 227      ┆ 260      ┆ 238  │\n",
       "└──────┴──────────────┴───────────┴──────────┴──────────┴──────┘"
      ]
     },
     "execution_count": 109,
     "metadata": {},
     "output_type": "execute_result"
    }
   ],
   "source": [
    "df.group_by([\"type\", \"year\"]).agg([\n",
    "    pl.len()\n",
    "]).pivot(values=\"len\", \n",
    "        index=[\"year\"], \n",
    "        on=['type'])"
   ]
  },
  {
   "cell_type": "code",
   "execution_count": 111,
   "id": "74df776c-a2d6-421b-bd50-6e2f188dffcf",
   "metadata": {},
   "outputs": [
    {
     "data": {
      "text/html": [
       "<div><style>\n",
       ".dataframe > thead > tr,\n",
       ".dataframe > tbody > tr {\n",
       "  text-align: right;\n",
       "  white-space: pre-wrap;\n",
       "}\n",
       "</style>\n",
       "<small>shape: (10, 4)</small><table border=\"1\" class=\"dataframe\"><thead><tr><th>price</th><th>year</th><th>type</th><th>mean_price_by_type</th></tr><tr><td>f64</td><td>i32</td><td>str</td><td>f64</td></tr></thead><tbody><tr><td>206.532754</td><td>1986</td><td>&quot;book&quot;</td><td>997.964977</td></tr><tr><td>2809.215763</td><td>1994</td><td>&quot;book&quot;</td><td>997.964977</td></tr><tr><td>312.145612</td><td>2020</td><td>&quot;book&quot;</td><td>997.964977</td></tr><tr><td>899.770155</td><td>2017</td><td>&quot;book&quot;</td><td>997.964977</td></tr><tr><td>521.318185</td><td>1987</td><td>&quot;book&quot;</td><td>997.964977</td></tr><tr><td>526.535442</td><td>2020</td><td>&quot;book&quot;</td><td>997.964977</td></tr><tr><td>1396.577859</td><td>2021</td><td>&quot;book&quot;</td><td>997.964977</td></tr><tr><td>903.830641</td><td>2021</td><td>&quot;book&quot;</td><td>997.964977</td></tr><tr><td>1748.099214</td><td>2020</td><td>&quot;book&quot;</td><td>997.964977</td></tr><tr><td>127.216709</td><td>1985</td><td>&quot;book&quot;</td><td>997.964977</td></tr></tbody></table></div>"
      ],
      "text/plain": [
       "shape: (10, 4)\n",
       "┌─────────────┬──────┬──────┬────────────────────┐\n",
       "│ price       ┆ year ┆ type ┆ mean_price_by_type │\n",
       "│ ---         ┆ ---  ┆ ---  ┆ ---                │\n",
       "│ f64         ┆ i32  ┆ str  ┆ f64                │\n",
       "╞═════════════╪══════╪══════╪════════════════════╡\n",
       "│ 206.532754  ┆ 1986 ┆ book ┆ 997.964977         │\n",
       "│ 2809.215763 ┆ 1994 ┆ book ┆ 997.964977         │\n",
       "│ 312.145612  ┆ 2020 ┆ book ┆ 997.964977         │\n",
       "│ 899.770155  ┆ 2017 ┆ book ┆ 997.964977         │\n",
       "│ 521.318185  ┆ 1987 ┆ book ┆ 997.964977         │\n",
       "│ 526.535442  ┆ 2020 ┆ book ┆ 997.964977         │\n",
       "│ 1396.577859 ┆ 2021 ┆ book ┆ 997.964977         │\n",
       "│ 903.830641  ┆ 2021 ┆ book ┆ 997.964977         │\n",
       "│ 1748.099214 ┆ 2020 ┆ book ┆ 997.964977         │\n",
       "│ 127.216709  ┆ 1985 ┆ book ┆ 997.964977         │\n",
       "└─────────────┴──────┴──────┴────────────────────┘"
      ]
     },
     "execution_count": 111,
     "metadata": {},
     "output_type": "execute_result"
    }
   ],
   "source": [
    "#Оконные функции\n",
    "df.with_columns([\n",
    "    pl.col(\"price\").mean().over(\"type\").alias(\"mean_price_by_type\")\n",
    "]).sort(by='type').head(10)\n"
   ]
  },
  {
   "cell_type": "code",
   "execution_count": 112,
   "id": "797b18e7-8940-402f-90bc-da399dd2aff4",
   "metadata": {},
   "outputs": [
    {
     "data": {
      "text/html": [
       "<div><style>\n",
       ".dataframe > thead > tr,\n",
       ".dataframe > tbody > tr {\n",
       "  text-align: right;\n",
       "  white-space: pre-wrap;\n",
       "}\n",
       "</style>\n",
       "<small>shape: (1, 2)</small><table border=\"1\" class=\"dataframe\"><thead><tr><th>unique</th><th>unique_approx</th></tr><tr><td>u32</td><td>u32</td></tr></thead><tbody><tr><td>40</td><td>40</td></tr></tbody></table></div>"
      ],
      "text/plain": [
       "shape: (1, 2)\n",
       "┌────────┬───────────────┐\n",
       "│ unique ┆ unique_approx │\n",
       "│ ---    ┆ ---           │\n",
       "│ u32    ┆ u32           │\n",
       "╞════════╪═══════════════╡\n",
       "│ 40     ┆ 40            │\n",
       "└────────┴───────────────┘"
      ]
     },
     "execution_count": 112,
     "metadata": {},
     "output_type": "execute_result"
    }
   ],
   "source": [
    "#Уникальные значения\n",
    "df.select(\n",
    "    pl.col(\"year\").n_unique().alias(\"unique\"),\n",
    "    pl.approx_n_unique(\"year\").alias(\"unique_approx\"),\n",
    ")\n"
   ]
  },
  {
   "cell_type": "code",
   "execution_count": 114,
   "id": "83ac0084-8aac-48a6-81c0-37ac031dcf6f",
   "metadata": {},
   "outputs": [
    {
     "data": {
      "text/html": [
       "<div><style>\n",
       ".dataframe > thead > tr,\n",
       ".dataframe > tbody > tr {\n",
       "  text-align: right;\n",
       "  white-space: pre-wrap;\n",
       "}\n",
       "</style>\n",
       "<small>shape: (5,)</small><table border=\"1\" class=\"dataframe\"><thead><tr><th>type</th></tr><tr><td>str</td></tr></thead><tbody><tr><td>&quot;textbook&quot;</td></tr><tr><td>&quot;encyclopedia&quot;</td></tr><tr><td>&quot;magazine&quot;</td></tr><tr><td>&quot;book&quot;</td></tr><tr><td>&quot;newspaper&quot;</td></tr></tbody></table></div>"
      ],
      "text/plain": [
       "shape: (5,)\n",
       "Series: 'type' [str]\n",
       "[\n",
       "\t\"textbook\"\n",
       "\t\"encyclopedia\"\n",
       "\t\"magazine\"\n",
       "\t\"book\"\n",
       "\t\"newspaper\"\n",
       "]"
      ]
     },
     "execution_count": 114,
     "metadata": {},
     "output_type": "execute_result"
    }
   ],
   "source": [
    "df['type'].unique()"
   ]
  },
  {
   "cell_type": "code",
   "execution_count": 117,
   "id": "0bc27b00-688c-4a5a-9d3c-4e2d08ec9b14",
   "metadata": {},
   "outputs": [],
   "source": [
    "#Сложная фильтрация\n",
    "def is_press(x):\n",
    "    return x=='newspaper'"
   ]
  },
  {
   "cell_type": "code",
   "execution_count": 118,
   "id": "d9dd3352-8152-4dd2-aaa7-fbd84defd1e7",
   "metadata": {},
   "outputs": [
    {
     "data": {
      "text/html": [
       "<div><style>\n",
       ".dataframe > thead > tr,\n",
       ".dataframe > tbody > tr {\n",
       "  text-align: right;\n",
       "  white-space: pre-wrap;\n",
       "}\n",
       "</style>\n",
       "<small>shape: (9_730, 3)</small><table border=\"1\" class=\"dataframe\"><thead><tr><th>price</th><th>year</th><th>type</th></tr><tr><td>f64</td><td>i32</td><td>str</td></tr></thead><tbody><tr><td>895.109864</td><td>1995</td><td>&quot;newspaper&quot;</td></tr><tr><td>9.753627</td><td>2011</td><td>&quot;newspaper&quot;</td></tr><tr><td>3144.673318</td><td>2010</td><td>&quot;newspaper&quot;</td></tr><tr><td>883.565122</td><td>1996</td><td>&quot;newspaper&quot;</td></tr><tr><td>60.046343</td><td>2003</td><td>&quot;newspaper&quot;</td></tr><tr><td>&hellip;</td><td>&hellip;</td><td>&hellip;</td></tr><tr><td>780.862886</td><td>2009</td><td>&quot;newspaper&quot;</td></tr><tr><td>210.606769</td><td>2009</td><td>&quot;newspaper&quot;</td></tr><tr><td>556.339079</td><td>2011</td><td>&quot;newspaper&quot;</td></tr><tr><td>1426.939859</td><td>2019</td><td>&quot;newspaper&quot;</td></tr><tr><td>813.274714</td><td>2022</td><td>&quot;newspaper&quot;</td></tr></tbody></table></div>"
      ],
      "text/plain": [
       "shape: (9_730, 3)\n",
       "┌─────────────┬──────┬───────────┐\n",
       "│ price       ┆ year ┆ type      │\n",
       "│ ---         ┆ ---  ┆ ---       │\n",
       "│ f64         ┆ i32  ┆ str       │\n",
       "╞═════════════╪══════╪═══════════╡\n",
       "│ 895.109864  ┆ 1995 ┆ newspaper │\n",
       "│ 9.753627    ┆ 2011 ┆ newspaper │\n",
       "│ 3144.673318 ┆ 2010 ┆ newspaper │\n",
       "│ 883.565122  ┆ 1996 ┆ newspaper │\n",
       "│ 60.046343   ┆ 2003 ┆ newspaper │\n",
       "│ …           ┆ …    ┆ …         │\n",
       "│ 780.862886  ┆ 2009 ┆ newspaper │\n",
       "│ 210.606769  ┆ 2009 ┆ newspaper │\n",
       "│ 556.339079  ┆ 2011 ┆ newspaper │\n",
       "│ 1426.939859 ┆ 2019 ┆ newspaper │\n",
       "│ 813.274714  ┆ 2022 ┆ newspaper │\n",
       "└─────────────┴──────┴───────────┘"
      ]
     },
     "execution_count": 118,
     "metadata": {},
     "output_type": "execute_result"
    }
   ],
   "source": [
    "df.filter(is_press(pl.col('type')))"
   ]
  },
  {
   "cell_type": "code",
   "execution_count": 119,
   "id": "f469edae-913d-4464-b2fa-0146a7214640",
   "metadata": {},
   "outputs": [
    {
     "data": {
      "text/html": [
       "<div><style>\n",
       ".dataframe > thead > tr,\n",
       ".dataframe > tbody > tr {\n",
       "  text-align: right;\n",
       "  white-space: pre-wrap;\n",
       "}\n",
       "</style>\n",
       "<small>shape: (48_749, 2)</small><table border=\"1\" class=\"dataframe\"><thead><tr><th>year</th><th>conditional</th></tr><tr><td>i32</td><td>bool</td></tr></thead><tbody><tr><td>2018</td><td>true</td></tr><tr><td>1992</td><td>false</td></tr><tr><td>1990</td><td>false</td></tr><tr><td>1995</td><td>false</td></tr><tr><td>1986</td><td>false</td></tr><tr><td>&hellip;</td><td>&hellip;</td></tr><tr><td>2008</td><td>false</td></tr><tr><td>2022</td><td>true</td></tr><tr><td>1986</td><td>false</td></tr><tr><td>2006</td><td>false</td></tr><tr><td>2021</td><td>true</td></tr></tbody></table></div>"
      ],
      "text/plain": [
       "shape: (48_749, 2)\n",
       "┌──────┬─────────────┐\n",
       "│ year ┆ conditional │\n",
       "│ ---  ┆ ---         │\n",
       "│ i32  ┆ bool        │\n",
       "╞══════╪═════════════╡\n",
       "│ 2018 ┆ true        │\n",
       "│ 1992 ┆ false       │\n",
       "│ 1990 ┆ false       │\n",
       "│ 1995 ┆ false       │\n",
       "│ 1986 ┆ false       │\n",
       "│ …    ┆ …           │\n",
       "│ 2008 ┆ false       │\n",
       "│ 2022 ┆ true        │\n",
       "│ 1986 ┆ false       │\n",
       "│ 2006 ┆ false       │\n",
       "│ 2021 ┆ true        │\n",
       "└──────┴─────────────┘"
      ]
     },
     "execution_count": 119,
     "metadata": {},
     "output_type": "execute_result"
    }
   ],
   "source": [
    "#Условия\n",
    "df.select(\n",
    "    pl.col(\"year\"),\n",
    "    pl.when(pl.col(\"year\") > 2014)\n",
    "    .then(pl.lit(True))\n",
    "    .otherwise(pl.lit(False))\n",
    "    .alias(\"conditional\"),\n",
    ")\n"
   ]
  },
  {
   "cell_type": "code",
   "execution_count": null,
   "id": "32cee863-1e9b-4c3d-9e0b-efc880c73f14",
   "metadata": {},
   "outputs": [],
   "source": []
  }
 ],
 "metadata": {
  "kernelspec": {
   "display_name": "Python 3 (ipykernel)",
   "language": "python",
   "name": "python3"
  },
  "language_info": {
   "codemirror_mode": {
    "name": "ipython",
    "version": 3
   },
   "file_extension": ".py",
   "mimetype": "text/x-python",
   "name": "python",
   "nbconvert_exporter": "python",
   "pygments_lexer": "ipython3",
   "version": "3.11.4"
  }
 },
 "nbformat": 4,
 "nbformat_minor": 5
}
