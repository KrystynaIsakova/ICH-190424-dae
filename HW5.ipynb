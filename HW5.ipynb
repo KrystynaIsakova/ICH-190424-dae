{
 "cells": [
  {
   "cell_type": "markdown",
   "id": "9c246c70-317c-45d6-82fd-d3c3fb771475",
   "metadata": {},
   "source": [
    "Работа с временными рядами в pandas:\n",
    "\n",
    "Напишите программу, которая:\n",
    "- Создаёт DataFrame с двумя столбцами: \"Дата\" (в формате дд-мм-гггг) и \"Значение\" (целые числа).\n",
    "- Преобразует столбец \"Дата\" в тип datetime и устанавливает его в качестве индекса DataFrame.\n",
    "- Генерирует временной ряд, заполняя столбец \"Значение\" случайными числами.\n",
    "- Выводит сгенерированный временной ряд.\n",
    "- Запрашивает у пользователя начальную и конечную дату периода для фильтрации.\n",
    "- Выводит временной ряд за указанный период.\n"
   ]
  },
  {
   "cell_type": "code",
   "execution_count": 1,
   "id": "6989eb45-964e-4d41-b9cb-4781794aee9a",
   "metadata": {},
   "outputs": [],
   "source": [
    "import pandas as pd\n",
    "import random"
   ]
  },
  {
   "cell_type": "code",
   "execution_count": 13,
   "id": "98edd593-d0ed-4f7b-8d31-4fe915462f53",
   "metadata": {},
   "outputs": [
    {
     "name": "stdin",
     "output_type": "stream",
     "text": [
      "Введите размер датафрейма:  10\n"
     ]
    },
    {
     "name": "stdout",
     "output_type": "stream",
     "text": [
      "Сгенерированный временной ряд:\n"
     ]
    },
    {
     "data": {
      "text/html": [
       "<div>\n",
       "<style scoped>\n",
       "    .dataframe tbody tr th:only-of-type {\n",
       "        vertical-align: middle;\n",
       "    }\n",
       "\n",
       "    .dataframe tbody tr th {\n",
       "        vertical-align: top;\n",
       "    }\n",
       "\n",
       "    .dataframe thead th {\n",
       "        text-align: right;\n",
       "    }\n",
       "</style>\n",
       "<table border=\"1\" class=\"dataframe\">\n",
       "  <thead>\n",
       "    <tr style=\"text-align: right;\">\n",
       "      <th></th>\n",
       "      <th>Значение</th>\n",
       "    </tr>\n",
       "    <tr>\n",
       "      <th>Дата</th>\n",
       "      <th></th>\n",
       "    </tr>\n",
       "  </thead>\n",
       "  <tbody>\n",
       "    <tr>\n",
       "      <th>01-01-2024</th>\n",
       "      <td>62</td>\n",
       "    </tr>\n",
       "    <tr>\n",
       "      <th>02-01-2024</th>\n",
       "      <td>78</td>\n",
       "    </tr>\n",
       "    <tr>\n",
       "      <th>03-01-2024</th>\n",
       "      <td>14</td>\n",
       "    </tr>\n",
       "    <tr>\n",
       "      <th>04-01-2024</th>\n",
       "      <td>6</td>\n",
       "    </tr>\n",
       "    <tr>\n",
       "      <th>05-01-2024</th>\n",
       "      <td>76</td>\n",
       "    </tr>\n",
       "    <tr>\n",
       "      <th>06-01-2024</th>\n",
       "      <td>66</td>\n",
       "    </tr>\n",
       "    <tr>\n",
       "      <th>07-01-2024</th>\n",
       "      <td>70</td>\n",
       "    </tr>\n",
       "    <tr>\n",
       "      <th>08-01-2024</th>\n",
       "      <td>60</td>\n",
       "    </tr>\n",
       "    <tr>\n",
       "      <th>09-01-2024</th>\n",
       "      <td>96</td>\n",
       "    </tr>\n",
       "    <tr>\n",
       "      <th>10-01-2024</th>\n",
       "      <td>29</td>\n",
       "    </tr>\n",
       "  </tbody>\n",
       "</table>\n",
       "</div>"
      ],
      "text/plain": [
       "            Значение\n",
       "Дата                \n",
       "01-01-2024        62\n",
       "02-01-2024        78\n",
       "03-01-2024        14\n",
       "04-01-2024         6\n",
       "05-01-2024        76\n",
       "06-01-2024        66\n",
       "07-01-2024        70\n",
       "08-01-2024        60\n",
       "09-01-2024        96\n",
       "10-01-2024        29"
      ]
     },
     "metadata": {},
     "output_type": "display_data"
    },
    {
     "name": "stdin",
     "output_type": "stream",
     "text": [
      "Введите начальную дату (дд-мм-гггг): 02-01-2024\n",
      "Введите конечную дату (дд-мм-гггг): 08-01-2024\n"
     ]
    },
    {
     "name": "stdout",
     "output_type": "stream",
     "text": [
      "Временной ряд за указанный период:\n"
     ]
    },
    {
     "data": {
      "text/html": [
       "<div>\n",
       "<style scoped>\n",
       "    .dataframe tbody tr th:only-of-type {\n",
       "        vertical-align: middle;\n",
       "    }\n",
       "\n",
       "    .dataframe tbody tr th {\n",
       "        vertical-align: top;\n",
       "    }\n",
       "\n",
       "    .dataframe thead th {\n",
       "        text-align: right;\n",
       "    }\n",
       "</style>\n",
       "<table border=\"1\" class=\"dataframe\">\n",
       "  <thead>\n",
       "    <tr style=\"text-align: right;\">\n",
       "      <th></th>\n",
       "      <th>Значение</th>\n",
       "    </tr>\n",
       "    <tr>\n",
       "      <th>Дата</th>\n",
       "      <th></th>\n",
       "    </tr>\n",
       "  </thead>\n",
       "  <tbody>\n",
       "    <tr>\n",
       "      <th>02-01-2024</th>\n",
       "      <td>78</td>\n",
       "    </tr>\n",
       "    <tr>\n",
       "      <th>03-01-2024</th>\n",
       "      <td>14</td>\n",
       "    </tr>\n",
       "    <tr>\n",
       "      <th>04-01-2024</th>\n",
       "      <td>6</td>\n",
       "    </tr>\n",
       "    <tr>\n",
       "      <th>05-01-2024</th>\n",
       "      <td>76</td>\n",
       "    </tr>\n",
       "    <tr>\n",
       "      <th>06-01-2024</th>\n",
       "      <td>66</td>\n",
       "    </tr>\n",
       "    <tr>\n",
       "      <th>07-01-2024</th>\n",
       "      <td>70</td>\n",
       "    </tr>\n",
       "    <tr>\n",
       "      <th>08-01-2024</th>\n",
       "      <td>60</td>\n",
       "    </tr>\n",
       "  </tbody>\n",
       "</table>\n",
       "</div>"
      ],
      "text/plain": [
       "            Значение\n",
       "Дата                \n",
       "02-01-2024        78\n",
       "03-01-2024        14\n",
       "04-01-2024         6\n",
       "05-01-2024        76\n",
       "06-01-2024        66\n",
       "07-01-2024        70\n",
       "08-01-2024        60"
      ]
     },
     "metadata": {},
     "output_type": "display_data"
    }
   ],
   "source": [
    "\n",
    "n = int(input('Введите размер датафрейма: '))\n",
    "values = [random.randint(1,100) for _ in range(n)]\n",
    "date_range = pd.date_range(start = '20240101',\n",
    "                     periods=n)\n",
    "df = pd.DataFrame({'Дата': date_range.strftime('%d-%m-%Y'),\n",
    "                  'Значение':  values})\n",
    "\n",
    "df.set_index('Дата', inplace=True)\n",
    "print('Сгенерированный временной ряд:')\n",
    "display(df)\n",
    "start = input('Введите начальную дату (дд-мм-гггг):')\n",
    "end = input('Введите конечную дату (дд-мм-гггг):')\n",
    "print('Временной ряд за указанный период:')\n",
    "display(df.loc[start:end])"
   ]
  },
  {
   "cell_type": "markdown",
   "id": "6c32b618-2929-4a47-b34d-1ced77af22a3",
   "metadata": {},
   "source": [
    " Работа с несколькими DataFrame\n",
    "\n",
    "Напишите программу, которая:\n",
    "- Создаёт DataFrame с тремя столбцами: \"Товар\", “Откуда”, “Куда” (в последних двух столбцах указываются города).\n",
    "- Создаёт второй DataFrame с двумя столбцами: \"Город\", “Страна”.\n",
    "- На основе слияния двух предыдущих DataFrame создает третий, в котором для каждого товара вместо городов доставки будут указаны страны. Лишних столбцов в этом DataFrame быть не должно, только \"Товар\", “Откуда”, “Куда” (в последних двух столбцах указываются страны)\n",
    "- Добавьте в последний DataFrame новый столбец “Внутри_страны”, который принимает логические значения (True, если доставка осуществляется внутри страны).\n",
    "- Вычислите, сколько в наших данных доставок внутри страны. \n"
   ]
  },
  {
   "cell_type": "code",
   "execution_count": 2,
   "id": "183f8f61-af86-4824-bccf-e175fc8fbf75",
   "metadata": {},
   "outputs": [],
   "source": [
    "df1 = pd.DataFrame({'Товар':  ['Посуда', 'Шоколад', 'Футболка', 'Кофе', 'Духи', 'Постельное белье', 'Футболка', 'Микроволновка', 'Шампунь', 'Сыр', 'Крем для лица', 'Посуда', 'Обувь', 'Крем для лица', 'Шампунь', 'Футболка', 'Микроволновка', 'Книга', 'Шоколад', 'Сыр'],\n",
    "                   'Откуда': ['Лондон', 'Будапешт', 'Амстердам', 'Мадрид', 'Берлин', 'Рим', 'Берлин', 'Рим', 'Берлин', 'Лондон', 'Рим', 'Стокгольм', 'Будапешт', 'Амстердам', 'Мадрид', 'Прага', 'Амстердам', 'Амстердам', 'Париж', 'Лондон'],\n",
    "                   'Куда':['Лондон', 'Будапешт', 'Прага', 'Лондон', 'Будапешт', 'Стокгольм', 'Мадрид', 'Прага', 'Берлин', 'Стокгольм', 'Берлин', 'Лондон', 'Мадрид', 'Будапешт', 'Будапешт', 'Стокгольм', 'Амстердам', 'Стокгольм', 'Мадрид', 'Стокгольм']})"
   ]
  },
  {
   "cell_type": "code",
   "execution_count": 3,
   "id": "2f010f7f-b0d4-4aa1-81b2-511fe81ff2af",
   "metadata": {},
   "outputs": [],
   "source": [
    "df2 = pd.DataFrame({'Город': ['Париж', 'Берлин', 'Мадрид', 'Рим', 'Лондон', 'Амстердам', 'Вена', 'Прага', 'Будапешт', 'Стокгольм'],\n",
    "                   'Страна': ['Франция', 'Германия', 'Испания', 'Италия', 'Великобритания', 'Нидерланды', 'Австрия', 'Чехия', 'Венгрия', 'Швеция']})"
   ]
  },
  {
   "cell_type": "code",
   "execution_count": 4,
   "id": "ad7cb606-ef3a-45bf-95f7-699ee7f46603",
   "metadata": {},
   "outputs": [],
   "source": [
    "df1.to_csv('goods.csv',index=False)\n",
    "df2.to_csv('cities-countries.csv', index=False)"
   ]
  },
  {
   "cell_type": "code",
   "execution_count": 32,
   "id": "f889f0c6-b5dc-44bb-9741-4bacdeaa3d37",
   "metadata": {},
   "outputs": [],
   "source": [
    "df = df1.join(df2.set_index('Город'),\n",
    "         on = 'Откуда').drop('Откуда',axis=1).rename(columns = {'Страна': 'Откуда'})\n",
    "df = df.join(df2.set_index('Город'),\n",
    "         on = 'Куда').drop('Куда',axis=1).rename(columns = {'Страна': 'Куда'})\n",
    "df.loc[:,'Внутри_страны']=df['Откуда']==df['Куда']\n"
   ]
  },
  {
   "cell_type": "code",
   "execution_count": 33,
   "id": "140b7795-9723-45ef-95d5-420b40506b1f",
   "metadata": {},
   "outputs": [
    {
     "data": {
      "text/html": [
       "<div>\n",
       "<style scoped>\n",
       "    .dataframe tbody tr th:only-of-type {\n",
       "        vertical-align: middle;\n",
       "    }\n",
       "\n",
       "    .dataframe tbody tr th {\n",
       "        vertical-align: top;\n",
       "    }\n",
       "\n",
       "    .dataframe thead th {\n",
       "        text-align: right;\n",
       "    }\n",
       "</style>\n",
       "<table border=\"1\" class=\"dataframe\">\n",
       "  <thead>\n",
       "    <tr style=\"text-align: right;\">\n",
       "      <th></th>\n",
       "      <th>Товар</th>\n",
       "      <th>Откуда</th>\n",
       "      <th>Куда</th>\n",
       "      <th>Внутри_страны</th>\n",
       "    </tr>\n",
       "  </thead>\n",
       "  <tbody>\n",
       "    <tr>\n",
       "      <th>0</th>\n",
       "      <td>Посуда</td>\n",
       "      <td>Великобритания</td>\n",
       "      <td>Великобритания</td>\n",
       "      <td>True</td>\n",
       "    </tr>\n",
       "    <tr>\n",
       "      <th>1</th>\n",
       "      <td>Шоколад</td>\n",
       "      <td>Венгрия</td>\n",
       "      <td>Венгрия</td>\n",
       "      <td>True</td>\n",
       "    </tr>\n",
       "    <tr>\n",
       "      <th>2</th>\n",
       "      <td>Футболка</td>\n",
       "      <td>Нидерланды</td>\n",
       "      <td>Чехия</td>\n",
       "      <td>False</td>\n",
       "    </tr>\n",
       "    <tr>\n",
       "      <th>3</th>\n",
       "      <td>Кофе</td>\n",
       "      <td>Испания</td>\n",
       "      <td>Великобритания</td>\n",
       "      <td>False</td>\n",
       "    </tr>\n",
       "    <tr>\n",
       "      <th>4</th>\n",
       "      <td>Духи</td>\n",
       "      <td>Германия</td>\n",
       "      <td>Венгрия</td>\n",
       "      <td>False</td>\n",
       "    </tr>\n",
       "  </tbody>\n",
       "</table>\n",
       "</div>"
      ],
      "text/plain": [
       "      Товар          Откуда            Куда  Внутри_страны\n",
       "0    Посуда  Великобритания  Великобритания           True\n",
       "1   Шоколад         Венгрия         Венгрия           True\n",
       "2  Футболка      Нидерланды           Чехия          False\n",
       "3      Кофе         Испания  Великобритания          False\n",
       "4      Духи        Германия         Венгрия          False"
      ]
     },
     "execution_count": 33,
     "metadata": {},
     "output_type": "execute_result"
    }
   ],
   "source": [
    "df.head()"
   ]
  },
  {
   "cell_type": "code",
   "execution_count": 35,
   "id": "50c91a46-538e-4100-b437-91b58b722706",
   "metadata": {},
   "outputs": [
    {
     "data": {
      "text/plain": [
       "Внутри_страны\n",
       "False    16\n",
       "True      4\n",
       "Name: Товар, dtype: int64"
      ]
     },
     "execution_count": 35,
     "metadata": {},
     "output_type": "execute_result"
    }
   ],
   "source": [
    "df.groupby('Внутри_страны')['Товар'].count()"
   ]
  },
  {
   "cell_type": "code",
   "execution_count": 36,
   "id": "c73f9209-d3f4-4b69-b41b-75b6f29e968d",
   "metadata": {},
   "outputs": [
    {
     "data": {
      "text/plain": [
       "Внутри_страны\n",
       "False    16\n",
       "True      4\n",
       "Name: count, dtype: int64"
      ]
     },
     "execution_count": 36,
     "metadata": {},
     "output_type": "execute_result"
    }
   ],
   "source": [
    "df['Внутри_страны'].value_counts()"
   ]
  },
  {
   "cell_type": "code",
   "execution_count": 37,
   "id": "5a73b77e-1c8c-4751-9b9b-0489b98ace1e",
   "metadata": {},
   "outputs": [
    {
     "data": {
      "text/plain": [
       "Внутри_страны\n",
       "False    0.8\n",
       "True     0.2\n",
       "Name: proportion, dtype: float64"
      ]
     },
     "execution_count": 37,
     "metadata": {},
     "output_type": "execute_result"
    }
   ],
   "source": [
    "df['Внутри_страны'].value_counts(normalize=True)"
   ]
  },
  {
   "cell_type": "markdown",
   "id": "43870572-e542-447e-9be2-9a62322b0b72",
   "metadata": {},
   "source": [
    "\n",
    "\n",
    "Напишите программу, которая:\n",
    "\n",
    "Запрашивает у пользователя количество строк данных для ввода.\n",
    "Для каждой строки запрашивает данные по трем столбцам: \"Имя\", \"Возраст\", \"Регион\", разделённые пробелом.\n",
    "Создает DataFrame на основе введенных данных.\n",
    "Выводит общую информацию о DataFrame, включая количество записей, средний возраст, и количество уникальных регионов.\n",
    "Выбирает и выводит на экран данные о самом молодом участнике.\n",
    "\n",
    "\n"
   ]
  },
  {
   "cell_type": "code",
   "execution_count": 39,
   "id": "92d960e2-8527-4878-83dd-cae9a1b2f1dd",
   "metadata": {},
   "outputs": [
    {
     "name": "stdin",
     "output_type": "stream",
     "text": [
      "Введите количество записей:  2\n"
     ]
    },
    {
     "name": "stdout",
     "output_type": "stream",
     "text": [
      "Для каждой записи введите имя, возраст и регион\n"
     ]
    },
    {
     "name": "stdin",
     "output_type": "stream",
     "text": [
      "Введите через пробел имя, возраст и регион:  крис 36 бавария\n",
      "Введите через пробел имя, возраст и регион:  алекс 31 бавария\n"
     ]
    }
   ],
   "source": [
    "n = int(input('Введите количество записей: '))\n",
    "data = list()\n",
    "print('Для каждой записи введите имя, возраст и регион')\n",
    "for _ in range(n):\n",
    "    data.append(input('Введите через пробел имя, возраст и регион: ').split())\n",
    "df = pd.DataFrame(columns = ['Имя', 'Возраст', 'Регион'],\n",
    "                 data = data,\n",
    "                 dtype=)\n",
    "df['Возраст'] = df['Возраст'].astype(int)"
   ]
  },
  {
   "cell_type": "code",
   "execution_count": 46,
   "id": "623ffae5-a6c0-4a46-bc17-2969c2493918",
   "metadata": {},
   "outputs": [
    {
     "data": {
      "text/html": [
       "<div>\n",
       "<style scoped>\n",
       "    .dataframe tbody tr th:only-of-type {\n",
       "        vertical-align: middle;\n",
       "    }\n",
       "\n",
       "    .dataframe tbody tr th {\n",
       "        vertical-align: top;\n",
       "    }\n",
       "\n",
       "    .dataframe thead th {\n",
       "        text-align: right;\n",
       "    }\n",
       "</style>\n",
       "<table border=\"1\" class=\"dataframe\">\n",
       "  <thead>\n",
       "    <tr style=\"text-align: right;\">\n",
       "      <th></th>\n",
       "      <th>Имя</th>\n",
       "      <th>Возраст</th>\n",
       "      <th>Регион</th>\n",
       "    </tr>\n",
       "  </thead>\n",
       "  <tbody>\n",
       "    <tr>\n",
       "      <th>1</th>\n",
       "      <td>алекс</td>\n",
       "      <td>31</td>\n",
       "      <td>бавария</td>\n",
       "    </tr>\n",
       "  </tbody>\n",
       "</table>\n",
       "</div>"
      ],
      "text/plain": [
       "     Имя  Возраст   Регион\n",
       "1  алекс       31  бавария"
      ]
     },
     "execution_count": 46,
     "metadata": {},
     "output_type": "execute_result"
    }
   ],
   "source": [
    "df[df['Возраст']==df['Возраст'].min()]"
   ]
  },
  {
   "cell_type": "code",
   "execution_count": null,
   "id": "b1d719e0-66b6-4abd-a3ab-f7040698d71c",
   "metadata": {},
   "outputs": [],
   "source": []
  },
  {
   "cell_type": "code",
   "execution_count": 45,
   "id": "a0bdd517-a016-4280-abbc-7f09a0d56af9",
   "metadata": {},
   "outputs": [
    {
     "data": {
      "text/html": [
       "<div>\n",
       "<style scoped>\n",
       "    .dataframe tbody tr th:only-of-type {\n",
       "        vertical-align: middle;\n",
       "    }\n",
       "\n",
       "    .dataframe tbody tr th {\n",
       "        vertical-align: top;\n",
       "    }\n",
       "\n",
       "    .dataframe thead th {\n",
       "        text-align: right;\n",
       "    }\n",
       "</style>\n",
       "<table border=\"1\" class=\"dataframe\">\n",
       "  <thead>\n",
       "    <tr style=\"text-align: right;\">\n",
       "      <th></th>\n",
       "      <th>Возраст</th>\n",
       "    </tr>\n",
       "  </thead>\n",
       "  <tbody>\n",
       "    <tr>\n",
       "      <th>count</th>\n",
       "      <td>2.000000</td>\n",
       "    </tr>\n",
       "    <tr>\n",
       "      <th>mean</th>\n",
       "      <td>33.500000</td>\n",
       "    </tr>\n",
       "    <tr>\n",
       "      <th>std</th>\n",
       "      <td>3.535534</td>\n",
       "    </tr>\n",
       "    <tr>\n",
       "      <th>min</th>\n",
       "      <td>31.000000</td>\n",
       "    </tr>\n",
       "    <tr>\n",
       "      <th>25%</th>\n",
       "      <td>32.250000</td>\n",
       "    </tr>\n",
       "    <tr>\n",
       "      <th>50%</th>\n",
       "      <td>33.500000</td>\n",
       "    </tr>\n",
       "    <tr>\n",
       "      <th>75%</th>\n",
       "      <td>34.750000</td>\n",
       "    </tr>\n",
       "    <tr>\n",
       "      <th>max</th>\n",
       "      <td>36.000000</td>\n",
       "    </tr>\n",
       "  </tbody>\n",
       "</table>\n",
       "</div>"
      ],
      "text/plain": [
       "         Возраст\n",
       "count   2.000000\n",
       "mean   33.500000\n",
       "std     3.535534\n",
       "min    31.000000\n",
       "25%    32.250000\n",
       "50%    33.500000\n",
       "75%    34.750000\n",
       "max    36.000000"
      ]
     },
     "execution_count": 45,
     "metadata": {},
     "output_type": "execute_result"
    }
   ],
   "source": []
  },
  {
   "cell_type": "code",
   "execution_count": null,
   "id": "6e540eae-6176-44f2-a432-b7d807875536",
   "metadata": {},
   "outputs": [],
   "source": []
  }
 ],
 "metadata": {
  "kernelspec": {
   "display_name": "Python 3 (ipykernel)",
   "language": "python",
   "name": "python3"
  },
  "language_info": {
   "codemirror_mode": {
    "name": "ipython",
    "version": 3
   },
   "file_extension": ".py",
   "mimetype": "text/x-python",
   "name": "python",
   "nbconvert_exporter": "python",
   "pygments_lexer": "ipython3",
   "version": "3.11.4"
  }
 },
 "nbformat": 4,
 "nbformat_minor": 5
}
