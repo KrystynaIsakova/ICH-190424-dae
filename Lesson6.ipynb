{
 "cells": [
  {
   "cell_type": "markdown",
   "id": "68f62c2c-df46-4fb0-a4ae-1abc23ab0d22",
   "metadata": {},
   "source": [
    "Lesson 6.1\n",
    "---"
   ]
  },
  {
   "cell_type": "code",
   "execution_count": 1,
   "id": "80f95fba-20ff-4322-90b8-b6a20a1d8187",
   "metadata": {},
   "outputs": [],
   "source": [
    "import pandas as pd\n",
    "import numpy as np"
   ]
  },
  {
   "cell_type": "code",
   "execution_count": 2,
   "id": "ac6b0007-2b7d-4250-ba95-49ee2541812b",
   "metadata": {},
   "outputs": [
    {
     "data": {
      "text/html": [
       "<div>\n",
       "<style scoped>\n",
       "    .dataframe tbody tr th:only-of-type {\n",
       "        vertical-align: middle;\n",
       "    }\n",
       "\n",
       "    .dataframe tbody tr th {\n",
       "        vertical-align: top;\n",
       "    }\n",
       "\n",
       "    .dataframe thead th {\n",
       "        text-align: right;\n",
       "    }\n",
       "</style>\n",
       "<table border=\"1\" class=\"dataframe\">\n",
       "  <thead>\n",
       "    <tr style=\"text-align: right;\">\n",
       "      <th></th>\n",
       "      <th>Специальность</th>\n",
       "      <th>Врач</th>\n",
       "      <th>Диагноз</th>\n",
       "      <th>Доза</th>\n",
       "      <th>Продолжительность</th>\n",
       "    </tr>\n",
       "  </thead>\n",
       "  <tbody>\n",
       "    <tr>\n",
       "      <th>0</th>\n",
       "      <td>Ветеринар</td>\n",
       "      <td>Андрей</td>\n",
       "      <td>Простуда</td>\n",
       "      <td>3</td>\n",
       "      <td>1</td>\n",
       "    </tr>\n",
       "    <tr>\n",
       "      <th>1</th>\n",
       "      <td>Ветеринар</td>\n",
       "      <td>Сергей</td>\n",
       "      <td>Простуда</td>\n",
       "      <td>2</td>\n",
       "      <td>4</td>\n",
       "    </tr>\n",
       "    <tr>\n",
       "      <th>2</th>\n",
       "      <td>Психолог</td>\n",
       "      <td>Ирина</td>\n",
       "      <td>Простуда</td>\n",
       "      <td>4</td>\n",
       "      <td>1</td>\n",
       "    </tr>\n",
       "    <tr>\n",
       "      <th>3</th>\n",
       "      <td>Психолог</td>\n",
       "      <td>Андрей</td>\n",
       "      <td>Волнения</td>\n",
       "      <td>2</td>\n",
       "      <td>5</td>\n",
       "    </tr>\n",
       "    <tr>\n",
       "      <th>4</th>\n",
       "      <td>Ветеринар</td>\n",
       "      <td>Сергей</td>\n",
       "      <td>Волнения</td>\n",
       "      <td>5</td>\n",
       "      <td>1</td>\n",
       "    </tr>\n",
       "    <tr>\n",
       "      <th>5</th>\n",
       "      <td>Ветеринар</td>\n",
       "      <td>Ирина</td>\n",
       "      <td>Простуда</td>\n",
       "      <td>2</td>\n",
       "      <td>3</td>\n",
       "    </tr>\n",
       "    <tr>\n",
       "      <th>6</th>\n",
       "      <td>Психолог</td>\n",
       "      <td>Андрей</td>\n",
       "      <td>Простуда</td>\n",
       "      <td>4</td>\n",
       "      <td>1</td>\n",
       "    </tr>\n",
       "    <tr>\n",
       "      <th>7</th>\n",
       "      <td>Психолог</td>\n",
       "      <td>Сергей</td>\n",
       "      <td>Простуда</td>\n",
       "      <td>2</td>\n",
       "      <td>4</td>\n",
       "    </tr>\n",
       "    <tr>\n",
       "      <th>8</th>\n",
       "      <td>Ветеринар</td>\n",
       "      <td>Ирина</td>\n",
       "      <td>Простуда</td>\n",
       "      <td>4</td>\n",
       "      <td>1</td>\n",
       "    </tr>\n",
       "    <tr>\n",
       "      <th>9</th>\n",
       "      <td>Ветеринар</td>\n",
       "      <td>Андрей</td>\n",
       "      <td>Волнения</td>\n",
       "      <td>4</td>\n",
       "      <td>4</td>\n",
       "    </tr>\n",
       "    <tr>\n",
       "      <th>10</th>\n",
       "      <td>Психолог</td>\n",
       "      <td>Сергей</td>\n",
       "      <td>Волнения</td>\n",
       "      <td>4</td>\n",
       "      <td>3</td>\n",
       "    </tr>\n",
       "    <tr>\n",
       "      <th>11</th>\n",
       "      <td>Психолог</td>\n",
       "      <td>Ирина</td>\n",
       "      <td>Простуда</td>\n",
       "      <td>5</td>\n",
       "      <td>4</td>\n",
       "    </tr>\n",
       "    <tr>\n",
       "      <th>12</th>\n",
       "      <td>Ветеринар</td>\n",
       "      <td>Андрей</td>\n",
       "      <td>Простуда</td>\n",
       "      <td>1</td>\n",
       "      <td>5</td>\n",
       "    </tr>\n",
       "    <tr>\n",
       "      <th>13</th>\n",
       "      <td>Ветеринар</td>\n",
       "      <td>Сергей</td>\n",
       "      <td>Простуда</td>\n",
       "      <td>4</td>\n",
       "      <td>3</td>\n",
       "    </tr>\n",
       "    <tr>\n",
       "      <th>14</th>\n",
       "      <td>Психолог</td>\n",
       "      <td>Ирина</td>\n",
       "      <td>Простуда</td>\n",
       "      <td>1</td>\n",
       "      <td>3</td>\n",
       "    </tr>\n",
       "    <tr>\n",
       "      <th>15</th>\n",
       "      <td>Психолог</td>\n",
       "      <td>Андрей</td>\n",
       "      <td>Волнения</td>\n",
       "      <td>2</td>\n",
       "      <td>5</td>\n",
       "    </tr>\n",
       "    <tr>\n",
       "      <th>16</th>\n",
       "      <td>Ветеринар</td>\n",
       "      <td>Сергей</td>\n",
       "      <td>Волнения</td>\n",
       "      <td>3</td>\n",
       "      <td>1</td>\n",
       "    </tr>\n",
       "    <tr>\n",
       "      <th>17</th>\n",
       "      <td>Ветеринар</td>\n",
       "      <td>Ирина</td>\n",
       "      <td>Простуда</td>\n",
       "      <td>4</td>\n",
       "      <td>3</td>\n",
       "    </tr>\n",
       "    <tr>\n",
       "      <th>18</th>\n",
       "      <td>Психолог</td>\n",
       "      <td>Андрей</td>\n",
       "      <td>Простуда</td>\n",
       "      <td>5</td>\n",
       "      <td>3</td>\n",
       "    </tr>\n",
       "    <tr>\n",
       "      <th>19</th>\n",
       "      <td>Психолог</td>\n",
       "      <td>Сергей</td>\n",
       "      <td>Простуда</td>\n",
       "      <td>1</td>\n",
       "      <td>5</td>\n",
       "    </tr>\n",
       "    <tr>\n",
       "      <th>20</th>\n",
       "      <td>Ветеринар</td>\n",
       "      <td>Ирина</td>\n",
       "      <td>Простуда</td>\n",
       "      <td>2</td>\n",
       "      <td>4</td>\n",
       "    </tr>\n",
       "    <tr>\n",
       "      <th>21</th>\n",
       "      <td>Ветеринар</td>\n",
       "      <td>Андрей</td>\n",
       "      <td>Волнения</td>\n",
       "      <td>2</td>\n",
       "      <td>4</td>\n",
       "    </tr>\n",
       "    <tr>\n",
       "      <th>22</th>\n",
       "      <td>Психолог</td>\n",
       "      <td>Сергей</td>\n",
       "      <td>Волнения</td>\n",
       "      <td>5</td>\n",
       "      <td>3</td>\n",
       "    </tr>\n",
       "    <tr>\n",
       "      <th>23</th>\n",
       "      <td>Психолог</td>\n",
       "      <td>Ирина</td>\n",
       "      <td>Простуда</td>\n",
       "      <td>2</td>\n",
       "      <td>1</td>\n",
       "    </tr>\n",
       "  </tbody>\n",
       "</table>\n",
       "</div>"
      ],
      "text/plain": [
       "   Специальность    Врач   Диагноз  Доза  Продолжительность\n",
       "0      Ветеринар  Андрей  Простуда     3                  1\n",
       "1      Ветеринар  Сергей  Простуда     2                  4\n",
       "2       Психолог   Ирина  Простуда     4                  1\n",
       "3       Психолог  Андрей  Волнения     2                  5\n",
       "4      Ветеринар  Сергей  Волнения     5                  1\n",
       "5      Ветеринар   Ирина  Простуда     2                  3\n",
       "6       Психолог  Андрей  Простуда     4                  1\n",
       "7       Психолог  Сергей  Простуда     2                  4\n",
       "8      Ветеринар   Ирина  Простуда     4                  1\n",
       "9      Ветеринар  Андрей  Волнения     4                  4\n",
       "10      Психолог  Сергей  Волнения     4                  3\n",
       "11      Психолог   Ирина  Простуда     5                  4\n",
       "12     Ветеринар  Андрей  Простуда     1                  5\n",
       "13     Ветеринар  Сергей  Простуда     4                  3\n",
       "14      Психолог   Ирина  Простуда     1                  3\n",
       "15      Психолог  Андрей  Волнения     2                  5\n",
       "16     Ветеринар  Сергей  Волнения     3                  1\n",
       "17     Ветеринар   Ирина  Простуда     4                  3\n",
       "18      Психолог  Андрей  Простуда     5                  3\n",
       "19      Психолог  Сергей  Простуда     1                  5\n",
       "20     Ветеринар   Ирина  Простуда     2                  4\n",
       "21     Ветеринар  Андрей  Волнения     2                  4\n",
       "22      Психолог  Сергей  Волнения     5                  3\n",
       "23      Психолог   Ирина  Простуда     2                  1"
      ]
     },
     "execution_count": 2,
     "metadata": {},
     "output_type": "execute_result"
    }
   ],
   "source": [
    "\n",
    "df = pd.DataFrame({\n",
    "    'Специальность' : ['Ветеринар', 'Ветеринар',\n",
    "                       'Психолог', 'Психолог'] * 6,\n",
    "    'Врач' : ['Андрей', 'Сергей', 'Ирина'] * 8,\n",
    "    'Диагноз' : ['Простуда', 'Простуда', 'Простуда',\n",
    "                 'Волнения', 'Волнения', 'Простуда'] * 4,\n",
    "    'Доза' : np.random.randint(low=1, high=6,size=24),\n",
    "    'Продолжительность' : np.random.randint(low=1, high=6,size=24)\n",
    "})\n",
    "df\n"
   ]
  },
  {
   "cell_type": "markdown",
   "id": "069ebde6-4a60-4f7a-861d-26e303ca6017",
   "metadata": {},
   "source": [
    "Посчитаем, сколько раз какой врач ставил каждый из диагнозов, а также суммы по строкам и столбцам\n"
   ]
  },
  {
   "cell_type": "code",
   "execution_count": 3,
   "id": "b89c86c0-8e7b-4de6-8ff5-24d7db48e0d7",
   "metadata": {},
   "outputs": [
    {
     "data": {
      "text/html": [
       "<div>\n",
       "<style scoped>\n",
       "    .dataframe tbody tr th:only-of-type {\n",
       "        vertical-align: middle;\n",
       "    }\n",
       "\n",
       "    .dataframe tbody tr th {\n",
       "        vertical-align: top;\n",
       "    }\n",
       "\n",
       "    .dataframe thead th {\n",
       "        text-align: right;\n",
       "    }\n",
       "</style>\n",
       "<table border=\"1\" class=\"dataframe\">\n",
       "  <thead>\n",
       "    <tr style=\"text-align: right;\">\n",
       "      <th>Диагноз</th>\n",
       "      <th>Волнения</th>\n",
       "      <th>Простуда</th>\n",
       "      <th>All</th>\n",
       "    </tr>\n",
       "    <tr>\n",
       "      <th>Врач</th>\n",
       "      <th></th>\n",
       "      <th></th>\n",
       "      <th></th>\n",
       "    </tr>\n",
       "  </thead>\n",
       "  <tbody>\n",
       "    <tr>\n",
       "      <th>Андрей</th>\n",
       "      <td>4</td>\n",
       "      <td>4</td>\n",
       "      <td>8</td>\n",
       "    </tr>\n",
       "    <tr>\n",
       "      <th>Ирина</th>\n",
       "      <td>0</td>\n",
       "      <td>8</td>\n",
       "      <td>8</td>\n",
       "    </tr>\n",
       "    <tr>\n",
       "      <th>Сергей</th>\n",
       "      <td>4</td>\n",
       "      <td>4</td>\n",
       "      <td>8</td>\n",
       "    </tr>\n",
       "    <tr>\n",
       "      <th>All</th>\n",
       "      <td>8</td>\n",
       "      <td>16</td>\n",
       "      <td>24</td>\n",
       "    </tr>\n",
       "  </tbody>\n",
       "</table>\n",
       "</div>"
      ],
      "text/plain": [
       "Диагноз  Волнения  Простуда  All\n",
       "Врач                            \n",
       "Андрей          4         4    8\n",
       "Ирина           0         8    8\n",
       "Сергей          4         4    8\n",
       "All             8        16   24"
      ]
     },
     "execution_count": 3,
     "metadata": {},
     "output_type": "execute_result"
    }
   ],
   "source": [
    "pd.crosstab(index = df['Врач'], columns = df['Диагноз'], margins=True)\n"
   ]
  },
  {
   "cell_type": "code",
   "execution_count": 4,
   "id": "3df2bfae-3ec1-41ea-948a-c82a9121a7e7",
   "metadata": {},
   "outputs": [],
   "source": [
    "# выдает ошибку, потому что не передаем values\n",
    "#pd.crosstab(index = df['Врач'], columns = df['Диагноз'], aggfunc=\"mean\")\n"
   ]
  },
  {
   "cell_type": "code",
   "execution_count": null,
   "id": "59686c9b-2cd9-4ef3-a4be-31b9375734fd",
   "metadata": {},
   "outputs": [],
   "source": []
  },
  {
   "cell_type": "code",
   "execution_count": 5,
   "id": "24bff413-a591-490f-bdd4-1736f109c7ee",
   "metadata": {},
   "outputs": [
    {
     "data": {
      "text/html": [
       "<div>\n",
       "<style scoped>\n",
       "    .dataframe tbody tr th:only-of-type {\n",
       "        vertical-align: middle;\n",
       "    }\n",
       "\n",
       "    .dataframe tbody tr th {\n",
       "        vertical-align: top;\n",
       "    }\n",
       "\n",
       "    .dataframe thead th {\n",
       "        text-align: right;\n",
       "    }\n",
       "</style>\n",
       "<table border=\"1\" class=\"dataframe\">\n",
       "  <thead>\n",
       "    <tr style=\"text-align: right;\">\n",
       "      <th>Диагноз</th>\n",
       "      <th>Волнения</th>\n",
       "      <th>Простуда</th>\n",
       "    </tr>\n",
       "    <tr>\n",
       "      <th>Врач</th>\n",
       "      <th></th>\n",
       "      <th></th>\n",
       "    </tr>\n",
       "  </thead>\n",
       "  <tbody>\n",
       "    <tr>\n",
       "      <th>Андрей</th>\n",
       "      <td>2.50</td>\n",
       "      <td>3.25</td>\n",
       "    </tr>\n",
       "    <tr>\n",
       "      <th>Ирина</th>\n",
       "      <td>NaN</td>\n",
       "      <td>3.00</td>\n",
       "    </tr>\n",
       "    <tr>\n",
       "      <th>Сергей</th>\n",
       "      <td>4.25</td>\n",
       "      <td>2.25</td>\n",
       "    </tr>\n",
       "  </tbody>\n",
       "</table>\n",
       "</div>"
      ],
      "text/plain": [
       "Диагноз  Волнения  Простуда\n",
       "Врач                       \n",
       "Андрей       2.50      3.25\n",
       "Ирина         NaN      3.00\n",
       "Сергей       4.25      2.25"
      ]
     },
     "execution_count": 5,
     "metadata": {},
     "output_type": "execute_result"
    }
   ],
   "source": [
    "# Посчитаем, какую среднюю дозу какой врач назначал по каждому из диагнозов\n",
    "pd.crosstab(index = df['Врач'], columns =  df['Диагноз'], values=df['Доза'], aggfunc=\"mean\")\n"
   ]
  },
  {
   "cell_type": "code",
   "execution_count": 6,
   "id": "6536c653-da5d-44ac-9672-df6b62a20824",
   "metadata": {},
   "outputs": [
    {
     "data": {
      "text/html": [
       "<div>\n",
       "<style scoped>\n",
       "    .dataframe tbody tr th:only-of-type {\n",
       "        vertical-align: middle;\n",
       "    }\n",
       "\n",
       "    .dataframe tbody tr th {\n",
       "        vertical-align: top;\n",
       "    }\n",
       "\n",
       "    .dataframe thead tr th {\n",
       "        text-align: left;\n",
       "    }\n",
       "\n",
       "    .dataframe thead tr:last-of-type th {\n",
       "        text-align: right;\n",
       "    }\n",
       "</style>\n",
       "<table border=\"1\" class=\"dataframe\">\n",
       "  <thead>\n",
       "    <tr>\n",
       "      <th></th>\n",
       "      <th colspan=\"2\" halign=\"left\">mean</th>\n",
       "      <th colspan=\"2\" halign=\"left\">count</th>\n",
       "    </tr>\n",
       "    <tr>\n",
       "      <th>Диагноз</th>\n",
       "      <th>Волнения</th>\n",
       "      <th>Простуда</th>\n",
       "      <th>Волнения</th>\n",
       "      <th>Простуда</th>\n",
       "    </tr>\n",
       "    <tr>\n",
       "      <th>Врач</th>\n",
       "      <th></th>\n",
       "      <th></th>\n",
       "      <th></th>\n",
       "      <th></th>\n",
       "    </tr>\n",
       "  </thead>\n",
       "  <tbody>\n",
       "    <tr>\n",
       "      <th>Андрей</th>\n",
       "      <td>2.50</td>\n",
       "      <td>3.25</td>\n",
       "      <td>4.0</td>\n",
       "      <td>4.0</td>\n",
       "    </tr>\n",
       "    <tr>\n",
       "      <th>Ирина</th>\n",
       "      <td>NaN</td>\n",
       "      <td>3.00</td>\n",
       "      <td>NaN</td>\n",
       "      <td>8.0</td>\n",
       "    </tr>\n",
       "    <tr>\n",
       "      <th>Сергей</th>\n",
       "      <td>4.25</td>\n",
       "      <td>2.25</td>\n",
       "      <td>4.0</td>\n",
       "      <td>4.0</td>\n",
       "    </tr>\n",
       "  </tbody>\n",
       "</table>\n",
       "</div>"
      ],
      "text/plain": [
       "            mean             count         \n",
       "Диагноз Волнения Простуда Волнения Простуда\n",
       "Врач                                       \n",
       "Андрей      2.50     3.25      4.0      4.0\n",
       "Ирина        NaN     3.00      NaN      8.0\n",
       "Сергей      4.25     2.25      4.0      4.0"
      ]
     },
     "execution_count": 6,
     "metadata": {},
     "output_type": "execute_result"
    }
   ],
   "source": [
    "# Посчитаем, какую среднюю дозу какой врач назначал по каждому из диагнозов\n",
    "pd.crosstab(index = df['Врач'], columns =  df['Диагноз'], values=df['Доза'], aggfunc=[\"mean\",'count'])\n"
   ]
  },
  {
   "cell_type": "markdown",
   "id": "9be9c802-0888-4e1f-a444-2c6e3124a740",
   "metadata": {},
   "source": [
    "Простейший вариант сводной таблицы — среднее в группах, определяемых столбцом. Посчитаем среднее в числовых столбцах по каждому врачу\n"
   ]
  },
  {
   "cell_type": "code",
   "execution_count": 7,
   "id": "6ffe55e7-e3b8-4e8f-a9cb-01892856b032",
   "metadata": {},
   "outputs": [
    {
     "data": {
      "text/html": [
       "<div>\n",
       "<style scoped>\n",
       "    .dataframe tbody tr th:only-of-type {\n",
       "        vertical-align: middle;\n",
       "    }\n",
       "\n",
       "    .dataframe tbody tr th {\n",
       "        vertical-align: top;\n",
       "    }\n",
       "\n",
       "    .dataframe thead tr th {\n",
       "        text-align: left;\n",
       "    }\n",
       "\n",
       "    .dataframe thead tr:last-of-type th {\n",
       "        text-align: right;\n",
       "    }\n",
       "</style>\n",
       "<table border=\"1\" class=\"dataframe\">\n",
       "  <thead>\n",
       "    <tr>\n",
       "      <th></th>\n",
       "      <th colspan=\"3\" halign=\"left\">mean</th>\n",
       "      <th colspan=\"3\" halign=\"left\">count</th>\n",
       "    </tr>\n",
       "    <tr>\n",
       "      <th>Диагноз</th>\n",
       "      <th>Волнения</th>\n",
       "      <th>Простуда</th>\n",
       "      <th>All</th>\n",
       "      <th>Волнения</th>\n",
       "      <th>Простуда</th>\n",
       "      <th>All</th>\n",
       "    </tr>\n",
       "    <tr>\n",
       "      <th>Врач</th>\n",
       "      <th></th>\n",
       "      <th></th>\n",
       "      <th></th>\n",
       "      <th></th>\n",
       "      <th></th>\n",
       "      <th></th>\n",
       "    </tr>\n",
       "  </thead>\n",
       "  <tbody>\n",
       "    <tr>\n",
       "      <th>Андрей</th>\n",
       "      <td>2.500</td>\n",
       "      <td>3.250</td>\n",
       "      <td>2.875000</td>\n",
       "      <td>4.0</td>\n",
       "      <td>4.0</td>\n",
       "      <td>8</td>\n",
       "    </tr>\n",
       "    <tr>\n",
       "      <th>Ирина</th>\n",
       "      <td>NaN</td>\n",
       "      <td>3.000</td>\n",
       "      <td>3.000000</td>\n",
       "      <td>NaN</td>\n",
       "      <td>8.0</td>\n",
       "      <td>8</td>\n",
       "    </tr>\n",
       "    <tr>\n",
       "      <th>Сергей</th>\n",
       "      <td>4.250</td>\n",
       "      <td>2.250</td>\n",
       "      <td>3.250000</td>\n",
       "      <td>4.0</td>\n",
       "      <td>4.0</td>\n",
       "      <td>8</td>\n",
       "    </tr>\n",
       "    <tr>\n",
       "      <th>All</th>\n",
       "      <td>3.375</td>\n",
       "      <td>2.875</td>\n",
       "      <td>3.041667</td>\n",
       "      <td>8.0</td>\n",
       "      <td>16.0</td>\n",
       "      <td>24</td>\n",
       "    </tr>\n",
       "  </tbody>\n",
       "</table>\n",
       "</div>"
      ],
      "text/plain": [
       "            mean                       count             \n",
       "Диагноз Волнения Простуда       All Волнения Простуда All\n",
       "Врач                                                     \n",
       "Андрей     2.500    3.250  2.875000      4.0      4.0   8\n",
       "Ирина        NaN    3.000  3.000000      NaN      8.0   8\n",
       "Сергей     4.250    2.250  3.250000      4.0      4.0   8\n",
       "All        3.375    2.875  3.041667      8.0     16.0  24"
      ]
     },
     "execution_count": 7,
     "metadata": {},
     "output_type": "execute_result"
    }
   ],
   "source": [
    "# Посчитаем, какую среднюю дозу какой врач назначал по каждому из диагнозов\n",
    "pd.crosstab(index = df['Врач'], columns =  df['Диагноз'], values=df['Доза'], aggfunc=[\"mean\",'count'], margins=True)\n"
   ]
  },
  {
   "cell_type": "code",
   "execution_count": 8,
   "id": "316683a5-e946-4558-8f8b-58f68014fa57",
   "metadata": {},
   "outputs": [
    {
     "data": {
      "text/html": [
       "<div>\n",
       "<style scoped>\n",
       "    .dataframe tbody tr th:only-of-type {\n",
       "        vertical-align: middle;\n",
       "    }\n",
       "\n",
       "    .dataframe tbody tr th {\n",
       "        vertical-align: top;\n",
       "    }\n",
       "\n",
       "    .dataframe thead th {\n",
       "        text-align: right;\n",
       "    }\n",
       "</style>\n",
       "<table border=\"1\" class=\"dataframe\">\n",
       "  <thead>\n",
       "    <tr style=\"text-align: right;\">\n",
       "      <th></th>\n",
       "      <th>Доза</th>\n",
       "      <th>Продолжительность</th>\n",
       "    </tr>\n",
       "    <tr>\n",
       "      <th>Врач</th>\n",
       "      <th></th>\n",
       "      <th></th>\n",
       "    </tr>\n",
       "  </thead>\n",
       "  <tbody>\n",
       "    <tr>\n",
       "      <th>Андрей</th>\n",
       "      <td>2.875</td>\n",
       "      <td>3.5</td>\n",
       "    </tr>\n",
       "    <tr>\n",
       "      <th>Ирина</th>\n",
       "      <td>3.000</td>\n",
       "      <td>2.5</td>\n",
       "    </tr>\n",
       "    <tr>\n",
       "      <th>Сергей</th>\n",
       "      <td>3.250</td>\n",
       "      <td>3.0</td>\n",
       "    </tr>\n",
       "  </tbody>\n",
       "</table>\n",
       "</div>"
      ],
      "text/plain": [
       "         Доза  Продолжительность\n",
       "Врач                            \n",
       "Андрей  2.875                3.5\n",
       "Ирина   3.000                2.5\n",
       "Сергей  3.250                3.0"
      ]
     },
     "execution_count": 8,
     "metadata": {},
     "output_type": "execute_result"
    }
   ],
   "source": [
    "pd.pivot_table(df, index=['Врач'], values=['Доза', 'Продолжительность'])\n"
   ]
  },
  {
   "cell_type": "code",
   "execution_count": 9,
   "id": "0f1f0fb4-0069-4869-b22f-5e7dcb0bc304",
   "metadata": {},
   "outputs": [
    {
     "data": {
      "text/html": [
       "<div>\n",
       "<style scoped>\n",
       "    .dataframe tbody tr th:only-of-type {\n",
       "        vertical-align: middle;\n",
       "    }\n",
       "\n",
       "    .dataframe tbody tr th {\n",
       "        vertical-align: top;\n",
       "    }\n",
       "\n",
       "    .dataframe thead th {\n",
       "        text-align: right;\n",
       "    }\n",
       "</style>\n",
       "<table border=\"1\" class=\"dataframe\">\n",
       "  <thead>\n",
       "    <tr style=\"text-align: right;\">\n",
       "      <th></th>\n",
       "      <th>Доза</th>\n",
       "      <th>Продолжительность</th>\n",
       "    </tr>\n",
       "    <tr>\n",
       "      <th>Врач</th>\n",
       "      <th></th>\n",
       "      <th></th>\n",
       "    </tr>\n",
       "  </thead>\n",
       "  <tbody>\n",
       "    <tr>\n",
       "      <th>Андрей</th>\n",
       "      <td>2.875</td>\n",
       "      <td>8</td>\n",
       "    </tr>\n",
       "    <tr>\n",
       "      <th>Ирина</th>\n",
       "      <td>3.000</td>\n",
       "      <td>8</td>\n",
       "    </tr>\n",
       "    <tr>\n",
       "      <th>Сергей</th>\n",
       "      <td>3.250</td>\n",
       "      <td>8</td>\n",
       "    </tr>\n",
       "  </tbody>\n",
       "</table>\n",
       "</div>"
      ],
      "text/plain": [
       "         Доза  Продолжительность\n",
       "Врач                            \n",
       "Андрей  2.875                  8\n",
       "Ирина   3.000                  8\n",
       "Сергей  3.250                  8"
      ]
     },
     "execution_count": 9,
     "metadata": {},
     "output_type": "execute_result"
    }
   ],
   "source": [
    "pd.pivot_table(df, index=['Врач'], values=['Доза', 'Продолжительность'],\n",
    "              aggfunc={'Доза': 'mean', 'Продолжительность': 'count'})\n"
   ]
  },
  {
   "cell_type": "code",
   "execution_count": 10,
   "id": "31608ffc-3197-47a2-8b03-d6deb97ca280",
   "metadata": {},
   "outputs": [
    {
     "data": {
      "text/html": [
       "<div>\n",
       "<style scoped>\n",
       "    .dataframe tbody tr th:only-of-type {\n",
       "        vertical-align: middle;\n",
       "    }\n",
       "\n",
       "    .dataframe tbody tr th {\n",
       "        vertical-align: top;\n",
       "    }\n",
       "\n",
       "    .dataframe thead th {\n",
       "        text-align: right;\n",
       "    }\n",
       "</style>\n",
       "<table border=\"1\" class=\"dataframe\">\n",
       "  <thead>\n",
       "    <tr style=\"text-align: right;\">\n",
       "      <th></th>\n",
       "      <th>Доза</th>\n",
       "      <th>Продолжительность</th>\n",
       "    </tr>\n",
       "    <tr>\n",
       "      <th>Врач</th>\n",
       "      <th></th>\n",
       "      <th></th>\n",
       "    </tr>\n",
       "  </thead>\n",
       "  <tbody>\n",
       "    <tr>\n",
       "      <th>Андрей</th>\n",
       "      <td>2.875</td>\n",
       "      <td>3.5</td>\n",
       "    </tr>\n",
       "    <tr>\n",
       "      <th>Ирина</th>\n",
       "      <td>3.000</td>\n",
       "      <td>2.5</td>\n",
       "    </tr>\n",
       "    <tr>\n",
       "      <th>Сергей</th>\n",
       "      <td>3.250</td>\n",
       "      <td>3.0</td>\n",
       "    </tr>\n",
       "  </tbody>\n",
       "</table>\n",
       "</div>"
      ],
      "text/plain": [
       "         Доза  Продолжительность\n",
       "Врач                            \n",
       "Андрей  2.875                3.5\n",
       "Ирина   3.000                2.5\n",
       "Сергей  3.250                3.0"
      ]
     },
     "execution_count": 10,
     "metadata": {},
     "output_type": "execute_result"
    }
   ],
   "source": [
    "df.pivot_table(index=['Врач'], values=['Доза', 'Продолжительность'])"
   ]
  },
  {
   "cell_type": "code",
   "execution_count": 11,
   "id": "f882340d-0e10-4e45-b984-cea20e732f87",
   "metadata": {},
   "outputs": [
    {
     "data": {
      "text/html": [
       "<div>\n",
       "<style scoped>\n",
       "    .dataframe tbody tr th:only-of-type {\n",
       "        vertical-align: middle;\n",
       "    }\n",
       "\n",
       "    .dataframe tbody tr th {\n",
       "        vertical-align: top;\n",
       "    }\n",
       "\n",
       "    .dataframe thead th {\n",
       "        text-align: right;\n",
       "    }\n",
       "</style>\n",
       "<table border=\"1\" class=\"dataframe\">\n",
       "  <thead>\n",
       "    <tr style=\"text-align: right;\">\n",
       "      <th></th>\n",
       "      <th>Диагноз</th>\n",
       "      <th>Волнения</th>\n",
       "      <th>Простуда</th>\n",
       "    </tr>\n",
       "    <tr>\n",
       "      <th>Специальность</th>\n",
       "      <th>Врач</th>\n",
       "      <th></th>\n",
       "      <th></th>\n",
       "    </tr>\n",
       "  </thead>\n",
       "  <tbody>\n",
       "    <tr>\n",
       "      <th rowspan=\"3\" valign=\"top\">Ветеринар</th>\n",
       "      <th>Андрей</th>\n",
       "      <td>2.0</td>\n",
       "      <td>2.0</td>\n",
       "    </tr>\n",
       "    <tr>\n",
       "      <th>Ирина</th>\n",
       "      <td>NaN</td>\n",
       "      <td>4.0</td>\n",
       "    </tr>\n",
       "    <tr>\n",
       "      <th>Сергей</th>\n",
       "      <td>2.0</td>\n",
       "      <td>2.0</td>\n",
       "    </tr>\n",
       "    <tr>\n",
       "      <th rowspan=\"3\" valign=\"top\">Психолог</th>\n",
       "      <th>Андрей</th>\n",
       "      <td>2.0</td>\n",
       "      <td>2.0</td>\n",
       "    </tr>\n",
       "    <tr>\n",
       "      <th>Ирина</th>\n",
       "      <td>NaN</td>\n",
       "      <td>4.0</td>\n",
       "    </tr>\n",
       "    <tr>\n",
       "      <th>Сергей</th>\n",
       "      <td>2.0</td>\n",
       "      <td>2.0</td>\n",
       "    </tr>\n",
       "  </tbody>\n",
       "</table>\n",
       "</div>"
      ],
      "text/plain": [
       "Диагноз               Волнения  Простуда\n",
       "Специальность Врач                      \n",
       "Ветеринар     Андрей       2.0       2.0\n",
       "              Ирина        NaN       4.0\n",
       "              Сергей       2.0       2.0\n",
       "Психолог      Андрей       2.0       2.0\n",
       "              Ирина        NaN       4.0\n",
       "              Сергей       2.0       2.0"
      ]
     },
     "execution_count": 11,
     "metadata": {},
     "output_type": "execute_result"
    }
   ],
   "source": [
    "#Посчитаем, сколько раз врач и в какой специальности ставил тот или иной диагноз\n",
    "pd.pivot_table(df,\n",
    "               values='Доза',\n",
    "               index=['Специальность', 'Врач'],\n",
    "               columns=['Диагноз'],\n",
    "               aggfunc=\"count\")\n"
   ]
  },
  {
   "cell_type": "code",
   "execution_count": 12,
   "id": "e1c9faad-7111-49d5-aaab-97e1e3f442ec",
   "metadata": {},
   "outputs": [
    {
     "data": {
      "text/html": [
       "<div>\n",
       "<style scoped>\n",
       "    .dataframe tbody tr th:only-of-type {\n",
       "        vertical-align: middle;\n",
       "    }\n",
       "\n",
       "    .dataframe tbody tr th {\n",
       "        vertical-align: top;\n",
       "    }\n",
       "\n",
       "    .dataframe thead tr th {\n",
       "        text-align: left;\n",
       "    }\n",
       "\n",
       "    .dataframe thead tr:last-of-type th {\n",
       "        text-align: right;\n",
       "    }\n",
       "</style>\n",
       "<table border=\"1\" class=\"dataframe\">\n",
       "  <thead>\n",
       "    <tr>\n",
       "      <th></th>\n",
       "      <th></th>\n",
       "      <th colspan=\"6\" halign=\"left\">min</th>\n",
       "      <th colspan=\"6\" halign=\"left\">mean</th>\n",
       "      <th colspan=\"6\" halign=\"left\">max</th>\n",
       "    </tr>\n",
       "    <tr>\n",
       "      <th></th>\n",
       "      <th></th>\n",
       "      <th colspan=\"3\" halign=\"left\">Доза</th>\n",
       "      <th colspan=\"3\" halign=\"left\">Продолжительность</th>\n",
       "      <th colspan=\"3\" halign=\"left\">Доза</th>\n",
       "      <th colspan=\"3\" halign=\"left\">Продолжительность</th>\n",
       "      <th colspan=\"3\" halign=\"left\">Доза</th>\n",
       "      <th colspan=\"3\" halign=\"left\">Продолжительность</th>\n",
       "    </tr>\n",
       "    <tr>\n",
       "      <th></th>\n",
       "      <th>Диагноз</th>\n",
       "      <th>Волнения</th>\n",
       "      <th>Простуда</th>\n",
       "      <th>All</th>\n",
       "      <th>Волнения</th>\n",
       "      <th>Простуда</th>\n",
       "      <th>All</th>\n",
       "      <th>Волнения</th>\n",
       "      <th>Простуда</th>\n",
       "      <th>All</th>\n",
       "      <th>Волнения</th>\n",
       "      <th>Простуда</th>\n",
       "      <th>All</th>\n",
       "      <th>Волнения</th>\n",
       "      <th>Простуда</th>\n",
       "      <th>All</th>\n",
       "      <th>Волнения</th>\n",
       "      <th>Простуда</th>\n",
       "      <th>All</th>\n",
       "    </tr>\n",
       "    <tr>\n",
       "      <th>Специальность</th>\n",
       "      <th>Врач</th>\n",
       "      <th></th>\n",
       "      <th></th>\n",
       "      <th></th>\n",
       "      <th></th>\n",
       "      <th></th>\n",
       "      <th></th>\n",
       "      <th></th>\n",
       "      <th></th>\n",
       "      <th></th>\n",
       "      <th></th>\n",
       "      <th></th>\n",
       "      <th></th>\n",
       "      <th></th>\n",
       "      <th></th>\n",
       "      <th></th>\n",
       "      <th></th>\n",
       "      <th></th>\n",
       "      <th></th>\n",
       "    </tr>\n",
       "  </thead>\n",
       "  <tbody>\n",
       "    <tr>\n",
       "      <th rowspan=\"3\" valign=\"top\">Ветеринар</th>\n",
       "      <th>Андрей</th>\n",
       "      <td>2.0</td>\n",
       "      <td>1.0</td>\n",
       "      <td>1</td>\n",
       "      <td>4.0</td>\n",
       "      <td>1.0</td>\n",
       "      <td>1</td>\n",
       "      <td>3.000</td>\n",
       "      <td>2.000</td>\n",
       "      <td>2.500000</td>\n",
       "      <td>4.00</td>\n",
       "      <td>3.000</td>\n",
       "      <td>3.50</td>\n",
       "      <td>4.0</td>\n",
       "      <td>3.0</td>\n",
       "      <td>4</td>\n",
       "      <td>4.0</td>\n",
       "      <td>5.0</td>\n",
       "      <td>5</td>\n",
       "    </tr>\n",
       "    <tr>\n",
       "      <th>Ирина</th>\n",
       "      <td>NaN</td>\n",
       "      <td>2.0</td>\n",
       "      <td>2</td>\n",
       "      <td>NaN</td>\n",
       "      <td>1.0</td>\n",
       "      <td>1</td>\n",
       "      <td>NaN</td>\n",
       "      <td>3.000</td>\n",
       "      <td>3.000000</td>\n",
       "      <td>NaN</td>\n",
       "      <td>2.750</td>\n",
       "      <td>2.75</td>\n",
       "      <td>NaN</td>\n",
       "      <td>4.0</td>\n",
       "      <td>4</td>\n",
       "      <td>NaN</td>\n",
       "      <td>4.0</td>\n",
       "      <td>4</td>\n",
       "    </tr>\n",
       "    <tr>\n",
       "      <th>Сергей</th>\n",
       "      <td>3.0</td>\n",
       "      <td>2.0</td>\n",
       "      <td>2</td>\n",
       "      <td>1.0</td>\n",
       "      <td>3.0</td>\n",
       "      <td>1</td>\n",
       "      <td>4.000</td>\n",
       "      <td>3.000</td>\n",
       "      <td>3.500000</td>\n",
       "      <td>1.00</td>\n",
       "      <td>3.500</td>\n",
       "      <td>2.25</td>\n",
       "      <td>5.0</td>\n",
       "      <td>4.0</td>\n",
       "      <td>5</td>\n",
       "      <td>1.0</td>\n",
       "      <td>4.0</td>\n",
       "      <td>4</td>\n",
       "    </tr>\n",
       "    <tr>\n",
       "      <th rowspan=\"3\" valign=\"top\">Психолог</th>\n",
       "      <th>Андрей</th>\n",
       "      <td>2.0</td>\n",
       "      <td>4.0</td>\n",
       "      <td>2</td>\n",
       "      <td>5.0</td>\n",
       "      <td>1.0</td>\n",
       "      <td>1</td>\n",
       "      <td>2.000</td>\n",
       "      <td>4.500</td>\n",
       "      <td>3.250000</td>\n",
       "      <td>5.00</td>\n",
       "      <td>2.000</td>\n",
       "      <td>3.50</td>\n",
       "      <td>2.0</td>\n",
       "      <td>5.0</td>\n",
       "      <td>5</td>\n",
       "      <td>5.0</td>\n",
       "      <td>3.0</td>\n",
       "      <td>5</td>\n",
       "    </tr>\n",
       "    <tr>\n",
       "      <th>Ирина</th>\n",
       "      <td>NaN</td>\n",
       "      <td>1.0</td>\n",
       "      <td>1</td>\n",
       "      <td>NaN</td>\n",
       "      <td>1.0</td>\n",
       "      <td>1</td>\n",
       "      <td>NaN</td>\n",
       "      <td>3.000</td>\n",
       "      <td>3.000000</td>\n",
       "      <td>NaN</td>\n",
       "      <td>2.250</td>\n",
       "      <td>2.25</td>\n",
       "      <td>NaN</td>\n",
       "      <td>5.0</td>\n",
       "      <td>5</td>\n",
       "      <td>NaN</td>\n",
       "      <td>4.0</td>\n",
       "      <td>4</td>\n",
       "    </tr>\n",
       "    <tr>\n",
       "      <th>Сергей</th>\n",
       "      <td>4.0</td>\n",
       "      <td>1.0</td>\n",
       "      <td>1</td>\n",
       "      <td>3.0</td>\n",
       "      <td>4.0</td>\n",
       "      <td>3</td>\n",
       "      <td>4.500</td>\n",
       "      <td>1.500</td>\n",
       "      <td>3.000000</td>\n",
       "      <td>3.00</td>\n",
       "      <td>4.500</td>\n",
       "      <td>3.75</td>\n",
       "      <td>5.0</td>\n",
       "      <td>2.0</td>\n",
       "      <td>5</td>\n",
       "      <td>3.0</td>\n",
       "      <td>5.0</td>\n",
       "      <td>5</td>\n",
       "    </tr>\n",
       "    <tr>\n",
       "      <th>All</th>\n",
       "      <th></th>\n",
       "      <td>2.0</td>\n",
       "      <td>1.0</td>\n",
       "      <td>1</td>\n",
       "      <td>1.0</td>\n",
       "      <td>1.0</td>\n",
       "      <td>1</td>\n",
       "      <td>3.375</td>\n",
       "      <td>2.875</td>\n",
       "      <td>3.041667</td>\n",
       "      <td>3.25</td>\n",
       "      <td>2.875</td>\n",
       "      <td>3.00</td>\n",
       "      <td>5.0</td>\n",
       "      <td>5.0</td>\n",
       "      <td>5</td>\n",
       "      <td>5.0</td>\n",
       "      <td>5.0</td>\n",
       "      <td>5</td>\n",
       "    </tr>\n",
       "  </tbody>\n",
       "</table>\n",
       "</div>"
      ],
      "text/plain": [
       "                          min                                              \\\n",
       "                         Доза              Продолжительность                \n",
       "Диагноз              Волнения Простуда All          Волнения Простуда All   \n",
       "Специальность Врач                                                          \n",
       "Ветеринар     Андрей      2.0      1.0   1               4.0      1.0   1   \n",
       "              Ирина       NaN      2.0   2               NaN      1.0   1   \n",
       "              Сергей      3.0      2.0   2               1.0      3.0   1   \n",
       "Психолог      Андрей      2.0      4.0   2               5.0      1.0   1   \n",
       "              Ирина       NaN      1.0   1               NaN      1.0   1   \n",
       "              Сергей      4.0      1.0   1               3.0      4.0   3   \n",
       "All                       2.0      1.0   1               1.0      1.0   1   \n",
       "\n",
       "                         mean                                                \\\n",
       "                         Доза                    Продолжительность            \n",
       "Диагноз              Волнения Простуда       All          Волнения Простуда   \n",
       "Специальность Врач                                                            \n",
       "Ветеринар     Андрей    3.000    2.000  2.500000              4.00    3.000   \n",
       "              Ирина       NaN    3.000  3.000000               NaN    2.750   \n",
       "              Сергей    4.000    3.000  3.500000              1.00    3.500   \n",
       "Психолог      Андрей    2.000    4.500  3.250000              5.00    2.000   \n",
       "              Ирина       NaN    3.000  3.000000               NaN    2.250   \n",
       "              Сергей    4.500    1.500  3.000000              3.00    4.500   \n",
       "All                     3.375    2.875  3.041667              3.25    2.875   \n",
       "\n",
       "                                max                                          \\\n",
       "                               Доза              Продолжительность            \n",
       "Диагноз                All Волнения Простуда All          Волнения Простуда   \n",
       "Специальность Врач                                                            \n",
       "Ветеринар     Андрей  3.50      4.0      3.0   4               4.0      5.0   \n",
       "              Ирина   2.75      NaN      4.0   4               NaN      4.0   \n",
       "              Сергей  2.25      5.0      4.0   5               1.0      4.0   \n",
       "Психолог      Андрей  3.50      2.0      5.0   5               5.0      3.0   \n",
       "              Ирина   2.25      NaN      5.0   5               NaN      4.0   \n",
       "              Сергей  3.75      5.0      2.0   5               3.0      5.0   \n",
       "All                   3.00      5.0      5.0   5               5.0      5.0   \n",
       "\n",
       "                          \n",
       "                          \n",
       "Диагноз              All  \n",
       "Специальность Врач        \n",
       "Ветеринар     Андрей   5  \n",
       "              Ирина    4  \n",
       "              Сергей   4  \n",
       "Психолог      Андрей   5  \n",
       "              Ирина    4  \n",
       "              Сергей   5  \n",
       "All                    5  "
      ]
     },
     "execution_count": 12,
     "metadata": {},
     "output_type": "execute_result"
    }
   ],
   "source": [
    "#Применим несколько функций и несколько столбцов со значениями\n",
    "pd.pivot_table(df,\n",
    "               values=['Доза', 'Продолжительность'],\n",
    "               index=['Специальность', 'Врач'],\n",
    "               columns=['Диагноз'],\n",
    "               aggfunc=[\"min\", \"mean\", \"max\"],\n",
    "               margins=True)\n"
   ]
  },
  {
   "cell_type": "code",
   "execution_count": 13,
   "id": "db960a25-a2fb-4237-942d-36f873c9b733",
   "metadata": {},
   "outputs": [
    {
     "data": {
      "text/html": [
       "<div>\n",
       "<style scoped>\n",
       "    .dataframe tbody tr th:only-of-type {\n",
       "        vertical-align: middle;\n",
       "    }\n",
       "\n",
       "    .dataframe tbody tr th {\n",
       "        vertical-align: top;\n",
       "    }\n",
       "\n",
       "    .dataframe thead tr th {\n",
       "        text-align: left;\n",
       "    }\n",
       "\n",
       "    .dataframe thead tr:last-of-type th {\n",
       "        text-align: right;\n",
       "    }\n",
       "</style>\n",
       "<table border=\"1\" class=\"dataframe\">\n",
       "  <thead>\n",
       "    <tr>\n",
       "      <th></th>\n",
       "      <th></th>\n",
       "      <th colspan=\"3\" halign=\"left\">Доза</th>\n",
       "      <th colspan=\"3\" halign=\"left\">Продолжительность</th>\n",
       "    </tr>\n",
       "    <tr>\n",
       "      <th></th>\n",
       "      <th>Диагноз</th>\n",
       "      <th>Волнения</th>\n",
       "      <th>Простуда</th>\n",
       "      <th>All</th>\n",
       "      <th>Волнения</th>\n",
       "      <th>Простуда</th>\n",
       "      <th>All</th>\n",
       "    </tr>\n",
       "    <tr>\n",
       "      <th>Специальность</th>\n",
       "      <th>Врач</th>\n",
       "      <th></th>\n",
       "      <th></th>\n",
       "      <th></th>\n",
       "      <th></th>\n",
       "      <th></th>\n",
       "      <th></th>\n",
       "    </tr>\n",
       "  </thead>\n",
       "  <tbody>\n",
       "    <tr>\n",
       "      <th rowspan=\"3\" valign=\"top\">Ветеринар</th>\n",
       "      <th>Андрей</th>\n",
       "      <td>3.000</td>\n",
       "      <td>2.000</td>\n",
       "      <td>2.500000</td>\n",
       "      <td>4.00</td>\n",
       "      <td>3.000</td>\n",
       "      <td>3.50</td>\n",
       "    </tr>\n",
       "    <tr>\n",
       "      <th>Ирина</th>\n",
       "      <td>NaN</td>\n",
       "      <td>3.000</td>\n",
       "      <td>3.000000</td>\n",
       "      <td>NaN</td>\n",
       "      <td>2.750</td>\n",
       "      <td>2.75</td>\n",
       "    </tr>\n",
       "    <tr>\n",
       "      <th>Сергей</th>\n",
       "      <td>4.000</td>\n",
       "      <td>3.000</td>\n",
       "      <td>3.500000</td>\n",
       "      <td>1.00</td>\n",
       "      <td>3.500</td>\n",
       "      <td>2.25</td>\n",
       "    </tr>\n",
       "    <tr>\n",
       "      <th rowspan=\"3\" valign=\"top\">Психолог</th>\n",
       "      <th>Андрей</th>\n",
       "      <td>2.000</td>\n",
       "      <td>4.500</td>\n",
       "      <td>3.250000</td>\n",
       "      <td>5.00</td>\n",
       "      <td>2.000</td>\n",
       "      <td>3.50</td>\n",
       "    </tr>\n",
       "    <tr>\n",
       "      <th>Ирина</th>\n",
       "      <td>NaN</td>\n",
       "      <td>3.000</td>\n",
       "      <td>3.000000</td>\n",
       "      <td>NaN</td>\n",
       "      <td>2.250</td>\n",
       "      <td>2.25</td>\n",
       "    </tr>\n",
       "    <tr>\n",
       "      <th>Сергей</th>\n",
       "      <td>4.500</td>\n",
       "      <td>1.500</td>\n",
       "      <td>3.000000</td>\n",
       "      <td>3.00</td>\n",
       "      <td>4.500</td>\n",
       "      <td>3.75</td>\n",
       "    </tr>\n",
       "    <tr>\n",
       "      <th>All</th>\n",
       "      <th></th>\n",
       "      <td>3.375</td>\n",
       "      <td>2.875</td>\n",
       "      <td>3.041667</td>\n",
       "      <td>3.25</td>\n",
       "      <td>2.875</td>\n",
       "      <td>3.00</td>\n",
       "    </tr>\n",
       "  </tbody>\n",
       "</table>\n",
       "</div>"
      ],
      "text/plain": [
       "                         Доза                    Продолжительность           \\\n",
       "Диагноз              Волнения Простуда       All          Волнения Простуда   \n",
       "Специальность Врач                                                            \n",
       "Ветеринар     Андрей    3.000    2.000  2.500000              4.00    3.000   \n",
       "              Ирина       NaN    3.000  3.000000               NaN    2.750   \n",
       "              Сергей    4.000    3.000  3.500000              1.00    3.500   \n",
       "Психолог      Андрей    2.000    4.500  3.250000              5.00    2.000   \n",
       "              Ирина       NaN    3.000  3.000000               NaN    2.250   \n",
       "              Сергей    4.500    1.500  3.000000              3.00    4.500   \n",
       "All                     3.375    2.875  3.041667              3.25    2.875   \n",
       "\n",
       "                            \n",
       "Диагноз                All  \n",
       "Специальность Врач          \n",
       "Ветеринар     Андрей  3.50  \n",
       "              Ирина   2.75  \n",
       "              Сергей  2.25  \n",
       "Психолог      Андрей  3.50  \n",
       "              Ирина   2.25  \n",
       "              Сергей  3.75  \n",
       "All                   3.00  "
      ]
     },
     "execution_count": 13,
     "metadata": {},
     "output_type": "execute_result"
    }
   ],
   "source": [
    "#Применим несколько функций и несколько столбцов со значениями\n",
    "pd.pivot_table(df,\n",
    "               values=['Доза', 'Продолжительность'],\n",
    "               index=['Специальность', 'Врач'],\n",
    "               columns=['Диагноз'],\n",
    "               margins=True)\n"
   ]
  },
  {
   "cell_type": "code",
   "execution_count": null,
   "id": "f998688e-49d9-4bf1-9ebd-827fb3e90c43",
   "metadata": {},
   "outputs": [],
   "source": []
  },
  {
   "cell_type": "raw",
   "id": "4ff0cb96-e435-4ea9-ae1a-6f9758ba86cd",
   "metadata": {},
   "source": []
  },
  {
   "cell_type": "markdown",
   "id": "38434745-96bd-4061-b915-4862f01e7c91",
   "metadata": {},
   "source": [
    "Магия Jupyter\n",
    "--"
   ]
  },
  {
   "cell_type": "code",
   "execution_count": 14,
   "id": "173dcf97-f53b-4fe9-954c-1cb9d4006a70",
   "metadata": {},
   "outputs": [
    {
     "data": {
      "application/json": {
       "cell": {
        "!": "OSMagics",
        "HTML": "Other",
        "SVG": "Other",
        "bash": "Other",
        "capture": "ExecutionMagics",
        "debug": "ExecutionMagics",
        "file": "Other",
        "html": "DisplayMagics",
        "javascript": "DisplayMagics",
        "js": "DisplayMagics",
        "latex": "DisplayMagics",
        "markdown": "DisplayMagics",
        "perl": "Other",
        "prun": "ExecutionMagics",
        "pypy": "Other",
        "python": "Other",
        "python2": "Other",
        "python3": "Other",
        "ruby": "Other",
        "script": "ScriptMagics",
        "sh": "Other",
        "svg": "DisplayMagics",
        "sx": "OSMagics",
        "system": "OSMagics",
        "time": "ExecutionMagics",
        "timeit": "ExecutionMagics",
        "writefile": "OSMagics"
       },
       "line": {
        "alias": "OSMagics",
        "alias_magic": "BasicMagics",
        "autoawait": "AsyncMagics",
        "autocall": "AutoMagics",
        "automagic": "AutoMagics",
        "autosave": "KernelMagics",
        "bookmark": "OSMagics",
        "cat": "Other",
        "cd": "OSMagics",
        "clear": "KernelMagics",
        "colors": "BasicMagics",
        "conda": "PackagingMagics",
        "config": "ConfigMagics",
        "connect_info": "KernelMagics",
        "cp": "Other",
        "debug": "ExecutionMagics",
        "dhist": "OSMagics",
        "dirs": "OSMagics",
        "doctest_mode": "BasicMagics",
        "ed": "Other",
        "edit": "KernelMagics",
        "env": "OSMagics",
        "gui": "BasicMagics",
        "hist": "Other",
        "history": "HistoryMagics",
        "killbgscripts": "ScriptMagics",
        "ldir": "Other",
        "less": "KernelMagics",
        "lf": "Other",
        "lk": "Other",
        "ll": "Other",
        "load": "CodeMagics",
        "load_ext": "ExtensionMagics",
        "loadpy": "CodeMagics",
        "logoff": "LoggingMagics",
        "logon": "LoggingMagics",
        "logstart": "LoggingMagics",
        "logstate": "LoggingMagics",
        "logstop": "LoggingMagics",
        "ls": "Other",
        "lsmagic": "BasicMagics",
        "lx": "Other",
        "macro": "ExecutionMagics",
        "magic": "BasicMagics",
        "man": "KernelMagics",
        "matplotlib": "PylabMagics",
        "mkdir": "Other",
        "more": "KernelMagics",
        "mv": "Other",
        "notebook": "BasicMagics",
        "page": "BasicMagics",
        "pastebin": "CodeMagics",
        "pdb": "ExecutionMagics",
        "pdef": "NamespaceMagics",
        "pdoc": "NamespaceMagics",
        "pfile": "NamespaceMagics",
        "pinfo": "NamespaceMagics",
        "pinfo2": "NamespaceMagics",
        "pip": "PackagingMagics",
        "popd": "OSMagics",
        "pprint": "BasicMagics",
        "precision": "BasicMagics",
        "prun": "ExecutionMagics",
        "psearch": "NamespaceMagics",
        "psource": "NamespaceMagics",
        "pushd": "OSMagics",
        "pwd": "OSMagics",
        "pycat": "OSMagics",
        "pylab": "PylabMagics",
        "qtconsole": "KernelMagics",
        "quickref": "BasicMagics",
        "recall": "HistoryMagics",
        "rehashx": "OSMagics",
        "reload_ext": "ExtensionMagics",
        "rep": "Other",
        "rerun": "HistoryMagics",
        "reset": "NamespaceMagics",
        "reset_selective": "NamespaceMagics",
        "rm": "Other",
        "rmdir": "Other",
        "run": "ExecutionMagics",
        "save": "CodeMagics",
        "sc": "OSMagics",
        "set_env": "OSMagics",
        "store": "StoreMagics",
        "sx": "OSMagics",
        "system": "OSMagics",
        "tb": "ExecutionMagics",
        "time": "ExecutionMagics",
        "timeit": "ExecutionMagics",
        "unalias": "OSMagics",
        "unload_ext": "ExtensionMagics",
        "who": "NamespaceMagics",
        "who_ls": "NamespaceMagics",
        "whos": "NamespaceMagics",
        "xdel": "NamespaceMagics",
        "xmode": "BasicMagics"
       }
      },
      "text/plain": [
       "Available line magics:\n",
       "%alias  %alias_magic  %autoawait  %autocall  %automagic  %autosave  %bookmark  %cat  %cd  %clear  %colors  %conda  %config  %connect_info  %cp  %debug  %dhist  %dirs  %doctest_mode  %ed  %edit  %env  %gui  %hist  %history  %killbgscripts  %ldir  %less  %lf  %lk  %ll  %load  %load_ext  %loadpy  %logoff  %logon  %logstart  %logstate  %logstop  %ls  %lsmagic  %lx  %macro  %magic  %man  %matplotlib  %mkdir  %more  %mv  %notebook  %page  %pastebin  %pdb  %pdef  %pdoc  %pfile  %pinfo  %pinfo2  %pip  %popd  %pprint  %precision  %prun  %psearch  %psource  %pushd  %pwd  %pycat  %pylab  %qtconsole  %quickref  %recall  %rehashx  %reload_ext  %rep  %rerun  %reset  %reset_selective  %rm  %rmdir  %run  %save  %sc  %set_env  %store  %sx  %system  %tb  %time  %timeit  %unalias  %unload_ext  %who  %who_ls  %whos  %xdel  %xmode\n",
       "\n",
       "Available cell magics:\n",
       "%%!  %%HTML  %%SVG  %%bash  %%capture  %%debug  %%file  %%html  %%javascript  %%js  %%latex  %%markdown  %%perl  %%prun  %%pypy  %%python  %%python2  %%python3  %%ruby  %%script  %%sh  %%svg  %%sx  %%system  %%time  %%timeit  %%writefile\n",
       "\n",
       "Automagic is ON, % prefix IS NOT needed for line magics."
      ]
     },
     "execution_count": 14,
     "metadata": {},
     "output_type": "execute_result"
    }
   ],
   "source": [
    "%lsmagic"
   ]
  },
  {
   "cell_type": "code",
   "execution_count": 15,
   "id": "64034bcb-9bff-4580-9f31-2ce31266db61",
   "metadata": {},
   "outputs": [
    {
     "data": {
      "text/plain": [
       "\u001b[0;31mDocstring:\u001b[0m\n",
       "Time execution of a Python statement or expression.\n",
       "\n",
       "The CPU and wall clock times are printed, and the value of the\n",
       "expression (if any) is returned.  Note that under Win32, system time\n",
       "is always reported as 0, since it can not be measured.\n",
       "\n",
       "This function can be used both as a line and cell magic:\n",
       "\n",
       "- In line mode you can time a single-line statement (though multiple\n",
       "  ones can be chained with using semicolons).\n",
       "\n",
       "- In cell mode, you can time the cell body (a directly\n",
       "  following statement raises an error).\n",
       "\n",
       "This function provides very basic timing functionality.  Use the timeit\n",
       "magic for more control over the measurement.\n",
       "\n",
       ".. versionchanged:: 7.3\n",
       "    User variables are no longer expanded,\n",
       "    the magic line is always left unmodified.\n",
       "\n",
       "Examples\n",
       "--------\n",
       "::\n",
       "\n",
       "  In [1]: %time 2**128\n",
       "  CPU times: user 0.00 s, sys: 0.00 s, total: 0.00 s\n",
       "  Wall time: 0.00\n",
       "  Out[1]: 340282366920938463463374607431768211456L\n",
       "\n",
       "  In [2]: n = 1000000\n",
       "\n",
       "  In [3]: %time sum(range(n))\n",
       "  CPU times: user 1.20 s, sys: 0.05 s, total: 1.25 s\n",
       "  Wall time: 1.37\n",
       "  Out[3]: 499999500000L\n",
       "\n",
       "  In [4]: %time print 'hello world'\n",
       "  hello world\n",
       "  CPU times: user 0.00 s, sys: 0.00 s, total: 0.00 s\n",
       "  Wall time: 0.00\n",
       "\n",
       ".. note::\n",
       "    The time needed by Python to compile the given expression will be\n",
       "    reported if it is more than 0.1s.\n",
       "\n",
       "    In the example below, the actual exponentiation is done by Python\n",
       "    at compilation time, so while the expression can take a noticeable\n",
       "    amount of time to compute, that time is purely due to the\n",
       "    compilation::\n",
       "\n",
       "        In [5]: %time 3**9999;\n",
       "        CPU times: user 0.00 s, sys: 0.00 s, total: 0.00 s\n",
       "        Wall time: 0.00 s\n",
       "\n",
       "        In [6]: %time 3**999999;\n",
       "        CPU times: user 0.00 s, sys: 0.00 s, total: 0.00 s\n",
       "        Wall time: 0.00 s\n",
       "        Compiler : 0.78 s\n",
       "\u001b[0;31mFile:\u001b[0m      /Library/Frameworks/Python.framework/Versions/3.11/lib/python3.11/site-packages/IPython/core/magics/execution.py"
      ]
     },
     "metadata": {},
     "output_type": "display_data"
    }
   ],
   "source": [
    "?%time\n"
   ]
  },
  {
   "cell_type": "markdown",
   "id": "7c59d890-0a32-4d88-88f0-cc9fe90f3de9",
   "metadata": {},
   "source": [
    "Вспомните команды: %time, %timeit, %%time\n",
    "Эти три команды замеряют, как долго исполняется код. Коменда %timeit запускает команду несколько раз. По результатам вычисляется среднее и стандартное отклонение. Это уместно, если функция зависит от случайных битов. Для примера напишем функцию, которая генерирует случайное число и засыпает на одну секунду, если оно нечётное.\n"
   ]
  },
  {
   "cell_type": "code",
   "execution_count": 16,
   "id": "c709d393-dd50-4030-a67d-c2b1a4654927",
   "metadata": {},
   "outputs": [],
   "source": [
    "import time\n",
    "import numpy as np\n",
    "\n",
    "def sleep_if_odd():\n",
    "    rvs = np.random.randint(low=0, high=int(1e9))\n",
    "    randbit = rvs % 2\n",
    "    if randbit % 2 == 1:\n",
    "        time.sleep(1)"
   ]
  },
  {
   "cell_type": "code",
   "execution_count": 17,
   "id": "b3624b27-c976-4630-938e-6b55da4bcad4",
   "metadata": {},
   "outputs": [
    {
     "name": "stdout",
     "output_type": "stream",
     "text": [
      "CPU times: user 43 µs, sys: 6 µs, total: 49 µs\n",
      "Wall time: 52 µs\n"
     ]
    }
   ],
   "source": [
    "%time sleep_if_odd()\n"
   ]
  },
  {
   "cell_type": "markdown",
   "id": "f92d8d55-f012-433a-bc09-2b4e7376ced5",
   "metadata": {},
   "source": [
    "При использовании %timeit можно указать, сколько раз нужно запустить функцию. Синтаксис — %timeit -n Дефолтное значение — 7.\n"
   ]
  },
  {
   "cell_type": "code",
   "execution_count": 18,
   "id": "9decf346-7cff-4805-a95a-a6092fced689",
   "metadata": {},
   "outputs": [
    {
     "name": "stdout",
     "output_type": "stream",
     "text": [
      "The slowest run took 4.01 times longer than the fastest. This could mean that an intermediate result is being cached.\n",
      "489 ms ± 190 ms per loop (mean ± std. dev. of 7 runs, 10 loops each)\n"
     ]
    }
   ],
   "source": [
    "%timeit -n 10 sleep_if_odd()\n"
   ]
  },
  {
   "cell_type": "code",
   "execution_count": 19,
   "id": "9cc4adab-18f3-443d-824d-5d464d58a80f",
   "metadata": {},
   "outputs": [
    {
     "name": "stdout",
     "output_type": "stream",
     "text": [
      "Overwriting test.py\n"
     ]
    }
   ],
   "source": [
    "%%writefile test.py\n",
    "print(\"Hello, World!\")\n"
   ]
  },
  {
   "cell_type": "code",
   "execution_count": 20,
   "id": "e3eb1d82-42ff-4e96-9a1a-503af329594f",
   "metadata": {},
   "outputs": [
    {
     "data": {
      "text/plain": [
       "\u001b[0mprint\u001b[0m\u001b[0;34m(\u001b[0m\u001b[0;34m\"Hello, World!\"\u001b[0m\u001b[0;34m)\u001b[0m\u001b[0;34m\u001b[0m\u001b[0;34m\u001b[0m\u001b[0m\n"
      ]
     },
     "metadata": {},
     "output_type": "display_data"
    }
   ],
   "source": [
    "%pycat test.py\n"
   ]
  },
  {
   "cell_type": "markdown",
   "id": "82bbebd8-5b8a-48e3-bbe9-ccf45ec89ba3",
   "metadata": {},
   "source": [
    "%system, %%bash\n",
    "Позволяет выполнять системные команды так, будто вы работаете в терминале.\n"
   ]
  },
  {
   "cell_type": "code",
   "execution_count": 21,
   "id": "2493322d-73c2-40ff-87ed-b3b266bdef69",
   "metadata": {},
   "outputs": [
    {
     "data": {
      "text/plain": [
       "['Thu Nov 21 11:23:23 CET 2024']"
      ]
     },
     "execution_count": 21,
     "metadata": {},
     "output_type": "execute_result"
    }
   ],
   "source": [
    "%system date\n"
   ]
  },
  {
   "cell_type": "code",
   "execution_count": 22,
   "id": "f17894e5-b22e-4a88-8935-3aa812befe9a",
   "metadata": {},
   "outputs": [
    {
     "name": "stdout",
     "output_type": "stream",
     "text": [
      "Thu Nov 21 11:23:23 CET 2024\n"
     ]
    }
   ],
   "source": [
    "!date\n"
   ]
  },
  {
   "cell_type": "markdown",
   "id": "6d4f82bb-c5eb-4b63-a8d9-f3ecb958ffcc",
   "metadata": {},
   "source": [
    "Практика\n",
    "---\n",
    "\n",
    "У вас есть датафрейм с информацией о покупках различных товаров разными клиентами. Кроме того, у вас есть информация о поле каждого клиента и категории товаров. Необходимо создать сводную таблицу, чтобы проанализировать, какие категории товаров покупаются чаще всего мужчинами и женщинами разных возрастных групп.\n"
   ]
  },
  {
   "cell_type": "code",
   "execution_count": 23,
   "id": "6218af41-3b4a-4b16-8768-a03ee8aa5a93",
   "metadata": {},
   "outputs": [],
   "source": [
    "data = {\n",
    "    'CustomerID': [1, 2, 3, 4, 5, 6, 7, 8],\n",
    "    'Age': [25, 35, 45, 55, 25, 35, 45, 55],\n",
    "    'Gender': ['M', 'M', 'M', 'M', 'F', 'F', 'F', 'F'],\n",
    "    'Category': ['Electronics', 'Fashion', 'Electronics', 'Fashion', 'Electronics', 'Fashion', 'Electronics', 'Fashion']\n",
    "}\n"
   ]
  },
  {
   "cell_type": "code",
   "execution_count": 24,
   "id": "1a0353bf-e5aa-470a-913f-867406adb686",
   "metadata": {},
   "outputs": [
    {
     "data": {
      "text/html": [
       "<div>\n",
       "<style scoped>\n",
       "    .dataframe tbody tr th:only-of-type {\n",
       "        vertical-align: middle;\n",
       "    }\n",
       "\n",
       "    .dataframe tbody tr th {\n",
       "        vertical-align: top;\n",
       "    }\n",
       "\n",
       "    .dataframe thead th {\n",
       "        text-align: right;\n",
       "    }\n",
       "</style>\n",
       "<table border=\"1\" class=\"dataframe\">\n",
       "  <thead>\n",
       "    <tr style=\"text-align: right;\">\n",
       "      <th></th>\n",
       "      <th>CustomerID</th>\n",
       "      <th>Age</th>\n",
       "      <th>Gender</th>\n",
       "      <th>Category</th>\n",
       "    </tr>\n",
       "  </thead>\n",
       "  <tbody>\n",
       "    <tr>\n",
       "      <th>0</th>\n",
       "      <td>1</td>\n",
       "      <td>25</td>\n",
       "      <td>M</td>\n",
       "      <td>Electronics</td>\n",
       "    </tr>\n",
       "    <tr>\n",
       "      <th>1</th>\n",
       "      <td>2</td>\n",
       "      <td>35</td>\n",
       "      <td>M</td>\n",
       "      <td>Fashion</td>\n",
       "    </tr>\n",
       "    <tr>\n",
       "      <th>2</th>\n",
       "      <td>3</td>\n",
       "      <td>45</td>\n",
       "      <td>M</td>\n",
       "      <td>Electronics</td>\n",
       "    </tr>\n",
       "    <tr>\n",
       "      <th>3</th>\n",
       "      <td>4</td>\n",
       "      <td>55</td>\n",
       "      <td>M</td>\n",
       "      <td>Fashion</td>\n",
       "    </tr>\n",
       "    <tr>\n",
       "      <th>4</th>\n",
       "      <td>5</td>\n",
       "      <td>25</td>\n",
       "      <td>F</td>\n",
       "      <td>Electronics</td>\n",
       "    </tr>\n",
       "    <tr>\n",
       "      <th>5</th>\n",
       "      <td>6</td>\n",
       "      <td>35</td>\n",
       "      <td>F</td>\n",
       "      <td>Fashion</td>\n",
       "    </tr>\n",
       "    <tr>\n",
       "      <th>6</th>\n",
       "      <td>7</td>\n",
       "      <td>45</td>\n",
       "      <td>F</td>\n",
       "      <td>Electronics</td>\n",
       "    </tr>\n",
       "    <tr>\n",
       "      <th>7</th>\n",
       "      <td>8</td>\n",
       "      <td>55</td>\n",
       "      <td>F</td>\n",
       "      <td>Fashion</td>\n",
       "    </tr>\n",
       "  </tbody>\n",
       "</table>\n",
       "</div>"
      ],
      "text/plain": [
       "   CustomerID  Age Gender     Category\n",
       "0           1   25      M  Electronics\n",
       "1           2   35      M      Fashion\n",
       "2           3   45      M  Electronics\n",
       "3           4   55      M      Fashion\n",
       "4           5   25      F  Electronics\n",
       "5           6   35      F      Fashion\n",
       "6           7   45      F  Electronics\n",
       "7           8   55      F      Fashion"
      ]
     },
     "execution_count": 24,
     "metadata": {},
     "output_type": "execute_result"
    }
   ],
   "source": [
    "df = pd.DataFrame(data)\n",
    "df"
   ]
  },
  {
   "cell_type": "code",
   "execution_count": 25,
   "id": "1c1bc4bd-7b46-498f-9c96-f6288b0e6f05",
   "metadata": {},
   "outputs": [
    {
     "data": {
      "text/html": [
       "<div>\n",
       "<style scoped>\n",
       "    .dataframe tbody tr th:only-of-type {\n",
       "        vertical-align: middle;\n",
       "    }\n",
       "\n",
       "    .dataframe tbody tr th {\n",
       "        vertical-align: top;\n",
       "    }\n",
       "\n",
       "    .dataframe thead th {\n",
       "        text-align: right;\n",
       "    }\n",
       "</style>\n",
       "<table border=\"1\" class=\"dataframe\">\n",
       "  <thead>\n",
       "    <tr style=\"text-align: right;\">\n",
       "      <th>Category</th>\n",
       "      <th>Electronics</th>\n",
       "      <th>Fashion</th>\n",
       "    </tr>\n",
       "    <tr>\n",
       "      <th>Gender</th>\n",
       "      <th></th>\n",
       "      <th></th>\n",
       "    </tr>\n",
       "  </thead>\n",
       "  <tbody>\n",
       "    <tr>\n",
       "      <th>F</th>\n",
       "      <td>35</td>\n",
       "      <td>45</td>\n",
       "    </tr>\n",
       "    <tr>\n",
       "      <th>M</th>\n",
       "      <td>35</td>\n",
       "      <td>45</td>\n",
       "    </tr>\n",
       "  </tbody>\n",
       "</table>\n",
       "</div>"
      ],
      "text/plain": [
       "Category  Electronics  Fashion\n",
       "Gender                        \n",
       "F                  35       45\n",
       "M                  35       45"
      ]
     },
     "execution_count": 25,
     "metadata": {},
     "output_type": "execute_result"
    }
   ],
   "source": [
    "df.pivot_table(index=['Gender'], columns='Category', aggfunc='mean',values='Age')"
   ]
  },
  {
   "cell_type": "code",
   "execution_count": 26,
   "id": "f58dc3e0-6d03-4960-bdf7-f08596644cb3",
   "metadata": {},
   "outputs": [
    {
     "data": {
      "text/html": [
       "<div>\n",
       "<style scoped>\n",
       "    .dataframe tbody tr th:only-of-type {\n",
       "        vertical-align: middle;\n",
       "    }\n",
       "\n",
       "    .dataframe tbody tr th {\n",
       "        vertical-align: top;\n",
       "    }\n",
       "\n",
       "    .dataframe thead tr th {\n",
       "        text-align: left;\n",
       "    }\n",
       "\n",
       "    .dataframe thead tr:last-of-type th {\n",
       "        text-align: right;\n",
       "    }\n",
       "</style>\n",
       "<table border=\"1\" class=\"dataframe\">\n",
       "  <thead>\n",
       "    <tr>\n",
       "      <th></th>\n",
       "      <th></th>\n",
       "      <th colspan=\"2\" halign=\"left\">CustomerID</th>\n",
       "    </tr>\n",
       "    <tr>\n",
       "      <th></th>\n",
       "      <th>Category</th>\n",
       "      <th>Electronics</th>\n",
       "      <th>Fashion</th>\n",
       "    </tr>\n",
       "    <tr>\n",
       "      <th>Gender</th>\n",
       "      <th>Age</th>\n",
       "      <th></th>\n",
       "      <th></th>\n",
       "    </tr>\n",
       "  </thead>\n",
       "  <tbody>\n",
       "    <tr>\n",
       "      <th rowspan=\"4\" valign=\"top\">F</th>\n",
       "      <th>25</th>\n",
       "      <td>1.0</td>\n",
       "      <td>NaN</td>\n",
       "    </tr>\n",
       "    <tr>\n",
       "      <th>35</th>\n",
       "      <td>NaN</td>\n",
       "      <td>1.0</td>\n",
       "    </tr>\n",
       "    <tr>\n",
       "      <th>45</th>\n",
       "      <td>1.0</td>\n",
       "      <td>NaN</td>\n",
       "    </tr>\n",
       "    <tr>\n",
       "      <th>55</th>\n",
       "      <td>NaN</td>\n",
       "      <td>1.0</td>\n",
       "    </tr>\n",
       "    <tr>\n",
       "      <th rowspan=\"4\" valign=\"top\">M</th>\n",
       "      <th>25</th>\n",
       "      <td>1.0</td>\n",
       "      <td>NaN</td>\n",
       "    </tr>\n",
       "    <tr>\n",
       "      <th>35</th>\n",
       "      <td>NaN</td>\n",
       "      <td>1.0</td>\n",
       "    </tr>\n",
       "    <tr>\n",
       "      <th>45</th>\n",
       "      <td>1.0</td>\n",
       "      <td>NaN</td>\n",
       "    </tr>\n",
       "    <tr>\n",
       "      <th>55</th>\n",
       "      <td>NaN</td>\n",
       "      <td>1.0</td>\n",
       "    </tr>\n",
       "  </tbody>\n",
       "</table>\n",
       "</div>"
      ],
      "text/plain": [
       "            CustomerID        \n",
       "Category   Electronics Fashion\n",
       "Gender Age                    \n",
       "F      25          1.0     NaN\n",
       "       35          NaN     1.0\n",
       "       45          1.0     NaN\n",
       "       55          NaN     1.0\n",
       "M      25          1.0     NaN\n",
       "       35          NaN     1.0\n",
       "       45          1.0     NaN\n",
       "       55          NaN     1.0"
      ]
     },
     "execution_count": 26,
     "metadata": {},
     "output_type": "execute_result"
    }
   ],
   "source": [
    "pd.pivot_table(df,index=['Gender', 'Age'], columns='Category',aggfunc='count')\n"
   ]
  },
  {
   "cell_type": "code",
   "execution_count": 27,
   "id": "0e6b04b7-5b2d-4b57-9dcb-f04be068ab72",
   "metadata": {},
   "outputs": [
    {
     "data": {
      "text/html": [
       "<div>\n",
       "<style scoped>\n",
       "    .dataframe tbody tr th:only-of-type {\n",
       "        vertical-align: middle;\n",
       "    }\n",
       "\n",
       "    .dataframe tbody tr th {\n",
       "        vertical-align: top;\n",
       "    }\n",
       "\n",
       "    .dataframe thead th {\n",
       "        text-align: right;\n",
       "    }\n",
       "</style>\n",
       "<table border=\"1\" class=\"dataframe\">\n",
       "  <thead>\n",
       "    <tr style=\"text-align: right;\">\n",
       "      <th></th>\n",
       "      <th>Category</th>\n",
       "      <th>Electronics</th>\n",
       "      <th>Fashion</th>\n",
       "    </tr>\n",
       "    <tr>\n",
       "      <th>Gender</th>\n",
       "      <th>Age</th>\n",
       "      <th></th>\n",
       "      <th></th>\n",
       "    </tr>\n",
       "  </thead>\n",
       "  <tbody>\n",
       "    <tr>\n",
       "      <th rowspan=\"4\" valign=\"top\">F</th>\n",
       "      <th>25</th>\n",
       "      <td>1.0</td>\n",
       "      <td>NaN</td>\n",
       "    </tr>\n",
       "    <tr>\n",
       "      <th>35</th>\n",
       "      <td>NaN</td>\n",
       "      <td>1.0</td>\n",
       "    </tr>\n",
       "    <tr>\n",
       "      <th>45</th>\n",
       "      <td>1.0</td>\n",
       "      <td>NaN</td>\n",
       "    </tr>\n",
       "    <tr>\n",
       "      <th>55</th>\n",
       "      <td>NaN</td>\n",
       "      <td>1.0</td>\n",
       "    </tr>\n",
       "    <tr>\n",
       "      <th rowspan=\"4\" valign=\"top\">M</th>\n",
       "      <th>25</th>\n",
       "      <td>1.0</td>\n",
       "      <td>NaN</td>\n",
       "    </tr>\n",
       "    <tr>\n",
       "      <th>35</th>\n",
       "      <td>NaN</td>\n",
       "      <td>1.0</td>\n",
       "    </tr>\n",
       "    <tr>\n",
       "      <th>45</th>\n",
       "      <td>1.0</td>\n",
       "      <td>NaN</td>\n",
       "    </tr>\n",
       "    <tr>\n",
       "      <th>55</th>\n",
       "      <td>NaN</td>\n",
       "      <td>1.0</td>\n",
       "    </tr>\n",
       "  </tbody>\n",
       "</table>\n",
       "</div>"
      ],
      "text/plain": [
       "Category    Electronics  Fashion\n",
       "Gender Age                      \n",
       "F      25           1.0      NaN\n",
       "       35           NaN      1.0\n",
       "       45           1.0      NaN\n",
       "       55           NaN      1.0\n",
       "M      25           1.0      NaN\n",
       "       35           NaN      1.0\n",
       "       45           1.0      NaN\n",
       "       55           NaN      1.0"
      ]
     },
     "execution_count": 27,
     "metadata": {},
     "output_type": "execute_result"
    }
   ],
   "source": [
    "df.pivot_table(index=['Gender', 'Age'], columns='Category', aggfunc='size')"
   ]
  },
  {
   "cell_type": "code",
   "execution_count": 28,
   "id": "b68c03b7-9310-483a-a926-863caffb008f",
   "metadata": {},
   "outputs": [
    {
     "data": {
      "text/html": [
       "<div>\n",
       "<style scoped>\n",
       "    .dataframe tbody tr th:only-of-type {\n",
       "        vertical-align: middle;\n",
       "    }\n",
       "\n",
       "    .dataframe tbody tr th {\n",
       "        vertical-align: top;\n",
       "    }\n",
       "\n",
       "    .dataframe thead th {\n",
       "        text-align: right;\n",
       "    }\n",
       "</style>\n",
       "<table border=\"1\" class=\"dataframe\">\n",
       "  <thead>\n",
       "    <tr style=\"text-align: right;\">\n",
       "      <th></th>\n",
       "      <th>Category</th>\n",
       "      <th>Electronics</th>\n",
       "      <th>Fashion</th>\n",
       "    </tr>\n",
       "    <tr>\n",
       "      <th>Gender</th>\n",
       "      <th>Age</th>\n",
       "      <th></th>\n",
       "      <th></th>\n",
       "    </tr>\n",
       "  </thead>\n",
       "  <tbody>\n",
       "    <tr>\n",
       "      <th rowspan=\"4\" valign=\"top\">F</th>\n",
       "      <th>25</th>\n",
       "      <td>1</td>\n",
       "      <td>0</td>\n",
       "    </tr>\n",
       "    <tr>\n",
       "      <th>35</th>\n",
       "      <td>0</td>\n",
       "      <td>1</td>\n",
       "    </tr>\n",
       "    <tr>\n",
       "      <th>45</th>\n",
       "      <td>1</td>\n",
       "      <td>0</td>\n",
       "    </tr>\n",
       "    <tr>\n",
       "      <th>55</th>\n",
       "      <td>0</td>\n",
       "      <td>1</td>\n",
       "    </tr>\n",
       "    <tr>\n",
       "      <th rowspan=\"4\" valign=\"top\">M</th>\n",
       "      <th>25</th>\n",
       "      <td>1</td>\n",
       "      <td>0</td>\n",
       "    </tr>\n",
       "    <tr>\n",
       "      <th>35</th>\n",
       "      <td>0</td>\n",
       "      <td>1</td>\n",
       "    </tr>\n",
       "    <tr>\n",
       "      <th>45</th>\n",
       "      <td>1</td>\n",
       "      <td>0</td>\n",
       "    </tr>\n",
       "    <tr>\n",
       "      <th>55</th>\n",
       "      <td>0</td>\n",
       "      <td>1</td>\n",
       "    </tr>\n",
       "  </tbody>\n",
       "</table>\n",
       "</div>"
      ],
      "text/plain": [
       "Category    Electronics  Fashion\n",
       "Gender Age                      \n",
       "F      25             1        0\n",
       "       35             0        1\n",
       "       45             1        0\n",
       "       55             0        1\n",
       "M      25             1        0\n",
       "       35             0        1\n",
       "       45             1        0\n",
       "       55             0        1"
      ]
     },
     "execution_count": 28,
     "metadata": {},
     "output_type": "execute_result"
    }
   ],
   "source": [
    "df.pivot_table(index=['Gender', 'Age'], columns='Category', aggfunc='size', fill_value=0)\n"
   ]
  },
  {
   "cell_type": "markdown",
   "id": "f082ed72-2380-4f68-95b3-b3fc0284a62b",
   "metadata": {},
   "source": [
    " У вас есть датафрейм с результатами опроса, в котором каждый респондент указал свой пол и предпочтения по категориям товаров. Необходимо создать таблицу сопряженности и добавить в нее процентные значения по строкам или столбцам.\n"
   ]
  },
  {
   "cell_type": "code",
   "execution_count": 29,
   "id": "e710eeb3-8b31-4e09-aae0-3df61dcd4988",
   "metadata": {},
   "outputs": [],
   "source": [
    "data = {\n",
    "    'Gender': ['Male', 'Female', 'Male', 'Male', 'Female', 'Female'],\n",
    "    'Category': ['Electronics', 'Fashion', 'Electronics', 'Fashion', 'Electronics', 'Fashion']\n",
    "}\n",
    "\n",
    "df = pd.DataFrame(data)"
   ]
  },
  {
   "cell_type": "code",
   "execution_count": null,
   "id": "8d111818-efd5-4ee5-ab29-5a9a518c849a",
   "metadata": {},
   "outputs": [],
   "source": []
  },
  {
   "cell_type": "code",
   "execution_count": 30,
   "id": "edca7052-6a7a-42fb-bf1f-e23dd31b0753",
   "metadata": {},
   "outputs": [],
   "source": [
    "df1 = (np.round(pd.crosstab(index=df['Gender'], columns = df['Category'],\n",
    "           normalize=True),2)*100)"
   ]
  },
  {
   "cell_type": "code",
   "execution_count": 31,
   "id": "f18ee7c3-4d28-4e5a-9b26-8a9c94c22541",
   "metadata": {},
   "outputs": [
    {
     "data": {
      "text/html": [
       "<div>\n",
       "<style scoped>\n",
       "    .dataframe tbody tr th:only-of-type {\n",
       "        vertical-align: middle;\n",
       "    }\n",
       "\n",
       "    .dataframe tbody tr th {\n",
       "        vertical-align: top;\n",
       "    }\n",
       "\n",
       "    .dataframe thead th {\n",
       "        text-align: right;\n",
       "    }\n",
       "</style>\n",
       "<table border=\"1\" class=\"dataframe\">\n",
       "  <thead>\n",
       "    <tr style=\"text-align: right;\">\n",
       "      <th>Category</th>\n",
       "      <th>Electronics</th>\n",
       "      <th>Fashion</th>\n",
       "    </tr>\n",
       "    <tr>\n",
       "      <th>Gender</th>\n",
       "      <th></th>\n",
       "      <th></th>\n",
       "    </tr>\n",
       "  </thead>\n",
       "  <tbody>\n",
       "    <tr>\n",
       "      <th>Female</th>\n",
       "      <td>19.0</td>\n",
       "      <td>35.0</td>\n",
       "    </tr>\n",
       "    <tr>\n",
       "      <th>Male</th>\n",
       "      <td>35.0</td>\n",
       "      <td>19.0</td>\n",
       "    </tr>\n",
       "  </tbody>\n",
       "</table>\n",
       "</div>"
      ],
      "text/plain": [
       "Category  Electronics  Fashion\n",
       "Gender                        \n",
       "Female           19.0     35.0\n",
       "Male             35.0     19.0"
      ]
     },
     "execution_count": 31,
     "metadata": {},
     "output_type": "execute_result"
    }
   ],
   "source": [
    "df1.applymap(lambda x: x+2)"
   ]
  },
  {
   "cell_type": "code",
   "execution_count": 32,
   "id": "8ad3fc83-462e-4897-ab80-86763853a2ce",
   "metadata": {},
   "outputs": [
    {
     "data": {
      "text/html": [
       "<div>\n",
       "<style scoped>\n",
       "    .dataframe tbody tr th:only-of-type {\n",
       "        vertical-align: middle;\n",
       "    }\n",
       "\n",
       "    .dataframe tbody tr th {\n",
       "        vertical-align: top;\n",
       "    }\n",
       "\n",
       "    .dataframe thead th {\n",
       "        text-align: right;\n",
       "    }\n",
       "</style>\n",
       "<table border=\"1\" class=\"dataframe\">\n",
       "  <thead>\n",
       "    <tr style=\"text-align: right;\">\n",
       "      <th>Category</th>\n",
       "      <th>Electronics</th>\n",
       "      <th>Fashion</th>\n",
       "    </tr>\n",
       "    <tr>\n",
       "      <th>Gender</th>\n",
       "      <th></th>\n",
       "      <th></th>\n",
       "    </tr>\n",
       "  </thead>\n",
       "  <tbody>\n",
       "    <tr>\n",
       "      <th>Female</th>\n",
       "      <td>0.166667</td>\n",
       "      <td>0.333333</td>\n",
       "    </tr>\n",
       "    <tr>\n",
       "      <th>Male</th>\n",
       "      <td>0.333333</td>\n",
       "      <td>0.166667</td>\n",
       "    </tr>\n",
       "  </tbody>\n",
       "</table>\n",
       "</div>"
      ],
      "text/plain": [
       "Category  Electronics   Fashion\n",
       "Gender                         \n",
       "Female       0.166667  0.333333\n",
       "Male         0.333333  0.166667"
      ]
     },
     "execution_count": 32,
     "metadata": {},
     "output_type": "execute_result"
    }
   ],
   "source": [
    "pd.crosstab(index=df['Gender'], columns = df['Category'],\n",
    "           normalize=True)"
   ]
  },
  {
   "cell_type": "markdown",
   "id": "4e263f05-e3cb-41fa-a8fa-9b3391fef93a",
   "metadata": {},
   "source": [
    "Markdown text\n",
    "====\n",
    "\n",
    "$$x^2+y^2 = 0$$"
   ]
  },
  {
   "cell_type": "code",
   "execution_count": null,
   "id": "37b1dff9-251b-48de-846c-55b4a2bc48d6",
   "metadata": {},
   "outputs": [],
   "source": []
  },
  {
   "cell_type": "code",
   "execution_count": null,
   "id": "8f83188c-618d-480e-88a2-5a878f093607",
   "metadata": {},
   "outputs": [],
   "source": []
  },
  {
   "cell_type": "markdown",
   "id": "33d862ba-ac06-49b9-b6bb-59b1f40e88cb",
   "metadata": {},
   "source": [
    "Lesson 6.2\n",
    "==\n",
    "Визуализация с помощью matplotlib\n",
    "--\n",
    " Общий синтаксис.\n"
   ]
  },
  {
   "cell_type": "code",
   "execution_count": 33,
   "id": "a07a0ef8-624f-4335-9420-de3b2a6f50b0",
   "metadata": {},
   "outputs": [],
   "source": [
    "import matplotlib.pyplot as plt\n"
   ]
  },
  {
   "cell_type": "code",
   "execution_count": 34,
   "id": "36e12bc2-cfa5-4600-a8a4-c3c88cd701aa",
   "metadata": {},
   "outputs": [],
   "source": [
    "%matplotlib inline\n"
   ]
  },
  {
   "cell_type": "code",
   "execution_count": 35,
   "id": "666dc1b5-ba0d-4e06-9c54-6f02d9a62dd4",
   "metadata": {},
   "outputs": [
    {
     "data": {
      "image/png": "[encoded data removed]",
      "text/plain": [
       "<Figure size 640x480 with 1 Axes>"
      ]
     },
     "metadata": {},
     "output_type": "display_data"
    }
   ],
   "source": [
    "plt.plot(range(20), range(20))\n",
    "plt.title(\"Title\")\n",
    "plt.show()\n"
   ]
  },
  {
   "cell_type": "code",
   "execution_count": 36,
   "id": "5f6d4c6d-7df1-4ea1-b3e2-6a3d98e23ec5",
   "metadata": {},
   "outputs": [
    {
     "data": {
      "image/png": "[encoded data removed]",
      "text/plain": [
       "<Figure size 640x480 with 1 Axes>"
      ]
     },
     "metadata": {},
     "output_type": "display_data"
    }
   ],
   "source": [
    "plt.scatter(range(20), range(20))\n",
    "plt.show()\n"
   ]
  },
  {
   "cell_type": "code",
   "execution_count": 37,
   "id": "6b63f691-71b7-4b0b-bb50-88c21aeedc9c",
   "metadata": {},
   "outputs": [],
   "source": [
    "points=[(-4,-7), (-6,-1), (-7,4), (-8,4), (-10,3), (-11,5), (-8,7), (-6,7), (-6,6), (-6.5,5),   (-7.5,5), (-8,6), (-8,7), (-6,7), (-5,6), (-4,4), (-2,3), (4,3), (5,2), (9,4), (5,1), (5,-3), (6,-7), (5,-7), (4,-5), (1,0), (-2,-1), (-3,-1), (-3,-7), (-4,-7)]"
   ]
  },
  {
   "cell_type": "code",
   "execution_count": 38,
   "id": "ec2d22b3-9e8b-4cf5-8ad8-85da670cffc3",
   "metadata": {},
   "outputs": [
    {
     "data": {
      "image/png": "[encoded data removed]",
      "text/plain": [
       "<Figure size 640x480 with 1 Axes>"
      ]
     },
     "metadata": {},
     "output_type": "display_data"
    }
   ],
   "source": [
    "x = [p[0] for p in points]\n",
    "y = [p[1] for p in points]\n",
    "plt.plot(x,y)\n",
    "plt.show()"
   ]
  },
  {
   "cell_type": "code",
   "execution_count": null,
   "id": "ac17849f-123f-457e-8128-818a0de001fa",
   "metadata": {},
   "outputs": [],
   "source": []
  },
  {
   "cell_type": "code",
   "execution_count": null,
   "id": "a7742ac7-0f83-4dce-a815-9e2159dce847",
   "metadata": {},
   "outputs": [],
   "source": []
  },
  {
   "cell_type": "code",
   "execution_count": null,
   "id": "6ef6e237-d244-431a-a950-8c0a066adf17",
   "metadata": {},
   "outputs": [],
   "source": []
  },
  {
   "cell_type": "code",
   "execution_count": null,
   "id": "b4bd4775-5319-4f33-8dde-b20ece51a274",
   "metadata": {},
   "outputs": [],
   "source": []
  },
  {
   "cell_type": "code",
   "execution_count": null,
   "id": "aa5ff3b7-ba6c-470b-af5f-bf24f924b883",
   "metadata": {},
   "outputs": [],
   "source": []
  },
  {
   "cell_type": "markdown",
   "id": "a20b34bd-2085-4a12-bb32-3ecbe0fa5d81",
   "metadata": {},
   "source": [
    "Настройка стилей графиков.\n",
    "--\n",
    "Matplotlib позволяет настраивать стили линий, цвета, типы маркеров и многое другое, чтобы сделать визуализацию данных максимально информативной и привлекательной. \n"
   ]
  },
  {
   "cell_type": "code",
   "execution_count": 39,
   "id": "cbc31b88-c9d4-44c4-a217-3c03cb9b747f",
   "metadata": {},
   "outputs": [
    {
     "data": {
      "image/png": "[encoded data removed]",
      "text/plain": [
       "<Figure size 640x480 with 1 Axes>"
      ]
     },
     "metadata": {},
     "output_type": "display_data"
    }
   ],
   "source": [
    "plt.plot(range(10), [x**2 for x in range(10)], linestyle='--', color='green', marker='o')\n",
    "plt.title(\"Квадратичная функция\")\n",
    "plt.xlabel(\"X axis\")\n",
    "plt.ylabel(\"Y axis\")\n",
    "plt.grid(True)\n",
    "plt.show()\n"
   ]
  },
  {
   "cell_type": "markdown",
   "id": "1efb1372-616b-4af8-9bb8-905f512686a8",
   "metadata": {},
   "source": [
    "На одной системе координат можно изображать несколько графиков и добавлять к графикам пояснение (“легенду”):\n"
   ]
  },
  {
   "cell_type": "code",
   "execution_count": 40,
   "id": "ce868f5e-1b39-4c35-b0f3-7ca6011fac58",
   "metadata": {},
   "outputs": [
    {
     "data": {
      "image/png": "[encoded data removed]",
      "text/plain": [
       "<Figure size 640x480 with 1 Axes>"
      ]
     },
     "metadata": {},
     "output_type": "display_data"
    }
   ],
   "source": [
    "plt.plot(range(10), [x**2 for x in range(10)], linestyle='--', color='green', marker='o', label='Парабола')\n",
    "plt.plot(range(10), [x**3 for x in range(10)], linestyle='dotted', color='blue', marker='*', label='Кубическая парабола')\n",
    "plt.title(\"Степенные функции\")\n",
    "plt.xlabel(\"X axis\")\n",
    "plt.ylabel(\"Y axis\")\n",
    "plt.grid(True)\n",
    "plt.legend(loc='lower right')\n",
    "plt.show()\n"
   ]
  },
  {
   "cell_type": "markdown",
   "id": "6ae2c834-ac7d-45e8-b00a-1033a83b492d",
   "metadata": {},
   "source": [
    "Различные виды графиков\n",
    "==\n",
    "Гистограммы и распределения.\n",
    "--"
   ]
  },
  {
   "cell_type": "code",
   "execution_count": 41,
   "id": "a9e70df0-0d62-42f4-990b-efdf5a181f58",
   "metadata": {},
   "outputs": [
    {
     "data": {
      "image/png": "[encoded data removed]",
      "text/plain": [
       "<Figure size 640x480 with 1 Axes>"
      ]
     },
     "metadata": {},
     "output_type": "display_data"
    }
   ],
   "source": [
    "data = np.random.randn(1000)\n",
    "plt.hist(data, bins=30, color='steelblue', edgecolor='black')\n",
    "plt.title(\"Гистограмма распределения\")\n",
    "plt.xlabel(\"Значение\")\n",
    "plt.ylabel(\"Частота\")\n",
    "plt.show()\n"
   ]
  },
  {
   "cell_type": "code",
   "execution_count": 42,
   "id": "092f7c3f-c485-48ea-bc86-b6ff4f77110c",
   "metadata": {},
   "outputs": [
    {
     "data": {
      "image/png": "[encoded data removed]",
      "text/plain": [
       "<Figure size 640x480 with 1 Axes>"
      ]
     },
     "metadata": {},
     "output_type": "display_data"
    },
    {
     "data": {
      "image/png": "[encoded data removed]",
      "text/plain": [
       "<Figure size 640x480 with 1 Axes>"
      ]
     },
     "metadata": {},
     "output_type": "display_data"
    }
   ],
   "source": [
    "data1 = np.random.randn(10000)\n",
    "data2 = np.random.randn(2000)\n",
    "plt.hist([data1, data2], bins=20)\n",
    "plt.show()\n",
    "plt.hist([data1, data2], bins=40, histtype='step', color=['red','yellow'])\n",
    "plt.show()\n"
   ]
  },
  {
   "cell_type": "markdown",
   "id": "cfef7a55-8aa4-410f-8de6-4e1d179c9d4a",
   "metadata": {},
   "source": [
    "Круговые диаграммы.\n",
    "--"
   ]
  },
  {
   "cell_type": "code",
   "execution_count": 43,
   "id": "7a2f51a4-1458-4715-9b2c-75d703397d29",
   "metadata": {},
   "outputs": [
    {
     "data": {
      "image/png": "[encoded data removed]",
      "text/plain": [
       "<Figure size 640x480 with 1 Axes>"
      ]
     },
     "metadata": {},
     "output_type": "display_data"
    }
   ],
   "source": [
    "labels = 'A', 'B', 'C', 'D'\n",
    "sizes = [15, 30, 45, 10]\n",
    "explode = (0, 0.1, 0, 0)  # выделяем второй сектор\n",
    "\n",
    "plt.pie(sizes, explode=explode, labels=labels, autopct='%1.1f%%', shadow=True, startangle=90)\n",
    "plt.title(\"Круговая диаграмма\")\n",
    "plt.show()\n"
   ]
  },
  {
   "cell_type": "markdown",
   "id": "a8f387d2-fb57-4104-9b3c-0ad6a592cc13",
   "metadata": {},
   "source": [
    "Столбчатые диаграммы.\n",
    "---"
   ]
  },
  {
   "cell_type": "code",
   "execution_count": 44,
   "id": "f583a77b-8e29-4bd3-b306-5dd3f60de801",
   "metadata": {},
   "outputs": [
    {
     "data": {
      "image/png": "[encoded data removed]",
      "text/plain": [
       "<Figure size 640x480 with 1 Axes>"
      ]
     },
     "metadata": {},
     "output_type": "display_data"
    }
   ],
   "source": [
    "objects = ('Python', 'C++', 'Java', 'Perl', 'Scala', 'Lisp')\n",
    "performance = [10,8,6,4,2,1]\n",
    "\n",
    "plt.bar(objects, performance, color='blue', edgecolor='black')\n",
    "plt.title(\"Популярность языков программирования\")\n",
    "plt.xlabel(\"Языки\")\n",
    "plt.ylabel(\"Популярность\")\n",
    "plt.show()\n"
   ]
  },
  {
   "cell_type": "code",
   "execution_count": 45,
   "id": "ea4f84bd-0cd5-479c-8ddb-95822878021f",
   "metadata": {},
   "outputs": [
    {
     "data": {
      "image/png": "[encoded data removed]",
      "text/plain": [
       "<Figure size 640x480 with 1 Axes>"
      ]
     },
     "metadata": {},
     "output_type": "display_data"
    }
   ],
   "source": [
    "objects = ('Python', 'C++', 'Java', 'Perl', 'Scala', 'Lisp')\n",
    "performance2020 = [10,8,6,4,2,1]\n",
    "performance2000 = [1,10,8,4,2,1]\n",
    "index=np.arange(0,2*len(objects),2)\n",
    "\n",
    "plt.bar(index, performance2020, color='blue', edgecolor='black', width=0.8)\n",
    "plt.bar(index+0.8, performance2000, color='red', edgecolor='blue', width=0.8)\n",
    "plt.xticks(index+0.4, objects)\n",
    "plt.title(\"Популярность языков программирования\")\n",
    "plt.xlabel(\"Языки\")\n",
    "plt.ylabel(\"Популярность\")\n",
    "plt.show()\n"
   ]
  },
  {
   "cell_type": "code",
   "execution_count": 46,
   "id": "b05e09f8-0768-498e-924f-33976a02665c",
   "metadata": {},
   "outputs": [
    {
     "data": {
      "image/png": "[encoded data removed]",
      "text/plain": [
       "<Figure size 640x480 with 1 Axes>"
      ]
     },
     "metadata": {},
     "output_type": "display_data"
    }
   ],
   "source": [
    "objects = ('Python', 'C++', 'Java', 'Perl', 'Scala', 'Lisp')\n",
    "performance2020 = [10,8,6,4,2,1]\n",
    "performance2000 = [1,10,8,4,2,1]\n",
    "index=np.arange(0,2*len(objects),2)\n",
    "\n",
    "plt.bar(index, performance2020, color='blue', edgecolor='black', width=0.8, label = '2020')\n",
    "plt.bar(index+0.8, performance2000, color='red', edgecolor='blue', width=0.8, label = '2000')\n",
    "plt.xticks(index+0.4, objects)\n",
    "plt.title(\"Популярность языков программирования\")\n",
    "plt.xlabel(\"Языки\")\n",
    "plt.ylabel(\"Популярность\")\n",
    "plt.legend()\n",
    "plt.show()\n"
   ]
  },
  {
   "cell_type": "markdown",
   "id": "4096852c-11c3-438f-a7d1-7317276482d7",
   "metadata": {},
   "source": [
    "Настройка осей и сетки.\n",
    "--"
   ]
  },
  {
   "cell_type": "code",
   "execution_count": 47,
   "id": "f6072549-ae62-4abf-8dfd-7545d4e30df4",
   "metadata": {},
   "outputs": [
    {
     "data": {
      "image/png": "[encoded data removed]",
      "text/plain": [
       "<Figure size 640x480 with 1 Axes>"
      ]
     },
     "metadata": {},
     "output_type": "display_data"
    }
   ],
   "source": [
    "x = range(1, 5)\n",
    "y = [1, 4, 6, 8]\n",
    "plt.plot(x, y, marker='o')\n",
    "plt.xlim(0, 5)  # Установка пределов оси X\n",
    "plt.ylim(0, 10)  # Установка пределов оси Y\n",
    "plt.xlabel('Ось X')\n",
    "plt.ylabel('Ось Y')\n",
    "#plt.xticks определяет размер грида по оси х \n",
    "plt.grid(True)  # Включение отображения сетки\n",
    "plt.show()\n"
   ]
  },
  {
   "cell_type": "markdown",
   "id": "b4011ca1-0c69-4099-a8ba-c8494458f114",
   "metadata": {},
   "source": [
    "Работа с текстом и аннотациями на графиках.\n",
    "=="
   ]
  },
  {
   "cell_type": "code",
   "execution_count": 48,
   "id": "20e02884-a3c2-4844-8766-d5baee165ee7",
   "metadata": {},
   "outputs": [
    {
     "data": {
      "image/png": "[encoded data removed]",
      "text/plain": [
       "<Figure size 640x480 with 1 Axes>"
      ]
     },
     "metadata": {},
     "output_type": "display_data"
    }
   ],
   "source": [
    "plt.plot([1, 2, 3], [4, 3, 2])\n",
    "plt.text(1, 4, \"Start\", fontsize=12)\n",
    "plt.text(2, 3, \"Middle\", fontsize=12)\n",
    "plt.text(3, 2, \"End\", fontsize=12)\n",
    "plt.annotate('Important point', xy=(2, 3), xytext=(3, 4),\n",
    "             arrowprops=dict(facecolor='black', shrink=0.05))\n",
    "plt.show()\n"
   ]
  },
  {
   "cell_type": "markdown",
   "id": "c92eae18-2244-4d41-8790-94c06a3855e9",
   "metadata": {},
   "source": [
    "Сохранение графиков.\n",
    "---"
   ]
  },
  {
   "cell_type": "code",
   "execution_count": 49,
   "id": "6d6370a6-12f2-4476-8db9-ab3c2b616092",
   "metadata": {},
   "outputs": [
    {
     "data": {
      "image/png": "[encoded data removed]",
      "text/plain": [
       "<Figure size 640x480 with 1 Axes>"
      ]
     },
     "metadata": {},
     "output_type": "display_data"
    }
   ],
   "source": [
    "plt.plot([1, 2, 3, 4])\n",
    "plt.ylabel('some numbers')\n",
    "# Сохранение графика в файл. Указывайте путь и формат файла.\n",
    "plt.savefig('my_figure.png')\n"
   ]
  },
  {
   "cell_type": "markdown",
   "id": "cb92e92a-8f5a-438a-93b8-9bb4bc110ace",
   "metadata": {},
   "source": [
    "Решение задач\n",
    "---\n",
    " Нарисуйте график квадратичной функции $y=x^2$. Сделайте заголовок этого графика, подпишите точку с координатами (2; 4) как важную, подпишите оси координат.\n"
   ]
  },
  {
   "cell_type": "code",
   "execution_count": 50,
   "id": "c9033d56-5b2d-4454-a992-fbd641ec3e1b",
   "metadata": {},
   "outputs": [
    {
     "data": {
      "image/png": "[encoded data removed]",
      "text/plain": [
       "<Figure size 640x480 with 1 Axes>"
      ]
     },
     "metadata": {},
     "output_type": "display_data"
    }
   ],
   "source": [
    "x = np.arange(0, 10, 1)\n",
    "y = x**2\n",
    "plt.plot(x, y)\n",
    "plt.title('Plot with Annotations')\n",
    "plt.annotate('This point is important', xy=(2, 4), xytext=(3, 20),\n",
    "             arrowprops=dict(facecolor='black', shrink=0.05))\n",
    "plt.xlabel('X axis')\n",
    "plt.ylabel('Y axis')\n",
    "plt.show()\n"
   ]
  },
  {
   "cell_type": "markdown",
   "id": "ee27f78b-25c9-4dc5-9a92-1ba3bac7eeb9",
   "metadata": {},
   "source": [
    "Постройте столбчатую диаграмму для функции из предыдущей задачи. Отобразите график и столбчатую диаграмму на одном рисунке. Добавьте на функцию маркеры, дополните рисунок легендой.\n"
   ]
  },
  {
   "cell_type": "code",
   "execution_count": 51,
   "id": "bd6ab99f-ab36-4220-b5db-75fc889000a2",
   "metadata": {},
   "outputs": [
    {
     "data": {
      "image/png": "[encoded data removed]",
      "text/plain": [
       "<Figure size 640x480 with 1 Axes>"
      ]
     },
     "metadata": {},
     "output_type": "display_data"
    }
   ],
   "source": [
    "x = np.arange(0, 10, 1)\n",
    "y = x**2\n",
    "plt.plot(x, y, marker='o', label='Plot')\n",
    "plt.bar(x, y, color='gray', label='Bars')\n",
    "plt.title('Plot and Bars')\n",
    "plt.xlabel('X axis')\n",
    "plt.ylabel('Y axis')\n",
    "plt.legend()\n",
    "plt.show()\n"
   ]
  },
  {
   "cell_type": "code",
   "execution_count": 52,
   "id": "2e25ba65-a7c8-455d-86d1-24627c16b86d",
   "metadata": {},
   "outputs": [
    {
     "data": {
      "text/plain": [
       "<Figure size 640x480 with 0 Axes>"
      ]
     },
     "metadata": {},
     "output_type": "display_data"
    }
   ],
   "source": [
    "plt.savefig('/Users/krystynaisakova/Downloads/my_fig.png')"
   ]
  }
 ],
 "metadata": {
  "kernelspec": {
   "display_name": "Python 3 (ipykernel)",
   "language": "python",
   "name": "python3"
  },
  "language_info": {
   "codemirror_mode": {
    "name": "ipython",
    "version": 3
   },
   "file_extension": ".py",
   "mimetype": "text/x-python",
   "name": "python",
   "nbconvert_exporter": "python",
   "pygments_lexer": "ipython3",
   "version": "3.11.4"
  }
 },
 "nbformat": 4,
 "nbformat_minor": 5
}
