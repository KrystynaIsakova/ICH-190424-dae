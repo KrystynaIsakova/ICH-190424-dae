{
 "cells": [
  {
   "cell_type": "markdown",
   "id": "2f98ed8e-4b5e-4df4-880c-1f83fd76c0f9",
   "metadata": {},
   "source": [
    "L2-1\n",
    "==\n",
    "Индексация, начало работы с матрицами\n",
    "-\n",
    "1) **Сортировка, изменение массивов**\n",
    "\n",
    "Функция sort возвращает отсортированную копию, метод sort сортирует на месте.\n"
   ]
  },
  {
   "cell_type": "code",
   "execution_count": 2,
   "id": "25c1aed0-fd4e-4656-83ca-63204dc9a585",
   "metadata": {},
   "outputs": [],
   "source": [
    "import numpy as np"
   ]
  },
  {
   "cell_type": "code",
   "execution_count": 3,
   "id": "1ce4da1c-bd49-4f92-8734-2b3df5859218",
   "metadata": {},
   "outputs": [
    {
     "name": "stdout",
     "output_type": "stream",
     "text": [
      "[ 4  6 10]\n",
      "[ 6  4 10]\n",
      "[ 4  6 10]\n"
     ]
    }
   ],
   "source": [
    "b = np.array([6, 4, 10])\n",
    "print(np.sort(b)) \n",
    "print(b) \n",
    "b.sort()\n",
    "print(b)\n"
   ]
  },
  {
   "cell_type": "markdown",
   "id": "66cc5846-b80b-4c0a-aa52-89acf35a4274",
   "metadata": {},
   "source": [
    "Функции delete, insert и append не меняют массив на месте, а возвращают новый массив, в котором удалены, вставлены в середину или добавлены в конец какие-то элементы.\n",
    "delete удаляет по индексу, а не по значению!\n"
   ]
  },
  {
   "cell_type": "code",
   "execution_count": 6,
   "id": "c3d30307-5ca0-4cd5-a9d4-ea5d127e72ab",
   "metadata": {},
   "outputs": [
    {
     "name": "stdout",
     "output_type": "stream",
     "text": [
      "[1 2 3 4 5 6]\n",
      "[1 2 3 4 5]\n",
      "[1 2 0 0 3 4 5]\n",
      "[1 2 0 0 3 4 5 1 2 3]\n"
     ]
    }
   ],
   "source": [
    "a = np.arange(1,7)\n",
    "print(a)\n",
    "a = np.delete(a, 5)\n",
    "print(a)\n",
    "\n",
    "a = np.insert(a, 2, [0, 0])\n",
    "print(a)\n",
    "\n",
    "a = np.append(a, [1, 2, 3])\n",
    "print(a)\n",
    "\n"
   ]
  },
  {
   "cell_type": "markdown",
   "id": "c039e714-a905-44d8-92fe-9393c01614cf",
   "metadata": {},
   "source": [
    "insert принимает индекс, начиная с которого нужно вставить элемент/элементы и собственно элементы.\n",
    "\n",
    "\n",
    "2) **Индексация для доступа к данным:**\n",
    "\n",
    "Индексация в NumPy - это способ доступа к элементам массива. В многомерных массивах для адресации используются индексы для каждого измерения.\n",
    "Если мы хотим получить значение по индексам в многомерном массиве, нужно указывать индексы через запятую внутри квадратных скобок\n"
   ]
  },
  {
   "cell_type": "code",
   "execution_count": 7,
   "id": "7bb2b385-cdbf-43f9-9ef3-e496cae6ae43",
   "metadata": {},
   "outputs": [
    {
     "name": "stdout",
     "output_type": "stream",
     "text": [
      "1\n",
      "[4 5 6]\n",
      "6\n",
      "6\n"
     ]
    }
   ],
   "source": [
    "one_d_array = np.array([1, 2, 3])\n",
    "print(one_d_array[0]) \n",
    "two_d_array = np.array([[1, 2, 3], [4, 5, 6]])\n",
    "print(two_d_array[1]) \n",
    "print(two_d_array[1, 2])  \n",
    "print(two_d_array[1][2])\n"
   ]
  },
  {
   "cell_type": "markdown",
   "id": "74fa1ab1-384b-485f-83de-0a4bb9c63fd7",
   "metadata": {},
   "source": [
    "Массивы являются изменяемыми объектами!\n"
   ]
  },
  {
   "cell_type": "code",
   "execution_count": 13,
   "id": "fe1cf6cb-735a-4e77-a5be-0e677f944c28",
   "metadata": {},
   "outputs": [
    {
     "name": "stdout",
     "output_type": "stream",
     "text": [
      "[1 2 5]\n"
     ]
    }
   ],
   "source": [
    "int_array = np.array([1, 2, 3])\n",
    "int_array[2] = 5 \n",
    "print(int_array)\n"
   ]
  },
  {
   "cell_type": "markdown",
   "id": "cf9f3eef-ca31-4d31-8ecb-78b97864828c",
   "metadata": {},
   "source": [
    "Срезы работают почти как в списках (с точки зрения синтаксиса). Для многомерных массивов срез работает по соответствующей размерности.\n"
   ]
  },
  {
   "cell_type": "code",
   "execution_count": 18,
   "id": "b2d4b52e-d12a-4267-8a4a-325406d5c623",
   "metadata": {},
   "outputs": [
    {
     "data": {
      "text/plain": [
       "array([5, 6, 5])"
      ]
     },
     "execution_count": 18,
     "metadata": {},
     "output_type": "execute_result"
    }
   ],
   "source": [
    "int_array[0:2] = [5,6]\n",
    "int_array"
   ]
  },
  {
   "cell_type": "code",
   "execution_count": 14,
   "id": "9aa4fab5-a2a5-470f-9550-739380f7ea23",
   "metadata": {},
   "outputs": [
    {
     "ename": "NameError",
     "evalue": "name 'one_d_array' is not defined",
     "output_type": "error",
     "traceback": [
      "\u001b[0;31m---------------------------------------------------------------------------\u001b[0m",
      "\u001b[0;31mNameError\u001b[0m                                 Traceback (most recent call last)",
      "Cell \u001b[0;32mIn[14], line 1\u001b[0m\n\u001b[0;32m----> 1\u001b[0m \u001b[38;5;28mprint\u001b[39m(\u001b[43mone_d_array\u001b[49m[\u001b[38;5;241m0\u001b[39m:\u001b[38;5;241m2\u001b[39m])\n\u001b[1;32m      2\u001b[0m \u001b[38;5;28mprint\u001b[39m(two_d_array[\u001b[38;5;241m0\u001b[39m:\u001b[38;5;241m2\u001b[39m])  \n\u001b[1;32m      3\u001b[0m \u001b[38;5;28mprint\u001b[39m(two_d_array[\u001b[38;5;241m0\u001b[39m:\u001b[38;5;241m2\u001b[39m, \u001b[38;5;241m0\u001b[39m:\u001b[38;5;241m2\u001b[39m]) \n",
      "\u001b[0;31mNameError\u001b[0m: name 'one_d_array' is not defined"
     ]
    }
   ],
   "source": [
    "print(one_d_array[0:2])\n",
    "print(two_d_array[0:2])  \n",
    "print(two_d_array[0:2, 0:2]) \n"
   ]
  },
  {
   "cell_type": "markdown",
   "id": "452a0551-9ce0-4988-90bf-9bdacdb55a4a",
   "metadata": {},
   "source": [
    "Если мы хотим взять, например, все элементы из списка a, то мы напишем a[:]. Здесь аналогично можно делать по размерностям.\n"
   ]
  },
  {
   "cell_type": "code",
   "execution_count": 10,
   "id": "c7fe780d-2fcf-4b6f-b59e-f740fc8ce788",
   "metadata": {},
   "outputs": [
    {
     "name": "stdout",
     "output_type": "stream",
     "text": [
      "[1 2 3]\n",
      "[2 5]\n"
     ]
    }
   ],
   "source": [
    "print(two_d_array[0, :]) \n",
    "print(two_d_array[:, 1])\n"
   ]
  },
  {
   "cell_type": "code",
   "execution_count": 11,
   "id": "85933558-daed-419f-b094-6d21aca90a5d",
   "metadata": {},
   "outputs": [
    {
     "data": {
      "text/plain": [
       "array([[1, 2, 3],\n",
       "       [4, 5, 6]])"
      ]
     },
     "execution_count": 11,
     "metadata": {},
     "output_type": "execute_result"
    }
   ],
   "source": [
    "two_d_array"
   ]
  },
  {
   "cell_type": "markdown",
   "id": "2a09629f-f310-4363-a744-d31829c3eaf6",
   "metadata": {},
   "source": [
    "*Замечание.* Обратите внимание, что, по сути, записи two_d_array[0, :] и two_d_array[0] абсолютно эквивалентны. 0 говорит, что мы хотим взять конкретный номер по какой-то размерности. Если в two_d_array[0] мы не указываем, что именно мы хотим оставить по второй размерности, то это означает, что оставляем всё.\n",
    "\n",
    "Но есть и **ощутимое** отличие.\n"
   ]
  },
  {
   "cell_type": "code",
   "execution_count": 12,
   "id": "e3f960ff-f314-47cb-8255-4e4c1610aa59",
   "metadata": {},
   "outputs": [
    {
     "name": "stdout",
     "output_type": "stream",
     "text": [
      "[2.2 3.3]\n",
      "[101.    3.3]\n"
     ]
    }
   ],
   "source": [
    "x = np.array([1.1, 2.2, 3.3, 4.4, 5.5])\n",
    "s = x[1:3:1]\n",
    "print(s)\n",
    "\n",
    "s[0] = 101\n",
    "print(s)\n",
    "\n"
   ]
  },
  {
   "cell_type": "markdown",
   "id": "19c34f5a-bbb7-49d6-a84a-922731b48eab",
   "metadata": {},
   "source": [
    "Пока всё идёт как обычно. Как вы думаете, что произойдет с исходным массивом x?\n"
   ]
  },
  {
   "cell_type": "code",
   "execution_count": 14,
   "id": "67f17a3a-5432-4868-b4f2-99c18183f984",
   "metadata": {},
   "outputs": [
    {
     "name": "stdout",
     "output_type": "stream",
     "text": [
      "[  1.1 101.    3.3   4.4   5.5]\n"
     ]
    }
   ],
   "source": [
    "print(x)"
   ]
  },
  {
   "cell_type": "markdown",
   "id": "98502008-b988-45c5-89f7-c0f4823adf7b",
   "metadata": {},
   "source": [
    "Если вам всё-таки нужно сделать копию массива, нужно использовать метод copy().\n"
   ]
  },
  {
   "cell_type": "code",
   "execution_count": 15,
   "id": "aa7e28e1-b06f-49cd-aac0-2c43a9b5c028",
   "metadata": {},
   "outputs": [],
   "source": [
    "y = x.copy()\n"
   ]
  },
  {
   "cell_type": "code",
   "execution_count": 16,
   "id": "1270ac2e-d714-45a0-9500-4f2d2119227d",
   "metadata": {},
   "outputs": [
    {
     "name": "stdout",
     "output_type": "stream",
     "text": [
      "[2.2, 3.3]\n",
      "[101, 3.3]\n",
      "[1.1, 2.2, 3.3, 4.4, 5.5]\n"
     ]
    }
   ],
   "source": [
    "x = [1.1, 2.2, 3.3, 4.4, 5.5]\n",
    "s = x[1:3:1]\n",
    "print(s)\n",
    "\n",
    "s[0] = 101\n",
    "print(s)\n",
    "\n",
    "print(x)\n",
    "\n"
   ]
  },
  {
   "cell_type": "markdown",
   "id": "f2831db8-5634-4650-b640-2f23bef428a0",
   "metadata": {},
   "source": [
    "Да, в списках ничего не изменялось\n"
   ]
  },
  {
   "cell_type": "markdown",
   "id": "efc982b0-99ad-4c0f-987b-a4dd26181e2e",
   "metadata": {},
   "source": [
    "*Задание для закрепления.\n",
    "Что выведет следующий код*\n"
   ]
  },
  {
   "cell_type": "code",
   "execution_count": 3,
   "id": "2e74c5d0-3822-4922-a637-3a53e3544f2f",
   "metadata": {},
   "outputs": [
    {
     "name": "stdout",
     "output_type": "stream",
     "text": [
      "[[[1 2]\n",
      "  [3 4]]\n",
      "\n",
      " [[5 6]\n",
      "  [7 8]]]\n",
      "6\n",
      "[3 7]\n",
      "[[3 4]\n",
      " [7 8]]\n"
     ]
    }
   ],
   "source": [
    "cube = np.array([[[1, 2], [3, 4]], [[5, 6], [7, 8]]])\n",
    "print(cube)\n",
    "print(cube[1, 0, 1])\n",
    "print(cube[:, 1, 0])\n",
    "print(cube[:, 1])\n"
   ]
  },
  {
   "cell_type": "markdown",
   "id": "656d36d6-92d1-4004-a486-08ad7bb58c43",
   "metadata": {},
   "source": [
    "3) **Двумерные массивы и изменение размерности**\n"
   ]
  },
  {
   "cell_type": "code",
   "execution_count": 24,
   "id": "924bbf2d-77b2-415d-a62d-0d7afb301d9b",
   "metadata": {},
   "outputs": [
    {
     "name": "stdout",
     "output_type": "stream",
     "text": [
      "[0. 1. 2. 3.]\n",
      "(4,)\n",
      "[[0. 1.]\n",
      " [2. 3.]]\n"
     ]
    }
   ],
   "source": [
    "b = np.linspace(0, 3, 4)\n",
    "print(b)\n",
    "\n",
    "print(b.shape)\n",
    "\n",
    "b.shape = 2, 2\n",
    "print(b)\n"
   ]
  },
  {
   "cell_type": "markdown",
   "id": "6e10a5c1-323c-4baa-92f6-7a6f5fae20f9",
   "metadata": {},
   "source": [
    "Атрибуту shape можно присвоить новое значение — кортеж размеров по всем координатам. Получится новый заголовок массива, его данные не изменятся.\n",
    "Можно сделать то же самое с помощью функции reshape:\n"
   ]
  },
  {
   "cell_type": "code",
   "execution_count": 25,
   "id": "fb0fd579-f3f8-4fc1-ae06-89702c923b22",
   "metadata": {},
   "outputs": [
    {
     "name": "stdout",
     "output_type": "stream",
     "text": [
      "[[0. 1.]\n",
      " [2. 3.]]\n"
     ]
    }
   ],
   "source": [
    "print(np.linspace(0, 3, 4).reshape((2, 2)))\n"
   ]
  },
  {
   "cell_type": "markdown",
   "id": "d7ce123f-6978-43b8-8d86-108e576eccaa",
   "metadata": {},
   "source": [
    "Можно растянуть многомерный массив в одномерный массив с помощью функций ravel или flatten\n"
   ]
  },
  {
   "cell_type": "code",
   "execution_count": 26,
   "id": "181214b7-0a11-4d96-a761-4a4387b59c83",
   "metadata": {},
   "outputs": [
    {
     "name": "stdout",
     "output_type": "stream",
     "text": [
      "[0. 1. 2. 3.]\n",
      "[0. 1. 2. 3.]\n"
     ]
    }
   ],
   "source": [
    "# возвращет вид\n",
    "print(b.ravel())\n",
    "\n",
    "# возвращает копию\n",
    "print(b.flatten())\n",
    "\n"
   ]
  },
  {
   "cell_type": "markdown",
   "id": "6c2c9198-ea4a-4a5e-8272-ce90e090a5dc",
   "metadata": {},
   "source": [
    "Транспонированная матрица\n",
    "--"
   ]
  },
  {
   "cell_type": "code",
   "execution_count": 27,
   "id": "1f9f7535-f16c-481e-8306-81782fd09264",
   "metadata": {},
   "outputs": [
    {
     "name": "stdout",
     "output_type": "stream",
     "text": [
      "[[0. 1.]\n",
      " [2. 3.]]\n",
      "[[0. 2.]\n",
      " [1. 3.]]\n"
     ]
    }
   ],
   "source": [
    "print(b)\n",
    "print(b.T)\n"
   ]
  },
  {
   "cell_type": "markdown",
   "id": "8c1f93ac-b873-4a73-bda6-cd3af0e16635",
   "metadata": {},
   "source": [
    "4) **Умножение матриц**\n"
   ]
  },
  {
   "cell_type": "code",
   "execution_count": 37,
   "id": "bdc3ff3b-84ef-4a76-b205-612d0a1b7280",
   "metadata": {},
   "outputs": [
    {
     "name": "stdout",
     "output_type": "stream",
     "text": [
      "[11 22 33]\n"
     ]
    }
   ],
   "source": [
    "a = np.array([1,2,3])\n",
    "b = np.array([11])\n",
    "print(a*b)"
   ]
  },
  {
   "cell_type": "code",
   "execution_count": 38,
   "id": "c55ca2b8-d141-4460-b8da-9cdf4b2f5b8e",
   "metadata": {},
   "outputs": [
    {
     "name": "stdout",
     "output_type": "stream",
     "text": [
      "[[11 22 33]]\n"
     ]
    }
   ],
   "source": [
    "a = np.array([1,2,3])\n",
    "b = np.array([[11]])\n",
    "print(a*b)"
   ]
  },
  {
   "cell_type": "code",
   "execution_count": 34,
   "id": "fd62a575-0dd1-484e-9a55-b44a4af2513a",
   "metadata": {},
   "outputs": [
    {
     "name": "stdout",
     "output_type": "stream",
     "text": [
      "[[11 22 33]\n",
      " [12 24 36]\n",
      " [13 26 39]]\n"
     ]
    }
   ],
   "source": [
    "a = np.array([1, 2, 3])\n",
    "b = np.array([[11], [12], [13]])\n",
    "print(a * b)\n"
   ]
  },
  {
   "cell_type": "markdown",
   "id": "9dcb2fed-af8d-45ef-80d9-731f3289d8a3",
   "metadata": {},
   "source": [
    "Еще одна операция для такой пары векторов обозначается @ – посмотрим, какой результат она дает:\n"
   ]
  },
  {
   "cell_type": "code",
   "execution_count": 31,
   "id": "077a6df4-228f-4536-b02b-cb345085ab4d",
   "metadata": {},
   "outputs": [
    {
     "name": "stdout",
     "output_type": "stream",
     "text": [
      "[74]\n"
     ]
    }
   ],
   "source": [
    "a = np.array([1, 2, 3])\n",
    "b = np.array([[11], [12], [13]])\n",
    "print(a @ b)\n"
   ]
  },
  {
   "cell_type": "markdown",
   "id": "5fd5fdc8-7e48-48df-9fbe-df1ec787284c",
   "metadata": {},
   "source": [
    "А что будет, если массив a будет иметь не одну строку, а две? Тогда каждая строка массива a отдельно будет участвовать в этой операции:\n"
   ]
  },
  {
   "cell_type": "code",
   "execution_count": 35,
   "id": "b834e89b-4510-4bef-8960-ba11c8cf7d4f",
   "metadata": {},
   "outputs": [
    {
     "name": "stdout",
     "output_type": "stream",
     "text": [
      "[[ 74]\n",
      " [109]]\n"
     ]
    }
   ],
   "source": [
    "a = np.array([[1, 2, 3], [4, 0, 5]])\n",
    "b = np.array([[11], [12], [13]])\n",
    "print(a @ b)\n"
   ]
  },
  {
   "cell_type": "code",
   "execution_count": 36,
   "id": "b7911f46-b193-4521-9e14-a048e7e6be8b",
   "metadata": {},
   "outputs": [
    {
     "name": "stdout",
     "output_type": "stream",
     "text": [
      "[[  74 1400]\n",
      " [ 109 1900]]\n"
     ]
    }
   ],
   "source": [
    "a = np.array([[1, 2, 3], [4, 0, 5]])\n",
    "b = np.array([[11, 100], [12, 200], [13, 300]])\n",
    "print(a @ b)\n"
   ]
  },
  {
   "cell_type": "markdown",
   "id": "a699fe72-ca88-4e33-afd2-57b5581022ff",
   "metadata": {},
   "source": [
    "*Упражнение: умножить матрицу b из примера выше на матрицу a самостоятельно.*\n",
    "В NumPy это будет реализовано следующим образом:\n"
   ]
  },
  {
   "cell_type": "code",
   "execution_count": 39,
   "id": "95f71756-9d1c-4db3-9ef6-423233037c63",
   "metadata": {},
   "outputs": [
    {
     "name": "stdout",
     "output_type": "stream",
     "text": [
      "[[ 411   22  533]\n",
      " [ 812   24 1036]\n",
      " [1213   26 1539]]\n"
     ]
    }
   ],
   "source": [
    "a = np.array([[1, 2, 3], [4, 0, 5]])\n",
    "b = np.array([[11, 100], [12, 200], [13, 300]])\n",
    "print(b @ a)\n"
   ]
  },
  {
   "cell_type": "code",
   "execution_count": null,
   "id": "91112635-f71c-4881-99e9-e39080111d89",
   "metadata": {},
   "outputs": [],
   "source": []
  },
  {
   "cell_type": "code",
   "execution_count": 40,
   "id": "52f00b82-609b-4f69-b8fa-8a1bf68ea640",
   "metadata": {},
   "outputs": [
    {
     "name": "stdout",
     "output_type": "stream",
     "text": [
      "[[ 2.  3.]\n",
      " [ 0. -1.]]\n",
      "[[-1.  0.]\n",
      " [-3.  2.]]\n"
     ]
    }
   ],
   "source": [
    "a = np.array([[0.0, 1.0], [-1.0, 0.0]])\n",
    "b = np.array([[0.0, 1.0], [2.0, 3.0]])\n",
    "print(a @ b)\n",
    "print(b @ a)"
   ]
  },
  {
   "cell_type": "markdown",
   "id": "99880fe7-25f5-42ab-bdc4-46f52d06fac9",
   "metadata": {},
   "source": [
    "1. Что будет выведено в следующих случаях и почему\n"
   ]
  },
  {
   "cell_type": "code",
   "execution_count": 50,
   "id": "83464190-75b0-4083-945e-ddacae36994f",
   "metadata": {},
   "outputs": [
    {
     "name": "stdout",
     "output_type": "stream",
     "text": [
      "[[30 40]\n",
      " [70 80]]\n",
      "[[[ 1  2]\n",
      "  [30 40]]\n",
      "\n",
      " [[ 5  6]\n",
      "  [70 80]]]\n"
     ]
    }
   ],
   "source": [
    "cube = np.array([[[1, 2], [3, 4]], [[5, 6], [7, 8]]])\n",
    "#print(cube)\n",
    "#print(cube[:, 0])\n",
    "#print(cube[1, :, 0])\n",
    "s = cube[:, 1]\n",
    "s *= 10\n",
    "print(s)\n",
    "print(cube)\n"
   ]
  },
  {
   "cell_type": "markdown",
   "id": "d0de06ce-72b6-4efe-96c7-05e1b422f001",
   "metadata": {},
   "source": [
    "L2-2\n",
    "==\n",
    "Продолжение работы с матрицами. Многомерные массивы\n",
    "--\n",
    "1) **Единичная матрица, операции над матрицами**\n"
   ]
  },
  {
   "cell_type": "code",
   "execution_count": 51,
   "id": "476056f9-ca14-419a-83e3-b3016c77227c",
   "metadata": {},
   "outputs": [
    {
     "name": "stdout",
     "output_type": "stream",
     "text": [
      "[[1. 0. 0. 0.]\n",
      " [0. 1. 0. 0.]\n",
      " [0. 0. 1. 0.]\n",
      " [0. 0. 0. 1.]]\n"
     ]
    }
   ],
   "source": [
    "I = np.eye(4)\n",
    "print(I)\n"
   ]
  },
  {
   "cell_type": "markdown",
   "id": "482ca553-5381-4382-b484-1fee2f163861",
   "metadata": {},
   "source": [
    "Проверка умножением.\n"
   ]
  },
  {
   "cell_type": "code",
   "execution_count": 52,
   "id": "c86471a8-6746-4fe5-a074-5d8e0575dc7e",
   "metadata": {},
   "outputs": [
    {
     "name": "stdout",
     "output_type": "stream",
     "text": [
      "[[ 0  1  2  3]\n",
      " [ 4  5  6  7]\n",
      " [ 8  9 10 11]\n",
      " [12 13 14 15]]\n",
      "[[ 0.  1.  2.  3.]\n",
      " [ 4.  5.  6.  7.]\n",
      " [ 8.  9. 10. 11.]\n",
      " [12. 13. 14. 15.]]\n"
     ]
    }
   ],
   "source": [
    "a = np.arange(16).reshape(4,4)\n",
    "print(a)\n",
    "print(a @ I)\n"
   ]
  },
  {
   "cell_type": "markdown",
   "id": "1043eeef-2fa8-4256-bbd4-e1022f8ed17d",
   "metadata": {},
   "source": [
    "Можно построить двумерный массив из функции.\n",
    "Функция fromfunction() применяет заданную функцию ко всем комбинациям индексов. Количество аргументов функции должно совпадать с размерностью желаемого массива.\n",
    "\n"
   ]
  },
  {
   "cell_type": "code",
   "execution_count": 56,
   "id": "32b50e9e-c2f0-4668-a3a0-0b1b1e9ecab8",
   "metadata": {},
   "outputs": [
    {
     "name": "stdout",
     "output_type": "stream",
     "text": [
      "[[0 0 0 0]\n",
      " [1 1 1 1]\n",
      " [2 2 2 2]]\n",
      "[[0 1 2 3]\n",
      " [0 1 2 3]\n",
      " [0 1 2 3]]\n",
      "[[ 0  1  2  3]\n",
      " [10 11 12 13]\n",
      " [20 21 22 23]]\n"
     ]
    }
   ],
   "source": [
    "def f(i, j):\n",
    "    return 10 * i + j\n",
    "\n",
    "print(np.fromfunction(f, (3, 4), dtype=np.int64))\n"
   ]
  },
  {
   "cell_type": "markdown",
   "id": "8dc045b0-fd83-46f6-ad02-bf59afe9e415",
   "metadata": {},
   "source": [
    "Объединение массивов (доступно для многомерных случаев тоже)\n",
    "У функций ниже префикс h означает horizontal, то есть то, что операции выполняются по горизонтали. \n"
   ]
  },
  {
   "cell_type": "code",
   "execution_count": 57,
   "id": "53e5399a-15e3-402e-add1-68d27bd612a9",
   "metadata": {},
   "outputs": [
    {
     "name": "stdout",
     "output_type": "stream",
     "text": [
      "[1 3 2 4 5 6]\n"
     ]
    }
   ],
   "source": [
    "a = np.array([1, 3, 2])\n",
    "b = np.array([4, 5, 6])\n",
    "a = np.hstack((a, b))\n",
    "print(a)\n"
   ]
  },
  {
   "cell_type": "markdown",
   "id": "1fc88992-9796-410a-a75b-fc72e0320912",
   "metadata": {},
   "source": [
    "Расщепление массива в позициях 3 и 6.\n"
   ]
  },
  {
   "cell_type": "code",
   "execution_count": 58,
   "id": "4b9ed8f6-df78-4e95-8a1e-8d5047b2097b",
   "metadata": {},
   "outputs": [
    {
     "name": "stdout",
     "output_type": "stream",
     "text": [
      "[array([1, 3, 2]), array([4, 5, 6]), array([], dtype=int64)]\n"
     ]
    }
   ],
   "source": [
    "print(np.hsplit(a, [3, 6]))\n"
   ]
  },
  {
   "cell_type": "markdown",
   "id": "8e56ce56-5b39-4a8e-acdb-157783a47946",
   "metadata": {},
   "source": [
    "Соединение матриц по горизонтали и по вертикали.\n",
    "Функция hstack соединяет два массива в один. При этом у них должно быть одинаковое число строк, иначе выбрасывается ValueError.\n",
    "Аналогично, vstack соединяет два массива по вертикали, если у них одинаковое число столбцов.\n"
   ]
  },
  {
   "cell_type": "code",
   "execution_count": 70,
   "id": "d10f4c7b-fd84-407a-a253-92939f025d02",
   "metadata": {},
   "outputs": [
    {
     "name": "stdout",
     "output_type": "stream",
     "text": [
      "[[0 1]\n",
      " [2 3]]\n",
      "[[4 5 6]\n",
      " [7 8 9]]\n",
      "[[4 5]\n",
      " [6 7]\n",
      " [8 9]]\n"
     ]
    }
   ],
   "source": [
    "a = np.array([[0, 1], [2, 3]])\n",
    "b = np.array([[4, 5, 6], [7, 8, 9]])\n",
    "c = np.array([[4, 5], [6, 7], [8, 9]])\n",
    "print(a)\n",
    "print(b)\n",
    "print(c)\n"
   ]
  },
  {
   "cell_type": "markdown",
   "id": "377f1ffb-0573-4b78-9a7f-e47eb47c5af0",
   "metadata": {},
   "source": [
    "По горизонтали:\n"
   ]
  },
  {
   "cell_type": "code",
   "execution_count": 71,
   "id": "bbe5b63a-2922-432b-b43b-7f190c238313",
   "metadata": {},
   "outputs": [
    {
     "name": "stdout",
     "output_type": "stream",
     "text": [
      "[[0 1 4 5 6]\n",
      " [2 3 7 8 9]]\n"
     ]
    }
   ],
   "source": [
    "print(np.hstack((a, b)))\n"
   ]
  },
  {
   "cell_type": "markdown",
   "id": "516ecfd3-bdd9-44aa-a573-f16141af3a71",
   "metadata": {},
   "source": [
    "По вертикали:\n"
   ]
  },
  {
   "cell_type": "code",
   "execution_count": 72,
   "id": "8277fe69-6a47-464c-aa46-d66a364d8069",
   "metadata": {},
   "outputs": [
    {
     "name": "stdout",
     "output_type": "stream",
     "text": [
      "[[0 1]\n",
      " [2 3]\n",
      " [4 5]\n",
      " [6 7]\n",
      " [8 9]]\n"
     ]
    }
   ],
   "source": [
    "print(np.vstack((a, c)))\n"
   ]
  },
  {
   "cell_type": "markdown",
   "id": "9dcb941e-38c0-49ec-b353-087ea71f66ef",
   "metadata": {},
   "source": [
    "Сумма всех элементов; суммы столбцов; суммы строк.\n"
   ]
  },
  {
   "cell_type": "code",
   "execution_count": 73,
   "id": "3cd73625-92d7-4a64-9724-5e34bfb4431d",
   "metadata": {},
   "outputs": [
    {
     "name": "stdout",
     "output_type": "stream",
     "text": [
      "[[4 5 6]\n",
      " [7 8 9]]\n",
      "39\n",
      "[11 13 15]\n",
      "[15 24]\n"
     ]
    }
   ],
   "source": [
    "print(b)\n",
    "print(b.sum())\n",
    "print(b.sum(axis=0))\n",
    "print(b.sum(axis=1))\n"
   ]
  },
  {
   "cell_type": "code",
   "execution_count": 74,
   "id": "c68ae265-fae9-4600-80a3-8880905ade75",
   "metadata": {},
   "outputs": [
    {
     "name": "stdout",
     "output_type": "stream",
     "text": [
      "39\n"
     ]
    }
   ],
   "source": [
    "print(b.sum(axis=(0,1)))"
   ]
  },
  {
   "cell_type": "code",
   "execution_count": 63,
   "id": "3fce529c-7bec-461a-a410-b78a4c0ad66b",
   "metadata": {},
   "outputs": [
    {
     "name": "stdout",
     "output_type": "stream",
     "text": [
      "9\n",
      "[7 8 9]\n",
      "[4 7]\n"
     ]
    }
   ],
   "source": [
    "print(b.max())\n",
    "print(b.max(axis=0))\n",
    "print(b.min(axis=1))\n"
   ]
  },
  {
   "cell_type": "markdown",
   "id": "717265db-eacb-4f70-8606-d3aa344de7a1",
   "metadata": {},
   "source": [
    "След матрицы – сумма диагональных элементов.\n"
   ]
  },
  {
   "cell_type": "code",
   "execution_count": 64,
   "id": "f39b25dd-3066-4238-8880-07b5723f73af",
   "metadata": {},
   "outputs": [
    {
     "name": "stdout",
     "output_type": "stream",
     "text": [
      "12\n"
     ]
    }
   ],
   "source": [
    "print(np.trace(b))\n"
   ]
  },
  {
   "cell_type": "markdown",
   "id": "bf547c70-649b-4abd-93b8-4f31370a7c19",
   "metadata": {},
   "source": [
    "2) **Тензоры (многомерные массивы)**\n",
    "Многомерный массив называется тензором.\n"
   ]
  },
  {
   "cell_type": "code",
   "execution_count": 65,
   "id": "c6119e20-1ee9-49a4-a264-b1d3a362b9be",
   "metadata": {},
   "outputs": [
    {
     "name": "stdout",
     "output_type": "stream",
     "text": [
      "[[[ 0  1  2  3]\n",
      "  [ 4  5  6  7]\n",
      "  [ 8  9 10 11]]\n",
      "\n",
      " [[12 13 14 15]\n",
      "  [16 17 18 19]\n",
      "  [20 21 22 23]]]\n"
     ]
    }
   ],
   "source": [
    "X = np.arange(24).reshape(2, 3, 4)\n",
    "print(X)\n"
   ]
  },
  {
   "cell_type": "markdown",
   "id": "ed0d6d7f-e531-4c84-8a73-9a20a91c08d7",
   "metadata": {},
   "source": [
    "Суммирование (аналогично остальные операции). Опишем тут же работу с осями, обобщив на многомерный случай. Для индексации будем использовать тройку (i, j, k)\n"
   ]
  },
  {
   "cell_type": "code",
   "execution_count": 67,
   "id": "d71a0b05-b21c-4e50-949a-2953c1b32ac3",
   "metadata": {},
   "outputs": [
    {
     "name": "stdout",
     "output_type": "stream",
     "text": [
      "[[12 14 16 18]\n",
      " [20 22 24 26]\n",
      " [28 30 32 34]]\n"
     ]
    }
   ],
   "source": [
    "print(X.sum(axis=0))\n"
   ]
  },
  {
   "cell_type": "code",
   "execution_count": 68,
   "id": "d05e9faa-6098-44dd-abaf-126df13913ae",
   "metadata": {},
   "outputs": [
    {
     "name": "stdout",
     "output_type": "stream",
     "text": [
      "[ 66 210]\n"
     ]
    }
   ],
   "source": [
    "print(X.sum(axis=(1, 2)))\n"
   ]
  },
  {
   "cell_type": "markdown",
   "id": "218b5ce2-7f96-4772-b2e7-cf069af984c9",
   "metadata": {},
   "source": [
    "Тоже самое, что и"
   ]
  },
  {
   "cell_type": "code",
   "execution_count": 75,
   "id": "6607be9b-e3f6-4b07-8ebd-efd80b81a23f",
   "metadata": {},
   "outputs": [
    {
     "name": "stdout",
     "output_type": "stream",
     "text": [
      "[66, 210]\n"
     ]
    }
   ],
   "source": [
    "res = list()\n",
    "for i in range(len(X)):\n",
    "    res.append(X[i].sum())\n",
    "print(res)"
   ]
  },
  {
   "cell_type": "markdown",
   "id": "d8ec80ee-4e59-4aad-beb8-d4972c809dbb",
   "metadata": {},
   "source": [
    "3) **Broadcasting**\n",
    "\n",
    "Выше при арифметических операциях с массивами, например, при сложении и умножении, мы перемножали массивы одинаковой формы. В самом простом случае операндами были одномерные массивы одинаковой длины.\n"
   ]
  },
  {
   "cell_type": "code",
   "execution_count": 76,
   "id": "df6fd5e6-e4e9-49d7-899a-d414ab111232",
   "metadata": {},
   "outputs": [
    {
     "name": "stdout",
     "output_type": "stream",
     "text": [
      "[2 4 6]\n"
     ]
    }
   ],
   "source": [
    "a = np.array([1, 2, 3])\n",
    "b = np.array([2, 2, 2])\n",
    "print(a * b)\n"
   ]
  },
  {
   "cell_type": "markdown",
   "id": "41a7ee3d-7ae8-40ec-8ad0-2c875bb46036",
   "metadata": {},
   "source": [
    "Произошло поэлементное умножение, все элементы массива a умножились на 2. Но мы знаем, что это можно сделать проще, просто умножив массив на 2.\n"
   ]
  },
  {
   "cell_type": "code",
   "execution_count": 79,
   "id": "8f88ec5f-68d8-4d53-ad53-0f66810928f9",
   "metadata": {},
   "outputs": [
    {
     "name": "stdout",
     "output_type": "stream",
     "text": [
      "[2 4 6]\n"
     ]
    }
   ],
   "source": [
    "print(a * 2)\n"
   ]
  },
  {
   "cell_type": "markdown",
   "id": "6f65ed66-c8a0-4140-81a1-0a2a06d52383",
   "metadata": {},
   "source": [
    "На самом деле поведение будет аналогичным, если умножить одномерный массив на массив длины 1. Здесь мы сталкиваемся с умножением массивов разных длин!"
   ]
  },
  {
   "cell_type": "markdown",
   "id": "003ba260-5913-4330-940d-8069a70fab0b",
   "metadata": {},
   "source": [
    "В этом случае работает так называемый broadcasting. Один массив \"растягивается\", чтобы повторить форму другого.\n"
   ]
  },
  {
   "cell_type": "code",
   "execution_count": 80,
   "id": "194df45b-dd90-463f-ac2d-5efdbde8d1ce",
   "metadata": {},
   "outputs": [
    {
     "name": "stdout",
     "output_type": "stream",
     "text": [
      "[[ 0  1  2]\n",
      " [10 11 12]\n",
      " [20 21 22]\n",
      " [30 31 32]]\n"
     ]
    }
   ],
   "source": [
    "a = np.array([[ 0,  0,  0],\n",
    "              [10, 10, 10],\n",
    "              [20, 20, 20],\n",
    "              [30, 30, 30]])\n",
    "\n",
    "b = np.array([0, 1, 2])\n",
    "print(a + b)\n"
   ]
  },
  {
   "cell_type": "code",
   "execution_count": 83,
   "id": "a45919ae-56cf-4bfa-9dc4-e7af507d209c",
   "metadata": {},
   "outputs": [
    {
     "name": "stdout",
     "output_type": "stream",
     "text": [
      "(4, 12, 3)\n"
     ]
    }
   ],
   "source": [
    "a = np.ones((4, 1, 3))\n",
    "b = np.ones((12, 1))\n",
    "\n",
    "mul_shape = (a * b).shape\n",
    "print(mul_shape)\n"
   ]
  },
  {
   "cell_type": "markdown",
   "id": "cf9ee9c7-face-4025-bcc0-226c1fc8d62e",
   "metadata": {},
   "source": [
    "4) **Добавление размерностей**\n",
    "\n",
    "\n",
    "Часто при работе с массивами NumPy требуется добавлять новые оси измерений и удалять существующие. В NumPy добавлять новые оси иногда удобнее с помощью специального объекта newaxis. Например, пусть у нас есть одномерный массив:\n"
   ]
  },
  {
   "cell_type": "code",
   "execution_count": 84,
   "id": "6cef0769-c3a2-4df9-b1eb-7fb6c252538e",
   "metadata": {},
   "outputs": [
    {
     "name": "stdout",
     "output_type": "stream",
     "text": [
      "[ 1  2  3  4  5  6  7  8  9 10]\n"
     ]
    }
   ],
   "source": [
    "a = np.array([1,2,3,4,5,6,7,8,9,10])\n",
    "print(a)"
   ]
  },
  {
   "cell_type": "code",
   "execution_count": 85,
   "id": "4a998a83-e9b8-4529-bf52-f9b7e701af11",
   "metadata": {},
   "outputs": [
    {
     "name": "stdout",
     "output_type": "stream",
     "text": [
      "[[ 1  2  3  4  5  6  7  8  9 10]]\n"
     ]
    }
   ],
   "source": [
    "b = a[np.newaxis, :]\n",
    "print(b)"
   ]
  },
  {
   "cell_type": "code",
   "execution_count": 86,
   "id": "252b1f27-50cd-43af-bd04-5b352733968d",
   "metadata": {},
   "outputs": [
    {
     "name": "stdout",
     "output_type": "stream",
     "text": [
      "[[[ 1]\n",
      "  [ 2]\n",
      "  [ 3]\n",
      "  [ 4]\n",
      "  [ 5]\n",
      "  [ 6]\n",
      "  [ 7]\n",
      "  [ 8]\n",
      "  [ 9]\n",
      "  [10]]]\n"
     ]
    }
   ],
   "source": [
    "c = a[np.newaxis, :, np.newaxis]\n",
    "print(c)"
   ]
  },
  {
   "cell_type": "markdown",
   "id": "e5f67da0-5948-45e2-b668-527590a1ce5b",
   "metadata": {},
   "source": [
    "5) Решение задач\n",
    "1. Что будет выведено в следующем случае и почему\n"
   ]
  },
  {
   "cell_type": "code",
   "execution_count": 87,
   "id": "f226c7e5-a9db-47e1-b187-1cafb07a95ef",
   "metadata": {},
   "outputs": [],
   "source": [
    "a = np.array([[0, 0, 0],\n",
    "              [10, 10, 10],\n",
    "              [20, 20, 20],\n",
    "              [30, 30, 30]])\n",
    "b = np.array([0, 1, 2])\n",
    "result = a / (b + 1) # [1,2,3]\n",
    " "
   ]
  },
  {
   "cell_type": "code",
   "execution_count": 88,
   "id": "4ef92001-1696-4652-a512-604697fd3268",
   "metadata": {},
   "outputs": [
    {
     "name": "stdout",
     "output_type": "stream",
     "text": [
      "[[ 0.          0.          0.        ]\n",
      " [10.          5.          3.33333333]\n",
      " [20.         10.          6.66666667]\n",
      " [30.         15.         10.        ]]\n"
     ]
    }
   ],
   "source": [
    "print(result)"
   ]
  },
  {
   "cell_type": "markdown",
   "id": "44d14044-b956-4a01-a9b2-fbf821c3979f",
   "metadata": {},
   "source": [
    "2. Работа с тензорами:\n",
    "\n",
    "Создайте два массива: первый - двумерный массив (матрица) размером 6x4, заполненный числами от 10 до 33; второй - одномерный массив длины 4 с числами от 15 до 18. Выполните поэлементное деление матрицы на одномерный массив, используя правила Broadcasting, и вычислите след результирующей матрицы.\n",
    "\n",
    "Создайте двумерный массив размером 3x8, заполненный числами от 1 до 24. Выполните суммирование по первой оси (axis=0), посчитайте среднее значение по второй оси. Выведите полученный результат.\n",
    "\n"
   ]
  },
  {
   "cell_type": "code",
   "execution_count": 92,
   "id": "4e207598-81e2-4185-aa45-11b12d6e2c88",
   "metadata": {},
   "outputs": [
    {
     "name": "stdout",
     "output_type": "stream",
     "text": [
      "4.169526143790849\n"
     ]
    }
   ],
   "source": [
    "a = np.arange(10,34).reshape(6,4)\n",
    "\n",
    "b = np.arange(15,19)\n",
    "\n",
    "c = a/b\n",
    "print(c.trace())"
   ]
  },
  {
   "cell_type": "code",
   "execution_count": 93,
   "id": "69145362-2f2f-4ee4-afe6-74a981eb20f3",
   "metadata": {},
   "outputs": [
    {
     "name": "stdout",
     "output_type": "stream",
     "text": [
      "[27 30 33 36 39 42 45 48]\n",
      "[ 4.5 12.5 20.5]\n"
     ]
    }
   ],
   "source": [
    "a = np.arange(1,25).reshape(3,8)\n",
    "print(a.sum(axis=0))\n",
    "print(a.mean(axis=1))"
   ]
  },
  {
   "cell_type": "code",
   "execution_count": 94,
   "id": "1f18673b-f100-476d-8ac0-019657ff2c4c",
   "metadata": {},
   "outputs": [
    {
     "name": "stdout",
     "output_type": "stream",
     "text": [
      "[[ 1  2  3  4  5  6  7  8]\n",
      " [ 9 10 11 12 13 14 15 16]\n",
      " [17 18 19 20 21 22 23 24]]\n"
     ]
    }
   ],
   "source": [
    "print(a)"
   ]
  },
  {
   "cell_type": "code",
   "execution_count": null,
   "id": "1ea57f41-f286-4cae-9b89-e6d397a2ef66",
   "metadata": {},
   "outputs": [],
   "source": [
    "\n"
   ]
  },
  {
   "cell_type": "code",
   "execution_count": null,
   "id": "eecc21a0-b68c-413b-89c8-d4cdf5fef788",
   "metadata": {},
   "outputs": [],
   "source": []
  },
  {
   "cell_type": "code",
   "execution_count": null,
   "id": "384fcc51-4930-407d-b19e-877c902997f2",
   "metadata": {},
   "outputs": [],
   "source": []
  }
 ],
 "metadata": {
  "kernelspec": {
   "display_name": "Python 3 (ipykernel)",
   "language": "python",
   "name": "python3"
  },
  "language_info": {
   "codemirror_mode": {
    "name": "ipython",
    "version": 3
   },
   "file_extension": ".py",
   "mimetype": "text/x-python",
   "name": "python",
   "nbconvert_exporter": "python",
   "pygments_lexer": "ipython3",
   "version": "3.11.4"
  }
 },
 "nbformat": 4,
 "nbformat_minor": 5
}
