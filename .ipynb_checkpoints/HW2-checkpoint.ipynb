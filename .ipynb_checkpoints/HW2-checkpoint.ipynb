{
 "cells": [
  {
   "cell_type": "code",
   "execution_count": 1,
   "id": "ee2c6b1b-8594-45bf-8528-dba27a7016f0",
   "metadata": {},
   "outputs": [],
   "source": [
    "import numpy as np"
   ]
  },
  {
   "cell_type": "markdown",
   "id": "4ce7fa4a-13e6-49c6-8c94-2459f3bdf188",
   "metadata": {},
   "source": [
    "Напишите программу, которая:\n",
    "- Запрашивает у пользователя ввод одномерного массива, элементы которого вводятся в виде чисел, разделенных пробелами.\n",
    "- Преобразует введенную строку в массив NumPy.\n",
    "- Запрашивает у пользователя индекс элемента, который необходимо извлечь из массива.\n",
    "- Выводит значение элемента по запрошенному индексу.\n",
    "- Запрашивает у пользователя ввод диапазона индексов в формате `начало:конец`, чтобы извлечь срез массива.\n",
    "- Выводит срез массива.\n"
   ]
  },
  {
   "cell_type": "code",
   "execution_count": 2,
   "id": "d68a2dac-a70b-45d0-9068-e8d140b8a960",
   "metadata": {},
   "outputs": [
    {
     "name": "stdin",
     "output_type": "stream",
     "text": [
      "Enter a one-dimensional array of numbers, separated by spaces:  1 2 3 \n",
      "Enter the index of the element to extract:  4\n"
     ]
    },
    {
     "name": "stdout",
     "output_type": "stream",
     "text": [
      "Invalid index!\n"
     ]
    },
    {
     "name": "stdin",
     "output_type": "stream",
     "text": [
      "Enter the index range in the format 'start:end' to extract a slice:  1Ж\"\n"
     ]
    },
    {
     "name": "stdout",
     "output_type": "stream",
     "text": [
      "Invalid range format!\n"
     ]
    }
   ],
   "source": [
    "input_array = input(\"Enter a one-dimensional array of numbers, separated by spaces: \")\n",
    "\n",
    "array = np.array(list(map(float, input_array.split())))\n",
    "\n",
    "index = int(input(\"Enter the index of the element to extract: \"))\n",
    "\n",
    "if 0 <= index < len(array):\n",
    "    print(\"Element at index\", index, \":\", array[index])\n",
    "else:\n",
    "    print(\"Invalid index!\")\n",
    "\n",
    "slice_range = input(\"Enter the index range in the format 'start:end' to extract a slice: \")\n",
    "\n",
    "try:\n",
    "    start, end = map(int, slice_range.split(':'))\n",
    "    print(\"Array slice:\", array[start:end])\n",
    "except ValueError:\n",
    "    print(\"Invalid range format!\")\n"
   ]
  },
  {
   "cell_type": "markdown",
   "id": "b8e65855-2976-457a-9678-5cc4a7c93ea9",
   "metadata": {},
   "source": [
    "Напишите программу, которая:\n",
    "- Запрашивает у пользователя размеры матрицы MxN.\n",
    "- Генерирует две матрицы указанных размеров, заполненные случайными числами от 0 до 9.\n",
    "- Выводит обе сгенерированные матрицы на экран.\n",
    "- Выполняет и выводит результат одной из следующих операций (на выбор пользователя): сложение матриц, умножение матриц, транспонирование одной из матриц.\n",
    "- Если выбрано умножение, убедитесь, что размеры матриц соответствуют правилам матричного умножения.\n",
    "\n"
   ]
  },
  {
   "cell_type": "code",
   "execution_count": 4,
   "id": "3d73d0ef-9fed-4240-8e58-62715b038aaa",
   "metadata": {},
   "outputs": [
    {
     "name": "stdin",
     "output_type": "stream",
     "text": [
      "Enter the number of rows (M):  2\n",
      "Enter the number of columns (N):  2\n"
     ]
    },
    {
     "name": "stdout",
     "output_type": "stream",
     "text": [
      "Matrix 1:\n",
      " [[5 2]\n",
      " [6 8]]\n",
      "Matrix 2:\n",
      " [[6 4]\n",
      " [0 3]]\n"
     ]
    },
    {
     "name": "stdin",
     "output_type": "stream",
     "text": [
      "Choose an operation - 'add' for addition, 'multiply' for multiplication, 'transpose' for transposition:  multiply\n"
     ]
    },
    {
     "name": "stdout",
     "output_type": "stream",
     "text": [
      "Result of multiplication:\n",
      " [[30 26]\n",
      " [36 48]]\n"
     ]
    }
   ],
   "source": [
    "import numpy as np\n",
    "\n",
    "M = int(input(\"Enter the number of rows (M): \"))\n",
    "N = int(input(\"Enter the number of columns (N): \"))\n",
    "\n",
    "matrix1 = np.random.randint(0, 10, size=(M, N))\n",
    "matrix2 = np.random.randint(0, 10, size=(M, N))\n",
    "\n",
    "print(\"Matrix 1:\\n\", matrix1)\n",
    "print(\"Matrix 2:\\n\", matrix2)\n",
    "\n",
    "operation = input(\"Choose an operation - 'add' for addition, 'multiply' for multiplication, 'transpose' for transposition: \").lower()\n",
    "\n",
    "if operation == 'add':\n",
    "    result = matrix1 + matrix2\n",
    "    print(\"Result of addition:\\n\", result)\n",
    "elif operation == 'multiply':\n",
    "    if matrix1.shape[1] == matrix2.shape[0]:\n",
    "        result = matrix1 @ matrix2\n",
    "        print(\"Result of multiplication:\\n\", result)\n",
    "    else:\n",
    "        print(\"Matrix dimensions do not allow multiplication!\")\n",
    "elif operation == 'transpose':\n",
    "    matrix_choice = input(\"Transpose '1' for matrix1 or '2' for matrix2: \")\n",
    "    if matrix_choice == '1':\n",
    "        result = np.transpose(matrix1)\n",
    "        print(\"Transposed Matrix 1:\\n\", result)\n",
    "    elif matrix_choice == '2':\n",
    "        result = np.transpose(matrix2)\n",
    "        print(\"Transposed Matrix 2:\\n\", result)\n",
    "else:\n",
    "    print(\"Invalid operation choice!\")\n"
   ]
  },
  {
   "cell_type": "code",
   "execution_count": null,
   "id": "190507ed-3f44-471e-9d54-ac2caa700f5b",
   "metadata": {},
   "outputs": [],
   "source": []
  }
 ],
 "metadata": {
  "kernelspec": {
   "display_name": "Python 3 (ipykernel)",
   "language": "python",
   "name": "python3"
  },
  "language_info": {
   "codemirror_mode": {
    "name": "ipython",
    "version": 3
   },
   "file_extension": ".py",
   "mimetype": "text/x-python",
   "name": "python",
   "nbconvert_exporter": "python",
   "pygments_lexer": "ipython3",
   "version": "3.11.4"
  }
 },
 "nbformat": 4,
 "nbformat_minor": 5
}
