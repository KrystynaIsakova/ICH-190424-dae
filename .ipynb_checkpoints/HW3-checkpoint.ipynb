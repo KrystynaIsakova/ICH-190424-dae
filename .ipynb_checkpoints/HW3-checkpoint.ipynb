{
 "cells": [
  {
   "cell_type": "markdown",
   "id": "2a0e01da-e7a2-4345-b430-6679cceed6b1",
   "metadata": {},
   "source": [
    "Сравнение производительности операций над массивами:\n",
    "\n",
    "Напишите программу, которая:\n",
    "- Генерирует два больших одномерных массива с 1 миллионом элементов каждый, заполненных случайными числами.\n",
    "- Сначала выполняет поэлементное сложение этих массивов, используя циклы Python.\n",
    "- Затем выполняет ту же операцию, используя возможности NumPy.\n",
    "- Измеряет и выводит время выполнения каждого подхода.\n"
   ]
  },
  {
   "cell_type": "code",
   "execution_count": 2,
   "id": "564200e9-ef6b-4ca6-bb45-b5537a9a290a",
   "metadata": {},
   "outputs": [],
   "source": [
    "import numpy as np\n",
    "import random"
   ]
  },
  {
   "cell_type": "code",
   "execution_count": null,
   "id": "8fd1cd87-21d4-487d-b994-079386a4d68f",
   "metadata": {},
   "outputs": [],
   "source": []
  },
  {
   "cell_type": "code",
   "execution_count": 10,
   "id": "ac8e1d43-ba44-4738-9baf-c66cadfb2e7e",
   "metadata": {},
   "outputs": [],
   "source": [
    "size = 10**6\n",
    "array1 = np.array([random.random() for _ in range(size)])\n",
    "array2 = np.array([random.random() for _ in range(size)])"
   ]
  },
  {
   "cell_type": "code",
   "execution_count": 11,
   "id": "9f4c8c29-fd03-4404-bc30-3c76d0c9a589",
   "metadata": {},
   "outputs": [
    {
     "name": "stdout",
     "output_type": "stream",
     "text": [
      "289 ms ± 23.5 ms per loop (mean ± std. dev. of 7 runs, 1 loop each)\n"
     ]
    }
   ],
   "source": [
    "%%timeit\n",
    "\n",
    "[array1[i] + array2[i] for i in range(size)]"
   ]
  },
  {
   "cell_type": "code",
   "execution_count": 12,
   "id": "8b2edabc-b042-418e-af6f-a4a32a500206",
   "metadata": {},
   "outputs": [
    {
     "name": "stdout",
     "output_type": "stream",
     "text": [
      "1.71 ms ± 129 µs per loop (mean ± std. dev. of 7 runs, 1,000 loops each)\n"
     ]
    }
   ],
   "source": [
    "%%timeit\n",
    "array1+array2"
   ]
  },
  {
   "cell_type": "markdown",
   "id": "adf457f3-f8df-45e4-a7ea-976322d40a49",
   "metadata": {},
   "source": [
    "Анализ расположения данных в памяти:\n",
    "Создать большой двумерный массив и исследовать, как изменение порядка (C-style и Fortran-style) влияет на производительность операций сложения и умножения.\n",
    "Можно использовать тот же бенчмарк что и в лекции. Необходимо погуглить про то, как завести массив с порядком в Fortran-style. Не забывайте про magic в jupyter.\n"
   ]
  },
  {
   "cell_type": "code",
   "execution_count": 13,
   "id": "11667ec2-42f9-4d2c-9a8f-e6652f66018e",
   "metadata": {},
   "outputs": [],
   "source": [
    "array_c = np.random.rand(5000, 5000)\n",
    "array_f = np.array(array_c, order='F')"
   ]
  },
  {
   "cell_type": "code",
   "execution_count": 14,
   "id": "62cd9852-bd78-4ef5-8770-8323f387b195",
   "metadata": {},
   "outputs": [
    {
     "name": "stdout",
     "output_type": "stream",
     "text": [
      "48.1 ms ± 842 µs per loop (mean ± std. dev. of 7 runs, 10 loops each)\n"
     ]
    }
   ],
   "source": [
    "%%timeit\n",
    "array_c + array_c"
   ]
  },
  {
   "cell_type": "code",
   "execution_count": 16,
   "id": "4993a3fc-17db-4739-b7d6-6c7c5420ea01",
   "metadata": {},
   "outputs": [
    {
     "name": "stdout",
     "output_type": "stream",
     "text": [
      "49.2 ms ± 1.24 ms per loop (mean ± std. dev. of 7 runs, 10 loops each)\n"
     ]
    }
   ],
   "source": [
    "%%timeit \n",
    "array_f+array_f"
   ]
  },
  {
   "cell_type": "code",
   "execution_count": 17,
   "id": "adf1424d-0cc6-4c7d-bf6d-5b9d23e40901",
   "metadata": {},
   "outputs": [
    {
     "name": "stdout",
     "output_type": "stream",
     "text": [
      "1.18 s ± 88.2 ms per loop (mean ± std. dev. of 7 runs, 1 loop each)\n"
     ]
    }
   ],
   "source": [
    "%%timeit\n",
    "array_c @ array_c"
   ]
  },
  {
   "cell_type": "code",
   "execution_count": 18,
   "id": "963d9ce9-51f6-4de9-a260-b8d3fec8652a",
   "metadata": {},
   "outputs": [
    {
     "name": "stdout",
     "output_type": "stream",
     "text": [
      "1.39 s ± 204 ms per loop (mean ± std. dev. of 7 runs, 1 loop each)\n"
     ]
    }
   ],
   "source": [
    "%%timeit\n",
    "array_f @ array_f"
   ]
  },
  {
   "cell_type": "markdown",
   "id": "bdedbab6-8fca-4043-8464-73a9da46330e",
   "metadata": {},
   "source": [
    "Обратная матрица и определитель:\n",
    "\n",
    "Напишите программу, которая:\n",
    "- Запрашивает у пользователя размер квадратной матрицы N.\n",
    "- Генерирует квадратную матрицу размером N x N, заполненную случайными числами от -10 до 10.\n",
    "- Выводит сгенерированную матрицу на экран.\n",
    "- Вычисляет и выводит определитель матрицы.\n",
    "- Если определитель не равен нулю, программа должна вычислить и вывести обратную матрицу. В противном случае, программа должна сообщить, что обратной матрицы не существует.\n"
   ]
  },
  {
   "cell_type": "code",
   "execution_count": 24,
   "id": "3dc7c710-cff0-4122-ac69-6445c2f33161",
   "metadata": {},
   "outputs": [
    {
     "name": "stdin",
     "output_type": "stream",
     "text": [
      "Введите размерность квадратной матрицы:  3\n"
     ]
    },
    {
     "name": "stdout",
     "output_type": "stream",
     "text": [
      "[[ 7 -6  7]\n",
      " [-7  5 -5]\n",
      " [ 3 -9 -5]]\n",
      "Детерминант мартицы:  146.0\n",
      "Обратная матрица:\n",
      "[[-0. -1. -0.]\n",
      " [-0. -0. -0.]\n",
      " [ 0.  0. -0.]] 2\n"
     ]
    }
   ],
   "source": [
    "N = int(input(\"Введите размерность квадратной матрицы: \"))\n",
    "m = np.random.randint(-10,10,size=(N,N))\n",
    "print(m)\n",
    "det = np.linalg.det(m)\n",
    "print('Детерминант мартицы: ', np.round(det,2))\n",
    "if det!=0:\n",
    "    print('Обратная матрица:')\n",
    "    print(np.round(np.linalg.inv(m)),2)\n",
    "else:\n",
    "    print('Обратной матрицы не существует')"
   ]
  },
  {
   "cell_type": "code",
   "execution_count": 21,
   "id": "3f08841b-33b7-4090-85d3-281841297db5",
   "metadata": {},
   "outputs": [],
   "source": []
  },
  {
   "cell_type": "code",
   "execution_count": null,
   "id": "d81189ce-03da-4e83-8f34-b3e6dd8c05a1",
   "metadata": {},
   "outputs": [],
   "source": []
  },
  {
   "cell_type": "code",
   "execution_count": null,
   "id": "06c21692-e42b-43be-b7d2-6134a3c2fc34",
   "metadata": {},
   "outputs": [],
   "source": []
  }
 ],
 "metadata": {
  "kernelspec": {
   "display_name": "Python 3 (ipykernel)",
   "language": "python",
   "name": "python3"
  },
  "language_info": {
   "codemirror_mode": {
    "name": "ipython",
    "version": 3
   },
   "file_extension": ".py",
   "mimetype": "text/x-python",
   "name": "python",
   "nbconvert_exporter": "python",
   "pygments_lexer": "ipython3",
   "version": "3.11.4"
  }
 },
 "nbformat": 4,
 "nbformat_minor": 5
}
