{
 "cells": [
  {
   "cell_type": "markdown",
   "id": "560a565f-1149-4c89-ad95-ceda78ce5fef",
   "metadata": {},
   "source": [
    " Использование пользовательских индексов в Series:\n",
    "\n",
    "Напишите программу, которая:\n",
    "- Запрашивает у пользователя ввод чисел, разделенных пробелами.\n",
    "- Преобразует введенные данные в объект Series, используя в качестве индексов буквы алфавита начиная с 'a'.\n",
    "- Выводит созданный объект Series на экран.\n"
   ]
  },
  {
   "cell_type": "code",
   "execution_count": 17,
   "id": "56cd01f9-65c9-4391-a639-358df44b4507",
   "metadata": {},
   "outputs": [
    {
     "name": "stdin",
     "output_type": "stream",
     "text": [
      "Введите числа, разделенные пробелами 1 2 3\n"
     ]
    },
    {
     "data": {
      "text/plain": [
       "a    1.0\n",
       "b    2.0\n",
       "c    3.0\n",
       "dtype: float64"
      ]
     },
     "metadata": {},
     "output_type": "display_data"
    }
   ],
   "source": [
    "import string\n",
    "import pandas as pd\n",
    "input_data = list(map(float, input('Введите числа, разделенные пробелами: ').split()))\n",
    "alphabet = string.ascii_lowercase\n",
    "\n",
    "s = pd.Series(data = input_data,\n",
    "             index = list(alphabet[:len(input_data)]))\n",
    "display(s)"
   ]
  },
  {
   "cell_type": "markdown",
   "id": "6501ef1f-c28f-43c9-a7ef-5dd2572abd38",
   "metadata": {},
   "source": [
    "Создание и индексация DataFrame:\n",
    "\n",
    "Напишите программу, которая:\n",
    "- Запрашивает у пользователя данные для создания DataFrame. Данные включают в себя имена столбцов и строки значений, вводимые через пробел.\n",
    "- Создает DataFrame с использованием введенных данных.\n",
    "- Выводит созданный DataFrame на экран.\n",
    "- Запрашивает у пользователя имя столбца, по которому необходимо отфильтровать данные.\n",
    "- Выводит значения указанного столбца.\n"
   ]
  },
  {
   "cell_type": "code",
   "execution_count": 28,
   "id": "8c4b83c6-c56a-49c1-a2f3-1e9b346ac02f",
   "metadata": {},
   "outputs": [
    {
     "name": "stdin",
     "output_type": "stream",
     "text": [
      "Введите имена столбцов через пробел:  Имя Возраст Город\n",
      "Введите данные (для окончания введите 'end'): Анна 25 Москва\n",
      "Введите данные (для окончания введите 'end'): Борис 30 Питер\n",
      "Введите данные (для окончания введите 'end'): end\n"
     ]
    },
    {
     "data": {
      "text/html": [
       "<div>\n",
       "<style scoped>\n",
       "    .dataframe tbody tr th:only-of-type {\n",
       "        vertical-align: middle;\n",
       "    }\n",
       "\n",
       "    .dataframe tbody tr th {\n",
       "        vertical-align: top;\n",
       "    }\n",
       "\n",
       "    .dataframe thead th {\n",
       "        text-align: right;\n",
       "    }\n",
       "</style>\n",
       "<table border=\"1\" class=\"dataframe\">\n",
       "  <thead>\n",
       "    <tr style=\"text-align: right;\">\n",
       "      <th></th>\n",
       "      <th>Имя</th>\n",
       "      <th>Возраст</th>\n",
       "      <th>Город</th>\n",
       "    </tr>\n",
       "  </thead>\n",
       "  <tbody>\n",
       "    <tr>\n",
       "      <th>0</th>\n",
       "      <td>Анна</td>\n",
       "      <td>25</td>\n",
       "      <td>Москва</td>\n",
       "    </tr>\n",
       "    <tr>\n",
       "      <th>1</th>\n",
       "      <td>Борис</td>\n",
       "      <td>30</td>\n",
       "      <td>Питер</td>\n",
       "    </tr>\n",
       "  </tbody>\n",
       "</table>\n",
       "</div>"
      ],
      "text/plain": [
       "     Имя Возраст   Город\n",
       "0   Анна      25  Москва\n",
       "1  Борис      30   Питер"
      ]
     },
     "metadata": {},
     "output_type": "display_data"
    }
   ],
   "source": [
    "import numpy as np\n",
    "column_names = input('Введите имена столбцов через пробел: ').split()\n",
    "user_input = ''\n",
    "data = list()\n",
    "while user_input != ['end']:\n",
    "    user_input = input(\"Введите данные (для окончания введите 'end'):\").split()\n",
    "    if user_input != ['end']:\n",
    "        data.append(user_input)\n",
    "df = pd.DataFrame(data=data, \n",
    "                  columns = column_names)\n",
    "display(df)"
   ]
  },
  {
   "cell_type": "code",
   "execution_count": null,
   "id": "41210989-1e67-46b6-a605-9ab8854edafa",
   "metadata": {},
   "outputs": [],
   "source": []
  },
  {
   "cell_type": "code",
   "execution_count": null,
   "id": "68744d08-3b94-4490-b819-c6b32ee903f7",
   "metadata": {},
   "outputs": [],
   "source": []
  }
 ],
 "metadata": {
  "kernelspec": {
   "display_name": "Python 3 (ipykernel)",
   "language": "python",
   "name": "python3"
  },
  "language_info": {
   "codemirror_mode": {
    "name": "ipython",
    "version": 3
   },
   "file_extension": ".py",
   "mimetype": "text/x-python",
   "name": "python",
   "nbconvert_exporter": "python",
   "pygments_lexer": "ipython3",
   "version": "3.11.4"
  }
 },
 "nbformat": 4,
 "nbformat_minor": 5
}
