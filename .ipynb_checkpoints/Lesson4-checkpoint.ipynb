{
 "cells": [
  {
   "cell_type": "markdown",
   "id": "a2ac3c0c-3797-4213-99a4-97bd25df9618",
   "metadata": {},
   "source": [
    "Series\n",
    "===\n",
    "\n",
    "**Пример создания Series**\n",
    "\n",
    "Одномерный набор данных. Отсутствующие данные записываются как np.nan. При вычислении среднего и других операций соответствующие функции не учитывают отсутствующие значения.\n"
   ]
  },
  {
   "cell_type": "code",
   "execution_count": 1,
   "id": "85c0a9b9-f41c-49c5-bced-827561a6c8e7",
   "metadata": {},
   "outputs": [],
   "source": [
    "import numpy as np\n",
    "import pandas as pd\n",
    "\n",
    "l = [1, 3, 5, np.nan, 6, 8]\n",
    "s = pd.Series(l)\n"
   ]
  },
  {
   "cell_type": "code",
   "execution_count": 4,
   "id": "ee507486-b22f-45b3-a50e-b836f4b0dcf6",
   "metadata": {},
   "outputs": [
    {
     "name": "stdout",
     "output_type": "stream",
     "text": [
      "[ 1.  3.  5. nan  6.  8.] <class 'numpy.ndarray'>\n",
      "{0: 1.0, 1: 3.0, 2: 5.0, 3: nan, 4: 6.0, 5: 8.0}\n",
      "RangeIndex(start=0, stop=6, step=1)\n"
     ]
    }
   ],
   "source": [
    "print(s.values, type(s.values))\n",
    "\n",
    "print(s.to_dict())\n",
    "\n",
    "print(s.index)\n",
    "\n"
   ]
  },
  {
   "cell_type": "markdown",
   "id": "f1f58da1-00cf-472d-a9a2-34ee4a9b7432",
   "metadata": {},
   "source": [
    "Основная информация о наборе данных: количество записей, среднее, стандартное отклонение, минимум, нижний квартиль, медиана, верхний квартиль, максимум, а так же тип данных. \n"
   ]
  },
  {
   "cell_type": "code",
   "execution_count": 5,
   "id": "02844fce-9f99-4680-ac4c-018900ad80e5",
   "metadata": {},
   "outputs": [
    {
     "data": {
      "text/plain": [
       "count    5.000000\n",
       "mean     4.600000\n",
       "std      2.701851\n",
       "min      1.000000\n",
       "25%      3.000000\n",
       "50%      5.000000\n",
       "75%      6.000000\n",
       "max      8.000000\n",
       "dtype: float64"
      ]
     },
     "execution_count": 5,
     "metadata": {},
     "output_type": "execute_result"
    }
   ],
   "source": [
    "s.describe()\n"
   ]
  },
  {
   "cell_type": "markdown",
   "id": "8bb6ea4e-bb9e-4642-a5ca-af440ac7f2fb",
   "metadata": {},
   "source": [
    "**Индексация**\n"
   ]
  },
  {
   "cell_type": "code",
   "execution_count": 6,
   "id": "3fb423f4-24ac-4cfd-969a-887196566b97",
   "metadata": {},
   "outputs": [
    {
     "data": {
      "text/plain": [
       "0    1.0\n",
       "1    3.0\n",
       "2    7.0\n",
       "3    NaN\n",
       "4    6.0\n",
       "dtype: float64"
      ]
     },
     "execution_count": 6,
     "metadata": {},
     "output_type": "execute_result"
    }
   ],
   "source": [
    "s = pd.Series([1, 3, 5, np.nan, 6, 8])\n",
    "s[2]\n",
    "\n",
    "s[2] = 7\n",
    "s\n",
    "\n",
    "s[2:5]\n",
    "\n",
    "s1 = s[1:]\n",
    "s1\n",
    "\n",
    "s2 = s[:-1]\n",
    "s2\n"
   ]
  },
  {
   "cell_type": "markdown",
   "id": "f688aa0f-5f50-4d57-8c4e-3f6ea76f28a9",
   "metadata": {},
   "source": [
    "В сумме s1+s2 складываются данные с одинаковыми индексами. Поскольку в s1 нет данного и индексом 0, а в s2 — с индексом 5, в s1+s2 в соответствующих позициях будет NaN.\n"
   ]
  },
  {
   "cell_type": "code",
   "execution_count": 7,
   "id": "994d497b-5943-4163-b4c0-d4748a48580b",
   "metadata": {},
   "outputs": [
    {
     "data": {
      "text/plain": [
       "0     NaN\n",
       "1     6.0\n",
       "2    14.0\n",
       "3     NaN\n",
       "4    12.0\n",
       "5     NaN\n",
       "dtype: float64"
      ]
     },
     "execution_count": 7,
     "metadata": {},
     "output_type": "execute_result"
    }
   ],
   "source": [
    "s1 + s2\n"
   ]
  },
  {
   "cell_type": "markdown",
   "id": "179fb3c2-a092-4563-828d-a9ee8f4f2f4b",
   "metadata": {},
   "source": [
    "К наборам данных можно применять функции из numpy.\n"
   ]
  },
  {
   "cell_type": "code",
   "execution_count": 8,
   "id": "2345868c-5842-43af-a0bc-c60e48125fe0",
   "metadata": {},
   "outputs": [
    {
     "data": {
      "text/plain": [
       "(pandas.core.series.Series, pandas.core.series.Series)"
      ]
     },
     "execution_count": 8,
     "metadata": {},
     "output_type": "execute_result"
    }
   ],
   "source": [
    "np.exp(s1)\n",
    "type(np.exp(s)), type(s)\n"
   ]
  },
  {
   "cell_type": "markdown",
   "id": "e196b4d1-daaa-4682-9da9-4f8e3c006248",
   "metadata": {},
   "source": [
    "При создании набора данных s мы не указали, что будет играть роль индекса. По умолчанию это последовательность неотрицательных целых чисел 0, 1, 2, ...\n"
   ]
  },
  {
   "cell_type": "code",
   "execution_count": 9,
   "id": "87b120c5-f346-43ed-94a0-6a06bfd9abb8",
   "metadata": {},
   "outputs": [
    {
     "data": {
      "text/plain": [
       "RangeIndex(start=0, stop=6, step=1)"
      ]
     },
     "execution_count": 9,
     "metadata": {},
     "output_type": "execute_result"
    }
   ],
   "source": [
    "s.index\n"
   ]
  },
  {
   "cell_type": "markdown",
   "id": "d8a4b8ff-bf7f-441f-8888-975c67bfaaed",
   "metadata": {},
   "source": [
    "Но можно создавать наборы данных с индексом, заданным списком.\n"
   ]
  },
  {
   "cell_type": "code",
   "execution_count": 10,
   "id": "91b40f07-699a-40b3-bea1-8dcd2241e73f",
   "metadata": {},
   "outputs": [
    {
     "data": {
      "text/plain": [
       "a    1.0\n",
       "b    3.0\n",
       "c    5.0\n",
       "d    NaN\n",
       "e    6.0\n",
       "f    8.0\n",
       "dtype: float64"
      ]
     },
     "execution_count": 10,
     "metadata": {},
     "output_type": "execute_result"
    }
   ],
   "source": [
    "i = list('abcdef')  # i == ['a', 'b', 'c', 'd', 'e', 'f']\n",
    "s = pd.Series(l, index=i)\n",
    "s"
   ]
  },
  {
   "cell_type": "markdown",
   "id": "604bfb83-9f16-4989-894a-0ed69b704bbc",
   "metadata": {},
   "source": [
    "Если индекс — строка, то вместо s['c'] можно писать s.c.\n"
   ]
  },
  {
   "cell_type": "code",
   "execution_count": 11,
   "id": "1e496354-8c98-4a97-a0d7-58929619b451",
   "metadata": {},
   "outputs": [
    {
     "data": {
      "text/plain": [
       "5.0"
      ]
     },
     "execution_count": 11,
     "metadata": {},
     "output_type": "execute_result"
    }
   ],
   "source": [
    "s['c']"
   ]
  },
  {
   "cell_type": "code",
   "execution_count": 12,
   "id": "f498c536-a851-4eb8-b0ef-8701a1ff3d32",
   "metadata": {},
   "outputs": [
    {
     "data": {
      "text/plain": [
       "5.0"
      ]
     },
     "execution_count": 12,
     "metadata": {},
     "output_type": "execute_result"
    }
   ],
   "source": [
    "s.c"
   ]
  },
  {
   "cell_type": "markdown",
   "id": "6b0cf197-fc46-4c84-8ca6-ef1494c30c0e",
   "metadata": {},
   "source": [
    "Набор данных можно создать из словаря.\n"
   ]
  },
  {
   "cell_type": "code",
   "execution_count": 13,
   "id": "d4b98073-46b8-4cdc-b50b-fabcb2de13ee",
   "metadata": {},
   "outputs": [
    {
     "data": {
      "text/plain": [
       "a    1\n",
       "b    2\n",
       "c    0\n",
       "dtype: int64"
      ]
     },
     "execution_count": 13,
     "metadata": {},
     "output_type": "execute_result"
    }
   ],
   "source": [
    "s = pd.Series({'a':1, 'b':2, 'c':0})\n",
    "s"
   ]
  },
  {
   "cell_type": "markdown",
   "id": "8f214166-c915-4f94-b623-9ca5bcf4c733",
   "metadata": {},
   "source": [
    "Роль индекса может играть, скажем, последовательность дат или времени измерения и т.д.\n"
   ]
  },
  {
   "cell_type": "code",
   "execution_count": 14,
   "id": "16a8d924-1be6-46dd-b411-5948196fdb8c",
   "metadata": {},
   "outputs": [
    {
     "data": {
      "text/plain": [
       "DatetimeIndex(['2016-01-01', '2016-01-02', '2016-01-03', '2016-01-04',\n",
       "               '2016-01-05', '2016-01-06'],\n",
       "              dtype='datetime64[ns]', freq='D')"
      ]
     },
     "execution_count": 14,
     "metadata": {},
     "output_type": "execute_result"
    }
   ],
   "source": [
    "d = pd.date_range('20160101', periods=6)\n",
    "d\n"
   ]
  },
  {
   "cell_type": "code",
   "execution_count": 15,
   "id": "f04ba090-6f25-4f6f-87d7-c16977bc37e9",
   "metadata": {},
   "outputs": [
    {
     "data": {
      "text/plain": [
       "2016-01-01    1.0\n",
       "2016-01-02    3.0\n",
       "2016-01-03    5.0\n",
       "2016-01-04    NaN\n",
       "2016-01-05    6.0\n",
       "2016-01-06    8.0\n",
       "Freq: D, dtype: float64"
      ]
     },
     "execution_count": 15,
     "metadata": {},
     "output_type": "execute_result"
    }
   ],
   "source": [
    "s = pd.Series(l, index=d)\n",
    "s\n"
   ]
  },
  {
   "cell_type": "code",
   "execution_count": 16,
   "id": "6f53afb8-2d9a-4781-b9e7-00a8488642b7",
   "metadata": {},
   "outputs": [
    {
     "data": {
      "text/plain": [
       "2016-01-03    5.0\n",
       "2016-01-05    6.0\n",
       "2016-01-06    8.0\n",
       "dtype: float64"
      ]
     },
     "execution_count": 16,
     "metadata": {},
     "output_type": "execute_result"
    }
   ],
   "source": [
    "s[s > 3]\n"
   ]
  },
  {
   "cell_type": "markdown",
   "id": "4b4a1d43-e1c5-44ce-88b2-aa7d17d7f3e0",
   "metadata": {},
   "source": [
    "**Продвинутые операции с Series**\n",
    "\n",
    "\n",
    "Если вы хотите посчитать разности соседних элементов, воспользуйтесь методом diff. Ключевое слово periods отвечает за то, с каким шагом будут считаться разности.\n"
   ]
  },
  {
   "cell_type": "code",
   "execution_count": 17,
   "id": "c0b01263-db80-420b-a217-e4c854248e0a",
   "metadata": {},
   "outputs": [
    {
     "data": {
      "text/plain": [
       "2016-01-01    NaN\n",
       "2016-01-02    2.0\n",
       "2016-01-03    2.0\n",
       "2016-01-04    NaN\n",
       "2016-01-05    NaN\n",
       "2016-01-06    2.0\n",
       "Freq: D, dtype: float64"
      ]
     },
     "execution_count": 17,
     "metadata": {},
     "output_type": "execute_result"
    }
   ],
   "source": [
    "s.diff()\n"
   ]
  },
  {
   "cell_type": "markdown",
   "id": "4cfbf96e-40dc-4a37-a0bb-b6d23026b9d4",
   "metadata": {},
   "source": [
    "Результат будет иметь тот же размер, но в начале появятся пропущенные значения. От них можно избавиться при помощи метода dropna.\n"
   ]
  },
  {
   "cell_type": "code",
   "execution_count": 18,
   "id": "fe52293a-9859-4ba7-badb-f7ded70e3821",
   "metadata": {},
   "outputs": [
    {
     "data": {
      "text/plain": [
       "2016-01-02    2.0\n",
       "2016-01-03    2.0\n",
       "2016-01-06    2.0\n",
       "dtype: float64"
      ]
     },
     "execution_count": 18,
     "metadata": {},
     "output_type": "execute_result"
    }
   ],
   "source": [
    "s.diff().dropna()\n"
   ]
  },
  {
   "cell_type": "markdown",
   "id": "89822fd8-86dd-4e61-907c-d96acb6c6517",
   "metadata": {},
   "source": [
    "Кумулятивные максимумы — от первого элемента до текущего. Первое значение кумулятивного максимума совпадает с первым значением исходного массива. Далее значение  𝑘 -го элемента есть максимум среди элементов до  𝑘 -го включительно. Аналогично минимум\n"
   ]
  },
  {
   "cell_type": "code",
   "execution_count": 20,
   "id": "93fdbf95-7ec7-496c-8c5d-be612ae297ed",
   "metadata": {},
   "outputs": [
    {
     "data": {
      "text/plain": [
       "2016-01-01    1.0\n",
       "2016-01-02    3.0\n",
       "2016-01-03    5.0\n",
       "2016-01-04    NaN\n",
       "2016-01-05    6.0\n",
       "2016-01-06    8.0\n",
       "Freq: D, dtype: float64"
      ]
     },
     "execution_count": 20,
     "metadata": {},
     "output_type": "execute_result"
    }
   ],
   "source": [
    "s"
   ]
  },
  {
   "cell_type": "code",
   "execution_count": 19,
   "id": "7ad721e2-8459-4367-92be-88497dcbf1e6",
   "metadata": {},
   "outputs": [
    {
     "data": {
      "text/plain": [
       "2016-01-01    1.0\n",
       "2016-01-02    1.0\n",
       "2016-01-03    1.0\n",
       "2016-01-04    NaN\n",
       "2016-01-05    1.0\n",
       "2016-01-06    1.0\n",
       "Freq: D, dtype: float64"
      ]
     },
     "execution_count": 19,
     "metadata": {},
     "output_type": "execute_result"
    }
   ],
   "source": [
    "s.cummin()\n"
   ]
  },
  {
   "cell_type": "markdown",
   "id": "39aef1ce-76b1-4cdb-b9ae-247247970bbe",
   "metadata": {},
   "source": [
    "Кумулятивные суммы. Первое значение кумулятивной суммы совпадает с первым значением исходного массива. Далее значение  𝑘 -го элемента есть сумма элементов до  𝑘 -го включительно.\n"
   ]
  },
  {
   "cell_type": "code",
   "execution_count": 21,
   "id": "c39ccac3-0342-4d8b-bbda-53c37c2447cf",
   "metadata": {},
   "outputs": [
    {
     "data": {
      "text/plain": [
       "2016-01-01     1.0\n",
       "2016-01-02     4.0\n",
       "2016-01-03     9.0\n",
       "2016-01-04     NaN\n",
       "2016-01-05    15.0\n",
       "2016-01-06    23.0\n",
       "Freq: D, dtype: float64"
      ]
     },
     "execution_count": 21,
     "metadata": {},
     "output_type": "execute_result"
    }
   ],
   "source": [
    "s.cumsum()\n"
   ]
  },
  {
   "cell_type": "markdown",
   "id": "f09b7d3c-d52a-4635-a6f8-f796404300b9",
   "metadata": {},
   "source": [
    "Произвольные функции кумулятивным способом можно считать с помощью конструкции expanding. Например, так можно посчитать кумулятивные медианы. Будет не быстрее, чем вручную, но аккуратнее.\n"
   ]
  },
  {
   "cell_type": "markdown",
   "id": "85774b2f-ec25-4efb-b4f4-de9e9d104efa",
   "metadata": {},
   "source": [
    "**Решение задач**\n",
    "1. Что будет выведено в следующих случаях и почему\n"
   ]
  },
  {
   "cell_type": "code",
   "execution_count": 22,
   "id": "7e7e923d-cafc-43ae-94f2-319cb67178d7",
   "metadata": {},
   "outputs": [
    {
     "name": "stdout",
     "output_type": "stream",
     "text": [
      "0   NaN\n",
      "1   NaN\n",
      "2   NaN\n",
      "3   NaN\n",
      "4   NaN\n",
      "5   NaN\n",
      "dtype: float64\n",
      "Series([], dtype: float64)\n"
     ]
    }
   ],
   "source": [
    "s = pd.Series([1, 2, 3, 4, 5, 6])\n",
    "t = s[2:]+s[:2]\n",
    "print(t)\n",
    "print(t.dropna())\n"
   ]
  },
  {
   "cell_type": "markdown",
   "id": "2b75d24e-b391-48ef-90a4-9da034aeb415",
   "metadata": {},
   "source": [
    "2. Посчитайте кумулятивное среднее квадратов разностей соседних элементов набора s.\n",
    "От них можно избавиться при помощи метода dropna.\n"
   ]
  },
  {
   "cell_type": "code",
   "execution_count": 23,
   "id": "0f5920b0-9ae5-4c47-ae8f-f8f7703b3978",
   "metadata": {},
   "outputs": [
    {
     "data": {
      "text/plain": [
       "1    1.0\n",
       "2    1.0\n",
       "3    1.0\n",
       "4    1.0\n",
       "5    1.0\n",
       "dtype: float64"
      ]
     },
     "execution_count": 23,
     "metadata": {},
     "output_type": "execute_result"
    }
   ],
   "source": [
    "s.diff().dropna().expanding().apply(lambda x: np.mean(x**2))"
   ]
  },
  {
   "cell_type": "markdown",
   "id": "0f085932-33d7-4665-b332-f56d860a9b27",
   "metadata": {},
   "source": [
    "DataFrames\n",
    "--\n",
    "Создание DataFrame.\n",
    "\n",
    "DataFrame – двумерная таблица с данными. Имеет индекс и набор столбцов (возможно, имеющих разные типы). Таблицу можно построить, например, из словаря, значениями в котором являются одномерные наборы данных. Можно сказать, что это Series Series. При этом и каждый столбец, и каждая строка будут Series.\n"
   ]
  },
  {
   "cell_type": "code",
   "execution_count": 24,
   "id": "9c85f907-f68f-4282-a189-04c99387b86b",
   "metadata": {},
   "outputs": [
    {
     "data": {
      "text/html": [
       "<div>\n",
       "<style scoped>\n",
       "    .dataframe tbody tr th:only-of-type {\n",
       "        vertical-align: middle;\n",
       "    }\n",
       "\n",
       "    .dataframe tbody tr th {\n",
       "        vertical-align: top;\n",
       "    }\n",
       "\n",
       "    .dataframe thead th {\n",
       "        text-align: right;\n",
       "    }\n",
       "</style>\n",
       "<table border=\"1\" class=\"dataframe\">\n",
       "  <thead>\n",
       "    <tr style=\"text-align: right;\">\n",
       "      <th></th>\n",
       "      <th>one</th>\n",
       "    </tr>\n",
       "  </thead>\n",
       "  <tbody>\n",
       "    <tr>\n",
       "      <th>a</th>\n",
       "      <td>0</td>\n",
       "    </tr>\n",
       "    <tr>\n",
       "      <th>a</th>\n",
       "      <td>1</td>\n",
       "    </tr>\n",
       "    <tr>\n",
       "      <th>a</th>\n",
       "      <td>2</td>\n",
       "    </tr>\n",
       "    <tr>\n",
       "      <th>e</th>\n",
       "      <td>3</td>\n",
       "    </tr>\n",
       "    <tr>\n",
       "      <th>f</th>\n",
       "      <td>4</td>\n",
       "    </tr>\n",
       "    <tr>\n",
       "      <th>g</th>\n",
       "      <td>5</td>\n",
       "    </tr>\n",
       "  </tbody>\n",
       "</table>\n",
       "</div>"
      ],
      "text/plain": [
       "   one\n",
       "a    0\n",
       "a    1\n",
       "a    2\n",
       "e    3\n",
       "f    4\n",
       "g    5"
      ]
     },
     "execution_count": 24,
     "metadata": {},
     "output_type": "execute_result"
    }
   ],
   "source": [
    "d = {'one': pd.Series(range(6), index=list('aaaefg'))}\n",
    "df = pd.DataFrame(d)\n",
    "df\n"
   ]
  },
  {
   "cell_type": "markdown",
   "id": "5087363f-6978-42e5-bbde-6a8601984fa6",
   "metadata": {},
   "source": [
    "Для случая одного столбца не очень отличается от Series. Хотя визуализация другая, ибо датафрейм из одного столбца – это набор из одной Series, а не одна Series. Иногда для визуализации датафрейма в jupyter notebook / colab используют специальную инструкцию display: display(df).\n",
    "\n"
   ]
  },
  {
   "cell_type": "code",
   "execution_count": 25,
   "id": "b6246bfd-5316-4010-baa2-4f9fa5a6a63b",
   "metadata": {},
   "outputs": [
    {
     "data": {
      "text/html": [
       "<div>\n",
       "<style scoped>\n",
       "    .dataframe tbody tr th:only-of-type {\n",
       "        vertical-align: middle;\n",
       "    }\n",
       "\n",
       "    .dataframe tbody tr th {\n",
       "        vertical-align: top;\n",
       "    }\n",
       "\n",
       "    .dataframe thead th {\n",
       "        text-align: right;\n",
       "    }\n",
       "</style>\n",
       "<table border=\"1\" class=\"dataframe\">\n",
       "  <thead>\n",
       "    <tr style=\"text-align: right;\">\n",
       "      <th></th>\n",
       "      <th>one</th>\n",
       "    </tr>\n",
       "  </thead>\n",
       "  <tbody>\n",
       "    <tr>\n",
       "      <th>a</th>\n",
       "      <td>0</td>\n",
       "    </tr>\n",
       "    <tr>\n",
       "      <th>a</th>\n",
       "      <td>1</td>\n",
       "    </tr>\n",
       "    <tr>\n",
       "      <th>a</th>\n",
       "      <td>2</td>\n",
       "    </tr>\n",
       "    <tr>\n",
       "      <th>e</th>\n",
       "      <td>3</td>\n",
       "    </tr>\n",
       "    <tr>\n",
       "      <th>f</th>\n",
       "      <td>4</td>\n",
       "    </tr>\n",
       "    <tr>\n",
       "      <th>g</th>\n",
       "      <td>5</td>\n",
       "    </tr>\n",
       "  </tbody>\n",
       "</table>\n",
       "</div>"
      ],
      "text/plain": [
       "   one\n",
       "a    0\n",
       "a    1\n",
       "a    2\n",
       "e    3\n",
       "f    4\n",
       "g    5"
      ]
     },
     "metadata": {},
     "output_type": "display_data"
    }
   ],
   "source": [
    "display(df)"
   ]
  },
  {
   "cell_type": "markdown",
   "id": "16609d80-176c-4c62-b052-9af949eaad34",
   "metadata": {},
   "source": [
    "Можно сбросить индекс! Это приведет к тому, что появится еще один столбец (который раньше был индексом) и создастся новый индекс по умолчанию.\n"
   ]
  },
  {
   "cell_type": "code",
   "execution_count": 26,
   "id": "251d1e2d-97d0-466c-8ab2-1626d3f7978d",
   "metadata": {},
   "outputs": [
    {
     "data": {
      "text/html": [
       "<div>\n",
       "<style scoped>\n",
       "    .dataframe tbody tr th:only-of-type {\n",
       "        vertical-align: middle;\n",
       "    }\n",
       "\n",
       "    .dataframe tbody tr th {\n",
       "        vertical-align: top;\n",
       "    }\n",
       "\n",
       "    .dataframe thead th {\n",
       "        text-align: right;\n",
       "    }\n",
       "</style>\n",
       "<table border=\"1\" class=\"dataframe\">\n",
       "  <thead>\n",
       "    <tr style=\"text-align: right;\">\n",
       "      <th></th>\n",
       "      <th>index</th>\n",
       "      <th>one</th>\n",
       "    </tr>\n",
       "  </thead>\n",
       "  <tbody>\n",
       "    <tr>\n",
       "      <th>0</th>\n",
       "      <td>a</td>\n",
       "      <td>0</td>\n",
       "    </tr>\n",
       "    <tr>\n",
       "      <th>1</th>\n",
       "      <td>a</td>\n",
       "      <td>1</td>\n",
       "    </tr>\n",
       "    <tr>\n",
       "      <th>2</th>\n",
       "      <td>a</td>\n",
       "      <td>2</td>\n",
       "    </tr>\n",
       "    <tr>\n",
       "      <th>3</th>\n",
       "      <td>e</td>\n",
       "      <td>3</td>\n",
       "    </tr>\n",
       "    <tr>\n",
       "      <th>4</th>\n",
       "      <td>f</td>\n",
       "      <td>4</td>\n",
       "    </tr>\n",
       "    <tr>\n",
       "      <th>5</th>\n",
       "      <td>g</td>\n",
       "      <td>5</td>\n",
       "    </tr>\n",
       "  </tbody>\n",
       "</table>\n",
       "</div>"
      ],
      "text/plain": [
       "  index  one\n",
       "0     a    0\n",
       "1     a    1\n",
       "2     a    2\n",
       "3     e    3\n",
       "4     f    4\n",
       "5     g    5"
      ]
     },
     "execution_count": 26,
     "metadata": {},
     "output_type": "execute_result"
    }
   ],
   "source": [
    "df.reset_index()\n"
   ]
  },
  {
   "cell_type": "markdown",
   "id": "f354c0d2-adff-42d6-acb1-41bedbd1f24a",
   "metadata": {},
   "source": [
    "Создадим теперь датафрейм с несколькими столбцами. В идеальном случае длины столбцов должны быть одинаковыми! В нашем случае это не так, что в будущем приведет к неожиданным результатам. \n"
   ]
  },
  {
   "cell_type": "code",
   "execution_count": 28,
   "id": "7611d4d7-ce15-406b-9dc2-4a3faf6a1a58",
   "metadata": {},
   "outputs": [
    {
     "data": {
      "text/html": [
       "<div>\n",
       "<style scoped>\n",
       "    .dataframe tbody tr th:only-of-type {\n",
       "        vertical-align: middle;\n",
       "    }\n",
       "\n",
       "    .dataframe tbody tr th {\n",
       "        vertical-align: top;\n",
       "    }\n",
       "\n",
       "    .dataframe thead th {\n",
       "        text-align: right;\n",
       "    }\n",
       "</style>\n",
       "<table border=\"1\" class=\"dataframe\">\n",
       "  <thead>\n",
       "    <tr style=\"text-align: right;\">\n",
       "      <th></th>\n",
       "      <th>one</th>\n",
       "      <th>two</th>\n",
       "      <th>three</th>\n",
       "    </tr>\n",
       "  </thead>\n",
       "  <tbody>\n",
       "    <tr>\n",
       "      <th>a</th>\n",
       "      <td>0.0</td>\n",
       "      <td>0</td>\n",
       "      <td>0.405751</td>\n",
       "    </tr>\n",
       "    <tr>\n",
       "      <th>b</th>\n",
       "      <td>1.0</td>\n",
       "      <td>1</td>\n",
       "      <td>1.349037</td>\n",
       "    </tr>\n",
       "    <tr>\n",
       "      <th>c</th>\n",
       "      <td>NaN</td>\n",
       "      <td>2</td>\n",
       "      <td>-0.521905</td>\n",
       "    </tr>\n",
       "    <tr>\n",
       "      <th>d</th>\n",
       "      <td>2.0</td>\n",
       "      <td>3</td>\n",
       "      <td>-0.121168</td>\n",
       "    </tr>\n",
       "    <tr>\n",
       "      <th>e</th>\n",
       "      <td>3.0</td>\n",
       "      <td>4</td>\n",
       "      <td>-0.156181</td>\n",
       "    </tr>\n",
       "    <tr>\n",
       "      <th>f</th>\n",
       "      <td>4.0</td>\n",
       "      <td>5</td>\n",
       "      <td>0.727138</td>\n",
       "    </tr>\n",
       "    <tr>\n",
       "      <th>g</th>\n",
       "      <td>5.0</td>\n",
       "      <td>6</td>\n",
       "      <td>0.499661</td>\n",
       "    </tr>\n",
       "  </tbody>\n",
       "</table>\n",
       "</div>"
      ],
      "text/plain": [
       "   one  two     three\n",
       "a  0.0    0  0.405751\n",
       "b  1.0    1  1.349037\n",
       "c  NaN    2 -0.521905\n",
       "d  2.0    3 -0.121168\n",
       "e  3.0    4 -0.156181\n",
       "f  4.0    5  0.727138\n",
       "g  5.0    6  0.499661"
      ]
     },
     "execution_count": 28,
     "metadata": {},
     "output_type": "execute_result"
    }
   ],
   "source": [
    "d = {'one': pd.Series(range(6), index=list('abdefg')),\n",
    "     'two': pd.Series(range(7), index=list('abcdefg')),\n",
    "     'three': pd.Series(np.random.normal(size=7), index=list('abcdefg'))}\n",
    "df = pd.DataFrame(d)\n",
    "df"
   ]
  },
  {
   "cell_type": "markdown",
   "id": "4396a172-204c-4107-869a-22d6da03d760",
   "metadata": {},
   "source": [
    "Несмотря на то, что в столбце one нет индекса c, таблица заполнена и на месте пропуска стоит np.nan, как и всегда. Даже если мы попросим вывести этот столбец, то в нем будут 7 элементов. Ибо при индексации мы обращаемся к датафрейму, а в нем строка c присутствует.\n"
   ]
  },
  {
   "cell_type": "code",
   "execution_count": 29,
   "id": "99885a2f-900e-4b60-9e6e-63851df3c2c5",
   "metadata": {},
   "outputs": [
    {
     "data": {
      "text/plain": [
       "a    0.0\n",
       "b    1.0\n",
       "c    NaN\n",
       "d    2.0\n",
       "e    3.0\n",
       "f    4.0\n",
       "g    5.0\n",
       "Name: one, dtype: float64"
      ]
     },
     "execution_count": 29,
     "metadata": {},
     "output_type": "execute_result"
    }
   ],
   "source": [
    "df['one']\n"
   ]
  },
  {
   "cell_type": "code",
   "execution_count": 30,
   "id": "6843bbd9-af8a-4e4f-8668-67c60cc58a5f",
   "metadata": {},
   "outputs": [
    {
     "data": {
      "text/plain": [
       "Index(['a', 'b', 'c', 'd', 'e', 'f', 'g'], dtype='object')"
      ]
     },
     "execution_count": 30,
     "metadata": {},
     "output_type": "execute_result"
    }
   ],
   "source": [
    "df.index\n"
   ]
  },
  {
   "cell_type": "markdown",
   "id": "90049551-562e-45e1-8157-2bd002daad7a",
   "metadata": {},
   "source": [
    "Таблица с несколькими разными типами данных.\n"
   ]
  },
  {
   "cell_type": "code",
   "execution_count": 31,
   "id": "af01089a-af3f-4c66-bf47-4a4cb99bce81",
   "metadata": {},
   "outputs": [
    {
     "data": {
      "text/html": [
       "<div>\n",
       "<style scoped>\n",
       "    .dataframe tbody tr th:only-of-type {\n",
       "        vertical-align: middle;\n",
       "    }\n",
       "\n",
       "    .dataframe tbody tr th {\n",
       "        vertical-align: top;\n",
       "    }\n",
       "\n",
       "    .dataframe thead th {\n",
       "        text-align: right;\n",
       "    }\n",
       "</style>\n",
       "<table border=\"1\" class=\"dataframe\">\n",
       "  <thead>\n",
       "    <tr style=\"text-align: right;\">\n",
       "      <th></th>\n",
       "      <th>A</th>\n",
       "      <th>B</th>\n",
       "      <th>C</th>\n",
       "      <th>D</th>\n",
       "      <th>E</th>\n",
       "      <th>F</th>\n",
       "    </tr>\n",
       "  </thead>\n",
       "  <tbody>\n",
       "    <tr>\n",
       "      <th>0</th>\n",
       "      <td>1.0</td>\n",
       "      <td>2013-01-02</td>\n",
       "      <td>1.0</td>\n",
       "      <td>3</td>\n",
       "      <td>test</td>\n",
       "      <td>foo</td>\n",
       "    </tr>\n",
       "    <tr>\n",
       "      <th>1</th>\n",
       "      <td>1.0</td>\n",
       "      <td>2013-01-02</td>\n",
       "      <td>1.0</td>\n",
       "      <td>3</td>\n",
       "      <td>train</td>\n",
       "      <td>foo</td>\n",
       "    </tr>\n",
       "    <tr>\n",
       "      <th>2</th>\n",
       "      <td>1.0</td>\n",
       "      <td>2013-01-02</td>\n",
       "      <td>1.0</td>\n",
       "      <td>3</td>\n",
       "      <td>test</td>\n",
       "      <td>foo</td>\n",
       "    </tr>\n",
       "    <tr>\n",
       "      <th>3</th>\n",
       "      <td>1.0</td>\n",
       "      <td>2013-01-02</td>\n",
       "      <td>1.0</td>\n",
       "      <td>3</td>\n",
       "      <td>train</td>\n",
       "      <td>foo</td>\n",
       "    </tr>\n",
       "  </tbody>\n",
       "</table>\n",
       "</div>"
      ],
      "text/plain": [
       "     A          B    C  D      E    F\n",
       "0  1.0 2013-01-02  1.0  3   test  foo\n",
       "1  1.0 2013-01-02  1.0  3  train  foo\n",
       "2  1.0 2013-01-02  1.0  3   test  foo\n",
       "3  1.0 2013-01-02  1.0  3  train  foo"
      ]
     },
     "execution_count": 31,
     "metadata": {},
     "output_type": "execute_result"
    }
   ],
   "source": [
    "df2 = pd.DataFrame({ 'A': 1.,\n",
    "                     'B': pd.Timestamp('20130102'),\n",
    "                     'C': pd.Series(1, index=list(range(4)),\n",
    "                                    dtype='float32'),\n",
    "                     'D': np.array([3] * 4,\n",
    "                                   dtype='int32'),\n",
    "                     'E': pd.Categorical([\"test\", \"train\",\n",
    "                                       \"test\", \"train\"]), # one - hot encoding\n",
    "                     'F': 'foo' })\n",
    "df2\n"
   ]
  },
  {
   "cell_type": "code",
   "execution_count": 34,
   "id": "ae77a5dc-7048-4382-8ee8-e50d1d605ea9",
   "metadata": {},
   "outputs": [
    {
     "data": {
      "text/plain": [
       "0    2013\n",
       "1    2013\n",
       "2    2013\n",
       "3    2013\n",
       "Name: B, dtype: int32"
      ]
     },
     "execution_count": 34,
     "metadata": {},
     "output_type": "execute_result"
    }
   ],
   "source": [
    "df2['B'].dt.year"
   ]
  },
  {
   "cell_type": "code",
   "execution_count": 35,
   "id": "ff49e9cd-542c-4887-a020-7372ae960739",
   "metadata": {},
   "outputs": [
    {
     "data": {
      "text/plain": [
       "0    1\n",
       "1    1\n",
       "2    1\n",
       "3    1\n",
       "Name: B, dtype: int32"
      ]
     },
     "execution_count": 35,
     "metadata": {},
     "output_type": "execute_result"
    }
   ],
   "source": [
    "df2['B'].dt.month"
   ]
  },
  {
   "cell_type": "code",
   "execution_count": 36,
   "id": "3d151c0c-5634-4962-be29-99e0fdba490a",
   "metadata": {},
   "outputs": [
    {
     "data": {
      "text/plain": [
       "0    2\n",
       "1    2\n",
       "2    2\n",
       "3    2\n",
       "Name: B, dtype: int32"
      ]
     },
     "execution_count": 36,
     "metadata": {},
     "output_type": "execute_result"
    }
   ],
   "source": [
    "df2['B'].dt.day"
   ]
  },
  {
   "cell_type": "code",
   "execution_count": 39,
   "id": "34c6b186-4832-46bb-8f13-260d60e85ef7",
   "metadata": {},
   "outputs": [
    {
     "data": {
      "text/plain": [
       "0   2013-01-30\n",
       "1   2013-01-30\n",
       "2   2013-01-30\n",
       "3   2013-01-30\n",
       "Name: B, dtype: datetime64[ns]"
      ]
     },
     "execution_count": 39,
     "metadata": {},
     "output_type": "execute_result"
    }
   ],
   "source": [
    "df2['B']+pd.Timedelta(4,'w')"
   ]
  },
  {
   "cell_type": "code",
   "execution_count": 41,
   "id": "56ecbc83-482c-4676-80f9-9af38bf41db6",
   "metadata": {},
   "outputs": [
    {
     "data": {
      "text/plain": [
       "0   2013-01-02\n",
       "1   2013-01-02\n",
       "2   2013-01-02\n",
       "3   2013-01-02\n",
       "Name: B, dtype: datetime64[ns]"
      ]
     },
     "execution_count": 41,
     "metadata": {},
     "output_type": "execute_result"
    }
   ],
   "source": [
    "df2['B']"
   ]
  },
  {
   "cell_type": "markdown",
   "id": "5d5ff8af-3a5f-40e8-a7f2-1c3a9cb4263d",
   "metadata": {},
   "source": [
    "Анализ DataFrame.\n",
    "--"
   ]
  },
  {
   "cell_type": "code",
   "execution_count": 43,
   "id": "7e651dca-ae69-4103-b603-00cad577874f",
   "metadata": {},
   "outputs": [
    {
     "data": {
      "text/plain": [
       "array([[ 0.        ,  0.        ,  0.4057512 ],\n",
       "       [ 1.        ,  1.        ,  1.34903662],\n",
       "       [        nan,  2.        , -0.52190492],\n",
       "       [ 2.        ,  3.        , -0.12116838],\n",
       "       [ 3.        ,  4.        , -0.15618083],\n",
       "       [ 4.        ,  5.        ,  0.72713773],\n",
       "       [ 5.        ,  6.        ,  0.49966074]])"
      ]
     },
     "execution_count": 43,
     "metadata": {},
     "output_type": "execute_result"
    }
   ],
   "source": [
    "df.head()  # в аргументе можем указать сколько первых строк хотим вывести\n",
    "df.tail(3)  # (а здесь последних). по умолчанию – 5\n",
    "df.index  # индексы\n",
    "df.columns \n",
    "df.values"
   ]
  },
  {
   "cell_type": "markdown",
   "id": "e1815817-e33c-4f9d-acdf-b46dd046b5bf",
   "metadata": {},
   "source": [
    "При обращении к values мы получим знакомые numpy.array. Да, данные хранятся именно так.\n",
    "Описательные статистики похожи на то что в Series, считаются по столбцам."
   ]
  },
  {
   "cell_type": "code",
   "execution_count": 44,
   "id": "22199ac5-295f-40d5-9856-c26b47cbcc6e",
   "metadata": {},
   "outputs": [
    {
     "data": {
      "text/html": [
       "<div>\n",
       "<style scoped>\n",
       "    .dataframe tbody tr th:only-of-type {\n",
       "        vertical-align: middle;\n",
       "    }\n",
       "\n",
       "    .dataframe tbody tr th {\n",
       "        vertical-align: top;\n",
       "    }\n",
       "\n",
       "    .dataframe thead th {\n",
       "        text-align: right;\n",
       "    }\n",
       "</style>\n",
       "<table border=\"1\" class=\"dataframe\">\n",
       "  <thead>\n",
       "    <tr style=\"text-align: right;\">\n",
       "      <th></th>\n",
       "      <th>one</th>\n",
       "      <th>two</th>\n",
       "      <th>three</th>\n",
       "    </tr>\n",
       "  </thead>\n",
       "  <tbody>\n",
       "    <tr>\n",
       "      <th>count</th>\n",
       "      <td>6.000000</td>\n",
       "      <td>7.000000</td>\n",
       "      <td>7.000000</td>\n",
       "    </tr>\n",
       "    <tr>\n",
       "      <th>mean</th>\n",
       "      <td>2.500000</td>\n",
       "      <td>3.000000</td>\n",
       "      <td>0.311762</td>\n",
       "    </tr>\n",
       "    <tr>\n",
       "      <th>std</th>\n",
       "      <td>1.870829</td>\n",
       "      <td>2.160247</td>\n",
       "      <td>0.631666</td>\n",
       "    </tr>\n",
       "    <tr>\n",
       "      <th>min</th>\n",
       "      <td>0.000000</td>\n",
       "      <td>0.000000</td>\n",
       "      <td>-0.521905</td>\n",
       "    </tr>\n",
       "    <tr>\n",
       "      <th>25%</th>\n",
       "      <td>1.250000</td>\n",
       "      <td>1.500000</td>\n",
       "      <td>-0.138675</td>\n",
       "    </tr>\n",
       "    <tr>\n",
       "      <th>50%</th>\n",
       "      <td>2.500000</td>\n",
       "      <td>3.000000</td>\n",
       "      <td>0.405751</td>\n",
       "    </tr>\n",
       "    <tr>\n",
       "      <th>75%</th>\n",
       "      <td>3.750000</td>\n",
       "      <td>4.500000</td>\n",
       "      <td>0.613399</td>\n",
       "    </tr>\n",
       "    <tr>\n",
       "      <th>max</th>\n",
       "      <td>5.000000</td>\n",
       "      <td>6.000000</td>\n",
       "      <td>1.349037</td>\n",
       "    </tr>\n",
       "  </tbody>\n",
       "</table>\n",
       "</div>"
      ],
      "text/plain": [
       "            one       two     three\n",
       "count  6.000000  7.000000  7.000000\n",
       "mean   2.500000  3.000000  0.311762\n",
       "std    1.870829  2.160247  0.631666\n",
       "min    0.000000  0.000000 -0.521905\n",
       "25%    1.250000  1.500000 -0.138675\n",
       "50%    2.500000  3.000000  0.405751\n",
       "75%    3.750000  4.500000  0.613399\n",
       "max    5.000000  6.000000  1.349037"
      ]
     },
     "execution_count": 44,
     "metadata": {},
     "output_type": "execute_result"
    }
   ],
   "source": [
    "df.describe()\n"
   ]
  },
  {
   "cell_type": "markdown",
   "id": "5b0da61a-f315-4262-9da4-c42f7b6e0dac",
   "metadata": {},
   "source": [
    "Данные можно транспонировать – как бы поменять местами строки со столбцами\n"
   ]
  },
  {
   "cell_type": "code",
   "execution_count": 47,
   "id": "e7241ed9-0ec9-4e73-8917-b3ab316f88f9",
   "metadata": {},
   "outputs": [
    {
     "data": {
      "text/html": [
       "<div>\n",
       "<style scoped>\n",
       "    .dataframe tbody tr th:only-of-type {\n",
       "        vertical-align: middle;\n",
       "    }\n",
       "\n",
       "    .dataframe tbody tr th {\n",
       "        vertical-align: top;\n",
       "    }\n",
       "\n",
       "    .dataframe thead th {\n",
       "        text-align: right;\n",
       "    }\n",
       "</style>\n",
       "<table border=\"1\" class=\"dataframe\">\n",
       "  <thead>\n",
       "    <tr style=\"text-align: right;\">\n",
       "      <th></th>\n",
       "      <th>a</th>\n",
       "      <th>b</th>\n",
       "      <th>c</th>\n",
       "      <th>d</th>\n",
       "      <th>e</th>\n",
       "      <th>f</th>\n",
       "      <th>g</th>\n",
       "    </tr>\n",
       "  </thead>\n",
       "  <tbody>\n",
       "    <tr>\n",
       "      <th>one</th>\n",
       "      <td>0.000000</td>\n",
       "      <td>1.000000</td>\n",
       "      <td>NaN</td>\n",
       "      <td>2.000000</td>\n",
       "      <td>3.000000</td>\n",
       "      <td>4.000000</td>\n",
       "      <td>5.000000</td>\n",
       "    </tr>\n",
       "    <tr>\n",
       "      <th>two</th>\n",
       "      <td>0.000000</td>\n",
       "      <td>1.000000</td>\n",
       "      <td>2.000000</td>\n",
       "      <td>3.000000</td>\n",
       "      <td>4.000000</td>\n",
       "      <td>5.000000</td>\n",
       "      <td>6.000000</td>\n",
       "    </tr>\n",
       "    <tr>\n",
       "      <th>three</th>\n",
       "      <td>0.405751</td>\n",
       "      <td>1.349037</td>\n",
       "      <td>-0.521905</td>\n",
       "      <td>-0.121168</td>\n",
       "      <td>-0.156181</td>\n",
       "      <td>0.727138</td>\n",
       "      <td>0.499661</td>\n",
       "    </tr>\n",
       "  </tbody>\n",
       "</table>\n",
       "</div>"
      ],
      "text/plain": [
       "              a         b         c         d         e         f         g\n",
       "one    0.000000  1.000000       NaN  2.000000  3.000000  4.000000  5.000000\n",
       "two    0.000000  1.000000  2.000000  3.000000  4.000000  5.000000  6.000000\n",
       "three  0.405751  1.349037 -0.521905 -0.121168 -0.156181  0.727138  0.499661"
      ]
     },
     "execution_count": 47,
     "metadata": {},
     "output_type": "execute_result"
    }
   ],
   "source": [
    "df.T\n"
   ]
  },
  {
   "cell_type": "markdown",
   "id": "b97d1c0c-a78a-4435-a364-99d3124d2b3f",
   "metadata": {},
   "source": [
    "Сортировка по столбцу, например, по третьему\n"
   ]
  },
  {
   "cell_type": "code",
   "execution_count": 48,
   "id": "f82ba827-88ce-4de8-a48d-41e0cd3fae5c",
   "metadata": {},
   "outputs": [
    {
     "data": {
      "text/html": [
       "<div>\n",
       "<style scoped>\n",
       "    .dataframe tbody tr th:only-of-type {\n",
       "        vertical-align: middle;\n",
       "    }\n",
       "\n",
       "    .dataframe tbody tr th {\n",
       "        vertical-align: top;\n",
       "    }\n",
       "\n",
       "    .dataframe thead th {\n",
       "        text-align: right;\n",
       "    }\n",
       "</style>\n",
       "<table border=\"1\" class=\"dataframe\">\n",
       "  <thead>\n",
       "    <tr style=\"text-align: right;\">\n",
       "      <th></th>\n",
       "      <th>one</th>\n",
       "      <th>two</th>\n",
       "      <th>three</th>\n",
       "    </tr>\n",
       "  </thead>\n",
       "  <tbody>\n",
       "    <tr>\n",
       "      <th>b</th>\n",
       "      <td>1.0</td>\n",
       "      <td>1</td>\n",
       "      <td>1.349037</td>\n",
       "    </tr>\n",
       "    <tr>\n",
       "      <th>f</th>\n",
       "      <td>4.0</td>\n",
       "      <td>5</td>\n",
       "      <td>0.727138</td>\n",
       "    </tr>\n",
       "    <tr>\n",
       "      <th>g</th>\n",
       "      <td>5.0</td>\n",
       "      <td>6</td>\n",
       "      <td>0.499661</td>\n",
       "    </tr>\n",
       "    <tr>\n",
       "      <th>a</th>\n",
       "      <td>0.0</td>\n",
       "      <td>0</td>\n",
       "      <td>0.405751</td>\n",
       "    </tr>\n",
       "    <tr>\n",
       "      <th>d</th>\n",
       "      <td>2.0</td>\n",
       "      <td>3</td>\n",
       "      <td>-0.121168</td>\n",
       "    </tr>\n",
       "    <tr>\n",
       "      <th>e</th>\n",
       "      <td>3.0</td>\n",
       "      <td>4</td>\n",
       "      <td>-0.156181</td>\n",
       "    </tr>\n",
       "    <tr>\n",
       "      <th>c</th>\n",
       "      <td>NaN</td>\n",
       "      <td>2</td>\n",
       "      <td>-0.521905</td>\n",
       "    </tr>\n",
       "  </tbody>\n",
       "</table>\n",
       "</div>"
      ],
      "text/plain": [
       "   one  two     three\n",
       "b  1.0    1  1.349037\n",
       "f  4.0    5  0.727138\n",
       "g  5.0    6  0.499661\n",
       "a  0.0    0  0.405751\n",
       "d  2.0    3 -0.121168\n",
       "e  3.0    4 -0.156181\n",
       "c  NaN    2 -0.521905"
      ]
     },
     "execution_count": 48,
     "metadata": {},
     "output_type": "execute_result"
    }
   ],
   "source": [
    "df.sort_values(by='three', ascending=False)\n"
   ]
  },
  {
   "cell_type": "markdown",
   "id": "4df1f7b1-68fb-4449-ad31-592cc0c32c96",
   "metadata": {},
   "source": [
    "Можно проитерироваться по столбцам\n"
   ]
  },
  {
   "cell_type": "code",
   "execution_count": 49,
   "id": "f16f6626-a838-46b5-b0d1-06300b79955f",
   "metadata": {},
   "outputs": [
    {
     "name": "stdout",
     "output_type": "stream",
     "text": [
      "one a    0.0\n",
      "b    1.0\n",
      "c    NaN\n",
      "d    2.0\n",
      "e    3.0\n",
      "f    4.0\n",
      "g    5.0\n",
      "Name: one, dtype: float64\n",
      "two a    0\n",
      "b    1\n",
      "c    2\n",
      "d    3\n",
      "e    4\n",
      "f    5\n",
      "g    6\n",
      "Name: two, dtype: int64\n",
      "three a    0.405751\n",
      "b    1.349037\n",
      "c   -0.521905\n",
      "d   -0.121168\n",
      "e   -0.156181\n",
      "f    0.727138\n",
      "g    0.499661\n",
      "Name: three, dtype: float64\n"
     ]
    }
   ],
   "source": [
    "for i in df.columns:\n",
    "  print(i, df[i])\n"
   ]
  },
  {
   "cell_type": "markdown",
   "id": "fbb814d8-4367-4898-9872-48d007af72ad",
   "metadata": {},
   "source": [
    "Или по строкам. И то, и то неэффективно и следует по возможности избегать прямой итерации, заменяя её операциями над датафреймами, о которых мы поговорим позже.\n"
   ]
  },
  {
   "cell_type": "code",
   "execution_count": 53,
   "id": "1495ab99-d55e-4415-a837-85b7ff876d3b",
   "metadata": {},
   "outputs": [
    {
     "name": "stdout",
     "output_type": "stream",
     "text": [
      "a one      0.000000\n",
      "two      0.000000\n",
      "three    0.405751\n",
      "Name: a, dtype: float64\n",
      "b one      1.000000\n",
      "two      1.000000\n",
      "three    1.349037\n",
      "Name: b, dtype: float64\n",
      "c one           NaN\n",
      "two      2.000000\n",
      "three   -0.521905\n",
      "Name: c, dtype: float64\n",
      "d one      2.000000\n",
      "two      3.000000\n",
      "three   -0.121168\n",
      "Name: d, dtype: float64\n",
      "e one      3.000000\n",
      "two      4.000000\n",
      "three   -0.156181\n",
      "Name: e, dtype: float64\n",
      "f one      4.000000\n",
      "two      5.000000\n",
      "three    0.727138\n",
      "Name: f, dtype: float64\n",
      "g one      5.000000\n",
      "two      6.000000\n",
      "three    0.499661\n",
      "Name: g, dtype: float64\n"
     ]
    }
   ],
   "source": [
    "for i, j in df.iterrows():\n",
    "  print(i,j)\n"
   ]
  },
  {
   "cell_type": "markdown",
   "id": "bff9cc2c-74d6-4bab-ae16-4f939e493cf3",
   "metadata": {},
   "source": [
    "*Задание для закрепления.\n",
    "Сгенерируйте массив точек в 3D, создайте по нему датафрейм и отсортируйте строки в порядке следования осей.*\n"
   ]
  },
  {
   "cell_type": "code",
   "execution_count": 54,
   "id": "7ac525b5-a98a-45fe-ab34-817caaa3438d",
   "metadata": {},
   "outputs": [
    {
     "data": {
      "text/html": [
       "<div>\n",
       "<style scoped>\n",
       "    .dataframe tbody tr th:only-of-type {\n",
       "        vertical-align: middle;\n",
       "    }\n",
       "\n",
       "    .dataframe tbody tr th {\n",
       "        vertical-align: top;\n",
       "    }\n",
       "\n",
       "    .dataframe thead th {\n",
       "        text-align: right;\n",
       "    }\n",
       "</style>\n",
       "<table border=\"1\" class=\"dataframe\">\n",
       "  <thead>\n",
       "    <tr style=\"text-align: right;\">\n",
       "      <th></th>\n",
       "      <th>x</th>\n",
       "      <th>y</th>\n",
       "      <th>z</th>\n",
       "    </tr>\n",
       "  </thead>\n",
       "  <tbody>\n",
       "    <tr>\n",
       "      <th>65</th>\n",
       "      <td>-2.275645</td>\n",
       "      <td>-0.648673</td>\n",
       "      <td>-1.686066</td>\n",
       "    </tr>\n",
       "    <tr>\n",
       "      <th>19</th>\n",
       "      <td>-2.112911</td>\n",
       "      <td>-0.066193</td>\n",
       "      <td>0.404951</td>\n",
       "    </tr>\n",
       "    <tr>\n",
       "      <th>32</th>\n",
       "      <td>-1.878109</td>\n",
       "      <td>-0.848132</td>\n",
       "      <td>0.676954</td>\n",
       "    </tr>\n",
       "    <tr>\n",
       "      <th>5</th>\n",
       "      <td>-1.810124</td>\n",
       "      <td>-2.284243</td>\n",
       "      <td>-0.272306</td>\n",
       "    </tr>\n",
       "    <tr>\n",
       "      <th>48</th>\n",
       "      <td>-1.726742</td>\n",
       "      <td>0.474211</td>\n",
       "      <td>0.929506</td>\n",
       "    </tr>\n",
       "    <tr>\n",
       "      <th>...</th>\n",
       "      <td>...</td>\n",
       "      <td>...</td>\n",
       "      <td>...</td>\n",
       "    </tr>\n",
       "    <tr>\n",
       "      <th>17</th>\n",
       "      <td>1.722428</td>\n",
       "      <td>1.222775</td>\n",
       "      <td>-0.401176</td>\n",
       "    </tr>\n",
       "    <tr>\n",
       "      <th>58</th>\n",
       "      <td>1.726727</td>\n",
       "      <td>0.186623</td>\n",
       "      <td>-1.066107</td>\n",
       "    </tr>\n",
       "    <tr>\n",
       "      <th>79</th>\n",
       "      <td>1.831424</td>\n",
       "      <td>0.933709</td>\n",
       "      <td>0.192464</td>\n",
       "    </tr>\n",
       "    <tr>\n",
       "      <th>13</th>\n",
       "      <td>2.065729</td>\n",
       "      <td>0.448694</td>\n",
       "      <td>-0.064802</td>\n",
       "    </tr>\n",
       "    <tr>\n",
       "      <th>46</th>\n",
       "      <td>3.112040</td>\n",
       "      <td>0.850475</td>\n",
       "      <td>-0.173822</td>\n",
       "    </tr>\n",
       "  </tbody>\n",
       "</table>\n",
       "<p>100 rows × 3 columns</p>\n",
       "</div>"
      ],
      "text/plain": [
       "           x         y         z\n",
       "65 -2.275645 -0.648673 -1.686066\n",
       "19 -2.112911 -0.066193  0.404951\n",
       "32 -1.878109 -0.848132  0.676954\n",
       "5  -1.810124 -2.284243 -0.272306\n",
       "48 -1.726742  0.474211  0.929506\n",
       "..       ...       ...       ...\n",
       "17  1.722428  1.222775 -0.401176\n",
       "58  1.726727  0.186623 -1.066107\n",
       "79  1.831424  0.933709  0.192464\n",
       "13  2.065729  0.448694 -0.064802\n",
       "46  3.112040  0.850475 -0.173822\n",
       "\n",
       "[100 rows x 3 columns]"
      ]
     },
     "execution_count": 54,
     "metadata": {},
     "output_type": "execute_result"
    }
   ],
   "source": [
    "pd.DataFrame(\n",
    "    np.random.normal(size=(100, 3)),\n",
    "    columns=['x', 'y', 'z']\n",
    ").sort_values(by=['x', 'y', 'z'])\n"
   ]
  },
  {
   "cell_type": "markdown",
   "id": "69a6172b-2394-43cd-813f-1e9f902a7d9f",
   "metadata": {},
   "source": [
    "Индексация в DataFrame.\n",
    "--\n",
    "\n",
    "В отличии от обычной системы индексации в Python и Numpy, в Pandas принята иная система индексации, которая является несколько нелогичной, однако, на практике часто оказывается удобной при обработке сильно неоднородных данных. Для написания продуктивного кода при обработке большого объема данных стоит использовать атрибуты .loc, .iloc.\n"
   ]
  },
  {
   "cell_type": "code",
   "execution_count": 56,
   "id": "64034898-91e1-48ad-9547-c596a956bac0",
   "metadata": {},
   "outputs": [
    {
     "data": {
      "text/plain": [
       "2.0"
      ]
     },
     "execution_count": 56,
     "metadata": {},
     "output_type": "execute_result"
    }
   ],
   "source": [
    "df['one']  # Если в качестве индекса указать имя столбца, получится одномерный набор данных типа Series.\n",
    "df.one  # К столбцу можно обращаться как к полю объекта, если имя столбца позволяет это сделать (= является строкой)\n",
    "df['one'].index  # Индексы полученного одномерного набора данных.\n",
    "df['one'].name  # Можно получить имя данного столбца\n",
    "df['one']['d']  # Получение элемента массива. Сначала надо указать столбец, потом строку \n",
    "#df['c']['one']  # А наоборот нельзя!\n"
   ]
  },
  {
   "cell_type": "markdown",
   "id": "7e59aa83-5b81-412e-93ed-92170c0ae098",
   "metadata": {},
   "source": [
    "Правила индексации в pandas несколько отличаются от общепринятых. Если указать диапазон индексов, то это означает диапазон строк. Причём последняя строка включается в таблицу.\n"
   ]
  },
  {
   "cell_type": "code",
   "execution_count": null,
   "id": "102eb00c-f3b3-4dff-b2b1-f87450c49844",
   "metadata": {},
   "outputs": [],
   "source": []
  },
  {
   "cell_type": "code",
   "execution_count": 60,
   "id": "0c851b24-5d0d-4583-939f-c3b1f48b87b1",
   "metadata": {},
   "outputs": [
    {
     "data": {
      "text/plain": [
       "a    0.0\n",
       "b    1.0\n",
       "c    NaN\n",
       "d    2.0\n",
       "e    3.0\n",
       "f    4.0\n",
       "g    5.0\n",
       "Name: one, dtype: float64"
      ]
     },
     "metadata": {},
     "output_type": "display_data"
    },
    {
     "data": {
      "text/html": [
       "<div>\n",
       "<style scoped>\n",
       "    .dataframe tbody tr th:only-of-type {\n",
       "        vertical-align: middle;\n",
       "    }\n",
       "\n",
       "    .dataframe tbody tr th {\n",
       "        vertical-align: top;\n",
       "    }\n",
       "\n",
       "    .dataframe thead th {\n",
       "        text-align: right;\n",
       "    }\n",
       "</style>\n",
       "<table border=\"1\" class=\"dataframe\">\n",
       "  <thead>\n",
       "    <tr style=\"text-align: right;\">\n",
       "      <th></th>\n",
       "      <th>one</th>\n",
       "    </tr>\n",
       "  </thead>\n",
       "  <tbody>\n",
       "    <tr>\n",
       "      <th>a</th>\n",
       "      <td>0.0</td>\n",
       "    </tr>\n",
       "    <tr>\n",
       "      <th>b</th>\n",
       "      <td>1.0</td>\n",
       "    </tr>\n",
       "    <tr>\n",
       "      <th>c</th>\n",
       "      <td>NaN</td>\n",
       "    </tr>\n",
       "    <tr>\n",
       "      <th>d</th>\n",
       "      <td>2.0</td>\n",
       "    </tr>\n",
       "    <tr>\n",
       "      <th>e</th>\n",
       "      <td>3.0</td>\n",
       "    </tr>\n",
       "    <tr>\n",
       "      <th>f</th>\n",
       "      <td>4.0</td>\n",
       "    </tr>\n",
       "    <tr>\n",
       "      <th>g</th>\n",
       "      <td>5.0</td>\n",
       "    </tr>\n",
       "  </tbody>\n",
       "</table>\n",
       "</div>"
      ],
      "text/plain": [
       "   one\n",
       "a  0.0\n",
       "b  1.0\n",
       "c  NaN\n",
       "d  2.0\n",
       "e  3.0\n",
       "f  4.0\n",
       "g  5.0"
      ]
     },
     "metadata": {},
     "output_type": "display_data"
    }
   ],
   "source": [
    "df['b':'d']  # правая граница включена!\n",
    "df[1:3]  # но диапазон целых чисел даёт диапазон строк с такими номерами, не включая правую границу (как обычно при индексировании списков). \n",
    "#df[1]  # при этом обратиться к индексу по номеру нельзя, а вот срез взять можно!\n",
    "# Всё это кажется поначалу нелогичным и запутанным, хотя и удобно на практике (и на самом деле логично). \n",
    "df[['one', 'three']]\n",
    "display(df['one'])\n",
    "display(df[['one']])  # как вы думаете, чем обусловлено отличие в представлении этой и прошлой строки? \n"
   ]
  },
  {
   "cell_type": "markdown",
   "id": "3f70c169-f15e-4f35-b7cf-fd070aebb3d5",
   "metadata": {},
   "source": [
    "Логичнее работает атрибут loc: первая позиция — всегда индекс строки, а вторая — столбца. \n"
   ]
  },
  {
   "cell_type": "code",
   "execution_count": 61,
   "id": "63b07f60-76d3-4ee6-bae5-593732624509",
   "metadata": {},
   "outputs": [
    {
     "data": {
      "text/html": [
       "<div>\n",
       "<style scoped>\n",
       "    .dataframe tbody tr th:only-of-type {\n",
       "        vertical-align: middle;\n",
       "    }\n",
       "\n",
       "    .dataframe tbody tr th {\n",
       "        vertical-align: top;\n",
       "    }\n",
       "\n",
       "    .dataframe thead th {\n",
       "        text-align: right;\n",
       "    }\n",
       "</style>\n",
       "<table border=\"1\" class=\"dataframe\">\n",
       "  <thead>\n",
       "    <tr style=\"text-align: right;\">\n",
       "      <th></th>\n",
       "      <th>one</th>\n",
       "      <th>two</th>\n",
       "    </tr>\n",
       "  </thead>\n",
       "  <tbody>\n",
       "    <tr>\n",
       "      <th>b</th>\n",
       "      <td>1.0</td>\n",
       "      <td>1</td>\n",
       "    </tr>\n",
       "    <tr>\n",
       "      <th>c</th>\n",
       "      <td>NaN</td>\n",
       "      <td>2</td>\n",
       "    </tr>\n",
       "  </tbody>\n",
       "</table>\n",
       "</div>"
      ],
      "text/plain": [
       "   one  two\n",
       "b  1.0    1\n",
       "c  NaN    2"
      ]
     },
     "execution_count": 61,
     "metadata": {},
     "output_type": "execute_result"
    }
   ],
   "source": [
    "df.loc['b'] # .__index__\n",
    "df.loc['b', 'one']\n",
    "df['one']['b']  # эта строка выведет то же что и предыдущая \n",
    "df.loc['a':'b', 'one']  # можно использовать срезы по-всякому \n",
    "df.loc['a':'b', :]\n",
    "df.loc[:, 'one']  # двоеточие, напомним, означает, что берем все значения по соответсвующей размерности\n",
    "df.iloc[2]  # атрибут iloc подобен loc: первый индекс — номер строки, второй — номер столбца. Это целые числа, конец диапазона не включается как обычно в питоне \n",
    "df.iloc[1:3]\n",
    "df.iloc[1:3, 0:2]  # и тут срезы абсолютно валидны\n"
   ]
  },
  {
   "cell_type": "markdown",
   "id": "f34a2132-236d-4646-bff7-0cc25b236b4e",
   "metadata": {},
   "source": [
    "Булевская индексация — выбор строк с заданным условием.\n"
   ]
  },
  {
   "cell_type": "markdown",
   "id": "f873f5df-ced6-4021-9ba6-7ba2eed9085e",
   "metadata": {},
   "source": [
    " **Решение задач**"
   ]
  },
  {
   "cell_type": "code",
   "execution_count": 62,
   "id": "321076dd-d12a-4b12-9d47-e5b655967f70",
   "metadata": {},
   "outputs": [
    {
     "data": {
      "text/html": [
       "<div>\n",
       "<style scoped>\n",
       "    .dataframe tbody tr th:only-of-type {\n",
       "        vertical-align: middle;\n",
       "    }\n",
       "\n",
       "    .dataframe tbody tr th {\n",
       "        vertical-align: top;\n",
       "    }\n",
       "\n",
       "    .dataframe thead th {\n",
       "        text-align: right;\n",
       "    }\n",
       "</style>\n",
       "<table border=\"1\" class=\"dataframe\">\n",
       "  <thead>\n",
       "    <tr style=\"text-align: right;\">\n",
       "      <th></th>\n",
       "      <th>2</th>\n",
       "      <th>4</th>\n",
       "      <th>10</th>\n",
       "      <th>8</th>\n",
       "      <th>6</th>\n",
       "    </tr>\n",
       "  </thead>\n",
       "  <tbody>\n",
       "    <tr>\n",
       "      <th>1</th>\n",
       "      <td>-90</td>\n",
       "      <td>-40</td>\n",
       "      <td>-64</td>\n",
       "      <td>-57</td>\n",
       "      <td>7</td>\n",
       "    </tr>\n",
       "    <tr>\n",
       "      <th>6</th>\n",
       "      <td>-29</td>\n",
       "      <td>-86</td>\n",
       "      <td>30</td>\n",
       "      <td>-90</td>\n",
       "      <td>85</td>\n",
       "    </tr>\n",
       "    <tr>\n",
       "      <th>13</th>\n",
       "      <td>-64</td>\n",
       "      <td>36</td>\n",
       "      <td>-67</td>\n",
       "      <td>90</td>\n",
       "      <td>-29</td>\n",
       "    </tr>\n",
       "    <tr>\n",
       "      <th>14</th>\n",
       "      <td>47</td>\n",
       "      <td>70</td>\n",
       "      <td>39</td>\n",
       "      <td>86</td>\n",
       "      <td>59</td>\n",
       "    </tr>\n",
       "  </tbody>\n",
       "</table>\n",
       "</div>"
      ],
      "text/plain": [
       "    2   4   10  8   6 \n",
       "1  -90 -40 -64 -57   7\n",
       "6  -29 -86  30 -90  85\n",
       "13 -64  36 -67  90 -29\n",
       "14  47  70  39  86  59"
      ]
     },
     "execution_count": 62,
     "metadata": {},
     "output_type": "execute_result"
    }
   ],
   "source": [
    "# создаем матрицу\n",
    "n, m = 20, 10\n",
    "data = np.random.randint(low=-100, high=100,size=(n, m))\n",
    "cols = np.arange(1, m + 1)\n",
    "np.random.shuffle(cols)\n",
    "\n",
    "# создаем таблицу\n",
    "task_df = pd.DataFrame(data, columns=cols)\n",
    "\n",
    "# задаем условия для строк и столбцов\n",
    "col_mask = (cols % 2) == 0\n",
    "row_mask = np.sum(data % 2, axis=1) < (m / 2)\n",
    "\n",
    "# извлекаем данные по условию\n",
    "task_df.loc[row_mask, col_mask]\n"
   ]
  },
  {
   "cell_type": "code",
   "execution_count": null,
   "id": "61150d63-68b3-4b7b-bebb-94a1ddde1f63",
   "metadata": {},
   "outputs": [],
   "source": []
  }
 ],
 "metadata": {
  "kernelspec": {
   "display_name": "Python 3 (ipykernel)",
   "language": "python",
   "name": "python3"
  },
  "language_info": {
   "codemirror_mode": {
    "name": "ipython",
    "version": 3
   },
   "file_extension": ".py",
   "mimetype": "text/x-python",
   "name": "python",
   "nbconvert_exporter": "python",
   "pygments_lexer": "ipython3",
   "version": "3.11.4"
  }
 },
 "nbformat": 4,
 "nbformat_minor": 5
}
