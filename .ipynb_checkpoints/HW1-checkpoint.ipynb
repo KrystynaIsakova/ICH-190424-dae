{
 "cells": [
  {
   "cell_type": "markdown",
   "id": "5e5f7759-9832-41b6-9aa9-46f219e4aece",
   "metadata": {},
   "source": [
    "Сложение двух массивов:\n",
    "   Напишите программу, которая:\n",
    "   - Запрашивает у пользователя ввод двух одномерных массивов одинаковой длины. Массивы вводятся в виде чисел, разделенных пробелами.\n",
    "   - Преобразует введенные строки в массивы NumPy.\n",
    "   - Складывает два массива поэлементно.\n",
    "   - Выводит результат сложения на экран.\n"
   ]
  },
  {
   "cell_type": "code",
   "execution_count": 1,
   "id": "e18938da-3fe9-4dea-9c70-5aa4d283fe70",
   "metadata": {},
   "outputs": [],
   "source": [
    "import numpy as np"
   ]
  },
  {
   "cell_type": "code",
   "execution_count": 12,
   "id": "0e0911e0-d728-4152-bb72-f2ec5e9f1d1a",
   "metadata": {},
   "outputs": [
    {
     "name": "stdin",
     "output_type": "stream",
     "text": [
      "Enter the first array of numbers, separated by spaces:  1 2 3 \n",
      "Enter the second array of numbers, separated by spaces:  4 5 6\n"
     ]
    },
    {
     "name": "stdout",
     "output_type": "stream",
     "text": [
      "Result of element-wise addition: [5. 7. 9.]\n"
     ]
    }
   ],
   "source": [
    "input_array1 = input(\"Enter the first array of numbers, separated by spaces: \")\n",
    "input_array2 = input(\"Enter the second array of numbers, separated by spaces: \")\n",
    "\n",
    "array1 = np.array(list(map(float, input_array1.split())))\n",
    "array2 = np.array(list(map(float, input_array2.split())))\n",
    "\n",
    "#array1 = np.array([float(i) for i in input_array1.split()])\n",
    "#array2 = np.array([float(i) for i in input_array2.split()])\n",
    "if array1.shape == array2.shape:\n",
    "    # Add the arrays element-wise\n",
    "    result = np.add(array1, array2)\n",
    "    # Print the result\n",
    "    print(\"Result of element-wise addition:\", result)\n",
    "else:\n",
    "    print(\"The arrays must have the same length!\")"
   ]
  },
  {
   "cell_type": "markdown",
   "id": "1b1c9b4d-0a3b-4d68-847f-bd1350742226",
   "metadata": {},
   "source": [
    "Поэлементное умножение массивов:\n",
    "   Напишите программу, которая:\n",
    "   - Запрашивает у пользователя размер массивов N.\n",
    "   - Генерирует два одномерных массива длины N с случайными целыми числами от 1 до 10.\n",
    "   - Выводит оба сгенерированных массива на экран.\n",
    "   - Выполняет поэлементное умножение массивов.\n",
    "   - Выводит результат умножения на экран.\n"
   ]
  },
  {
   "cell_type": "code",
   "execution_count": 13,
   "id": "225ea0d1-d7e6-4584-839a-dff5c865b903",
   "metadata": {},
   "outputs": [
    {
     "name": "stdin",
     "output_type": "stream",
     "text": [
      "Enter the size of the arrays (N):  2\n"
     ]
    },
    {
     "name": "stdout",
     "output_type": "stream",
     "text": [
      "Array 1: [7 6]\n",
      "Array 2: [6 3]\n",
      "Result of element-wise multiplication: [42 18]\n"
     ]
    }
   ],
   "source": [
    "N = int(input(\"Enter the size of the arrays (N): \"))\n",
    "\n",
    "array1 = np.random.randint(1, 11, size=N)\n",
    "array2 = np.random.randint(1, 11, size=N)\n",
    "\n",
    "print(\"Array 1:\", array1)\n",
    "print(\"Array 2:\", array2)\n",
    "\n",
    "result = array1*array2\n",
    "\n",
    "print(\"Result of element-wise multiplication:\", result)\n"
   ]
  },
  {
   "cell_type": "markdown",
   "id": "9578891a-6601-4b70-b19c-c7890fae84f0",
   "metadata": {},
   "source": [
    "Создание и модификация массива:\n",
    "   Напишите программу, которая:\n",
    "   - Запрашивает у пользователя количество элементов массива N.\n",
    "   - Генерирует одномерный массив длины N, заполненный случайными числами от 0 до 100.\n",
    "   - Выводит сгенерированный массив на экран.\n",
    "   - Запрашивает у пользователя число X.\n",
    "   - Умножает каждый элемент массива на число X.\n",
    "   - Выводит измененный массив на экран.\n"
   ]
  },
  {
   "cell_type": "code",
   "execution_count": 14,
   "id": "16f4d030-ffb6-421f-9465-bf5e1b831fc0",
   "metadata": {},
   "outputs": [
    {
     "name": "stdin",
     "output_type": "stream",
     "text": [
      "Enter the number of elements in the array (N):  3\n"
     ]
    },
    {
     "name": "stdout",
     "output_type": "stream",
     "text": [
      "Generated array: [83 87 64]\n"
     ]
    },
    {
     "name": "stdin",
     "output_type": "stream",
     "text": [
      "Enter a number (X) to multiply each element of the array:  3\n"
     ]
    },
    {
     "name": "stdout",
     "output_type": "stream",
     "text": [
      "Modified array: [249. 261. 192.]\n"
     ]
    }
   ],
   "source": [
    "\n",
    "N = int(input(\"Enter the number of elements in the array (N): \"))\n",
    "\n",
    "array = np.random.randint(0, 101, size=N)\n",
    "\n",
    "print(\"Generated array:\", array)\n",
    "\n",
    "\n",
    "X = float(input(\"Enter a number (X) to multiply each element of the array: \"))\n",
    "\n",
    "\n",
    "modified_array = array * X\n",
    "\n",
    "\n",
    "print(\"Modified array:\", modified_array)\n"
   ]
  },
  {
   "cell_type": "code",
   "execution_count": null,
   "id": "3a5f6c80-e2cb-45b9-a624-b2b4a075371b",
   "metadata": {},
   "outputs": [],
   "source": []
  }
 ],
 "metadata": {
  "kernelspec": {
   "display_name": "Python 3 (ipykernel)",
   "language": "python",
   "name": "python3"
  },
  "language_info": {
   "codemirror_mode": {
    "name": "ipython",
    "version": 3
   },
   "file_extension": ".py",
   "mimetype": "text/x-python",
   "name": "python",
   "nbconvert_exporter": "python",
   "pygments_lexer": "ipython3",
   "version": "3.11.4"
  }
 },
 "nbformat": 4,
 "nbformat_minor": 5
}
