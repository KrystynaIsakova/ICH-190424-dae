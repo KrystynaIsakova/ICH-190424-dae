{
 "cells": [
  {
   "cell_type": "markdown",
   "id": "f69fb390-0f00-47d5-ba5c-7291ab7d6fb0",
   "metadata": {},
   "source": [
    "Создание массивов\n",
    "--"
   ]
  },
  {
   "cell_type": "code",
   "execution_count": 2,
   "id": "66169a41-50b3-48de-9402-91ab3a8bc9f9",
   "metadata": {},
   "outputs": [
    {
     "name": "stdout",
     "output_type": "stream",
     "text": [
      "Массив из списка: [1 2 3 4 5]\n",
      "Массив из кортежа: [ 6  7  8  9 10]\n",
      "Двумерный массив из списка списков:\n",
      " [[1 2 3]\n",
      " [4 5 6]]\n"
     ]
    }
   ],
   "source": [
    "import numpy as np\n",
    "\n",
    "# Создание одномерного массива из списка\n",
    "list_data = [1, 2, 3, 4, 5]\n",
    "array_from_list = np.array(list_data)\n",
    "print(\"Массив из списка:\", array_from_list)\n",
    "\n",
    "# Создание одномерного массива из кортежа\n",
    "tuple_data = (6, 7, 8, 9, 10)\n",
    "array_from_tuple = np.array(tuple_data)\n",
    "print(\"Массив из кортежа:\", array_from_tuple)\n",
    "\n",
    "# Создание двумерного массива из списка списков\n",
    "list_of_lists = [[1, 2, 3], [4, 5, 6]]\n",
    "array_2d = np.array(list_of_lists)\n",
    "print(\"Двумерный массив из списка списков:\\n\", array_2d)"
   ]
  },
  {
   "cell_type": "markdown",
   "id": "63c998ac-be8d-4ed7-8d13-5db77037c801",
   "metadata": {},
   "source": [
    "Атрибут массивов\n",
    "==="
   ]
  },
  {
   "cell_type": "code",
   "execution_count": 3,
   "id": "290206b3-45a0-4a00-bd76-cc0252562818",
   "metadata": {},
   "outputs": [
    {
     "name": "stdout",
     "output_type": "stream",
     "text": [
      "1\n",
      "2\n"
     ]
    }
   ],
   "source": [
    "import numpy as np\n",
    "\n",
    "# Создание одномерного массива\n",
    "array1 = np.array([1, 2, 3])\n",
    "print(array1.ndim) # Вывод: 1\n",
    "\n",
    "# Создание двумерного массива\n",
    "array2 = np.array([[2, 3, 4], [5, 6, 7]])\n",
    "print(array2.ndim) # Вывод: 2\n",
    "\n"
   ]
  },
  {
   "cell_type": "code",
   "execution_count": 4,
   "id": "d4a9755d-2aff-4d45-abad-67b0fa3cf227",
   "metadata": {},
   "outputs": [
    {
     "name": "stdout",
     "output_type": "stream",
     "text": [
      "(3,)\n",
      "(2, 3)\n"
     ]
    }
   ],
   "source": [
    "import numpy as np\n",
    "\n",
    "# Создание одномерного массива\n",
    "array1 = np.array([1, 2, 3])\n",
    "print(array1.shape) # Вывод: (3,)\n",
    "\n",
    "# Создание двумерного массива\n",
    "array2 = np.array([[3, 4, 5], [6, 7, 8]])\n",
    "print(array2.shape) # Вывод: (2, 3)\n",
    "\n"
   ]
  },
  {
   "cell_type": "code",
   "execution_count": 5,
   "id": "5169e5eb-7bae-47a5-8a99-a054405d0088",
   "metadata": {},
   "outputs": [
    {
     "name": "stdout",
     "output_type": "stream",
     "text": [
      "3\n",
      "6\n"
     ]
    }
   ],
   "source": [
    "import numpy as np\n",
    "\n",
    "# Создание одномерного массива\n",
    "array1 = np.array([1, 2, 3])\n",
    "print(array1.size) # Выходные данные: 3\n",
    "\n",
    "# Создание двумерного массива\n",
    "array2 = np.array([[3, 5, 7], [8, 9, 10]])\n",
    "print(array2.size) # Вывод: 6\n",
    "\n"
   ]
  },
  {
   "cell_type": "code",
   "execution_count": 6,
   "id": "5db6a4e2-9353-4bf7-83b6-bf8fc15a2ed0",
   "metadata": {},
   "outputs": [
    {
     "name": "stdout",
     "output_type": "stream",
     "text": [
      "8\n",
      "4\n"
     ]
    }
   ],
   "source": [
    "import numpy as np\n",
    "\n",
    "# Создание массива 64-битных целых чисел\n",
    "array1 = np.array([1, 2, 3], dtype=np.int64)\n",
    "print(array1.itemsize) # Выходные данные: 8\n",
    "\n",
    "# Создание массива 32-битных целых чисел\n",
    "array2 = np.array([1, 2, 3], dtype=np.int32)\n",
    "print(array2.itemsize) # Вывод: 4\n",
    "\n"
   ]
  },
  {
   "cell_type": "markdown",
   "id": "f5c79cd1-fd11-4aa9-a217-d884106134ca",
   "metadata": {},
   "source": [
    " Инициализация массивов в NumPy\n",
    "--"
   ]
  },
  {
   "cell_type": "code",
   "execution_count": 7,
   "id": "9d4c5dde-0704-42c0-884d-4350ec64ca63",
   "metadata": {},
   "outputs": [
    {
     "name": "stdout",
     "output_type": "stream",
     "text": [
      "1D массив нулей: [0. 0. 0. 0. 0.]\n",
      "Двумерный массив нулей:\n",
      " [[0. 0. 0. 0.]\n",
      " [0. 0. 0. 0.]\n",
      " [0. 0. 0. 0.]]\n"
     ]
    }
   ],
   "source": [
    "import numpy as np\n",
    "\n",
    "# Создание одномерного массива нулей\n",
    "array1 = np.zeros(5)\n",
    "print(\"1D массив нулей:\", array1)\n",
    "\n",
    "# Создание двумерного массива нулей\n",
    "array2 = np.zeros((3, 4))\n",
    "print(\"Двумерный массив нулей:\\n\", array2)\n",
    "\n"
   ]
  },
  {
   "cell_type": "code",
   "execution_count": 8,
   "id": "10ee8c39-5950-499d-9e79-b0450e5d7551",
   "metadata": {},
   "outputs": [
    {
     "name": "stdout",
     "output_type": "stream",
     "text": [
      "одномерный массив единиц: [1. 1. 1. 1. 1.]\n",
      "Двумерный массив единиц:\n",
      " [[1. 1. 1. 1.]\n",
      " [1. 1. 1. 1.]\n",
      " [1. 1. 1. 1.]]\n"
     ]
    }
   ],
   "source": [
    "array1 = np.ones(5)\n",
    "print(\"одномерный массив единиц:\", array1)\n",
    "\n",
    "# Создание двумерного массива единиц\n",
    "array2 = np.ones((3, 4))\n",
    "print(\"Двумерный массив единиц:\\n\", array2)\n"
   ]
  },
  {
   "cell_type": "code",
   "execution_count": 9,
   "id": "ad563cd0-39c2-46d9-ac84-2328d6f481df",
   "metadata": {},
   "outputs": [
    {
     "name": "stdout",
     "output_type": "stream",
     "text": [
      "Одномерный массив, заполненный значением 7: [7 7 7 7 7]\n",
      "Двумерный массив, заполненный значением 3.14:\n",
      " [[3.14 3.14 3.14 3.14]\n",
      " [3.14 3.14 3.14 3.14]\n",
      " [3.14 3.14 3.14 3.14]]\n"
     ]
    }
   ],
   "source": [
    "import numpy as np\n",
    "\n",
    "# Создание одномерного массива, заполненного значением 7\n",
    "array1 = np.full(5, 7)\n",
    "print(\"Одномерный массив, заполненный значением 7:\", array1)\n",
    "\n",
    "# Создание двумерного массива, заполненного значением 3,14\n",
    "array2 = np.full((3, 4), 3.14)\n",
    "print(\"Двумерный массив, заполненный значением 3.14:\\n\", array2)"
   ]
  },
  {
   "cell_type": "code",
   "execution_count": 10,
   "id": "a544aa35-5250-4374-8615-1d6bab77322d",
   "metadata": {},
   "outputs": [
    {
     "name": "stdout",
     "output_type": "stream",
     "text": [
      "Массив со значениями от 0 до 9: [0 1 2 3 4 5 6 7 8 9]\n",
      "Массив со значениями от 1 до 9: [1 2 3 4 5 6 7 8 9]\n",
      "Массив со значениями от 1 до 9 с шагом 2: [1 3 5 7 9]\n",
      "Массив со значениями с плавающей точкой от 0 до 1 с шагом 0,1: [0.  0.1 0.2 0.3 0.4 0.5 0.6 0.7 0.8 0.9]\n"
     ]
    }
   ],
   "source": [
    "# Создание массива со значениями от 0 до 9\n",
    "array1 = np.arange(10)\n",
    "print(\"Массив со значениями от 0 до 9:\", array1)\n",
    "\n",
    "# Создание массива со значениями от 1 до 9\n",
    "array2 = np.arange(1, 10)\n",
    "print(\"Массив со значениями от 1 до 9:\", array2)\n",
    "\n",
    "# Создание массива со значениями от 1 до 9 с шагом 2\n",
    "array3 = np.arange(1, 10, 2)\n",
    "print(\"Массив со значениями от 1 до 9 с шагом 2:\", array3)\n",
    "\n",
    "# Создание массива со значениями с плавающей точкой\n",
    "array4 = np.arange(0, 1, 0.1)\n",
    "print(\"Массив со значениями с плавающей точкой от 0 до 1 с шагом 0,1:\", array4)\n"
   ]
  },
  {
   "cell_type": "code",
   "execution_count": 11,
   "id": "6a207c11-7560-4afd-b218-f3fb41a99866",
   "metadata": {},
   "outputs": [
    {
     "name": "stdout",
     "output_type": "stream",
     "text": [
      "Массив с 10 равномерно распределенными значениями от 0 до 1: [0.         0.11111111 0.22222222 0.33333333 0.44444444 0.55555556\n",
      " 0.66666667 0.77777778 0.88888889 1.        ]\n",
      "Массив с 5 равномерно распределенными значениями от 1 до 10: [ 1.    3.25  5.5   7.75 10.  ]\n",
      "Массив с 5 равномерно распределенными значениями от 1 до 10, исключая конечную точку: [1.  2.8 4.6 6.4 8.2]\n",
      "Массив с 5 равномерно расположенными значениями от 0 до 1: [0.   0.25 0.5  0.75 1.  ]\n",
      "Размер шага: 0.25\n"
     ]
    }
   ],
   "source": [
    "# Создание массива с 10 равномерно распределенными значениями от 0 до 1\n",
    "array1 = np.linspace(0, 1, 10)\n",
    "print(\"Массив с 10 равномерно распределенными значениями от 0 до 1:\", array1)\n",
    "\n",
    "# Создание массива с 5 равномерно распределенными значениями от 1 до 10\n",
    "array2 = np.linspace(1, 10, 5)\n",
    "print(\"Массив с 5 равномерно распределенными значениями от 1 до 10:\", array2)\n",
    "\n",
    "# Создание массива с 5 равномерно распределенными значениями от 1 до 10, исключая конечную точку\n",
    "array3 = np.linspace(1, 10, 5, endpoint=False)\n",
    "print(\"Массив с 5 равномерно распределенными значениями от 1 до 10, исключая конечную точку:\", array3)\n",
    "\n",
    "# Создание массива и возвращение размера шага\n",
    "array4, step = np.linspace(0, 1, 5, retstep=True)\n",
    "print(\"Массив с 5 равномерно расположенными значениями от 0 до 1:\", array4)\n",
    "print(\"Размер шага:\", step)"
   ]
  },
  {
   "cell_type": "markdown",
   "id": "1fa1de27-89a5-433e-aedb-9cc4201ba0e3",
   "metadata": {},
   "source": [
    "Арифметические операции в NumPy\n",
    "---"
   ]
  },
  {
   "cell_type": "code",
   "execution_count": 12,
   "id": "8aa6b5dd-5d7f-4411-86ee-36064ce8819e",
   "metadata": {},
   "outputs": [
    {
     "name": "stdout",
     "output_type": "stream",
     "text": [
      "[5 7 9]\n",
      "[5 7 9]\n"
     ]
    }
   ],
   "source": [
    "import numpy as np\n",
    "a = np.array([1, 2, 3])\n",
    "b = np.array([4, 5, 6])\n",
    "result = a + b\n",
    "print(result) # Вывод: [5 7 9]\n",
    "\n",
    "result = np.add(a, b)\n",
    "print(result) # Вывод: [5 7 9]\n",
    "\n"
   ]
  },
  {
   "cell_type": "code",
   "execution_count": 13,
   "id": "d5a8a984-509b-4d8a-b768-92929f7a7b22",
   "metadata": {},
   "outputs": [
    {
     "name": "stdout",
     "output_type": "stream",
     "text": [
      "[-3 -3 -3]\n",
      "[-3 -3 -3]\n"
     ]
    }
   ],
   "source": [
    "result = a - b\n",
    "print(result) # Вывод: [-3 -3 -3]\n",
    "\n",
    "result = np.subtract(a, b)\n",
    "print(result) # Вывод: [-3 -3 -3]\n",
    "\n"
   ]
  },
  {
   "cell_type": "code",
   "execution_count": 14,
   "id": "33de5110-83f6-45e8-9624-1d8428068e0e",
   "metadata": {},
   "outputs": [
    {
     "name": "stdout",
     "output_type": "stream",
     "text": [
      "[ 4 10 18]\n",
      "[ 4 10 18]\n"
     ]
    }
   ],
   "source": [
    "result = a * b\n",
    "print(result) # Вывод: [ 4 10 18]\n",
    "\n",
    "result = np.multiply(a, b)\n",
    "print(result) # Вывод: [ 4 10 18]"
   ]
  },
  {
   "cell_type": "code",
   "execution_count": 15,
   "id": "926ab19c-0768-40b4-ac23-2163a4bea181",
   "metadata": {},
   "outputs": [
    {
     "name": "stdout",
     "output_type": "stream",
     "text": [
      "[0.25 0.4  0.5 ]\n",
      "[0.25 0.4  0.5 ]\n"
     ]
    }
   ],
   "source": [
    "result = a / b\n",
    "print(result) # Вывод: [0.25 0.4 0.5 ]\n",
    "\n",
    "result = np.divide(a, b)\n",
    "print(result) # Вывод: [0.25 0.4 0.5 ]\n",
    "\n"
   ]
  },
  {
   "cell_type": "code",
   "execution_count": 16,
   "id": "809ea56b-388b-400d-9f26-84212651ebb5",
   "metadata": {},
   "outputs": [
    {
     "name": "stdout",
     "output_type": "stream",
     "text": [
      "[  1  32 729]\n",
      "[  1  32 729]\n"
     ]
    }
   ],
   "source": [
    "result= a ** b\n",
    "print(result) # Вывод: [ 1 32 729]\n",
    "\n",
    "result = np.power(a, b)\n",
    "print(result) # Вывод: [ 1 32 729]\n",
    "\n"
   ]
  },
  {
   "cell_type": "markdown",
   "id": "4e257773-0856-41f1-aa17-a767dc052402",
   "metadata": {},
   "source": [
    "Broadcasting\n",
    "--"
   ]
  },
  {
   "cell_type": "code",
   "execution_count": 17,
   "id": "eddf3ba0-13ec-43c0-a49e-39edb0e73a93",
   "metadata": {},
   "outputs": [
    {
     "name": "stdout",
     "output_type": "stream",
     "text": [
      "[[ 5  6  7  8]\n",
      " [ 6  7  8  9]\n",
      " [ 7  8  9 10]]\n"
     ]
    }
   ],
   "source": [
    "# Массив a формы (3, 1)\n",
    "a = np.array([[1], [2], [3]])\n",
    "\n",
    "# Массив b формы (1, 4)\n",
    "b = np.array([4, 5, 6, 7])\n",
    "\n",
    "# Передача a и b в форму (3, 4)\n",
    "result = a + b\n",
    "print(result)"
   ]
  },
  {
   "cell_type": "code",
   "execution_count": 18,
   "id": "6f49e3e8-5535-4e79-91bf-2ac2b4e4980f",
   "metadata": {},
   "outputs": [
    {
     "name": "stdout",
     "output_type": "stream",
     "text": [
      "Матричное умножение:\n",
      " [[14 30]\n",
      " [38 86]]\n"
     ]
    }
   ],
   "source": [
    "# Создание двух матриц\n",
    "matrix1 = np.array([[1, 3], [5, 7]])\n",
    "matrix2 = np.array([[2, 6], [4, 8]])\n",
    "\n",
    "# Умножение матриц\n",
    "result = np.dot(matrix1, matrix2)\n",
    "print(\"Матричное умножение:\\n\", result)\n"
   ]
  },
  {
   "cell_type": "code",
   "execution_count": 19,
   "id": "c0974e91-d446-4deb-8ba6-a217f7b3ee98",
   "metadata": {},
   "outputs": [
    {
     "name": "stdout",
     "output_type": "stream",
     "text": [
      "Транспонирование:\n",
      " [[1 5]\n",
      " [3 7]]\n"
     ]
    }
   ],
   "source": [
    "# Создание матрицы\n",
    "matrix = np.array([[1, 3], [5, 7]])\n",
    "\n",
    "# Транспонирование матрицы\n",
    "transpose = np.transpose(matrix)\n",
    "print(\"Транспонирование:\\n\", transpose)\n"
   ]
  },
  {
   "cell_type": "code",
   "execution_count": 20,
   "id": "417ec244-0b80-46e6-a810-3e63a179523b",
   "metadata": {},
   "outputs": [
    {
     "name": "stdout",
     "output_type": "stream",
     "text": [
      "От 1D к 2D:\n",
      " [[ 1  2  3]\n",
      " [ 4  5  6]\n",
      " [ 7  8  9]\n",
      " [10 11 12]]\n",
      "От 1D к 3D:\n",
      " [[[ 1  2]\n",
      "  [ 3  4]\n",
      "  [ 5  6]]\n",
      "\n",
      " [[ 7  8]\n",
      "  [ 9 10]\n",
      "  [11 12]]]\n",
      "Использование -1 для неизвестной размерности:\n",
      " [[[ 1  2  3]\n",
      "  [ 4  5  6]]\n",
      "\n",
      " [[ 7  8  9]\n",
      "  [10 11 12]]]\n"
     ]
    }
   ],
   "source": [
    "# 1D в 2D\n",
    "arr = np.array([1, 2, 3, 4, 5, 6, 7, 8, 9, 10, 11, 12])\n",
    "newarr = arr.reshape(4, 3)\n",
    "print(\"От 1D к 2D:\\n\", newarr)\n",
    "\n",
    "# 1D в 3D\n",
    "newarr = arr.reshape(2, 3, 2)\n",
    "print(\"От 1D к 3D:\\n\", newarr)\n",
    "\n",
    "# Использование -1 для неизвестной размерности\n",
    "newarr = arr.reshape(2, 2, -1)\n",
    "print(\"Использование -1 для неизвестной размерности:\\n\", newarr)\n"
   ]
  },
  {
   "cell_type": "code",
   "execution_count": 21,
   "id": "7595cd37-956a-4b5f-a1cb-de930508cde3",
   "metadata": {},
   "outputs": [
    {
     "name": "stdout",
     "output_type": "stream",
     "text": [
      "Изменен размер массива на больший:\n",
      " [[0 1 2]\n",
      " [3 0 1]]\n",
      "Изменен размер массива на меньший:\n",
      " [[0 1 2 3]]\n"
     ]
    }
   ],
   "source": [
    "import numpy as np\n",
    "\n",
    "# Исходный массив\n",
    "arr = np.array([[0, 1], [2, 3]])\n",
    "\n",
    "# Изменение размера массива в большую сторону\n",
    "resized_arr = np.resize(arr, (2, 3))\n",
    "print(\"Изменен размер массива на больший:\\n\", resized_arr)\n",
    "\n",
    "# Изменение размера массива в меньшую сторону\n",
    "resized_arr = np.resize(arr, (1, 4))\n",
    "print(\"Изменен размер массива на меньший:\\n\", resized_arr)\n",
    "\n"
   ]
  },
  {
   "cell_type": "code",
   "execution_count": 22,
   "id": "770efa45-afb3-41fd-a921-ae6ffbd911e0",
   "metadata": {},
   "outputs": [],
   "source": [
    "# Исходный одномерный массив\n",
    "arr = np.array([1, 2, 3])\n",
    "\n",
    "# Добавление новой оси\n",
    "newarr = arr[:, np.newaxis]\n"
   ]
  },
  {
   "cell_type": "markdown",
   "id": "42e315c6-f428-40af-95e4-cbeae5b3bac1",
   "metadata": {},
   "source": [
    "Случайные числа в NumPy\n",
    "--"
   ]
  },
  {
   "cell_type": "code",
   "execution_count": 23,
   "id": "40f431bf-0a67-45f3-8545-54ebf71b0238",
   "metadata": {},
   "outputs": [
    {
     "name": "stdout",
     "output_type": "stream",
     "text": [
      "Одиночное случайное число: 0.4589457657861946\n",
      "Одномерный массив случайных чисел: [0.96604913 0.82069729 0.56249858 0.65470124 0.34560701]\n",
      "Двумерный массив случайных чисел:\n",
      " [[0.05168312 0.66163733 0.34306508 0.58646442]\n",
      " [0.67516352 0.75281308 0.02154694 0.20234393]\n",
      " [0.69510022 0.77293202 0.26729021 0.36678055]]\n"
     ]
    }
   ],
   "source": [
    "import numpy as np\n",
    "\n",
    "# Генерация одного случайного числа\n",
    "random_number = np.random.rand()\n",
    "print(\"Одиночное случайное число:\", random_number)\n",
    "\n",
    "# Генерация одномерного массива случайных чисел\n",
    "random_array_1d = np.random.rand(5)\n",
    "print(\"Одномерный массив случайных чисел:\", random_array_1d)\n",
    "\n",
    "# Генерация двумерного массива случайных чисел\n",
    "random_array_2d = np.random.rand(3, 4)\n",
    "print(\"Двумерный массив случайных чисел:\\n\", random_array_2d)"
   ]
  },
  {
   "cell_type": "code",
   "execution_count": 24,
   "id": "b180a0ff-753a-46b0-8c0f-c123c6b6ec7c",
   "metadata": {},
   "outputs": [
    {
     "name": "stdout",
     "output_type": "stream",
     "text": [
      "Одиночное случайное число из стандартного нормального распределения: -1.5793633153765125\n",
      "1D массив случайных чисел из стандартного нормального распределения: [ 1.53437983 -0.42523569 -0.72583872  1.51666805 -0.70666236]\n",
      "Двумерный массив случайных чисел из стандартного нормального распределения:\n",
      " [[-0.59615308 -0.30332979 -3.36364197 -0.89585041]\n",
      " [-0.18767052  1.39088174  1.25946997 -0.79352025]\n",
      " [-1.36291725 -0.9992531  -0.93436432 -0.67045623]]\n"
     ]
    }
   ],
   "source": [
    "import numpy as np\n",
    "\n",
    "# Генерация одного случайного числа из стандартного нормального распределения\n",
    "random_number = np.random.randn()\n",
    "print(\"Одиночное случайное число из стандартного нормального распределения:\", random_number)\n",
    "\n",
    "# Генерация одномерного массива случайных чисел из стандартного нормального распределения\n",
    "random_array_1d = np.random.randn(5)\n",
    "print(\"1D массив случайных чисел из стандартного нормального распределения:\", random_array_1d)\n",
    "\n",
    "# Генерирование двумерного массива случайных чисел из стандартного нормального распределения\n",
    "random_array_2d = np.random.randn(3, 4)\n",
    "print(\"Двумерный массив случайных чисел из стандартного нормального распределения:\\n\", random_array_2d)\n",
    "\n",
    "\n",
    "\n"
   ]
  },
  {
   "cell_type": "code",
   "execution_count": 25,
   "id": "db4f1868-7072-4e28-ac1a-9f9755fab96e",
   "metadata": {},
   "outputs": [
    {
     "name": "stdout",
     "output_type": "stream",
     "text": [
      "Одиночное случайное целое число: 3\n",
      "1D массив случайных целых чисел: [1 2 1 7 9]\n",
      "Двумерный массив случайных целых чисел:\n",
      " [[3 1 9 1]\n",
      " [1 9 8 4]\n",
      " [6 7 6 7]]\n"
     ]
    }
   ],
   "source": [
    "random_int = np.random.randint(10)\n",
    "print(\"Одиночное случайное целое число:\", random_int)\n",
    "\n",
    "# Генерация одномерного массива случайных целых чисел\n",
    "random_array_1d = np.random.randint(1, 10, 5)\n",
    "print(\"1D массив случайных целых чисел:\", random_array_1d)\n",
    "\n",
    "# Генерирование двумерного массива случайных целых чисел\n",
    "random_array_2d = np.random.randint(1, 10, (3, 4))\n",
    "print(\"Двумерный массив случайных целых чисел:\\n\", random_array_2d)"
   ]
  },
  {
   "cell_type": "markdown",
   "id": "5f0303ce-6fc5-4109-a8cd-00a7cf0b20bf",
   "metadata": {},
   "source": [
    "Pandas \n",
    "--"
   ]
  },
  {
   "cell_type": "code",
   "execution_count": 26,
   "id": "d836ac3a-dfc4-443c-89ec-abce63fe125d",
   "metadata": {},
   "outputs": [
    {
     "name": "stdout",
     "output_type": "stream",
     "text": [
      "0    10\n",
      "1    20\n",
      "2    30\n",
      "3    40\n",
      "4    50\n",
      "dtype: int64\n"
     ]
    }
   ],
   "source": [
    "import pandas as pd\n",
    "\n",
    "data = [10, 20, 30, 40, 50]\n",
    "series = pd.Series(data)\n",
    "print(series)"
   ]
  },
  {
   "cell_type": "code",
   "execution_count": 27,
   "id": "8b1be006-e4c5-4c2c-aae8-a8ea00e10a9b",
   "metadata": {},
   "outputs": [
    {
     "name": "stdout",
     "output_type": "stream",
     "text": [
      "0     3.0\n",
      "1    18.0\n",
      "2    33.0\n",
      "dtype: float64\n",
      "0   -0.386388\n",
      "1    0.150924\n",
      "2    1.283871\n",
      "3   -1.604529\n",
      "4   -1.654466\n",
      "dtype: float64\n"
     ]
    }
   ],
   "source": [
    "import numpy as np\n",
    "\n",
    "# Использование numpy.linspace()\n",
    "ser1 = pd.Series(np.linspace(3, 33, 3))\n",
    "print(ser1)\n",
    "\n",
    "# Использование numpy.random.normal()\n",
    "ser2 = pd.Series(np.random.normal(0.0, 1.0, 5))\n",
    "print(ser2)\n",
    "\n"
   ]
  },
  {
   "cell_type": "code",
   "execution_count": 28,
   "id": "7aeb1301-f03b-45c7-ae40-2310b3232ec3",
   "metadata": {},
   "outputs": [
    {
     "name": "stdout",
     "output_type": "stream",
     "text": [
      "0    11\n",
      "1    22\n",
      "2    33\n",
      "3    44\n",
      "4    55\n",
      "dtype: int64\n"
     ]
    }
   ],
   "source": [
    "series1 = pd.Series([1, 2, 3, 4, 5])\n",
    "series2 = pd.Series([10, 20, 30, 40, 50])\n",
    "\n",
    "# Сложение\n",
    "result= series1 + series2\n",
    "print(result)\n",
    "\n"
   ]
  },
  {
   "cell_type": "code",
   "execution_count": 29,
   "id": "e12d62c0-f073-434b-ad7f-9ff57dbeb86d",
   "metadata": {},
   "outputs": [
    {
     "name": "stdout",
     "output_type": "stream",
     "text": [
      "15\n",
      "3.0\n"
     ]
    }
   ],
   "source": [
    "series = pd.Series([1, 2, 3, 4, 5])\n",
    "\n",
    "# Сумма\n",
    "print(series.sum())\n",
    "\n",
    "# Среднее\n",
    "print(series.mean())\n",
    "\n"
   ]
  },
  {
   "cell_type": "code",
   "execution_count": 30,
   "id": "8d083f36-9e22-4b44-b3a7-dadc63fdcef9",
   "metadata": {},
   "outputs": [
    {
     "name": "stdout",
     "output_type": "stream",
     "text": [
      "10\n",
      "1    20\n",
      "2    30\n",
      "3    40\n",
      "dtype: int64\n"
     ]
    }
   ],
   "source": [
    "series = pd.Series([10, 20, 30, 40, 50])\n",
    "\n",
    "# Доступ к первому элементу\n",
    "print(series[0])\n",
    "\n",
    "# Нарезка\n",
    "print(series[1:4])\n",
    "\n"
   ]
  },
  {
   "cell_type": "code",
   "execution_count": 31,
   "id": "871e63fb-0dd8-439d-a161-2ad72e58a90a",
   "metadata": {},
   "outputs": [
    {
     "name": "stdout",
     "output_type": "stream",
     "text": [
      "20\n",
      "b    20\n",
      "c    30\n",
      "d    40\n",
      "dtype: int64\n"
     ]
    }
   ],
   "source": [
    "series = pd.Series([10, 20, 30, 40, 50], index=['a', 'b', 'c', 'd', 'e'])\n",
    "\n",
    "# Доступ к элементу с меткой 'b'\n",
    "print(series['b'])\n",
    "\n",
    "# Нарезка с метками\n",
    "print(series['b':'d'])"
   ]
  },
  {
   "cell_type": "code",
   "execution_count": 32,
   "id": "f7b5f8d8-59dd-4add-969d-2d91e03f6bf5",
   "metadata": {},
   "outputs": [
    {
     "name": "stdout",
     "output_type": "stream",
     "text": [
      "   Name  Возраст\n",
      "0   Том       20\n",
      "1   Ник       21\n",
      "2  Криш       19\n",
      "3  Джек       18\n"
     ]
    }
   ],
   "source": [
    "import pandas as pd\n",
    "\n",
    "data = {\n",
    "    \"Name\": [\"Том\", \"Ник\", \"Криш\", \"Джек\"],\n",
    "    \"Возраст\": [20, 21, 19, 18]\n",
    "}\n",
    "df = pd.DataFrame(data)\n",
    "print(df)\n",
    "\n"
   ]
  },
  {
   "cell_type": "code",
   "execution_count": 33,
   "id": "5c3dd9c2-5216-4ea9-ad32-74d5c43d275e",
   "metadata": {},
   "outputs": [
    {
     "name": "stdout",
     "output_type": "stream",
     "text": [
      "    Name  Age\n",
      "0    Tom   20\n",
      "1   Nick   21\n",
      "2  Krish   19\n",
      "3   Jack   18\n"
     ]
    }
   ],
   "source": [
    "data = [['Tom', 20], ['Nick', 21], ['Krish', 19], ['Jack', 18]]\n",
    "df = pd.DataFrame(data, columns=['Name', 'Age'])\n",
    "print(df)"
   ]
  },
  {
   "cell_type": "code",
   "execution_count": 34,
   "id": "317405ee-45cf-4fc2-a27e-12025a5a4055",
   "metadata": {},
   "outputs": [
    {
     "name": "stdout",
     "output_type": "stream",
     "text": [
      "     Col1 Col2\n",
      "Row1    1    2\n",
      "Row2    3    4\n"
     ]
    }
   ],
   "source": [
    "import numpy as np\n",
    "\n",
    "data = np.array([['', 'Col1', 'Col2'], ['Row1', 1, 2], ['Row2', 3, 4]])\n",
    "df = pd.DataFrame(data=data[1:, 1:], index=data[1:, 0], columns=data[0, 1:])\n",
    "print(df)"
   ]
  },
  {
   "cell_type": "code",
   "execution_count": 36,
   "id": "11f4d999-2608-4dbd-88b6-9d5ea7adade2",
   "metadata": {},
   "outputs": [
    {
     "name": "stdout",
     "output_type": "stream",
     "text": [
      "    A   B\n",
      "0  11  44\n",
      "1  22  55\n",
      "2  33  66\n"
     ]
    }
   ],
   "source": [
    "df1 = pd.DataFrame({'A': [1, 2, 3], 'B': [4, 5, 6]})\n",
    "df2 = pd.DataFrame({'A': [10, 20, 30], 'B': [40, 50, 60]})\n",
    "\n",
    "# Сложение\n",
    "result= df1 + df2\n",
    "print(result)"
   ]
  },
  {
   "cell_type": "code",
   "execution_count": 37,
   "id": "eaa84be5-d09e-4595-ac2a-4fa25ef45785",
   "metadata": {},
   "outputs": [],
   "source": [
    "df3 = pd.DataFrame({'A': [10, 20, 30], 'B': [40, 50, 60], 'C': [1,2,3]\n",
    "                   })"
   ]
  },
  {
   "cell_type": "code",
   "execution_count": 38,
   "id": "95018e85-9d83-4407-a5b0-b611fe8b47cf",
   "metadata": {},
   "outputs": [
    {
     "data": {
      "text/html": [
       "<div>\n",
       "<style scoped>\n",
       "    .dataframe tbody tr th:only-of-type {\n",
       "        vertical-align: middle;\n",
       "    }\n",
       "\n",
       "    .dataframe tbody tr th {\n",
       "        vertical-align: top;\n",
       "    }\n",
       "\n",
       "    .dataframe thead th {\n",
       "        text-align: right;\n",
       "    }\n",
       "</style>\n",
       "<table border=\"1\" class=\"dataframe\">\n",
       "  <thead>\n",
       "    <tr style=\"text-align: right;\">\n",
       "      <th></th>\n",
       "      <th>A</th>\n",
       "      <th>B</th>\n",
       "      <th>C</th>\n",
       "    </tr>\n",
       "  </thead>\n",
       "  <tbody>\n",
       "    <tr>\n",
       "      <th>0</th>\n",
       "      <td>11</td>\n",
       "      <td>44</td>\n",
       "      <td>NaN</td>\n",
       "    </tr>\n",
       "    <tr>\n",
       "      <th>1</th>\n",
       "      <td>22</td>\n",
       "      <td>55</td>\n",
       "      <td>NaN</td>\n",
       "    </tr>\n",
       "    <tr>\n",
       "      <th>2</th>\n",
       "      <td>33</td>\n",
       "      <td>66</td>\n",
       "      <td>NaN</td>\n",
       "    </tr>\n",
       "  </tbody>\n",
       "</table>\n",
       "</div>"
      ],
      "text/plain": [
       "    A   B   C\n",
       "0  11  44 NaN\n",
       "1  22  55 NaN\n",
       "2  33  66 NaN"
      ]
     },
     "execution_count": 38,
     "metadata": {},
     "output_type": "execute_result"
    }
   ],
   "source": [
    "df1+df3"
   ]
  },
  {
   "cell_type": "code",
   "execution_count": 39,
   "id": "6f83d3d0-c07f-4004-9282-144e049d136c",
   "metadata": {},
   "outputs": [
    {
     "name": "stdout",
     "output_type": "stream",
     "text": [
      "A    1\n",
      "B    4\n",
      "Name: 0, dtype: int64\n",
      "   A  B\n",
      "1  2  5\n",
      "2  3  6\n"
     ]
    }
   ],
   "source": [
    "df = pd.DataFrame({'A': [1, 2, 3], 'B': [4, 5, 6]})\n",
    "\n",
    "# Доступ к первому ряду\n",
    "print(df.iloc[0])\n",
    "\n",
    "# Нарезка строк\n",
    "print(df.iloc[1:3])\n",
    "\n"
   ]
  },
  {
   "cell_type": "code",
   "execution_count": 40,
   "id": "844ac056-3a36-461f-8794-3d68dcf467f7",
   "metadata": {},
   "outputs": [
    {
     "name": "stdout",
     "output_type": "stream",
     "text": [
      "A    2\n",
      "B    5\n",
      "Name: row2, dtype: int64\n",
      "      A  B\n",
      "row1  1  4\n",
      "row2  2  5\n"
     ]
    }
   ],
   "source": [
    "df = pd.DataFrame({'A': [1, 2, 3], 'B': [4, 5, 6]}, index=['row1', 'row2', 'row3'])\n",
    "\n",
    "# Доступ к ряду по метке\n",
    "print(df.loc['row2'])\n",
    "\n",
    "# Нарезка строк по меткам\n",
    "print(df.loc['row1':'row2'])\n",
    "\n"
   ]
  },
  {
   "cell_type": "code",
   "execution_count": 41,
   "id": "13b1f757-6353-4091-bd1e-b88784c54bdd",
   "metadata": {},
   "outputs": [
    {
     "name": "stdout",
     "output_type": "stream",
     "text": [
      "     A    B    C\n",
      "1  2.0  2.0  2.0\n",
      "4  5.0  5.0  5.0\n"
     ]
    }
   ],
   "source": [
    "import pandas as pd\n",
    "\n",
    "data = {'A': [1, 2, 3, None, 5], 'B': [None, 2, 3, 4, 5], 'C': [1, 2, None, None, 5]}\n",
    "df = pd.DataFrame(data)\n",
    "df_cleaned = df.dropna()\n",
    "print(df_cleaned)"
   ]
  },
  {
   "cell_type": "code",
   "execution_count": 42,
   "id": "82080496-c01a-4126-9f39-18d32fcab92f",
   "metadata": {},
   "outputs": [
    {
     "name": "stdout",
     "output_type": "stream",
     "text": [
      "     A    B    C\n",
      "0  1.0  NaN  1.0\n",
      "1  2.0  2.0  2.0\n",
      "2  3.0  3.0  NaN\n",
      "3  NaN  4.0  NaN\n",
      "4  5.0  5.0  5.0\n"
     ]
    }
   ],
   "source": [
    "df_no_duplicates = df.drop_duplicates()\n",
    "print(df_no_duplicates)\n",
    "\n"
   ]
  },
  {
   "cell_type": "code",
   "execution_count": 43,
   "id": "6d4b7bb8-868f-452f-b155-88ac1d3228ef",
   "metadata": {},
   "outputs": [
    {
     "name": "stdout",
     "output_type": "stream",
     "text": [
      "   Column_A  Column_B    C\n",
      "0       1.0       NaN  1.0\n",
      "1       2.0       2.0  2.0\n",
      "2       3.0       3.0  NaN\n",
      "3       NaN       4.0  NaN\n",
      "4       5.0       5.0  5.0\n"
     ]
    }
   ],
   "source": [
    "df.rename(columns={'A': 'Column_A', 'B': 'Column_B'}, inplace=True)\n",
    "print(df)"
   ]
  },
  {
   "cell_type": "markdown",
   "id": "852254c8-018d-4ebd-8c5f-e441ef0b5b4a",
   "metadata": {},
   "source": [
    "Слияние\n",
    "--"
   ]
  },
  {
   "cell_type": "code",
   "execution_count": 44,
   "id": "86d7793b-b320-4fbb-9b0a-b812288af5a3",
   "metadata": {},
   "outputs": [
    {
     "name": "stdout",
     "output_type": "stream",
     "text": [
      "    a   b   c\n",
      "0  a1  b1  c1\n",
      "1  a2  b2  c2\n"
     ]
    }
   ],
   "source": [
    "import pandas as pd\n",
    "\n",
    "df1 = pd.DataFrame({'a': ['a1', 'a2', 'a3'], 'b': ['b1', 'b2', 'b3']})\n",
    "df2 = pd.DataFrame({'a': ['a1', 'a2', 'a4'], 'c': ['c1', 'c2', 'c4']})\n",
    "\n",
    "merged_df = pd.merge(df1, df2, on='a')\n",
    "print(merged_df)"
   ]
  },
  {
   "cell_type": "code",
   "execution_count": 45,
   "id": "8602d5df-94d2-440e-b42b-100dca00ccdd",
   "metadata": {},
   "outputs": [
    {
     "data": {
      "text/html": [
       "<div>\n",
       "<style scoped>\n",
       "    .dataframe tbody tr th:only-of-type {\n",
       "        vertical-align: middle;\n",
       "    }\n",
       "\n",
       "    .dataframe tbody tr th {\n",
       "        vertical-align: top;\n",
       "    }\n",
       "\n",
       "    .dataframe thead th {\n",
       "        text-align: right;\n",
       "    }\n",
       "</style>\n",
       "<table border=\"1\" class=\"dataframe\">\n",
       "  <thead>\n",
       "    <tr style=\"text-align: right;\">\n",
       "      <th></th>\n",
       "      <th>a</th>\n",
       "      <th>b</th>\n",
       "      <th>c</th>\n",
       "    </tr>\n",
       "  </thead>\n",
       "  <tbody>\n",
       "    <tr>\n",
       "      <th>0</th>\n",
       "      <td>a1</td>\n",
       "      <td>b1</td>\n",
       "      <td>c1</td>\n",
       "    </tr>\n",
       "    <tr>\n",
       "      <th>1</th>\n",
       "      <td>a2</td>\n",
       "      <td>b2</td>\n",
       "      <td>c2</td>\n",
       "    </tr>\n",
       "  </tbody>\n",
       "</table>\n",
       "</div>"
      ],
      "text/plain": [
       "    a   b   c\n",
       "0  a1  b1  c1\n",
       "1  a2  b2  c2"
      ]
     },
     "execution_count": 45,
     "metadata": {},
     "output_type": "execute_result"
    }
   ],
   "source": [
    "pd.merge(df1, df2, how='inner', on='a')\n",
    "\n"
   ]
  },
  {
   "cell_type": "code",
   "execution_count": 46,
   "id": "b71d825b-5f8d-4904-b266-b4ecbf5b5f2c",
   "metadata": {},
   "outputs": [
    {
     "data": {
      "text/html": [
       "<div>\n",
       "<style scoped>\n",
       "    .dataframe tbody tr th:only-of-type {\n",
       "        vertical-align: middle;\n",
       "    }\n",
       "\n",
       "    .dataframe tbody tr th {\n",
       "        vertical-align: top;\n",
       "    }\n",
       "\n",
       "    .dataframe thead th {\n",
       "        text-align: right;\n",
       "    }\n",
       "</style>\n",
       "<table border=\"1\" class=\"dataframe\">\n",
       "  <thead>\n",
       "    <tr style=\"text-align: right;\">\n",
       "      <th></th>\n",
       "      <th>a</th>\n",
       "      <th>b</th>\n",
       "      <th>c</th>\n",
       "    </tr>\n",
       "  </thead>\n",
       "  <tbody>\n",
       "    <tr>\n",
       "      <th>0</th>\n",
       "      <td>a1</td>\n",
       "      <td>b1</td>\n",
       "      <td>c1</td>\n",
       "    </tr>\n",
       "    <tr>\n",
       "      <th>1</th>\n",
       "      <td>a2</td>\n",
       "      <td>b2</td>\n",
       "      <td>c2</td>\n",
       "    </tr>\n",
       "    <tr>\n",
       "      <th>2</th>\n",
       "      <td>a3</td>\n",
       "      <td>b3</td>\n",
       "      <td>NaN</td>\n",
       "    </tr>\n",
       "  </tbody>\n",
       "</table>\n",
       "</div>"
      ],
      "text/plain": [
       "    a   b    c\n",
       "0  a1  b1   c1\n",
       "1  a2  b2   c2\n",
       "2  a3  b3  NaN"
      ]
     },
     "execution_count": 46,
     "metadata": {},
     "output_type": "execute_result"
    }
   ],
   "source": [
    "pd.merge(df1, df2, how='left', on='a')"
   ]
  },
  {
   "cell_type": "code",
   "execution_count": 47,
   "id": "2a4b637c-2702-4668-8007-6d50dc5864ef",
   "metadata": {},
   "outputs": [
    {
     "data": {
      "text/html": [
       "<div>\n",
       "<style scoped>\n",
       "    .dataframe tbody tr th:only-of-type {\n",
       "        vertical-align: middle;\n",
       "    }\n",
       "\n",
       "    .dataframe tbody tr th {\n",
       "        vertical-align: top;\n",
       "    }\n",
       "\n",
       "    .dataframe thead th {\n",
       "        text-align: right;\n",
       "    }\n",
       "</style>\n",
       "<table border=\"1\" class=\"dataframe\">\n",
       "  <thead>\n",
       "    <tr style=\"text-align: right;\">\n",
       "      <th></th>\n",
       "      <th>a</th>\n",
       "      <th>b</th>\n",
       "      <th>c</th>\n",
       "    </tr>\n",
       "  </thead>\n",
       "  <tbody>\n",
       "    <tr>\n",
       "      <th>0</th>\n",
       "      <td>a1</td>\n",
       "      <td>b1</td>\n",
       "      <td>c1</td>\n",
       "    </tr>\n",
       "    <tr>\n",
       "      <th>1</th>\n",
       "      <td>a2</td>\n",
       "      <td>b2</td>\n",
       "      <td>c2</td>\n",
       "    </tr>\n",
       "    <tr>\n",
       "      <th>2</th>\n",
       "      <td>a4</td>\n",
       "      <td>NaN</td>\n",
       "      <td>c4</td>\n",
       "    </tr>\n",
       "  </tbody>\n",
       "</table>\n",
       "</div>"
      ],
      "text/plain": [
       "    a    b   c\n",
       "0  a1   b1  c1\n",
       "1  a2   b2  c2\n",
       "2  a4  NaN  c4"
      ]
     },
     "execution_count": 47,
     "metadata": {},
     "output_type": "execute_result"
    }
   ],
   "source": [
    "pd.merge(df1, df2, how='right', on='a')"
   ]
  },
  {
   "cell_type": "code",
   "execution_count": 48,
   "id": "4053083c-d8cb-415e-94d6-340c72daa66a",
   "metadata": {},
   "outputs": [
    {
     "data": {
      "text/html": [
       "<div>\n",
       "<style scoped>\n",
       "    .dataframe tbody tr th:only-of-type {\n",
       "        vertical-align: middle;\n",
       "    }\n",
       "\n",
       "    .dataframe tbody tr th {\n",
       "        vertical-align: top;\n",
       "    }\n",
       "\n",
       "    .dataframe thead th {\n",
       "        text-align: right;\n",
       "    }\n",
       "</style>\n",
       "<table border=\"1\" class=\"dataframe\">\n",
       "  <thead>\n",
       "    <tr style=\"text-align: right;\">\n",
       "      <th></th>\n",
       "      <th>a</th>\n",
       "      <th>b</th>\n",
       "      <th>c</th>\n",
       "    </tr>\n",
       "  </thead>\n",
       "  <tbody>\n",
       "    <tr>\n",
       "      <th>0</th>\n",
       "      <td>a1</td>\n",
       "      <td>b1</td>\n",
       "      <td>c1</td>\n",
       "    </tr>\n",
       "    <tr>\n",
       "      <th>1</th>\n",
       "      <td>a2</td>\n",
       "      <td>b2</td>\n",
       "      <td>c2</td>\n",
       "    </tr>\n",
       "    <tr>\n",
       "      <th>2</th>\n",
       "      <td>a3</td>\n",
       "      <td>b3</td>\n",
       "      <td>NaN</td>\n",
       "    </tr>\n",
       "    <tr>\n",
       "      <th>3</th>\n",
       "      <td>a4</td>\n",
       "      <td>NaN</td>\n",
       "      <td>c4</td>\n",
       "    </tr>\n",
       "  </tbody>\n",
       "</table>\n",
       "</div>"
      ],
      "text/plain": [
       "    a    b    c\n",
       "0  a1   b1   c1\n",
       "1  a2   b2   c2\n",
       "2  a3   b3  NaN\n",
       "3  a4  NaN   c4"
      ]
     },
     "execution_count": 48,
     "metadata": {},
     "output_type": "execute_result"
    }
   ],
   "source": [
    "pd.merge(df1, df2, how='outer', on='a')"
   ]
  },
  {
   "cell_type": "code",
   "execution_count": 49,
   "id": "b166506d-3de3-49f1-b0bb-0554051a1f1c",
   "metadata": {},
   "outputs": [
    {
     "name": "stdout",
     "output_type": "stream",
     "text": [
      "    a   b  a_   c\n",
      "0  a1  b1  a1  c1\n",
      "1  a2  b2  a2  c2\n"
     ]
    }
   ],
   "source": [
    "df2 = df2.rename(columns={'a':'a_'})\n",
    "merged_df = pd.merge(df1, df2, left_on='a', right_on='a_')\n",
    "print(merged_df)"
   ]
  },
  {
   "cell_type": "code",
   "execution_count": 50,
   "id": "7511a579-7360-44fb-a603-fbd9b3b829cb",
   "metadata": {},
   "outputs": [
    {
     "name": "stdout",
     "output_type": "stream",
     "text": [
      "     a    b\n",
      "i1  a1   b1\n",
      "i2  a2   b2\n",
      "i3  a3  NaN\n"
     ]
    }
   ],
   "source": [
    "df1 = pd.DataFrame({'a': ['a1', 'a2', 'a3']}, index=['i1', 'i2', 'i3'])\n",
    "df2 = pd.DataFrame({'b': ['b1', 'b2', 'b3']}, index=['i1', 'i2', 'i4'])\n",
    "\n",
    "joined_df = df1.join(df2, how='left')\n",
    "print(joined_df)"
   ]
  },
  {
   "cell_type": "code",
   "execution_count": 51,
   "id": "2a8c62f0-e1d1-456e-bf5e-29b55bf17d6d",
   "metadata": {},
   "outputs": [
    {
     "name": "stdout",
     "output_type": "stream",
     "text": [
      "    a   b\n",
      "0  a1  b1\n",
      "1  a2  b2\n",
      "2  a3  b3\n"
     ]
    }
   ],
   "source": [
    "df1 = pd.DataFrame({'a': ['a1', 'a2', 'a3']})\n",
    "df2 = pd.DataFrame({'b': ['b1', 'b2', 'b3']})\n",
    "\n",
    "concatenated_df = pd.concat([df1, df2], axis=1)\n",
    "print(concatenated_df)\n",
    "\n"
   ]
  },
  {
   "cell_type": "code",
   "execution_count": 52,
   "id": "c6f77b8b-37e8-4f93-b6d9-bcc01b4c5842",
   "metadata": {},
   "outputs": [
    {
     "name": "stdout",
     "output_type": "stream",
     "text": [
      "         a    b\n",
      "df1 0   a1  NaN\n",
      "    1   a2  NaN\n",
      "    2   a3  NaN\n",
      "df2 0  NaN   b1\n",
      "    1  NaN   b2\n",
      "    2  NaN   b3\n"
     ]
    }
   ],
   "source": [
    "concatenated_df = pd.concat([df1, df2], keys=['df1', 'df2'])\n",
    "print(concatenated_df)"
   ]
  },
  {
   "cell_type": "markdown",
   "id": "db2bf046-43e8-4b39-8c0d-977af1641854",
   "metadata": {},
   "source": [
    "Группировка\n",
    "--"
   ]
  },
  {
   "cell_type": "code",
   "execution_count": 53,
   "id": "5d2f32a8-a10f-48d4-921e-6a543e749878",
   "metadata": {},
   "outputs": [
    {
     "name": "stdout",
     "output_type": "stream",
     "text": [
      "          Value\n",
      "Category       \n",
      "A            90\n",
      "B           120\n"
     ]
    }
   ],
   "source": [
    "import pandas as pd\n",
    "\n",
    "# Образец данных\n",
    "data = {\n",
    "    'Category': ['A', 'B', 'A', 'B', 'A', 'B'],\n",
    "    'Value': [10, 20, 30, 40, 50, 60]\n",
    "}\n",
    "df = pd.DataFrame(data)\n",
    "\n",
    "# Группируем по \"Category\" и вычисляем сумму \"Value\"\n",
    "grouped_df = df.groupby('Category').sum()\n",
    "print(grouped_df)\n",
    "\n"
   ]
  },
  {
   "cell_type": "code",
   "execution_count": 54,
   "id": "ea8bc9db-4c6e-48d7-8693-674e5450d595",
   "metadata": {},
   "outputs": [
    {
     "name": "stdout",
     "output_type": "stream",
     "text": [
      "         Value          \n",
      "           sum  mean max\n",
      "Category                \n",
      "A           90  30.0  50\n",
      "B          120  40.0  60\n"
     ]
    }
   ],
   "source": [
    "grouped_df = df.groupby('Category').agg({'Value': ['sum', 'mean', 'max']})\n",
    "print(grouped_df)"
   ]
  },
  {
   "cell_type": "code",
   "execution_count": 55,
   "id": "8d5c73ba-6bd0-4c9d-8ef9-6924a9a12b9a",
   "metadata": {},
   "outputs": [
    {
     "name": "stdout",
     "output_type": "stream",
     "text": [
      "C        большой  маленький\n",
      "A   B                      \n",
      "bar one        3          4\n",
      "    two        0          3\n",
      "foo one        2          1\n",
      "    two        0          2\n"
     ]
    }
   ],
   "source": [
    "# Образец данных\n",
    "data = {\n",
    "    'A': ['foo', 'foo', 'foo', 'bar', 'bar', 'bar'],\n",
    "    'B': ['one', 'one', 'two', 'two', 'one', 'one'],\n",
    "    'C': ['маленький', 'большой', 'маленький', 'маленький', 'большой', 'маленький'],\n",
    "    'D': [1, 2, 2, 3, 3, 4]\n",
    "}\n",
    "df = pd.DataFrame(data)\n",
    "\n",
    "# Создание сводной таблицы\n",
    "pivot_table = pd.pivot_table(df, values='D', index=['A', 'B'], columns=['C'], aggfunc='sum', fill_value=0)\n",
    "print(pivot_table)"
   ]
  },
  {
   "cell_type": "code",
   "execution_count": 56,
   "id": "8ad1e05c-b347-4a98-bc4b-6cda54f50190",
   "metadata": {},
   "outputs": [
    {
     "name": "stdout",
     "output_type": "stream",
     "text": [
      "                 D    \n",
      "              mean sum\n",
      "A   C                 \n",
      "bar большой    3.0   3\n",
      "    маленький  3.5   7\n",
      "foo большой    2.0   2\n",
      "    маленький  1.5   3\n"
     ]
    }
   ],
   "source": [
    "# Создайте сводную таблицу с несколькими агрегатами\n",
    "pivot_table = pd.pivot_table(df, values=['D'], index=['A', 'C'], aggfunc={'D': ['mean', 'sum']})\n",
    "print(pivot_table)"
   ]
  },
  {
   "cell_type": "code",
   "execution_count": 57,
   "id": "af1586f3-5f0e-455e-9f8d-acf19d46d485",
   "metadata": {},
   "outputs": [
    {
     "data": {
      "text/plain": [
       "<Axes: title={'center': 'Средние значения по A и B'}, xlabel='A'>"
      ]
     },
     "execution_count": 57,
     "metadata": {},
     "output_type": "execute_result"
    },
    {
     "data": {
      "image/png": "[encoded data removed]",
      "text/plain": [
       "<Figure size 640x480 with 1 Axes>"
      ]
     },
     "metadata": {},
     "output_type": "display_data"
    }
   ],
   "source": [
    "# Построение графиков по таблице pivot\n",
    "pivot_table = pd.pivot_table(df, values='D', index='A', columns='B', aggfunc='mean')\n",
    "pivot_table.plot(kind='bar', title='Средние значения по A и B')"
   ]
  },
  {
   "cell_type": "code",
   "execution_count": null,
   "id": "cf5abd76-1c3a-4bba-8ef4-79127046b7b7",
   "metadata": {},
   "outputs": [],
   "source": []
  }
 ],
 "metadata": {
  "kernelspec": {
   "display_name": "Python 3 (ipykernel)",
   "language": "python",
   "name": "python3"
  },
  "language_info": {
   "codemirror_mode": {
    "name": "ipython",
    "version": 3
   },
   "file_extension": ".py",
   "mimetype": "text/x-python",
   "name": "python",
   "nbconvert_exporter": "python",
   "pygments_lexer": "ipython3",
   "version": "3.11.4"
  }
 },
 "nbformat": 4,
 "nbformat_minor": 5
}
